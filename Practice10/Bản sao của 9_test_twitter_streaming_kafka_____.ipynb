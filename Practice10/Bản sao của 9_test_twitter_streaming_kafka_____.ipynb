{
 "cells": [
  {
   "cell_type": "code",
   "execution_count": 31,
   "id": "b20bc431",
   "metadata": {},
   "outputs": [
    {
     "name": "stdout",
     "output_type": "stream",
     "text": [
      "Traceback (most recent call last):\r\n",
      "  File \"/home/hadoopuser/kafka_streaming_text_analysis/twitter_kafka_producer.py\", line 44, in <module>\r\n",
      "    l = KafkaPusher()\r\n",
      "TypeError: __init__() missing 4 required positional arguments: 'consumer_key', 'consumer_secret', 'access_token', and 'access_token_secret'\r\n"
     ]
    }
   ],
   "source": [
    "!python kafka_streaming_text_analysis/twitter_kafka_producer.py"
   ]
  },
  {
   "cell_type": "code",
   "execution_count": 22,
   "id": "a071bd04",
   "metadata": {},
   "outputs": [
    {
     "name": "stdout",
     "output_type": "stream",
     "text": [
      "Loading pre-trained model\n",
      "/home/hadoopuser/anaconda3/lib/python3.9/site-packages/sklearn/base.py:329: UserWarning: Trying to unpickle estimator MultinomialNB from version 0.19.1 when using version 1.0.2. This might lead to breaking code or invalid results. Use at your own risk. For more info please refer to:\n",
      "https://scikit-learn.org/stable/modules/model_persistence.html#security-maintainability-limitations\n",
      "  warnings.warn(\n",
      "Starting ML predictions.\n",
      "^C\n",
      "Traceback (most recent call last):\n",
      "  File \"/home/hadoopuser/kafka_streaming_text_analysis/doc_classifier.py\", line 52, in <module>\n",
      "    for message in consumer:\n",
      "  File \"/home/hadoopuser/anaconda3/lib/python3.9/site-packages/kafka/consumer/group.py\", line 1193, in __next__\n",
      "    return self.next_v2()\n",
      "  File \"/home/hadoopuser/anaconda3/lib/python3.9/site-packages/kafka/consumer/group.py\", line 1201, in next_v2\n",
      "    return next(self._iterator)\n",
      "  File \"/home/hadoopuser/anaconda3/lib/python3.9/site-packages/kafka/consumer/group.py\", line 1116, in _message_generator_v2\n",
      "    record_map = self.poll(timeout_ms=timeout_ms, update_offsets=False)\n",
      "  File \"/home/hadoopuser/anaconda3/lib/python3.9/site-packages/kafka/consumer/group.py\", line 655, in poll\n",
      "    records = self._poll_once(remaining, max_records, update_offsets=update_offsets)\n",
      "  File \"/home/hadoopuser/anaconda3/lib/python3.9/site-packages/kafka/consumer/group.py\", line 702, in _poll_once\n",
      "    self._client.poll(timeout_ms=timeout_ms)\n",
      "  File \"/home/hadoopuser/anaconda3/lib/python3.9/site-packages/kafka/client_async.py\", line 602, in poll\n",
      "    self._poll(timeout / 1000)\n",
      "  File \"/home/hadoopuser/anaconda3/lib/python3.9/site-packages/kafka/client_async.py\", line 634, in _poll\n",
      "    ready = self._selector.select(timeout)\n",
      "  File \"/home/hadoopuser/anaconda3/lib/python3.9/selectors.py\", line 469, in select\n",
      "    fd_event_list = self._selector.poll(timeout, max_ev)\n",
      "KeyboardInterrupt\n"
     ]
    }
   ],
   "source": [
    "!python kafka_streaming_text_analysis/doc_classifier.py"
   ]
  },
  {
   "cell_type": "code",
   "execution_count": null,
   "id": "df76ad60",
   "metadata": {},
   "outputs": [],
   "source": []
  }
 ],
 "metadata": {
  "kernelspec": {
   "display_name": "Python 3 (ipykernel)",
   "language": "python",
   "name": "python3"
  },
  "language_info": {
   "codemirror_mode": {
    "name": "ipython",
    "version": 3
   },
   "file_extension": ".py",
   "mimetype": "text/x-python",
   "name": "python",
   "nbconvert_exporter": "python",
   "pygments_lexer": "ipython3",
   "version": "3.9.12"
  }
 },
 "nbformat": 4,
 "nbformat_minor": 5
}
