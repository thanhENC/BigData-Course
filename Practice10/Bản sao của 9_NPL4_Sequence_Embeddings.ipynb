{
 "cells": [
  {
   "cell_type": "code",
   "execution_count": 1,
   "id": "814eb2c4",
   "metadata": {},
   "outputs": [
    {
     "name": "stdout",
     "output_type": "stream",
     "text": [
      "22/10/29 14:20:29 WARN Utils: Your hostname, m0 resolves to a loopback address: 127.0.1.1; using 10.0.2.15 instead (on interface enp0s3)\n",
      "22/10/29 14:20:29 WARN Utils: Set SPARK_LOCAL_IP if you need to bind to another address\n"
     ]
    },
    {
     "name": "stderr",
     "output_type": "stream",
     "text": [
      "Setting default log level to \"WARN\".\n",
      "To adjust logging level use sc.setLogLevel(newLevel). For SparkR, use setLogLevel(newLevel).\n"
     ]
    },
    {
     "name": "stdout",
     "output_type": "stream",
     "text": [
      "22/10/29 14:20:32 WARN NativeCodeLoader: Unable to load native-hadoop library for your platform... using builtin-java classes where applicable\n"
     ]
    },
    {
     "name": "stderr",
     "output_type": "stream",
     "text": [
      "                                                                                \r"
     ]
    },
    {
     "name": "stdout",
     "output_type": "stream",
     "text": [
      "+-------+-------------+--------------+------------+----------+\n",
      "|user_id|page         |timestamp     |visit_number|time_spent|\n",
      "+-------+-------------+--------------+------------+----------+\n",
      "|cust01 |product info |8/20/2022 7:02|2           |0.152     |\n",
      "|cust01 |reviews      |8/20/2022 7:03|3           |0.151     |\n",
      "|cust01 |homepage     |8/20/2022 7:04|2           |0.182     |\n",
      "|cust01 |product info |8/20/2022 7:05|3           |0.259     |\n",
      "|cust01 |added to cart|8/20/2022 7:06|2           |0.127     |\n",
      "|cust01 |product info |8/20/2022 7:07|1           |0.4352    |\n",
      "|cust01 |homepage     |8/20/2022 7:08|2           |0.152     |\n",
      "|cust01 |product info |8/20/2022 7:09|1           |0.185     |\n",
      "|cust02 |product info |8/20/2022 7:12|1           |0.257     |\n",
      "|cust02 |added to cart|8/20/2022 7:14|2           |0.875     |\n",
      "+-------+-------------+--------------+------------+----------+\n",
      "only showing top 10 rows\n",
      "\n"
     ]
    }
   ],
   "source": [
    "import pyspark\n",
    "from pyspark.sql import SparkSession\n",
    "spark=SparkSession.builder.appName('9_NPL4_Sequence_Embeddings').getOrCreate()\n",
    "\n",
    "file_location = \"9_customers_behaviour.csv\"\n",
    "file_type = \"csv\"\n",
    "infer_schema = \"false\"\n",
    "first_row_is_header = \"true\"\n",
    "delimiter = \",\"\n",
    "df = spark.read.format(file_type) \\\n",
    " .option(\"inferSchema\", infer_schema) \\\n",
    " .option(\"header\", first_row_is_header) \\\n",
    " .option(\"sep\", delimiter) \\\n",
    " .load(file_location)\n",
    "df.show(10,False)"
   ]
  },
  {
   "cell_type": "code",
   "execution_count": 2,
   "id": "65c7fb4c",
   "metadata": {},
   "outputs": [
    {
     "name": "stdout",
     "output_type": "stream",
     "text": [
      "root\n",
      " |-- user_id: string (nullable = true)\n",
      " |-- page: string (nullable = true)\n",
      " |-- timestamp: string (nullable = true)\n",
      " |-- visit_number: string (nullable = true)\n",
      " |-- time_spent: string (nullable = true)\n",
      "\n"
     ]
    }
   ],
   "source": [
    "df.printSchema()"
   ]
  },
  {
   "cell_type": "code",
   "execution_count": 3,
   "id": "29da9104",
   "metadata": {},
   "outputs": [
    {
     "name": "stderr",
     "output_type": "stream",
     "text": [
      "[Stage 2:===========================================================(1 + 0) / 1]\r"
     ]
    },
    {
     "name": "stdout",
     "output_type": "stream",
     "text": [
      "+----------------+-----+\n",
      "|page            |count|\n",
      "+----------------+-----+\n",
      "|product info    |59   |\n",
      "|added to cart   |23   |\n",
      "|reviews         |18   |\n",
      "|buy             |10   |\n",
      "|offers          |4    |\n",
      "|homepage        |3    |\n",
      "|product info+B40|1    |\n",
      "+----------------+-----+\n",
      "\n"
     ]
    },
    {
     "name": "stderr",
     "output_type": "stream",
     "text": [
      "\r",
      "                                                                                \r"
     ]
    }
   ],
   "source": [
    "df.groupBy('page').count().orderBy('count',ascending=False).show(10,False)"
   ]
  },
  {
   "cell_type": "code",
   "execution_count": 4,
   "id": "52c5c6a6",
   "metadata": {},
   "outputs": [
    {
     "name": "stderr",
     "output_type": "stream",
     "text": [
      "\r",
      "[Stage 7:>                                                          (0 + 1) / 1]\r",
      "\r",
      "                                                                                \r"
     ]
    },
    {
     "name": "stdout",
     "output_type": "stream",
     "text": [
      "+-------+--------------+-------------+-------------+\n",
      "|user_id|timestamp     |previous_page|page         |\n",
      "+-------+--------------+-------------+-------------+\n",
      "|cust01 |8/20/2022 7:02|started      |product info |\n",
      "|cust01 |8/20/2022 7:03|product info |reviews      |\n",
      "|cust01 |8/20/2022 7:04|reviews      |homepage     |\n",
      "|cust01 |8/20/2022 7:05|homepage     |product info |\n",
      "|cust01 |8/20/2022 7:06|product info |added to cart|\n",
      "|cust01 |8/20/2022 7:07|added to cart|product info |\n",
      "|cust01 |8/20/2022 7:08|product info |homepage     |\n",
      "|cust01 |8/20/2022 7:09|homepage     |product info |\n",
      "|cust01 |8/20/2022 8:06|product info |homepage     |\n",
      "|cust01 |8/20/2022 8:07|homepage     |product info |\n",
      "+-------+--------------+-------------+-------------+\n",
      "only showing top 10 rows\n",
      "\n"
     ]
    }
   ],
   "source": [
    "# Create an additional column that captures the previous page of the user\n",
    "import pyspark.sql.functions as F\n",
    "from pyspark.sql import Window\n",
    "w = Window.partitionBy(\"user_id\").orderBy('timestamp')\n",
    "df = df.withColumn(\"previous_page\",F.lag(\"page\", 1, 'started').over(w))\n",
    "df.select('user_id','timestamp','previous_page','page').show(10,False)"
   ]
  },
  {
   "cell_type": "code",
   "execution_count": 5,
   "id": "d5ba4307",
   "metadata": {},
   "outputs": [],
   "source": [
    "from pyspark.sql.types import *\n",
    "from pyspark.sql.functions import udf\n",
    "from pyspark.sql import functions as F\n",
    "def indicator(page, prev_page):\n",
    " if page == prev_page:\n",
    "     return 0\n",
    " else:\n",
    "     return 1\n",
    "page_udf = udf(indicator,IntegerType())\n",
    "df = df.withColumn(\"indicator\",page_udf(F.col('page'),F.col('previous_page'))) \\\n",
    "                              .withColumn('indicator_cummulative',F.sum(F.col('indicator')).over(w))"
   ]
  },
  {
   "cell_type": "code",
   "execution_count": 6,
   "id": "7ee888e2",
   "metadata": {},
   "outputs": [
    {
     "name": "stderr",
     "output_type": "stream",
     "text": [
      "\r",
      "[Stage 10:>                                                         (0 + 1) / 1]\r"
     ]
    },
    {
     "name": "stdout",
     "output_type": "stream",
     "text": [
      "+-------------+-------------+---------+---------------------+\n",
      "|previous_page|page         |indicator|indicator_cummulative|\n",
      "+-------------+-------------+---------+---------------------+\n",
      "|started      |product info |1        |1                    |\n",
      "|product info |reviews      |1        |2                    |\n",
      "|reviews      |homepage     |1        |3                    |\n",
      "|homepage     |product info |1        |4                    |\n",
      "|product info |added to cart|1        |5                    |\n",
      "|added to cart|product info |1        |6                    |\n",
      "|product info |homepage     |1        |7                    |\n",
      "|homepage     |product info |1        |8                    |\n",
      "|product info |homepage     |1        |9                    |\n",
      "|homepage     |product info |1        |10                   |\n",
      "+-------------+-------------+---------+---------------------+\n",
      "only showing top 10 rows\n",
      "\n"
     ]
    },
    {
     "name": "stderr",
     "output_type": "stream",
     "text": [
      "\r",
      "                                                                                \r"
     ]
    }
   ],
   "source": [
    "# Create a function to check if the current page is like the previous page and\n",
    "# indicate the same in a new column indicator. indicator_cumulative is the column to\n",
    "# track the number of distinct pages during the user journey:\n",
    "df.select('previous_page','page','indicator','indicator_cummulative').show(10,False)\n",
    "\n"
   ]
  },
  {
   "cell_type": "code",
   "execution_count": 7,
   "id": "e7cb1d1b",
   "metadata": {},
   "outputs": [
    {
     "name": "stdout",
     "output_type": "stream",
     "text": [
      "+--------------+----------------+----------------+---------+---------------------+----------+----------------------+\n",
      "|timestamp     |previous_page   |page            |indicator|indicator_cummulative|time_spent|time_spent_cummulative|\n",
      "+--------------+----------------+----------------+---------+---------------------+----------+----------------------+\n",
      "|8/20/2022 7:02|started         |product info    |1        |1                    |0.152     |0.152                 |\n",
      "|8/20/2022 7:03|product info    |reviews         |1        |2                    |0.151     |0.151                 |\n",
      "|8/20/2022 7:04|reviews         |homepage        |1        |3                    |0.182     |0.182                 |\n",
      "|8/20/2022 7:05|homepage        |product info    |1        |4                    |0.259     |0.259                 |\n",
      "|8/20/2022 7:06|product info    |added to cart   |1        |5                    |0.127     |0.127                 |\n",
      "|8/20/2022 7:07|added to cart   |product info    |1        |6                    |0.4352    |0.4352                |\n",
      "|8/20/2022 7:08|product info    |homepage        |1        |7                    |0.152     |0.152                 |\n",
      "|8/20/2022 7:09|homepage        |product info    |1        |8                    |0.185     |0.185                 |\n",
      "|8/20/2022 8:06|product info    |homepage        |1        |9                    |0.152     |0.152                 |\n",
      "|8/20/2022 8:07|homepage        |product info    |1        |10                   |0.185     |0.185                 |\n",
      "|8/20/2022 7:12|started         |product info    |1        |1                    |0.257     |0.257                 |\n",
      "|8/20/2022 7:14|product info    |added to cart   |1        |2                    |0.875     |0.875                 |\n",
      "|8/20/2022 7:16|added to cart   |reviews         |1        |3                    |1.157     |1.157                 |\n",
      "|8/20/2022 7:18|reviews         |product info    |1        |4                    |1.158     |1.158                 |\n",
      "|8/20/2022 8:02|product info    |product info    |0        |4                    |0.257     |1.415                 |\n",
      "|8/20/2022 8:03|product info    |reviews         |1        |5                    |0.259     |0.259                 |\n",
      "|8/20/2022 8:04|reviews         |product info+B40|1        |6                    |0.453     |0.453                 |\n",
      "|8/20/2022 8:05|product info+B40|added to cart   |1        |8                    |0.257     |0.7110000000000001    |\n",
      "|8/20/2022 8:05|added to cart   |reviews         |1        |8                    |0.454     |0.7110000000000001    |\n",
      "|8/20/2022 8:06|reviews         |product info    |1        |9                    |0.875     |2.032                 |\n",
      "+--------------+----------------+----------------+---------+---------------------+----------+----------------------+\n",
      "only showing top 20 rows\n",
      "\n"
     ]
    }
   ],
   "source": [
    "w2=Window.partitionBy([\"user_id\",'indicator_cummulative']).orderBy('timestamp')\n",
    "df= df.withColumn('time_spent_cummulative',F.sum(F.col('time_spent')).over(w2))\n",
    "df.select('timestamp','previous_page','page',\n",
    "          'indicator','indicator_cummulative',\n",
    "          'time_spent','time_spent_cummulative').show(20,False)"
   ]
  },
  {
   "cell_type": "code",
   "execution_count": 8,
   "id": "6a0c34b9",
   "metadata": {},
   "outputs": [
    {
     "name": "stderr",
     "output_type": "stream",
     "text": [
      "\r",
      "[Stage 25:>                                                         (0 + 1) / 1]\r",
      "\r",
      "                                                                                \r"
     ]
    },
    {
     "name": "stdout",
     "output_type": "stream",
     "text": [
      "+----------------------+---------------------+-------------+-------------+----------------+\n",
      "|time_spent_cummulative|indicator_cummulative|page         |final_page   |final_time_spent|\n",
      "+----------------------+---------------------+-------------+-------------+----------------+\n",
      "|0.152                 |1                    |product info |product info |0.152           |\n",
      "|0.151                 |2                    |reviews      |reviews      |0.151           |\n",
      "|0.182                 |3                    |homepage     |homepage     |0.182           |\n",
      "|0.259                 |4                    |product info |product info |0.259           |\n",
      "|0.127                 |5                    |added to cart|added to cart|0.127           |\n",
      "|0.4352                |6                    |product info |product info |0.4352          |\n",
      "|0.152                 |7                    |homepage     |homepage     |0.152           |\n",
      "|0.185                 |8                    |product info |product info |0.185           |\n",
      "|0.152                 |9                    |homepage     |homepage     |0.152           |\n",
      "|0.185                 |10                   |product info |product info |0.185           |\n",
      "+----------------------+---------------------+-------------+-------------+----------------+\n",
      "only showing top 10 rows\n",
      "\n"
     ]
    }
   ],
   "source": [
    "# Calculate the aggregated time spent on similar pages so that\n",
    "# only a single record can be kept for representing consecutive pages:\n",
    "w3 =Window.partitionBy([\"user_id\",'indicator_cummulative']).orderBy(F.col('timestamp').desc())\n",
    "df = df.withColumn('final_page',F.first('page').over(w3))\\\n",
    " .withColumn('final_time_spent',F.first('time_spent_cummulative').\n",
    "over(w3))\n",
    "df.select(['time_spent_cummulative','indicator_cummulative',\n",
    "           'page','final_page','final_time_spent']).show(10,False)"
   ]
  },
  {
   "cell_type": "code",
   "execution_count": 9,
   "id": "73b98caa",
   "metadata": {},
   "outputs": [],
   "source": [
    "aggregations = []\n",
    "aggregations.append(F.max(F.col('final_page')).alias('page_emb'))\n",
    "aggregations.append(F.max(F.col('final_time_spent')).alias('time_spent_emb'))\n",
    "df_embedding = df.select(['user_id','indicator_cummulative',\n",
    "                          'final_page',\n",
    "                          'final_time_spent']).groupBy(['user_id','indicator_cummulative']).agg(*aggregations)\n",
    "w4 = Window.partitionBy([\"user_id\"]).orderBy('indicator_cummulative')\n",
    "w5 = Window.partitionBy([\"user_id\"]).orderBy(F.col('indicator_cummulative').desc())"
   ]
  },
  {
   "cell_type": "code",
   "execution_count": 10,
   "id": "b58d75f5",
   "metadata": {},
   "outputs": [],
   "source": [
    "# Use collect list to combine all the pages of the user journey into a single\n",
    "# list and for time spent as well. As a result, we end with a user journey in the form of a\n",
    "# page list and time spent list:\n",
    "\n",
    "df_embedding = df_embedding.withColumn('journey_page', F.collect_list(F.col('page_emb')).over(w4))\\\n",
    " .withColumn('journey_time_temp', F.collect_list(F.col('time_spent_emb')).over(w4)) \\\n",
    " .withColumn('journey_page_final',F.first('journey_page').over(w5))\\\n",
    " .withColumn('journey_time_final',F.first('journey_time_temp').over(w5)) \\\n",
    " .select(['user_id','journey_page_final','journey_time_final'])"
   ]
  },
  {
   "cell_type": "code",
   "execution_count": 11,
   "id": "c9e2ea9c",
   "metadata": {},
   "outputs": [
    {
     "name": "stderr",
     "output_type": "stream",
     "text": [
      "                                                                                \r"
     ]
    },
    {
     "data": {
      "text/plain": [
       "8"
      ]
     },
     "execution_count": 11,
     "metadata": {},
     "output_type": "execute_result"
    }
   ],
   "source": [
    "# Each user is represented by a single journey and time spent vector:\n",
    "df_embedding = df_embedding.dropDuplicates()\n",
    "df_embedding.count()"
   ]
  },
  {
   "cell_type": "code",
   "execution_count": 12,
   "id": "dc0f1272",
   "metadata": {},
   "outputs": [
    {
     "data": {
      "text/plain": [
       "8"
      ]
     },
     "execution_count": 12,
     "metadata": {},
     "output_type": "execute_result"
    }
   ],
   "source": [
    "df_embedding.select('user_id').distinct().count()"
   ]
  },
  {
   "cell_type": "code",
   "execution_count": 13,
   "id": "65981c2d",
   "metadata": {},
   "outputs": [
    {
     "name": "stdout",
     "output_type": "stream",
     "text": [
      "+-------+-------------------------------------------------------------------------------------------------------------------------------------------------------------------------------------------------------------------------------------+--------------------------------------------------------------------------------------------------------------------------------------------------------------+\n",
      "|user_id|journey_page_final                                                                                                                                                                                                                   |journey_time_final                                                                                                                                            |\n",
      "+-------+-------------------------------------------------------------------------------------------------------------------------------------------------------------------------------------------------------------------------------------+--------------------------------------------------------------------------------------------------------------------------------------------------------------+\n",
      "|cust01 |[product info, reviews, homepage, product info, added to cart, product info, homepage, product info, homepage, product info]                                                                                                         |[0.152, 0.151, 0.182, 0.259, 0.127, 0.4352, 0.152, 0.185, 0.152, 0.185]                                                                                       |\n",
      "|cust02 |[product info, added to cart, reviews, product info, reviews, product info+B40, added to cart, product info, offers, product info, added to cart, product info, reviews, buy, product info, reviews, product info, product info, buy]|[0.257, 0.875, 1.157, 1.415, 0.259, 0.453, 0.7110000000000001, 2.032, 1.41, 1.134, 1.157, 2.316, 0.777, 1.165, 1.221, 1.158, 1.158, 0.9710000000000001, 0.256]|\n",
      "|cust03 |[added to cart, reviews]                                                                                                                                                                                                             |[2.032, 1.6759999999999997]                                                                                                                                   |\n",
      "|cust04 |[added to cart, product info, offers, added to cart, product info]                                                                                                                                                                   |[2.625, 3.4530000000000003, 3.4559999999999995, 0.771, 2.109]                                                                                                 |\n",
      "|cust05 |[added to cart, product info, buy, added to cart, product info]                                                                                                                                                                      |[0.875, 1.151, 1.152, 0.257, 0.7030000000000001]                                                                                                              |\n",
      "|cust06 |[added to cart, product info, reviews, product info, added to cart, product info, reviews, added to cart, product info]                                                                                                              |[0.257, 0.7030000000000001, 1.158, 0.968, 0.875, 1.151, 1.152, 0.257, 0.7030000000000001]                                                                     |\n",
      "|cust07 |[product info, added to cart, product info]                                                                                                                                                                                          |[6.264, 0.257, 0.7030000000000001]                                                                                                                            |\n",
      "|cust08 |[product info, reviews, product info, reviews, product info, added to cart, buy, product info, reviews, buy, product info, offers]                                                                                                   |[0.45, 1.4169999999999998, 2.7350000000000003, 2.284, 0.7030000000000001, 0.257, 0.253, 1.151, 1.152, 0.257, 0.253, 0.45]                                     |\n",
      "+-------+-------------------------------------------------------------------------------------------------------------------------------------------------------------------------------------------------------------------------------------+--------------------------------------------------------------------------------------------------------------------------------------------------------------+\n",
      "\n"
     ]
    }
   ],
   "source": [
    "df_embedding.select('user_id','journey_page_final','journey_time_final').show(10,False)"
   ]
  },
  {
   "cell_type": "code",
   "execution_count": 14,
   "id": "0ba9442c",
   "metadata": {},
   "outputs": [
    {
     "name": "stderr",
     "output_type": "stream",
     "text": [
      "                                                                                \r"
     ]
    },
    {
     "name": "stdout",
     "output_type": "stream",
     "text": [
      "22/10/29 14:21:33 WARN InstanceBuilder$NativeBLAS: Failed to load implementation from:dev.ludovic.netlib.blas.JNIBLAS\n",
      "22/10/29 14:21:33 WARN InstanceBuilder$NativeBLAS: Failed to load implementation from:dev.ludovic.netlib.blas.ForeignLinkerBLAS\n"
     ]
    },
    {
     "name": "stderr",
     "output_type": "stream",
     "text": [
      "[Stage 65:>                                                         (0 + 1) / 1]\r"
     ]
    },
    {
     "name": "stdout",
     "output_type": "stream",
     "text": [
      "+-------+--------------------+--------------------+--------------------+\n",
      "|user_id|  journey_page_final|  journey_time_final|           embedding|\n",
      "+-------+--------------------+--------------------+--------------------+\n",
      "| cust01|[product info, re...|[0.152, 0.151, 0....|[6.71888026408851...|\n",
      "| cust02|[product info, ad...|[0.257, 0.875, 1....|[7.56521954348212...|\n",
      "| cust03|[added to cart, r...|[2.032, 1.6759999...|[-3.7545792292803...|\n",
      "| cust04|[added to cart, p...|[2.625, 3.4530000...|[0.00179694201797...|\n",
      "| cust05|[added to cart, p...|[0.875, 1.151, 1....|[0.00263937227427...|\n",
      "| cust06|[added to cart, p...|[0.257, 0.7030000...|[8.30266779909531...|\n",
      "| cust07|[product info, ad...|[6.264, 0.257, 0....|[0.00199543808897...|\n",
      "| cust08|[product info, re...|[0.45, 1.41699999...|[6.37046624130258...|\n",
      "+-------+--------------------+--------------------+--------------------+\n",
      "\n"
     ]
    },
    {
     "name": "stderr",
     "output_type": "stream",
     "text": [
      "\r",
      "                                                                                \r"
     ]
    }
   ],
   "source": [
    "# Move to create embeddings using the word2vec model by feeding it the\n",
    "# user journey sequence. The embedding size is kept to 100 for this part:\n",
    "from pyspark.ml.feature import Word2Vec\n",
    "word2vec = Word2Vec(vectorSize = 100, inputCol = 'journey_page_final', outputCol = 'embedding')\n",
    "model = word2vec.fit(df_embedding)\n",
    "result = model.transform(df_embedding)\n",
    "result.show(10)"
   ]
  },
  {
   "cell_type": "code",
   "execution_count": 15,
   "id": "836479bf",
   "metadata": {},
   "outputs": [
    {
     "name": "stdout",
     "output_type": "stream",
     "text": [
      "root\n",
      " |-- word: string (nullable = true)\n",
      " |-- vector: vector (nullable = true)\n",
      "\n"
     ]
    }
   ],
   "source": [
    "# extract embeddings for each page category using getVectors(), but do ensure\n",
    "# to change the datatype of the embeddings to double as the embeddings’ original format\n",
    "# is vector in Spark:\n",
    "embeddings=model.getVectors()\n",
    "embeddings.printSchema()"
   ]
  },
  {
   "cell_type": "code",
   "execution_count": 16,
   "id": "b5132e6e",
   "metadata": {},
   "outputs": [
    {
     "name": "stdout",
     "output_type": "stream",
     "text": [
      "root\n",
      " |-- word: string (nullable = true)\n",
      " |-- vector: array (nullable = false)\n",
      " |    |-- element: double (containsNull = false)\n",
      "\n"
     ]
    }
   ],
   "source": [
    "from pyspark.ml.functions import vector_to_array\n",
    "embeddings=embeddings.withColumn('vector',vector_to_array('vector'))\n",
    "embeddings.printSchema()"
   ]
  },
  {
   "cell_type": "code",
   "execution_count": 17,
   "id": "42f0849f",
   "metadata": {},
   "outputs": [
    {
     "name": "stdout",
     "output_type": "stream",
     "text": [
      "+-------------+--------------------+\n",
      "|         word|              vector|\n",
      "+-------------+--------------------+\n",
      "| product info|[0.00149395922198...|\n",
      "|added to cart|[0.00299839582294...|\n",
      "|      reviews|[-0.0037493116687...|\n",
      "|          buy|[0.00421215128153...|\n",
      "+-------------+--------------------+\n",
      "\n"
     ]
    }
   ],
   "source": [
    "embeddings.show(10)"
   ]
  },
  {
   "cell_type": "code",
   "execution_count": 22,
   "id": "a0d868ee",
   "metadata": {},
   "outputs": [
    {
     "name": "stdout",
     "output_type": "stream",
     "text": [
      "['buy', 'product info', 'reviews', 'added to cart']\n"
     ]
    }
   ],
   "source": [
    "page_categories=embeddings.select('word').distinct().collect()\n",
    "unique_pages = [i.word for i in page_categories]\n",
    "print(unique_pages)\n",
    "# As we can observe, the vocabulary size is 5 because we were dealing with seven page\n",
    "# categories only. Each of these page categories now can be represented with the help of\n",
    "# the embedding vector of size 100:"
   ]
  },
  {
   "cell_type": "code",
   "execution_count": 25,
   "id": "ac4dc8e5",
   "metadata": {},
   "outputs": [
    {
     "data": {
      "text/html": [
       "<div>\n",
       "<style scoped>\n",
       "    .dataframe tbody tr th:only-of-type {\n",
       "        vertical-align: middle;\n",
       "    }\n",
       "\n",
       "    .dataframe tbody tr th {\n",
       "        vertical-align: top;\n",
       "    }\n",
       "\n",
       "    .dataframe thead th {\n",
       "        text-align: right;\n",
       "    }\n",
       "</style>\n",
       "<table border=\"1\" class=\"dataframe\">\n",
       "  <thead>\n",
       "    <tr style=\"text-align: right;\">\n",
       "      <th></th>\n",
       "      <th>word</th>\n",
       "      <th>vector</th>\n",
       "    </tr>\n",
       "  </thead>\n",
       "  <tbody>\n",
       "    <tr>\n",
       "      <th>0</th>\n",
       "      <td>product info</td>\n",
       "      <td>[0.0014939592219889164, -0.0016705667367205024...</td>\n",
       "    </tr>\n",
       "    <tr>\n",
       "      <th>1</th>\n",
       "      <td>added to cart</td>\n",
       "      <td>[0.002998395822942257, 0.0010963422246277332, ...</td>\n",
       "    </tr>\n",
       "    <tr>\n",
       "      <th>2</th>\n",
       "      <td>reviews</td>\n",
       "      <td>[-0.0037493116687983274, 0.0031501781195402145...</td>\n",
       "    </tr>\n",
       "    <tr>\n",
       "      <th>3</th>\n",
       "      <td>buy</td>\n",
       "      <td>[0.0042121512815356255, -0.0041915178298950195...</td>\n",
       "    </tr>\n",
       "  </tbody>\n",
       "</table>\n",
       "</div>"
      ],
      "text/plain": [
       "            word                                             vector\n",
       "0   product info  [0.0014939592219889164, -0.0016705667367205024...\n",
       "1  added to cart  [0.002998395822942257, 0.0010963422246277332, ...\n",
       "2        reviews  [-0.0037493116687983274, 0.0031501781195402145...\n",
       "3            buy  [0.0042121512815356255, -0.0041915178298950195..."
      ]
     },
     "execution_count": 25,
     "metadata": {},
     "output_type": "execute_result"
    }
   ],
   "source": [
    "# In order to visualize the embeddings of each of the page categories, we can convert\n",
    "# the embeddings Dataframe to a Pandas Dataframe and later use matplotlib to plot the\n",
    "# embeddings:\n",
    "pd_df_embedding = embeddings.toPandas()\n",
    "pd_df_embedding"
   ]
  },
  {
   "cell_type": "code",
   "execution_count": 27,
   "id": "e6b23e9c",
   "metadata": {},
   "outputs": [
    {
     "data": {
      "text/html": [
       "<div>\n",
       "<style scoped>\n",
       "    .dataframe tbody tr th:only-of-type {\n",
       "        vertical-align: middle;\n",
       "    }\n",
       "\n",
       "    .dataframe tbody tr th {\n",
       "        vertical-align: top;\n",
       "    }\n",
       "\n",
       "    .dataframe thead th {\n",
       "        text-align: right;\n",
       "    }\n",
       "</style>\n",
       "<table border=\"1\" class=\"dataframe\">\n",
       "  <thead>\n",
       "    <tr style=\"text-align: right;\">\n",
       "      <th></th>\n",
       "      <th>0</th>\n",
       "      <th>1</th>\n",
       "      <th>2</th>\n",
       "      <th>3</th>\n",
       "      <th>4</th>\n",
       "      <th>5</th>\n",
       "      <th>6</th>\n",
       "      <th>7</th>\n",
       "      <th>8</th>\n",
       "      <th>9</th>\n",
       "      <th>...</th>\n",
       "      <th>90</th>\n",
       "      <th>91</th>\n",
       "      <th>92</th>\n",
       "      <th>93</th>\n",
       "      <th>94</th>\n",
       "      <th>95</th>\n",
       "      <th>96</th>\n",
       "      <th>97</th>\n",
       "      <th>98</th>\n",
       "      <th>99</th>\n",
       "    </tr>\n",
       "  </thead>\n",
       "  <tbody>\n",
       "    <tr>\n",
       "      <th>0</th>\n",
       "      <td>0.001494</td>\n",
       "      <td>-0.001671</td>\n",
       "      <td>-0.004440</td>\n",
       "      <td>-0.003140</td>\n",
       "      <td>-0.001053</td>\n",
       "      <td>0.002440</td>\n",
       "      <td>-0.002817</td>\n",
       "      <td>-0.003006</td>\n",
       "      <td>0.000227</td>\n",
       "      <td>0.000485</td>\n",
       "      <td>...</td>\n",
       "      <td>-0.002403</td>\n",
       "      <td>0.000714</td>\n",
       "      <td>-0.002166</td>\n",
       "      <td>0.002788</td>\n",
       "      <td>-0.003274</td>\n",
       "      <td>0.002558</td>\n",
       "      <td>-0.004752</td>\n",
       "      <td>0.001555</td>\n",
       "      <td>0.003789</td>\n",
       "      <td>-0.001598</td>\n",
       "    </tr>\n",
       "    <tr>\n",
       "      <th>1</th>\n",
       "      <td>0.002998</td>\n",
       "      <td>0.001096</td>\n",
       "      <td>-0.000031</td>\n",
       "      <td>0.001262</td>\n",
       "      <td>0.003328</td>\n",
       "      <td>0.000145</td>\n",
       "      <td>-0.001511</td>\n",
       "      <td>0.002427</td>\n",
       "      <td>0.001958</td>\n",
       "      <td>0.001462</td>\n",
       "      <td>...</td>\n",
       "      <td>-0.003948</td>\n",
       "      <td>0.000401</td>\n",
       "      <td>-0.000105</td>\n",
       "      <td>-0.001644</td>\n",
       "      <td>-0.001139</td>\n",
       "      <td>0.004247</td>\n",
       "      <td>-0.004210</td>\n",
       "      <td>-0.001851</td>\n",
       "      <td>-0.002642</td>\n",
       "      <td>-0.001710</td>\n",
       "    </tr>\n",
       "    <tr>\n",
       "      <th>2</th>\n",
       "      <td>-0.003749</td>\n",
       "      <td>0.003150</td>\n",
       "      <td>-0.004214</td>\n",
       "      <td>-0.003216</td>\n",
       "      <td>-0.000057</td>\n",
       "      <td>0.002436</td>\n",
       "      <td>-0.004245</td>\n",
       "      <td>-0.004828</td>\n",
       "      <td>0.003866</td>\n",
       "      <td>0.001452</td>\n",
       "      <td>...</td>\n",
       "      <td>-0.004661</td>\n",
       "      <td>0.003624</td>\n",
       "      <td>-0.000494</td>\n",
       "      <td>0.000232</td>\n",
       "      <td>0.000066</td>\n",
       "      <td>-0.000355</td>\n",
       "      <td>0.002831</td>\n",
       "      <td>-0.000174</td>\n",
       "      <td>0.002811</td>\n",
       "      <td>0.002471</td>\n",
       "    </tr>\n",
       "  </tbody>\n",
       "</table>\n",
       "<p>3 rows × 100 columns</p>\n",
       "</div>"
      ],
      "text/plain": [
       "         0         1         2         3         4         5         6   \\\n",
       "0  0.001494 -0.001671 -0.004440 -0.003140 -0.001053  0.002440 -0.002817   \n",
       "1  0.002998  0.001096 -0.000031  0.001262  0.003328  0.000145 -0.001511   \n",
       "2 -0.003749  0.003150 -0.004214 -0.003216 -0.000057  0.002436 -0.004245   \n",
       "\n",
       "         7         8         9   ...        90        91        92        93  \\\n",
       "0 -0.003006  0.000227  0.000485  ... -0.002403  0.000714 -0.002166  0.002788   \n",
       "1  0.002427  0.001958  0.001462  ... -0.003948  0.000401 -0.000105 -0.001644   \n",
       "2 -0.004828  0.003866  0.001452  ... -0.004661  0.003624 -0.000494  0.000232   \n",
       "\n",
       "         94        95        96        97        98        99  \n",
       "0 -0.003274  0.002558 -0.004752  0.001555  0.003789 -0.001598  \n",
       "1 -0.001139  0.004247 -0.004210 -0.001851 -0.002642 -0.001710  \n",
       "2  0.000066 -0.000355  0.002831 -0.000174  0.002811  0.002471  \n",
       "\n",
       "[3 rows x 100 columns]"
      ]
     },
     "execution_count": 27,
     "metadata": {},
     "output_type": "execute_result"
    }
   ],
   "source": [
    "import pandas as pd\n",
    "X=pd.DataFrame(pd_df_embedding['vector'].values.tolist())\n",
    "X.shape\n",
    "X.head(3)\n"
   ]
  },
  {
   "cell_type": "code",
   "execution_count": 28,
   "id": "e4c24af8",
   "metadata": {},
   "outputs": [
    {
     "data": {
      "text/plain": [
       "array([[-0.01397963,  0.02140264],\n",
       "       [-0.01403992, -0.0125632 ],\n",
       "       [ 0.0021821 , -0.01484667],\n",
       "       [ 0.02583745,  0.00600723]])"
      ]
     },
     "execution_count": 28,
     "metadata": {},
     "output_type": "execute_result"
    }
   ],
   "source": [
    "# In order to better understand the relation between these page categories, we can use\n",
    "# the dimensionality reduction technique (PCA) and plot these seven page embeddings\n",
    "# on a two-dimensional space:\n",
    "from sklearn.decomposition import PCA\n",
    "pca = PCA(n_components=2)\n",
    "pca_df = pca.fit_transform(X)\n",
    "pca_df"
   ]
  },
  {
   "cell_type": "code",
   "execution_count": 32,
   "id": "4206bb41",
   "metadata": {},
   "outputs": [
    {
     "data": {
      "image/png": "[encoded data removed]",
      "text/plain": [
       "<Figure size 720x720 with 1 Axes>"
      ]
     },
     "metadata": {
      "needs_background": "light"
     },
     "output_type": "display_data"
    }
   ],
   "source": [
    "import matplotlib.pyplot as plt\n",
    "%matplotlib inline\n",
    "plt.figure(figsize=(10,10))\n",
    "plt.scatter(pca_df[:, 0], pca_df[:, 1])\n",
    "for i,unique_page in enumerate(unique_pages):\n",
    "    plt.annotate(unique_page,horizontalalignment='right',\n",
    "                 verticalalignment='top',\n",
    "                 xy=(pca_df[i, 0], \n",
    "                     pca_df[i, 1]))\n",
    "plt.show()"
   ]
  },
  {
   "cell_type": "code",
   "execution_count": null,
   "id": "6475c495",
   "metadata": {},
   "outputs": [],
   "source": []
  }
 ],
 "metadata": {
  "kernelspec": {
   "display_name": "Python 3 (ipykernel)",
   "language": "python",
   "name": "python3"
  },
  "language_info": {
   "codemirror_mode": {
    "name": "ipython",
    "version": 3
   },
   "file_extension": ".py",
   "mimetype": "text/x-python",
   "name": "python",
   "nbconvert_exporter": "python",
   "pygments_lexer": "ipython3",
   "version": "3.9.12"
  }
 },
 "nbformat": 4,
 "nbformat_minor": 5
}
