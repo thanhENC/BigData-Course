{
 "cells": [
  {
   "cell_type": "code",
   "execution_count": null,
   "id": "a071bd04",
   "metadata": {},
   "outputs": [],
   "source": [
    "!python \"9_streaming_producer1.py\""
   ]
  },
  {
   "cell_type": "code",
   "execution_count": null,
   "id": "603cd8ae",
   "metadata": {},
   "outputs": [],
   "source": [
    "!python \"9_streaming_consumer1.py\""
   ]
  }
 ],
 "metadata": {
  "kernelspec": {
   "display_name": "Python 3 (ipykernel)",
   "language": "python",
   "name": "python3"
  },
  "language_info": {
   "codemirror_mode": {
    "name": "ipython",
    "version": 3
   },
   "file_extension": ".py",
   "mimetype": "text/x-python",
   "name": "python",
   "nbconvert_exporter": "python",
   "pygments_lexer": "ipython3",
   "version": "3.9.12"
  }
 },
 "nbformat": 4,
 "nbformat_minor": 5
}
