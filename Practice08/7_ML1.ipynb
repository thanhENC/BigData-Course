{
 "cells": [
  {
   "cell_type": "markdown",
   "metadata": {
    "colab_type": "text",
    "id": "eASNvREtBU9G"
   },
   "source": [
    "# 7_ML1"
   ]
  },
  {
   "cell_type": "code",
   "execution_count": 92,
   "metadata": {
    "colab": {
     "base_uri": "https://localhost:8080/",
     "height": 265
    },
    "colab_type": "code",
    "id": "FQ8Ts9eZBA-M",
    "outputId": "a43c368c-b648-4283-b53d-dee1c3fea23b"
   },
   "outputs": [
    {
     "name": "stdout",
     "output_type": "stream",
     "text": [
      "22/10/15 15:53:26 WARN SparkSession: Using an existing Spark session; only runtime SQL configurations will take effect.\n",
      "root\n",
      " |-- age: string (nullable = true)\n",
      " |-- job: string (nullable = true)\n",
      " |-- marital: string (nullable = true)\n",
      " |-- education: string (nullable = true)\n",
      " |-- default: string (nullable = true)\n",
      " |-- balance: string (nullable = true)\n",
      " |-- housing: string (nullable = true)\n",
      " |-- loan: string (nullable = true)\n",
      " |-- contact: string (nullable = true)\n",
      " |-- day: string (nullable = true)\n",
      " |-- month: string (nullable = true)\n",
      " |-- duration: string (nullable = true)\n",
      " |-- campaign: string (nullable = true)\n",
      " |-- pdays: string (nullable = true)\n",
      " |-- previous: string (nullable = true)\n",
      " |-- poutcome: string (nullable = true)\n",
      " |-- deposit: string (nullable = true)\n",
      "\n"
     ]
    },
    {
     "name": "stderr",
     "output_type": "stream",
     "text": [
      "[Stage 475:>                                                        (0 + 1) / 1]\r"
     ]
    },
    {
     "name": "stdout",
     "output_type": "stream",
     "text": [
      "+-------+------------------+-------+--------+---------+-------+------------------+-------+-----+--------+------------------+-----+------------------+------------------+------------------+------------------+--------+-------+\n",
      "|summary|               age|    job| marital|education|default|           balance|housing| loan| contact|               day|month|          duration|          campaign|             pdays|          previous|poutcome|deposit|\n",
      "+-------+------------------+-------+--------+---------+-------+------------------+-------+-----+--------+------------------+-----+------------------+------------------+------------------+------------------+--------+-------+\n",
      "|  count|             11162|  11162|   11162|    11162|  11162|             11162|  11162|11162|   11162|             11162|11162|             11162|             11162|             11162|             11162|   11162|  11162|\n",
      "|   mean|41.231947679627304|   null|    null|     null|   null|1528.5385235620856|   null| null|    null|15.658036194230425| null|371.99381831213043| 2.508421429851281| 51.33040673714388|0.8325568894463358|    null|   null|\n",
      "| stddev|11.913369192215518|   null|    null|     null|   null| 3225.413325946149|   null| null|    null| 8.420739541006462| null|347.12838571630687|2.7220771816614824|108.75828197197717| 2.292007218670508|    null|   null|\n",
      "|    min|                18| admin.|divorced|  primary|     no|                -1|     no|   no|cellular|                 1|  apr|                10|                 1|                -1|                 0| failure|     no|\n",
      "|    25%|              32.0|   null|    null|     null|   null|             122.0|   null| null|    null|               8.0| null|             138.0|               1.0|              -1.0|               0.0|    null|   null|\n",
      "|    50%|              39.0|   null|    null|     null|   null|             550.0|   null| null|    null|              15.0| null|             255.0|               2.0|              -1.0|               0.0|    null|   null|\n",
      "|    75%|              49.0|   null|    null|     null|   null|            1708.0|   null| null|    null|              22.0| null|             496.0|               3.0|              20.0|               1.0|    null|   null|\n",
      "|    max|                95|unknown|  single|  unknown|    yes|              9994|    yes|  yes| unknown|                 9|  sep|               999|                 9|                99|                 9| unknown|    yes|\n",
      "+-------+------------------+-------+--------+---------+-------+------------------+-------+-----+--------+------------------+-----+------------------+------------------+------------------+------------------+--------+-------+\n",
      "\n"
     ]
    },
    {
     "name": "stderr",
     "output_type": "stream",
     "text": [
      "\r",
      "                                                                                \r"
     ]
    }
   ],
   "source": [
    "import warnings\n",
    "warnings.filterwarnings('ignore')\n",
    "from pyspark.sql import SparkSession\n",
    "spark=SparkSession.builder.appName(\"Logistic Regression Demo\").getOrCreate()\n",
    "file_location = \"bank_is_deposit.csv\"\n",
    "file_type = \"csv\"\n",
    "infer_schema = \"False\"\n",
    "first_row_is_header = \"True\"\n",
    "df = spark.read.format(file_type) \\\n",
    ".option(\"inferSchema\", infer_schema) \\\n",
    ".option(\"header\", first_row_is_header) \\\n",
    ".load(file_location)\n",
    "\n",
    "df.printSchema()\n",
    "\n",
    "#SUMMARISING EACH COLUMN VALUES\n",
    "df.summary().show()"
   ]
  },
  {
   "cell_type": "code",
   "execution_count": 93,
   "metadata": {
    "colab": {
     "base_uri": "https://localhost:8080/",
     "height": 544
    },
    "colab_type": "code",
    "id": "XJGWVc0yB0UA",
    "outputId": "9375b451-2500-48af-ae8d-cfc24f774c13"
   },
   "outputs": [
    {
     "name": "stdout",
     "output_type": "stream",
     "text": [
      "root\n",
      " |-- age: string (nullable = true)\n",
      " |-- job: string (nullable = true)\n",
      " |-- marital: string (nullable = true)\n",
      " |-- education: string (nullable = true)\n",
      " |-- default: string (nullable = true)\n",
      " |-- balance: string (nullable = true)\n",
      " |-- housing: string (nullable = true)\n",
      " |-- loan: string (nullable = true)\n",
      " |-- contact: string (nullable = true)\n",
      " |-- day: string (nullable = true)\n",
      " |-- month: string (nullable = true)\n",
      " |-- duration: string (nullable = true)\n",
      " |-- campaign: string (nullable = true)\n",
      " |-- pdays: string (nullable = true)\n",
      " |-- previous: string (nullable = true)\n",
      " |-- poutcome: string (nullable = true)\n",
      " |-- deposit: string (nullable = true)\n",
      "\n",
      "+---+----------+-------+---------+-------+-------+-------+----+-------+---+-----+--------+--------+-----+--------+--------+-------+\n",
      "|age|       job|marital|education|default|balance|housing|loan|contact|day|month|duration|campaign|pdays|previous|poutcome|deposit|\n",
      "+---+----------+-------+---------+-------+-------+-------+----+-------+---+-----+--------+--------+-----+--------+--------+-------+\n",
      "| 59|    admin.|married|secondary|     no|   2343|    yes|  no|unknown|  5|  may|    1042|       1|   -1|       0| unknown|    yes|\n",
      "| 56|    admin.|married|secondary|     no|     45|     no|  no|unknown|  5|  may|    1467|       1|   -1|       0| unknown|    yes|\n",
      "| 41|technician|married|secondary|     no|   1270|    yes|  no|unknown|  5|  may|    1389|       1|   -1|       0| unknown|    yes|\n",
      "| 55|  services|married|secondary|     no|   2476|    yes|  no|unknown|  5|  may|     579|       1|   -1|       0| unknown|    yes|\n",
      "| 54|    admin.|married| tertiary|     no|    184|     no|  no|unknown|  5|  may|     673|       2|   -1|       0| unknown|    yes|\n",
      "+---+----------+-------+---------+-------+-------+-------+----+-------+---+-----+--------+--------+-----+--------+--------+-------+\n",
      "only showing top 5 rows\n",
      "\n"
     ]
    }
   ],
   "source": [
    "# CHECKING DATA DISTRIBUTION\n",
    "df.printSchema() \n",
    "df.show(5) "
   ]
  },
  {
   "cell_type": "code",
   "execution_count": 97,
   "metadata": {},
   "outputs": [
    {
     "data": {
      "text/plain": [
       "[('age', 'int'),\n",
       " ('job', 'string'),\n",
       " ('marital', 'string'),\n",
       " ('education', 'string'),\n",
       " ('default', 'string'),\n",
       " ('balance', 'int'),\n",
       " ('housing', 'string'),\n",
       " ('loan', 'string'),\n",
       " ('contact', 'string'),\n",
       " ('day', 'string'),\n",
       " ('month', 'string'),\n",
       " ('duration', 'int'),\n",
       " ('campaign', 'int'),\n",
       " ('pdays', 'int'),\n",
       " ('previous', 'int'),\n",
       " ('poutcome', 'string'),\n",
       " ('deposit', 'string')]"
      ]
     },
     "execution_count": 97,
     "metadata": {},
     "output_type": "execute_result"
    }
   ],
   "source": [
    "from pyspark.sql.types import *\n",
    "#Identifying and assigning lists of variables\n",
    "float_vars=['age', 'balance', 'duration','campaign','pdays','previous']\n",
    "#Converting variables\n",
    "for column in float_vars:\n",
    " df=df.withColumn(column,df[column].cast(IntegerType()))\n",
    "df.dtypes"
   ]
  },
  {
   "cell_type": "markdown",
   "metadata": {
    "colab_type": "text",
    "id": "wKQMhrtFChHa"
   },
   "source": [
    "# Select features"
   ]
  },
  {
   "cell_type": "code",
   "execution_count": 98,
   "metadata": {
    "colab": {
     "base_uri": "https://localhost:8080/",
     "height": 210
    },
    "colab_type": "code",
    "id": "VU5xMqN_RyM2",
    "outputId": "9f00e88a-a080-4e8a-c34d-bc0b603500a0"
   },
   "outputs": [
    {
     "name": "stdout",
     "output_type": "stream",
     "text": [
      "+---+----------+-------+---------+-------+-------+-------+----+--------+-----+--------+--------+-------+\n",
      "|age|       job|marital|education|default|balance|housing|loan|campaign|pdays|previous|poutcome|deposit|\n",
      "+---+----------+-------+---------+-------+-------+-------+----+--------+-----+--------+--------+-------+\n",
      "| 59|    admin.|married|secondary|     no|   2343|    yes|  no|       1|   -1|       0| unknown|    yes|\n",
      "| 56|    admin.|married|secondary|     no|     45|     no|  no|       1|   -1|       0| unknown|    yes|\n",
      "| 41|technician|married|secondary|     no|   1270|    yes|  no|       1|   -1|       0| unknown|    yes|\n",
      "| 55|  services|married|secondary|     no|   2476|    yes|  no|       1|   -1|       0| unknown|    yes|\n",
      "| 54|    admin.|married| tertiary|     no|    184|     no|  no|       2|   -1|       0| unknown|    yes|\n",
      "+---+----------+-------+---------+-------+-------+-------+----+--------+-----+--------+--------+-------+\n",
      "only showing top 5 rows\n",
      "\n"
     ]
    }
   ],
   "source": [
    "#Select features ('age', 'job', 'marital', 'education', 'default', 'balance', 'housing', 'loan', 'campaign', 'pdays', 'previous', 'poutcome', 'deposit') as df2\n",
    "df2=df.select('age', 'job', 'marital', 'education', 'default', 'balance', 'housing', 'loan', 'campaign', 'pdays', 'previous', 'poutcome', 'deposit')\n",
    "df2.show(5)\n",
    "cols=df2.columns"
   ]
  },
  {
   "cell_type": "code",
   "execution_count": 99,
   "metadata": {
    "colab": {},
    "colab_type": "code",
    "id": "vwF5sqRYa_eI"
   },
   "outputs": [
    {
     "name": "stdout",
     "output_type": "stream",
     "text": [
      "22/10/15 15:54:34 WARN SparkSession: Using an existing Spark session; only runtime SQL configurations will take effect.\n"
     ]
    }
   ],
   "source": [
    "from pyspark.sql import SparkSession\n",
    "spark = SparkSession.builder.appName('SQL').getOrCreate()\n",
    "\n",
    "#REGISTERING DF2 AS SQL TABLE NAMED \"BANK\"\n",
    "df2.registerTempTable(\"bank\") \n",
    "\n",
    "#FILTERING UNKNOWN VALUES USING FROM ALL THE COLUMNS USING \"AND\" \"OR\" LOGIC USING SPARKSQL\n",
    "sqlfilter=spark.sql(\"SELECT * FROM bank WHERE job!='unknown' AND education!='unknown' AND marital!='unknown' AND loan!='unknown' AND (poutcome == 'failure' OR poutcome == 'success')\")"
   ]
  },
  {
   "cell_type": "code",
   "execution_count": 100,
   "metadata": {
    "colab": {},
    "colab_type": "code",
    "id": "2dmtksGiby3J"
   },
   "outputs": [],
   "source": [
    "#STORING IN NEW VARIABLE TO AVOID 'NONETYPE ERROR'\n",
    "df2=sqlfilter"
   ]
  },
  {
   "cell_type": "code",
   "execution_count": 101,
   "metadata": {
    "colab": {
     "base_uri": "https://localhost:8080/",
     "height": 701
    },
    "colab_type": "code",
    "id": "r8dwO4zDb-J3",
    "outputId": "b9a5093e-7c19-404f-de69-cf5e9306c9a5"
   },
   "outputs": [
    {
     "name": "stdout",
     "output_type": "stream",
     "text": [
      "+---+------------+--------+---------+-------+-------+-------+----+--------+-----+--------+--------+-------+\n",
      "|age|         job| marital|education|default|balance|housing|loan|campaign|pdays|previous|poutcome|deposit|\n",
      "+---+------------+--------+---------+-------+-------+-------+----+--------+-----+--------+--------+-------+\n",
      "| 33|    services| married|secondary|     no|   3444|    yes|  no|       1|   91|       4| failure|    yes|\n",
      "| 56|  technician| married|secondary|     no|    589|    yes|  no|       1|  147|       2| success|    yes|\n",
      "| 34|      admin.| married| tertiary|     no|    899|    yes|  no|       1|  170|       3| failure|    yes|\n",
      "| 53|     retired| married| tertiary|     no|   2269|     no|  no|       2|  150|       1| success|    yes|\n",
      "| 37|  technician| married|secondary|     no|   5115|    yes|  no|       2|  171|       4| failure|    yes|\n",
      "| 45|entrepreneur| married|secondary|     no|    781|     no| yes|       2|  126|       2| failure|    yes|\n",
      "| 46|  unemployed|divorced|secondary|     no|   3354|    yes|  no|       1|  174|       1| success|    yes|\n",
      "| 40|  management| married| tertiary|     no|   3352|    yes|  no|       2|   27|       1| success|    yes|\n",
      "| 32|  technician| married| tertiary|     no|   4654|    yes| yes|       1|  128|       2| failure|    yes|\n",
      "| 30| blue-collar| married|secondary|     no|    501|    yes| yes|       1|  177|       1| failure|    yes|\n",
      "| 46|  technician| married| tertiary|     no|      0|     no|  no|       1|  167|       1| failure|    yes|\n",
      "| 38|entrepreneur| married| tertiary|     no|   1110|    yes|  no|       2|  183|       2| failure|    yes|\n",
      "| 32|    services| married|secondary|     no|    983|    yes|  no|       2|  133|       1| failure|    yes|\n",
      "| 31|  unemployed| married|secondary|     no|    314|    yes|  no|       3|  178|       7| failure|    yes|\n",
      "| 50| blue-collar| married|  primary|     no|  12519|    yes|  no|       3|   34|       1| failure|    yes|\n",
      "| 47|  technician| married|secondary|     no|      0|     no|  no|       1|   10|       1| failure|    yes|\n",
      "| 59|  management| married| tertiary|     no|   7049|     no|  no|       1|  163|       2| failure|    yes|\n",
      "| 31|  management| married|secondary|     no|   8629|    yes|  no|       1|  184|       2| failure|    yes|\n",
      "| 53| blue-collar| married|secondary|     no|   1777|    yes|  no|       5|  154|       1| failure|    yes|\n",
      "| 40|  technician|  single| tertiary|     no|   1646|    yes|  no|       1|  242|       2| failure|    yes|\n",
      "+---+------------+--------+---------+-------+-------+-------+----+--------+-----+--------+--------+-------+\n",
      "only showing top 20 rows\n",
      "\n"
     ]
    },
    {
     "name": "stderr",
     "output_type": "stream",
     "text": [
      "\r",
      "[Stage 480:>                                                        (0 + 1) / 1]\r"
     ]
    },
    {
     "name": "stdout",
     "output_type": "stream",
     "text": [
      "+-------+------------------+----------+--------+---------+-------+------------------+-------+----+------------------+-----------------+------------------+--------+-------+\n",
      "|summary|               age|       job| marital|education|default|           balance|housing|loan|          campaign|            pdays|          previous|poutcome|deposit|\n",
      "+-------+------------------+----------+--------+---------+-------+------------------+-------+----+------------------+-----------------+------------------+--------+-------+\n",
      "|  count|              2181|      2181|    2181|     2181|   2181|              2181|   2181|2181|              2181|             2181|              2181|    2181|   2181|\n",
      "|   mean| 41.84364970197157|      null|    null|     null|   null| 1742.946813388354|   null|null|1.8211829436038514|202.8578633654287|3.0917010545621273|    null|   null|\n",
      "| stddev|12.855329179952637|      null|    null|     null|   null|3397.7939950723485|   null|null|1.2274126864078023|121.3097255486155| 2.958246116660583|    null|   null|\n",
      "|    min|                18|    admin.|divorced|  primary|     no|              -938|     no|  no|                 1|                1|                 1| failure|     no|\n",
      "|    25%|                32|      null|    null|     null|   null|               224|   null|null|                 1|               97|                 1|    null|   null|\n",
      "|    50%|                38|      null|    null|     null|   null|               719|   null|null|                 1|              182|                 2|    null|   null|\n",
      "|    75%|                50|      null|    null|     null|   null|              2044|   null|null|                 2|              278|                 4|    null|   null|\n",
      "|    max|                88|unemployed|  single| tertiary|    yes|             81204|    yes| yes|                12|              854|                55| success|    yes|\n",
      "+-------+------------------+----------+--------+---------+-------+------------------+-------+----+------------------+-----------------+------------------+--------+-------+\n",
      "\n"
     ]
    },
    {
     "name": "stderr",
     "output_type": "stream",
     "text": [
      "\r",
      "                                                                                \r"
     ]
    }
   ],
   "source": [
    "#DISPLAYING AND SUMMARIZING NEW DATA FRAME\n",
    "df2.show()\n",
    "df2.summary().show()"
   ]
  },
  {
   "cell_type": "code",
   "execution_count": 102,
   "metadata": {
    "colab": {},
    "colab_type": "code",
    "id": "IwPuQjQf5s45"
   },
   "outputs": [],
   "source": [
    "from pyspark.ml.feature import OneHotEncoder, StringIndexer, VectorAssembler"
   ]
  },
  {
   "cell_type": "code",
   "execution_count": 103,
   "metadata": {
    "colab": {},
    "colab_type": "code",
    "id": "kx31dPjE5s-H"
   },
   "outputs": [],
   "source": [
    "#SELECTING CATEGORICAL COLUMNS ONLY\n",
    "categoricalColumns = ['job', 'marital', 'education', 'default', 'housing', 'loan', 'poutcome']\n",
    "\n",
    "#CREATING AN EMPTY LIST FOR PIPELINE AND ASSEMBLER\n",
    "stages = []"
   ]
  },
  {
   "cell_type": "code",
   "execution_count": 104,
   "metadata": {
    "colab": {},
    "colab_type": "code",
    "id": "3SVWkuEs0n16"
   },
   "outputs": [],
   "source": [
    "#APPLYING FOR LOOP TO INDEX AND ENCODE ALL THE SELECTED COLUMNS\n",
    "#APPLYING STRING INDEXER TO ALL THE CATEGORICAL COLUMNS AND STORING IT IN A NEW COLUMN WITH +INDEXED\n",
    "#APPLYING ONE HOT ENCODER TO ALL THE INDEXED COLUMNS AND STORING IT IN A NEW COLUMN WITH +ENCODED\n",
    "\n",
    "for categoricalCol in categoricalColumns:\n",
    "    stringIndexer = StringIndexer(inputCol = categoricalCol, outputCol = categoricalCol + '_indexed')\n",
    "    encoder = OneHotEncoder(inputCols=[stringIndexer.getOutputCol()], outputCols=[categoricalCol + \"_encoded\"])\n",
    "    stages += [stringIndexer, encoder]\n",
    "    \n",
    "#INDEXING PREDICTOR COLUMN 'DEPOSIT' AS LABEL AND FEATURES    \n",
    "label_stringIdx = StringIndexer(inputCol = 'deposit', outputCol = 'label')\n",
    "\n",
    "#CREATING STAGES FOR BOTH NUMERICAL AND CATEGORICAL COLUMNS\n",
    "stages += [label_stringIdx]\n",
    "numericCols = ['age', 'balance', 'campaign', 'pdays', 'previous']\n",
    "\n",
    "#ADDING BOTH TI ASSEMBLER\n",
    "assemblerInputs = [c + \"_encoded\" for c in categoricalColumns] + numericCols\n",
    "\n",
    "#VECTORIZING TO CREATE A NEW FEATURES COLUMN WITH INDEXED AND ENCODED VALUES\n",
    "assembler = VectorAssembler(inputCols=assemblerInputs, outputCol=\"features\")\n",
    "stages += [assembler]\n"
   ]
  },
  {
   "cell_type": "code",
   "execution_count": 105,
   "metadata": {
    "colab": {},
    "colab_type": "code",
    "id": "evnE-qOvdHw5"
   },
   "outputs": [],
   "source": [
    "from pyspark.ml import Pipeline"
   ]
  },
  {
   "cell_type": "code",
   "execution_count": 106,
   "metadata": {
    "colab": {},
    "colab_type": "code",
    "id": "1BDcVmHuebIE"
   },
   "outputs": [],
   "source": [
    "#COMBINING ALL THE STAGES INTO ONE, FITTING DF2 AND TRANSFORMING IT\n",
    "\n",
    "pipeline = Pipeline(stages = stages)\n",
    "pipelineModel = pipeline.fit(df2)\n",
    "df2 = pipelineModel.transform(df2)\n"
   ]
  },
  {
   "cell_type": "code",
   "execution_count": 107,
   "metadata": {
    "colab": {},
    "colab_type": "code",
    "id": "43nERd5p59JG"
   },
   "outputs": [],
   "source": [
    "#STORING IN NEW VARIABLE TO AVOID 'NONETYPE ERROR'\n",
    "df3=df2"
   ]
  },
  {
   "cell_type": "code",
   "execution_count": 108,
   "metadata": {
    "colab": {
     "base_uri": "https://localhost:8080/",
     "height": 234
    },
    "colab_type": "code",
    "id": "CtLy2qwJ59MS",
    "outputId": "f4a5a51b-6c56-4ec6-a2bc-3ed4c6732c5c"
   },
   "outputs": [
    {
     "name": "stdout",
     "output_type": "stream",
     "text": [
      "+---+----------+-------+---------+-------+-------+-------+----+--------+-----+--------+--------+-------+-----------+--------------+---------------+---------------+-----------------+-----------------+---------------+---------------+---------------+---------------+------------+-------------+----------------+----------------+-----+--------------------+\n",
      "|age|       job|marital|education|default|balance|housing|loan|campaign|pdays|previous|poutcome|deposit|job_indexed|   job_encoded|marital_indexed|marital_encoded|education_indexed|education_encoded|default_indexed|default_encoded|housing_indexed|housing_encoded|loan_indexed| loan_encoded|poutcome_indexed|poutcome_encoded|label|            features|\n",
      "+---+----------+-------+---------+-------+-------+-------+----+--------+-----+--------+--------+-------+-----------+--------------+---------------+---------------+-----------------+-----------------+---------------+---------------+---------------+---------------+------------+-------------+----------------+----------------+-----+--------------------+\n",
      "| 33|  services|married|secondary|     no|   3444|    yes|  no|       1|   91|       4| failure|    yes|        5.0|(10,[5],[1.0])|            0.0|  (2,[0],[1.0])|              0.0|    (2,[0],[1.0])|            0.0|  (1,[0],[1.0])|            1.0|      (1,[],[])|         0.0|(1,[0],[1.0])|             0.0|   (1,[0],[1.0])|  0.0|(23,[5,10,12,14,1...|\n",
      "| 56|technician|married|secondary|     no|    589|    yes|  no|       1|  147|       2| success|    yes|        1.0|(10,[1],[1.0])|            0.0|  (2,[0],[1.0])|              0.0|    (2,[0],[1.0])|            0.0|  (1,[0],[1.0])|            1.0|      (1,[],[])|         0.0|(1,[0],[1.0])|             1.0|       (1,[],[])|  0.0|(23,[1,10,12,14,1...|\n",
      "| 34|    admin.|married| tertiary|     no|    899|    yes|  no|       1|  170|       3| failure|    yes|        2.0|(10,[2],[1.0])|            0.0|  (2,[0],[1.0])|              1.0|    (2,[1],[1.0])|            0.0|  (1,[0],[1.0])|            1.0|      (1,[],[])|         0.0|(1,[0],[1.0])|             0.0|   (1,[0],[1.0])|  0.0|(23,[2,10,13,14,1...|\n",
      "| 53|   retired|married| tertiary|     no|   2269|     no|  no|       2|  150|       1| success|    yes|        4.0|(10,[4],[1.0])|            0.0|  (2,[0],[1.0])|              1.0|    (2,[1],[1.0])|            0.0|  (1,[0],[1.0])|            0.0|  (1,[0],[1.0])|         0.0|(1,[0],[1.0])|             1.0|       (1,[],[])|  0.0|(23,[4,10,13,14,1...|\n",
      "| 37|technician|married|secondary|     no|   5115|    yes|  no|       2|  171|       4| failure|    yes|        1.0|(10,[1],[1.0])|            0.0|  (2,[0],[1.0])|              0.0|    (2,[0],[1.0])|            0.0|  (1,[0],[1.0])|            1.0|      (1,[],[])|         0.0|(1,[0],[1.0])|             0.0|   (1,[0],[1.0])|  0.0|(23,[1,10,12,14,1...|\n",
      "+---+----------+-------+---------+-------+-------+-------+----+--------+-----+--------+--------+-------+-----------+--------------+---------------+---------------+-----------------+-----------------+---------------+---------------+---------------+---------------+------------+-------------+----------------+----------------+-----+--------------------+\n",
      "only showing top 5 rows\n",
      "\n"
     ]
    }
   ],
   "source": [
    "df3.show(5)"
   ]
  },
  {
   "cell_type": "code",
   "execution_count": 18,
   "metadata": {
    "colab": {
     "base_uri": "https://localhost:8080/",
     "height": 315
    },
    "colab_type": "code",
    "id": "CJRIqKC_59Pa",
    "outputId": "1494e305-094c-4818-b7ac-4f8414e86064"
   },
   "outputs": [
    {
     "name": "stdout",
     "output_type": "stream",
     "text": [
      "root\n",
      " |-- label: double (nullable = false)\n",
      " |-- features: vector (nullable = true)\n",
      " |-- age: integer (nullable = true)\n",
      " |-- job: string (nullable = true)\n",
      " |-- marital: string (nullable = true)\n",
      " |-- education: string (nullable = true)\n",
      " |-- default: string (nullable = true)\n",
      " |-- balance: integer (nullable = true)\n",
      " |-- housing: string (nullable = true)\n",
      " |-- loan: string (nullable = true)\n",
      " |-- campaign: integer (nullable = true)\n",
      " |-- pdays: integer (nullable = true)\n",
      " |-- previous: integer (nullable = true)\n",
      " |-- poutcome: string (nullable = true)\n",
      " |-- deposit: string (nullable = true)\n",
      "\n"
     ]
    }
   ],
   "source": [
    "#ADDING ALL THE ORIGINAL COLUMNS TO THE NEW DATA FRAME\n",
    "selectedCols = ['label', 'features'] + cols\n",
    "df3 = df3.select(selectedCols)\n",
    "\n",
    "#DATA DISTRIBUTION OF NEW DATA FRAME\n",
    "df3.printSchema()"
   ]
  },
  {
   "cell_type": "code",
   "execution_count": 19,
   "metadata": {
    "colab": {
     "base_uri": "https://localhost:8080/",
     "height": 210
    },
    "colab_type": "code",
    "id": "66smVI9h6GV3",
    "outputId": "15ce1a94-5f30-4ebb-db7e-038c765b5a4c"
   },
   "outputs": [
    {
     "name": "stdout",
     "output_type": "stream",
     "text": [
      "+-----+--------------------+---+----------+-------+---------+-------+-------+-------+----+--------+-----+--------+--------+-------+\n",
      "|label|            features|age|       job|marital|education|default|balance|housing|loan|campaign|pdays|previous|poutcome|deposit|\n",
      "+-----+--------------------+---+----------+-------+---------+-------+-------+-------+----+--------+-----+--------+--------+-------+\n",
      "|  0.0|(23,[5,10,12,14,1...| 33|  services|married|secondary|     no|   3444|    yes|  no|       1|   91|       4| failure|    yes|\n",
      "|  0.0|(23,[1,10,12,14,1...| 56|technician|married|secondary|     no|    589|    yes|  no|       1|  147|       2| success|    yes|\n",
      "|  0.0|(23,[2,10,13,14,1...| 34|    admin.|married| tertiary|     no|    899|    yes|  no|       1|  170|       3| failure|    yes|\n",
      "|  0.0|(23,[4,10,13,14,1...| 53|   retired|married| tertiary|     no|   2269|     no|  no|       2|  150|       1| success|    yes|\n",
      "|  0.0|(23,[1,10,12,14,1...| 37|technician|married|secondary|     no|   5115|    yes|  no|       2|  171|       4| failure|    yes|\n",
      "+-----+--------------------+---+----------+-------+---------+-------+-------+-------+----+--------+-----+--------+--------+-------+\n",
      "only showing top 5 rows\n",
      "\n"
     ]
    }
   ],
   "source": [
    "df3.show(5)"
   ]
  },
  {
   "cell_type": "markdown",
   "metadata": {
    "colab_type": "text",
    "id": "pOqHERYJCQuC"
   },
   "source": [
    "## Normalisation"
   ]
  },
  {
   "cell_type": "code",
   "execution_count": 109,
   "metadata": {
    "colab": {},
    "colab_type": "code",
    "id": "cfL6_sca5VwI"
   },
   "outputs": [
    {
     "name": "stderr",
     "output_type": "stream",
     "text": [
      "                                                                                \r"
     ]
    }
   ],
   "source": [
    "#SELECTING ONLY THE ENCODED COLUMNS TO NORMALIZE  \n",
    "from pyspark.ml.feature import MinMaxScaler\n",
    "norm_vars=['features','job_encoded','marital_encoded','loan_encoded','default_encoded','education_encoded','housing_encoded','poutcome_encoded']\n",
    "\n",
    "#USING MIN-MAX SCALER FUNCTION TO SCLE IT DOWN BETWEEN 0 AND 1\n",
    "scaler = [MinMaxScaler(inputCol=scale_features ,outputCol=scale_features+ \"_SCALED\") for scale_features in norm_vars]\n",
    "\n",
    "#PIPELINING FOR ALL THE COLUMNS AND FITTING IT AGAIN TO DF2\n",
    "pipeline = Pipeline(stages=scaler)\n",
    "scalerModel =  pipeline.fit(df2)\n",
    "scaledData = scalerModel.transform(df2)"
   ]
  },
  {
   "cell_type": "code",
   "execution_count": 110,
   "metadata": {
    "colab": {
     "base_uri": "https://localhost:8080/",
     "height": 234
    },
    "colab_type": "code",
    "id": "S4SmRWkPtkkn",
    "outputId": "21e5285a-92b1-4248-a237-8e0607862915"
   },
   "outputs": [
    {
     "name": "stdout",
     "output_type": "stream",
     "text": [
      "+---+----------+-------+---------+-------+-------+-------+----+--------+-----+--------+--------+-------+-----------+--------------+---------------+---------------+-----------------+-----------------+---------------+---------------+---------------+---------------+------------+-------------+----------------+----------------+-----+--------------------+--------------------+------------------+----------------------+-------------------+----------------------+------------------------+----------------------+-----------------------+\n",
      "|age|       job|marital|education|default|balance|housing|loan|campaign|pdays|previous|poutcome|deposit|job_indexed|   job_encoded|marital_indexed|marital_encoded|education_indexed|education_encoded|default_indexed|default_encoded|housing_indexed|housing_encoded|loan_indexed| loan_encoded|poutcome_indexed|poutcome_encoded|label|            features|     features_SCALED|job_encoded_SCALED|marital_encoded_SCALED|loan_encoded_SCALED|default_encoded_SCALED|education_encoded_SCALED|housing_encoded_SCALED|poutcome_encoded_SCALED|\n",
      "+---+----------+-------+---------+-------+-------+-------+----+--------+-----+--------+--------+-------+-----------+--------------+---------------+---------------+-----------------+-----------------+---------------+---------------+---------------+---------------+------------+-------------+----------------+----------------+-----+--------------------+--------------------+------------------+----------------------+-------------------+----------------------+------------------------+----------------------+-----------------------+\n",
      "| 33|  services|married|secondary|     no|   3444|    yes|  no|       1|   91|       4| failure|    yes|        5.0|(10,[5],[1.0])|            0.0|  (2,[0],[1.0])|              0.0|    (2,[0],[1.0])|            0.0|  (1,[0],[1.0])|            1.0|      (1,[],[])|         0.0|(1,[0],[1.0])|             0.0|   (1,[0],[1.0])|  0.0|(23,[5,10,12,14,1...|(23,[5,10,12,14,1...|    (10,[5],[1.0])|             [1.0,0.0]|              [1.0]|                 [1.0]|               [1.0,0.0]|                 [0.0]|                  [1.0]|\n",
      "| 56|technician|married|secondary|     no|    589|    yes|  no|       1|  147|       2| success|    yes|        1.0|(10,[1],[1.0])|            0.0|  (2,[0],[1.0])|              0.0|    (2,[0],[1.0])|            0.0|  (1,[0],[1.0])|            1.0|      (1,[],[])|         0.0|(1,[0],[1.0])|             1.0|       (1,[],[])|  0.0|(23,[1,10,12,14,1...|(23,[1,10,12,14,1...|    (10,[1],[1.0])|             [1.0,0.0]|              [1.0]|                 [1.0]|               [1.0,0.0]|                 [0.0]|                  [0.0]|\n",
      "| 34|    admin.|married| tertiary|     no|    899|    yes|  no|       1|  170|       3| failure|    yes|        2.0|(10,[2],[1.0])|            0.0|  (2,[0],[1.0])|              1.0|    (2,[1],[1.0])|            0.0|  (1,[0],[1.0])|            1.0|      (1,[],[])|         0.0|(1,[0],[1.0])|             0.0|   (1,[0],[1.0])|  0.0|(23,[2,10,13,14,1...|(23,[2,10,13,14,1...|    (10,[2],[1.0])|             [1.0,0.0]|              [1.0]|                 [1.0]|               [0.0,1.0]|                 [0.0]|                  [1.0]|\n",
      "| 53|   retired|married| tertiary|     no|   2269|     no|  no|       2|  150|       1| success|    yes|        4.0|(10,[4],[1.0])|            0.0|  (2,[0],[1.0])|              1.0|    (2,[1],[1.0])|            0.0|  (1,[0],[1.0])|            0.0|  (1,[0],[1.0])|         0.0|(1,[0],[1.0])|             1.0|       (1,[],[])|  0.0|(23,[4,10,13,14,1...|(23,[4,10,13,14,1...|    (10,[4],[1.0])|             [1.0,0.0]|              [1.0]|                 [1.0]|               [0.0,1.0]|                 [1.0]|                  [0.0]|\n",
      "| 37|technician|married|secondary|     no|   5115|    yes|  no|       2|  171|       4| failure|    yes|        1.0|(10,[1],[1.0])|            0.0|  (2,[0],[1.0])|              0.0|    (2,[0],[1.0])|            0.0|  (1,[0],[1.0])|            1.0|      (1,[],[])|         0.0|(1,[0],[1.0])|             0.0|   (1,[0],[1.0])|  0.0|(23,[1,10,12,14,1...|(23,[1,10,12,14,1...|    (10,[1],[1.0])|             [1.0,0.0]|              [1.0]|                 [1.0]|               [1.0,0.0]|                 [0.0]|                  [1.0]|\n",
      "+---+----------+-------+---------+-------+-------+-------+----+--------+-----+--------+--------+-------+-----------+--------------+---------------+---------------+-----------------+-----------------+---------------+---------------+---------------+---------------+------------+-------------+----------------+----------------+-----+--------------------+--------------------+------------------+----------------------+-------------------+----------------------+------------------------+----------------------+-----------------------+\n",
      "only showing top 5 rows\n",
      "\n"
     ]
    }
   ],
   "source": [
    "#DISPLAYING ALL THE NORMALIZED VALUES\n",
    "scaledData.show(5)"
   ]
  },
  {
   "cell_type": "code",
   "execution_count": 111,
   "metadata": {
    "colab": {},
    "colab_type": "code",
    "id": "eSGlW9UttHaM"
   },
   "outputs": [],
   "source": [
    "#SELECTING ONLY THE REQUIRED COLUMNS FOR FURTHER SUPERVISED AND UNSUPERVISED LEARNING\n",
    "\n",
    "df4=scaledData.select('deposit','label','features','job_encoded_SCALED','marital_encoded_SCALED','loan_encoded_SCALED','default_encoded_SCALED','education_encoded_SCALED','housing_encoded_SCALED','poutcome_encoded_SCALED','features_SCALED')"
   ]
  },
  {
   "cell_type": "code",
   "execution_count": 113,
   "metadata": {
    "colab": {
     "base_uri": "https://localhost:8080/",
     "height": 230
    },
    "colab_type": "code",
    "id": "12LhTTAttt_z",
    "outputId": "c7c77485-19a2-4432-dec2-26ffe66111dc"
   },
   "outputs": [
    {
     "name": "stdout",
     "output_type": "stream",
     "text": [
      "+-------+-----+--------------------+------------------+----------------------+-------------------+----------------------+------------------------+----------------------+-----------------------+--------------------+\n",
      "|deposit|label|            features|job_encoded_SCALED|marital_encoded_SCALED|loan_encoded_SCALED|default_encoded_SCALED|education_encoded_SCALED|housing_encoded_SCALED|poutcome_encoded_SCALED|     features_SCALED|\n",
      "+-------+-----+--------------------+------------------+----------------------+-------------------+----------------------+------------------------+----------------------+-----------------------+--------------------+\n",
      "|    yes|  0.0|(23,[5,10,12,14,1...|    (10,[5],[1.0])|             [1.0,0.0]|              [1.0]|                 [1.0]|               [1.0,0.0]|                 [0.0]|                  [1.0]|(23,[5,10,12,14,1...|\n",
      "|    yes|  0.0|(23,[1,10,12,14,1...|    (10,[1],[1.0])|             [1.0,0.0]|              [1.0]|                 [1.0]|               [1.0,0.0]|                 [0.0]|                  [0.0]|(23,[1,10,12,14,1...|\n",
      "|    yes|  0.0|(23,[2,10,13,14,1...|    (10,[2],[1.0])|             [1.0,0.0]|              [1.0]|                 [1.0]|               [0.0,1.0]|                 [0.0]|                  [1.0]|(23,[2,10,13,14,1...|\n",
      "|    yes|  0.0|(23,[4,10,13,14,1...|    (10,[4],[1.0])|             [1.0,0.0]|              [1.0]|                 [1.0]|               [0.0,1.0]|                 [1.0]|                  [0.0]|(23,[4,10,13,14,1...|\n",
      "|    yes|  0.0|(23,[1,10,12,14,1...|    (10,[1],[1.0])|             [1.0,0.0]|              [1.0]|                 [1.0]|               [1.0,0.0]|                 [0.0]|                  [1.0]|(23,[1,10,12,14,1...|\n",
      "+-------+-----+--------------------+------------------+----------------------+-------------------+----------------------+------------------------+----------------------+-----------------------+--------------------+\n",
      "only showing top 5 rows\n",
      "\n"
     ]
    }
   ],
   "source": [
    "df4.show(5)"
   ]
  },
  {
   "cell_type": "code",
   "execution_count": 24,
   "metadata": {
    "colab": {
     "base_uri": "https://localhost:8080/",
     "height": 59
    },
    "colab_type": "code",
    "id": "iRyWCDVjxDvH",
    "outputId": "13114df9-0d4d-47d4-a219-8449dad5c449"
   },
   "outputs": [
    {
     "data": {
      "text/plain": [
       "[Row(deposit='yes', label=0.0, features=SparseVector(23, {5: 1.0, 10: 1.0, 12: 1.0, 14: 1.0, 16: 1.0, 17: 1.0, 18: 33.0, 19: 3444.0, 20: 1.0, 21: 91.0, 22: 4.0}), job_encoded_SCALED=SparseVector(10, {5: 1.0}), marital_encoded_SCALED=DenseVector([1.0, 0.0]), loan_encoded_SCALED=DenseVector([1.0]), default_encoded_SCALED=DenseVector([1.0]), education_encoded_SCALED=DenseVector([1.0, 0.0]), housing_encoded_SCALED=DenseVector([0.0]), poutcome_encoded_SCALED=DenseVector([1.0]), features_SCALED=SparseVector(23, {5: 1.0, 10: 1.0, 12: 1.0, 14: 1.0, 16: 1.0, 17: 1.0, 18: 0.2143, 19: 0.0533, 21: 0.1055, 22: 0.0556}))]"
      ]
     },
     "execution_count": 24,
     "metadata": {},
     "output_type": "execute_result"
    }
   ],
   "source": [
    "df4.take(1)"
   ]
  },
  {
   "cell_type": "markdown",
   "metadata": {
    "colab_type": "text",
    "id": "9trUY7ZgCzhW"
   },
   "source": [
    "# Unsupervised learning"
   ]
  },
  {
   "cell_type": "markdown",
   "metadata": {
    "colab_type": "text",
    "id": "KTQfUch2Cmmi"
   },
   "source": [
    "## K-means"
   ]
  },
  {
   "cell_type": "code",
   "execution_count": 26,
   "metadata": {
    "colab": {},
    "colab_type": "code",
    "id": "dGGZI70Ohqgg"
   },
   "outputs": [],
   "source": [
    "# Perform unsupervised learning on df2 with k-means \n",
    "# You can use whole df2 as both training and testing data, \n",
    "# Evaluate the clustering result using Accuracy.  \n",
    "from sklearn.datasets import make_blobs\n",
    "from pyspark.ml.clustering import KMeans\n",
    "from pyspark.ml.evaluation import ClusteringEvaluator\n",
    "import matplotlib.pyplot as plt  \n",
    "from pyspark.ml.evaluation import MulticlassClassificationEvaluator\n",
    "from pyspark.ml.evaluation import BinaryClassificationEvaluator \n",
    "%matplotlib inline"
   ]
  },
  {
   "cell_type": "code",
   "execution_count": 28,
   "metadata": {
    "colab": {
     "base_uri": "https://localhost:8080/",
     "height": 298
    },
    "colab_type": "code",
    "id": "0RJ11wwK0yS8",
    "outputId": "7a308efd-eb6e-4a30-9ff3-36996f6066ca"
   },
   "outputs": [
    {
     "name": "stderr",
     "output_type": "stream",
     "text": [
      "[Stage 91:>                                                         (0 + 1) / 1]\r"
     ]
    },
    {
     "name": "stdout",
     "output_type": "stream",
     "text": [
      "+-----+----------+\n",
      "|label|prediction|\n",
      "+-----+----------+\n",
      "|  0.0|         0|\n",
      "|  0.0|         0|\n",
      "|  0.0|         0|\n",
      "|  0.0|         0|\n",
      "|  0.0|         0|\n",
      "|  0.0|         0|\n",
      "|  0.0|         0|\n",
      "|  0.0|         0|\n",
      "|  0.0|         0|\n",
      "|  0.0|         0|\n",
      "|  0.0|         0|\n",
      "|  0.0|         0|\n",
      "|  0.0|         0|\n",
      "|  0.0|         0|\n",
      "|  0.0|         0|\n",
      "|  0.0|         0|\n",
      "|  0.0|         0|\n",
      "|  0.0|         0|\n",
      "|  0.0|         0|\n",
      "|  0.0|         0|\n",
      "|  0.0|         0|\n",
      "|  0.0|         0|\n",
      "|  0.0|         0|\n",
      "|  0.0|         0|\n",
      "|  0.0|         0|\n",
      "|  0.0|         0|\n",
      "|  0.0|         0|\n",
      "|  0.0|         0|\n",
      "|  0.0|         0|\n",
      "|  0.0|         0|\n",
      "|  0.0|         0|\n",
      "|  0.0|         0|\n",
      "|  0.0|         0|\n",
      "|  0.0|         0|\n",
      "|  0.0|         0|\n",
      "|  0.0|         0|\n",
      "|  0.0|         0|\n",
      "|  0.0|         0|\n",
      "|  0.0|         0|\n",
      "|  0.0|         0|\n",
      "|  0.0|         0|\n",
      "|  0.0|         0|\n",
      "|  0.0|         0|\n",
      "|  0.0|         0|\n",
      "|  0.0|         0|\n",
      "|  0.0|         0|\n",
      "|  0.0|         0|\n",
      "|  0.0|         0|\n",
      "|  0.0|         0|\n",
      "|  0.0|         0|\n",
      "|  0.0|         0|\n",
      "|  0.0|         0|\n",
      "|  0.0|         0|\n",
      "|  0.0|         0|\n",
      "|  0.0|         0|\n",
      "|  0.0|         0|\n",
      "|  0.0|         0|\n",
      "|  0.0|         0|\n",
      "|  0.0|         0|\n",
      "|  0.0|         0|\n",
      "|  0.0|         0|\n",
      "|  0.0|         0|\n",
      "|  0.0|         0|\n",
      "|  0.0|         0|\n",
      "|  0.0|         0|\n",
      "|  0.0|         0|\n",
      "|  0.0|         0|\n",
      "|  0.0|         0|\n",
      "|  0.0|         0|\n",
      "|  0.0|         0|\n",
      "|  0.0|         0|\n",
      "|  0.0|         0|\n",
      "|  0.0|         0|\n",
      "|  0.0|         0|\n",
      "|  0.0|         0|\n",
      "|  0.0|         0|\n",
      "|  0.0|         0|\n",
      "|  0.0|         0|\n",
      "|  0.0|         0|\n",
      "|  0.0|         0|\n",
      "|  0.0|         0|\n",
      "|  0.0|         0|\n",
      "|  0.0|         0|\n",
      "|  0.0|         0|\n",
      "|  0.0|         0|\n",
      "|  0.0|         0|\n",
      "|  0.0|         0|\n",
      "|  0.0|         0|\n",
      "|  0.0|         0|\n",
      "|  0.0|         0|\n",
      "|  0.0|         0|\n",
      "|  0.0|         0|\n",
      "|  0.0|         0|\n",
      "|  0.0|         0|\n",
      "|  0.0|         0|\n",
      "|  0.0|         0|\n",
      "|  0.0|         0|\n",
      "|  0.0|         0|\n",
      "|  0.0|         0|\n",
      "|  0.0|         0|\n",
      "|  0.0|         0|\n",
      "|  0.0|         0|\n",
      "|  0.0|         0|\n",
      "|  0.0|         0|\n",
      "|  0.0|         0|\n",
      "|  0.0|         0|\n",
      "|  0.0|         0|\n",
      "|  0.0|         0|\n",
      "|  0.0|         0|\n",
      "|  0.0|         0|\n",
      "|  0.0|         0|\n",
      "|  0.0|         0|\n",
      "|  0.0|         0|\n",
      "|  0.0|         0|\n",
      "|  0.0|         0|\n",
      "|  0.0|         0|\n",
      "|  0.0|         0|\n",
      "|  0.0|         0|\n",
      "|  0.0|         0|\n",
      "|  0.0|         0|\n",
      "|  0.0|         0|\n",
      "|  0.0|         0|\n",
      "|  0.0|         0|\n",
      "|  0.0|         0|\n",
      "|  0.0|         0|\n",
      "|  0.0|         0|\n",
      "|  0.0|         0|\n",
      "|  0.0|         0|\n",
      "|  0.0|         0|\n",
      "|  0.0|         0|\n",
      "|  0.0|         0|\n",
      "|  0.0|         0|\n",
      "|  0.0|         0|\n",
      "|  0.0|         0|\n",
      "|  0.0|         0|\n",
      "|  0.0|         0|\n",
      "|  0.0|         0|\n",
      "|  0.0|         0|\n",
      "|  0.0|         0|\n",
      "|  0.0|         0|\n",
      "|  0.0|         0|\n",
      "|  0.0|         0|\n",
      "|  0.0|         0|\n",
      "|  0.0|         0|\n",
      "|  0.0|         0|\n",
      "|  0.0|         0|\n",
      "|  0.0|         0|\n",
      "|  0.0|         0|\n",
      "|  0.0|         0|\n",
      "|  0.0|         0|\n",
      "|  0.0|         0|\n",
      "|  0.0|         0|\n",
      "|  0.0|         0|\n",
      "|  0.0|         0|\n",
      "|  0.0|         0|\n",
      "|  0.0|         0|\n",
      "|  0.0|         0|\n",
      "|  0.0|         0|\n",
      "|  0.0|         0|\n",
      "|  0.0|         0|\n",
      "|  0.0|         0|\n",
      "|  0.0|         0|\n",
      "|  0.0|         0|\n",
      "|  0.0|         0|\n",
      "|  0.0|         0|\n",
      "|  0.0|         0|\n",
      "|  0.0|         0|\n",
      "|  0.0|         0|\n",
      "|  0.0|         0|\n",
      "|  0.0|         0|\n",
      "|  0.0|         0|\n",
      "|  0.0|         0|\n",
      "|  0.0|         0|\n",
      "|  0.0|         0|\n",
      "|  0.0|         0|\n",
      "|  0.0|         0|\n",
      "|  0.0|         0|\n",
      "|  0.0|         0|\n",
      "|  0.0|         0|\n",
      "|  0.0|         0|\n",
      "|  0.0|         0|\n",
      "|  0.0|         0|\n",
      "|  0.0|         0|\n",
      "|  0.0|         0|\n",
      "|  0.0|         0|\n",
      "|  0.0|         0|\n",
      "|  0.0|         0|\n",
      "|  0.0|         0|\n",
      "|  0.0|         0|\n",
      "|  0.0|         0|\n",
      "|  0.0|         0|\n",
      "|  0.0|         0|\n",
      "|  0.0|         0|\n",
      "|  0.0|         0|\n",
      "|  0.0|         0|\n",
      "|  0.0|         0|\n",
      "|  0.0|         0|\n",
      "|  0.0|         0|\n",
      "|  0.0|         0|\n",
      "|  0.0|         0|\n",
      "|  0.0|         0|\n",
      "|  0.0|         0|\n",
      "|  0.0|         0|\n",
      "|  0.0|         0|\n",
      "|  0.0|         0|\n",
      "|  0.0|         0|\n",
      "|  0.0|         0|\n",
      "|  0.0|         0|\n",
      "|  0.0|         0|\n",
      "|  0.0|         0|\n",
      "|  0.0|         0|\n",
      "|  0.0|         0|\n",
      "|  0.0|         0|\n",
      "|  0.0|         0|\n",
      "|  0.0|         0|\n",
      "|  0.0|         0|\n",
      "|  0.0|         0|\n",
      "|  0.0|         0|\n",
      "|  0.0|         0|\n",
      "|  0.0|         0|\n",
      "|  0.0|         0|\n",
      "|  0.0|         0|\n",
      "|  0.0|         0|\n",
      "|  0.0|         0|\n",
      "|  0.0|         0|\n",
      "|  0.0|         0|\n",
      "|  0.0|         0|\n",
      "|  0.0|         0|\n",
      "|  0.0|         0|\n",
      "|  0.0|         0|\n",
      "|  0.0|         0|\n",
      "|  0.0|         0|\n",
      "|  0.0|         0|\n",
      "|  0.0|         0|\n",
      "|  0.0|         0|\n",
      "|  0.0|         0|\n",
      "|  0.0|         0|\n",
      "|  0.0|         0|\n",
      "|  0.0|         0|\n",
      "|  0.0|         0|\n",
      "|  0.0|         0|\n",
      "|  0.0|         0|\n",
      "|  0.0|         0|\n",
      "|  0.0|         0|\n",
      "|  0.0|         0|\n",
      "|  0.0|         0|\n",
      "|  0.0|         0|\n",
      "|  0.0|         0|\n",
      "|  0.0|         0|\n",
      "|  0.0|         0|\n",
      "|  0.0|         0|\n",
      "|  0.0|         0|\n",
      "|  0.0|         0|\n",
      "|  0.0|         0|\n",
      "|  0.0|         0|\n",
      "|  0.0|         0|\n",
      "|  0.0|         0|\n",
      "|  0.0|         0|\n",
      "|  0.0|         0|\n",
      "|  0.0|         0|\n",
      "|  0.0|         0|\n",
      "|  0.0|         0|\n",
      "|  0.0|         0|\n",
      "|  0.0|         0|\n",
      "|  0.0|         0|\n",
      "|  0.0|         0|\n",
      "|  0.0|         0|\n",
      "|  0.0|         0|\n",
      "|  0.0|         0|\n",
      "|  0.0|         0|\n",
      "|  0.0|         0|\n",
      "|  0.0|         0|\n",
      "|  0.0|         0|\n",
      "|  0.0|         0|\n",
      "|  0.0|         0|\n",
      "|  0.0|         0|\n",
      "|  0.0|         0|\n",
      "|  0.0|         0|\n",
      "|  0.0|         0|\n",
      "|  0.0|         0|\n",
      "|  0.0|         0|\n",
      "|  0.0|         0|\n",
      "|  0.0|         0|\n",
      "|  0.0|         0|\n",
      "|  0.0|         0|\n",
      "|  0.0|         0|\n",
      "|  0.0|         0|\n",
      "|  0.0|         0|\n",
      "|  0.0|         0|\n",
      "|  0.0|         0|\n",
      "|  0.0|         0|\n",
      "|  0.0|         0|\n",
      "|  0.0|         0|\n",
      "|  0.0|         0|\n",
      "|  0.0|         0|\n",
      "|  0.0|         0|\n",
      "|  0.0|         0|\n",
      "|  0.0|         0|\n",
      "|  0.0|         0|\n",
      "|  0.0|         0|\n",
      "|  0.0|         0|\n",
      "|  0.0|         0|\n",
      "|  0.0|         0|\n",
      "|  0.0|         0|\n",
      "|  0.0|         0|\n",
      "|  0.0|         0|\n",
      "|  0.0|         0|\n",
      "|  0.0|         0|\n",
      "|  0.0|         0|\n",
      "|  0.0|         0|\n",
      "|  0.0|         0|\n",
      "|  0.0|         0|\n",
      "|  0.0|         0|\n",
      "|  0.0|         0|\n",
      "|  0.0|         0|\n",
      "|  0.0|         0|\n",
      "|  0.0|         0|\n",
      "|  0.0|         0|\n",
      "|  0.0|         0|\n",
      "|  0.0|         0|\n",
      "|  0.0|         0|\n",
      "|  0.0|         0|\n",
      "|  0.0|         0|\n",
      "|  0.0|         0|\n",
      "|  0.0|         0|\n",
      "|  0.0|         0|\n",
      "|  0.0|         0|\n",
      "|  0.0|         0|\n",
      "|  0.0|         0|\n",
      "|  0.0|         0|\n",
      "|  0.0|         0|\n",
      "|  0.0|         0|\n",
      "|  0.0|         0|\n",
      "|  0.0|         0|\n",
      "|  0.0|         0|\n",
      "|  0.0|         0|\n",
      "|  0.0|         0|\n",
      "|  0.0|         0|\n",
      "|  0.0|         0|\n",
      "|  0.0|         0|\n",
      "|  0.0|         0|\n",
      "|  0.0|         0|\n",
      "|  0.0|         0|\n",
      "|  0.0|         0|\n",
      "|  0.0|         0|\n",
      "|  0.0|         0|\n",
      "|  0.0|         0|\n",
      "|  0.0|         0|\n",
      "|  0.0|         0|\n",
      "|  0.0|         0|\n",
      "|  0.0|         0|\n",
      "|  0.0|         0|\n",
      "|  0.0|         0|\n",
      "|  0.0|         0|\n",
      "|  0.0|         0|\n",
      "|  0.0|         0|\n",
      "|  0.0|         0|\n",
      "|  0.0|         0|\n",
      "|  0.0|         0|\n",
      "|  0.0|         0|\n",
      "|  0.0|         0|\n",
      "|  0.0|         0|\n",
      "|  0.0|         0|\n",
      "|  0.0|         0|\n",
      "|  0.0|         0|\n",
      "|  0.0|         0|\n",
      "|  0.0|         0|\n",
      "|  0.0|         0|\n",
      "|  0.0|         0|\n",
      "|  0.0|         0|\n",
      "|  0.0|         0|\n",
      "|  0.0|         0|\n",
      "|  0.0|         0|\n",
      "|  0.0|         0|\n",
      "|  0.0|         0|\n",
      "|  0.0|         0|\n",
      "|  0.0|         0|\n",
      "|  0.0|         0|\n",
      "|  0.0|         0|\n",
      "|  0.0|         0|\n",
      "|  0.0|         0|\n",
      "|  0.0|         0|\n",
      "|  0.0|         0|\n",
      "|  0.0|         0|\n",
      "|  0.0|         0|\n",
      "|  0.0|         0|\n",
      "|  0.0|         0|\n",
      "|  0.0|         0|\n",
      "|  0.0|         0|\n",
      "|  0.0|         0|\n",
      "|  0.0|         0|\n",
      "|  0.0|         0|\n",
      "|  0.0|         0|\n",
      "|  0.0|         0|\n",
      "|  0.0|         0|\n",
      "|  0.0|         0|\n",
      "|  0.0|         0|\n",
      "|  0.0|         0|\n",
      "|  0.0|         0|\n",
      "|  0.0|         0|\n",
      "|  0.0|         0|\n",
      "|  0.0|         0|\n",
      "|  0.0|         0|\n",
      "|  0.0|         0|\n",
      "|  0.0|         0|\n",
      "|  0.0|         0|\n",
      "|  0.0|         0|\n",
      "|  0.0|         0|\n",
      "|  0.0|         0|\n",
      "|  0.0|         0|\n",
      "|  0.0|         0|\n",
      "|  0.0|         0|\n",
      "|  0.0|         0|\n",
      "|  0.0|         0|\n",
      "|  0.0|         0|\n",
      "|  0.0|         0|\n",
      "|  0.0|         0|\n",
      "|  0.0|         0|\n",
      "|  0.0|         0|\n",
      "|  0.0|         0|\n",
      "|  0.0|         0|\n",
      "|  0.0|         0|\n",
      "|  0.0|         0|\n",
      "|  0.0|         0|\n",
      "|  0.0|         0|\n",
      "|  0.0|         0|\n",
      "|  0.0|         0|\n",
      "|  0.0|         0|\n",
      "|  0.0|         0|\n",
      "|  0.0|         0|\n",
      "|  0.0|         0|\n",
      "|  0.0|         0|\n",
      "|  0.0|         0|\n",
      "|  0.0|         0|\n",
      "|  0.0|         0|\n",
      "|  0.0|         0|\n",
      "|  0.0|         0|\n",
      "|  0.0|         0|\n",
      "|  0.0|         0|\n",
      "|  0.0|         0|\n",
      "|  0.0|         0|\n",
      "|  0.0|         0|\n",
      "|  0.0|         0|\n",
      "|  0.0|         0|\n",
      "|  0.0|         0|\n",
      "|  0.0|         0|\n",
      "|  0.0|         0|\n",
      "|  0.0|         0|\n",
      "|  0.0|         0|\n",
      "|  0.0|         0|\n",
      "|  0.0|         0|\n",
      "|  0.0|         0|\n",
      "|  0.0|         0|\n",
      "|  0.0|         0|\n",
      "|  0.0|         0|\n",
      "|  0.0|         0|\n",
      "|  0.0|         0|\n",
      "|  0.0|         0|\n",
      "|  0.0|         0|\n",
      "|  0.0|         0|\n",
      "|  0.0|         0|\n",
      "|  0.0|         0|\n",
      "|  0.0|         0|\n",
      "|  0.0|         0|\n",
      "|  0.0|         0|\n",
      "|  0.0|         0|\n",
      "|  0.0|         0|\n",
      "|  0.0|         0|\n",
      "|  0.0|         0|\n",
      "|  0.0|         0|\n",
      "|  0.0|         0|\n",
      "|  0.0|         0|\n",
      "|  0.0|         0|\n",
      "|  0.0|         0|\n",
      "|  0.0|         0|\n",
      "|  0.0|         0|\n",
      "|  0.0|         0|\n",
      "|  0.0|         0|\n",
      "|  0.0|         0|\n",
      "|  0.0|         0|\n",
      "|  0.0|         0|\n",
      "|  0.0|         0|\n",
      "|  0.0|         0|\n",
      "|  0.0|         0|\n",
      "|  0.0|         0|\n",
      "|  0.0|         0|\n",
      "|  0.0|         0|\n",
      "|  0.0|         0|\n",
      "|  0.0|         0|\n",
      "|  0.0|         0|\n",
      "|  0.0|         0|\n",
      "|  0.0|         0|\n",
      "|  0.0|         0|\n",
      "|  0.0|         0|\n",
      "|  0.0|         0|\n",
      "|  0.0|         0|\n",
      "|  0.0|         0|\n",
      "|  0.0|         0|\n",
      "|  0.0|         0|\n",
      "|  0.0|         0|\n",
      "|  0.0|         0|\n",
      "|  0.0|         0|\n",
      "|  0.0|         0|\n",
      "|  0.0|         0|\n",
      "|  0.0|         0|\n",
      "|  0.0|         0|\n",
      "|  0.0|         0|\n",
      "|  0.0|         0|\n",
      "|  0.0|         0|\n",
      "|  0.0|         0|\n",
      "|  0.0|         0|\n",
      "|  0.0|         0|\n",
      "|  0.0|         0|\n",
      "|  0.0|         0|\n",
      "|  0.0|         0|\n",
      "|  0.0|         0|\n",
      "|  0.0|         0|\n",
      "|  0.0|         0|\n",
      "|  0.0|         0|\n",
      "|  0.0|         0|\n",
      "|  0.0|         0|\n",
      "|  0.0|         0|\n",
      "|  0.0|         0|\n",
      "|  0.0|         0|\n",
      "|  0.0|         0|\n",
      "|  0.0|         0|\n",
      "|  0.0|         0|\n",
      "|  0.0|         0|\n",
      "|  0.0|         0|\n",
      "|  0.0|         0|\n",
      "|  0.0|         0|\n",
      "|  0.0|         0|\n",
      "|  0.0|         0|\n",
      "|  0.0|         0|\n",
      "|  0.0|         0|\n",
      "|  0.0|         0|\n",
      "|  0.0|         0|\n",
      "|  0.0|         0|\n",
      "|  0.0|         0|\n",
      "|  0.0|         0|\n",
      "|  0.0|         0|\n",
      "|  0.0|         0|\n",
      "|  0.0|         0|\n",
      "|  0.0|         0|\n",
      "|  0.0|         0|\n",
      "|  0.0|         0|\n",
      "|  0.0|         0|\n",
      "|  0.0|         0|\n",
      "|  0.0|         0|\n",
      "|  0.0|         0|\n",
      "|  0.0|         0|\n",
      "|  0.0|         0|\n",
      "|  0.0|         0|\n",
      "|  0.0|         0|\n",
      "|  0.0|         0|\n",
      "|  0.0|         0|\n",
      "|  0.0|         0|\n",
      "|  0.0|         0|\n",
      "|  0.0|         0|\n",
      "|  0.0|         0|\n",
      "|  0.0|         0|\n",
      "|  0.0|         0|\n",
      "|  0.0|         0|\n",
      "|  0.0|         0|\n",
      "|  0.0|         0|\n",
      "|  0.0|         0|\n",
      "|  0.0|         0|\n",
      "|  0.0|         0|\n",
      "|  0.0|         0|\n",
      "|  0.0|         0|\n",
      "|  0.0|         0|\n",
      "|  0.0|         0|\n",
      "|  0.0|         0|\n",
      "|  0.0|         0|\n",
      "|  0.0|         0|\n",
      "|  0.0|         0|\n",
      "|  0.0|         0|\n",
      "|  0.0|         0|\n",
      "|  0.0|         0|\n",
      "|  0.0|         0|\n",
      "|  0.0|         0|\n",
      "|  0.0|         0|\n",
      "|  0.0|         0|\n",
      "|  0.0|         0|\n",
      "|  0.0|         0|\n",
      "|  0.0|         0|\n",
      "|  0.0|         0|\n",
      "|  0.0|         0|\n",
      "|  0.0|         0|\n",
      "|  0.0|         0|\n",
      "|  0.0|         0|\n",
      "|  0.0|         0|\n",
      "|  0.0|         0|\n",
      "|  0.0|         0|\n",
      "|  0.0|         0|\n",
      "|  0.0|         0|\n",
      "|  0.0|         0|\n",
      "|  0.0|         0|\n",
      "|  0.0|         0|\n",
      "|  0.0|         0|\n",
      "|  0.0|         0|\n",
      "|  0.0|         0|\n",
      "|  0.0|         0|\n",
      "|  0.0|         0|\n",
      "|  0.0|         0|\n",
      "|  0.0|         0|\n",
      "|  0.0|         0|\n",
      "|  0.0|         0|\n",
      "|  0.0|         0|\n",
      "|  0.0|         0|\n",
      "|  0.0|         0|\n",
      "|  0.0|         0|\n",
      "|  0.0|         0|\n",
      "|  0.0|         0|\n",
      "|  0.0|         0|\n",
      "|  0.0|         0|\n",
      "|  0.0|         0|\n",
      "|  0.0|         0|\n",
      "|  0.0|         0|\n",
      "|  0.0|         0|\n",
      "|  0.0|         0|\n",
      "|  0.0|         0|\n",
      "|  0.0|         0|\n",
      "|  0.0|         0|\n",
      "|  0.0|         0|\n",
      "|  0.0|         0|\n",
      "|  0.0|         0|\n",
      "|  0.0|         0|\n",
      "|  0.0|         0|\n",
      "|  0.0|         0|\n",
      "|  0.0|         0|\n",
      "|  0.0|         0|\n",
      "|  0.0|         0|\n",
      "|  0.0|         0|\n",
      "|  0.0|         0|\n",
      "|  0.0|         0|\n",
      "|  0.0|         0|\n",
      "|  0.0|         0|\n",
      "|  0.0|         0|\n",
      "|  0.0|         0|\n",
      "|  0.0|         0|\n",
      "|  0.0|         0|\n",
      "|  0.0|         0|\n",
      "|  0.0|         0|\n",
      "|  0.0|         0|\n",
      "|  0.0|         0|\n",
      "|  0.0|         0|\n",
      "|  0.0|         0|\n",
      "|  0.0|         0|\n",
      "|  0.0|         0|\n",
      "|  0.0|         0|\n",
      "|  0.0|         0|\n",
      "|  0.0|         0|\n",
      "|  0.0|         0|\n",
      "|  0.0|         0|\n",
      "|  0.0|         0|\n",
      "|  0.0|         0|\n",
      "|  0.0|         0|\n",
      "|  0.0|         0|\n",
      "|  0.0|         0|\n",
      "|  0.0|         0|\n",
      "|  0.0|         0|\n",
      "|  0.0|         0|\n",
      "|  0.0|         0|\n",
      "|  0.0|         0|\n",
      "|  0.0|         0|\n",
      "|  0.0|         0|\n",
      "|  0.0|         0|\n",
      "|  0.0|         0|\n",
      "|  0.0|         0|\n",
      "|  0.0|         0|\n",
      "|  0.0|         0|\n",
      "|  0.0|         0|\n",
      "|  0.0|         0|\n",
      "|  0.0|         0|\n",
      "|  0.0|         0|\n",
      "|  0.0|         0|\n",
      "|  0.0|         0|\n",
      "|  0.0|         0|\n",
      "|  0.0|         0|\n",
      "|  0.0|         0|\n",
      "|  0.0|         0|\n",
      "|  0.0|         0|\n",
      "|  0.0|         0|\n",
      "|  0.0|         0|\n",
      "|  0.0|         0|\n",
      "|  0.0|         0|\n",
      "|  0.0|         0|\n",
      "|  0.0|         0|\n",
      "|  0.0|         0|\n",
      "|  0.0|         0|\n",
      "|  0.0|         1|\n",
      "|  0.0|         0|\n",
      "|  0.0|         0|\n",
      "|  0.0|         0|\n",
      "|  0.0|         0|\n",
      "|  0.0|         0|\n",
      "|  0.0|         0|\n",
      "|  0.0|         0|\n",
      "|  0.0|         0|\n",
      "|  0.0|         0|\n",
      "|  0.0|         0|\n",
      "|  0.0|         0|\n",
      "|  0.0|         0|\n",
      "|  0.0|         0|\n",
      "|  0.0|         0|\n",
      "|  0.0|         0|\n",
      "|  0.0|         0|\n",
      "|  0.0|         0|\n",
      "|  0.0|         0|\n",
      "|  0.0|         0|\n",
      "|  0.0|         0|\n",
      "|  0.0|         0|\n",
      "|  0.0|         0|\n",
      "|  0.0|         0|\n",
      "|  0.0|         0|\n",
      "|  0.0|         0|\n",
      "|  0.0|         0|\n",
      "|  0.0|         0|\n",
      "|  0.0|         0|\n",
      "|  0.0|         0|\n",
      "|  0.0|         0|\n",
      "|  0.0|         0|\n",
      "|  0.0|         0|\n",
      "|  0.0|         0|\n",
      "|  0.0|         0|\n",
      "|  0.0|         0|\n",
      "|  0.0|         0|\n",
      "|  0.0|         0|\n",
      "|  0.0|         0|\n",
      "|  0.0|         0|\n",
      "|  0.0|         0|\n",
      "|  0.0|         0|\n",
      "|  0.0|         0|\n",
      "|  0.0|         0|\n",
      "|  0.0|         0|\n",
      "|  0.0|         0|\n",
      "|  0.0|         0|\n",
      "|  0.0|         0|\n",
      "|  0.0|         0|\n",
      "|  0.0|         0|\n",
      "|  0.0|         0|\n",
      "|  0.0|         0|\n",
      "|  0.0|         0|\n",
      "|  0.0|         0|\n",
      "|  0.0|         0|\n",
      "|  0.0|         0|\n",
      "|  0.0|         0|\n",
      "|  0.0|         0|\n",
      "|  0.0|         0|\n",
      "|  0.0|         0|\n",
      "|  0.0|         0|\n",
      "|  0.0|         0|\n",
      "|  0.0|         0|\n",
      "|  0.0|         0|\n",
      "|  0.0|         0|\n",
      "|  0.0|         0|\n",
      "|  0.0|         0|\n",
      "|  0.0|         0|\n",
      "|  0.0|         0|\n",
      "|  0.0|         0|\n",
      "|  0.0|         0|\n",
      "|  0.0|         0|\n",
      "|  0.0|         0|\n",
      "|  0.0|         0|\n",
      "|  0.0|         0|\n",
      "|  0.0|         0|\n",
      "|  0.0|         0|\n",
      "|  0.0|         0|\n",
      "|  0.0|         0|\n",
      "|  0.0|         1|\n",
      "|  0.0|         0|\n",
      "|  0.0|         0|\n",
      "|  0.0|         0|\n",
      "|  0.0|         0|\n",
      "|  0.0|         0|\n",
      "|  0.0|         0|\n",
      "|  0.0|         0|\n",
      "|  0.0|         0|\n",
      "|  0.0|         0|\n",
      "|  0.0|         0|\n",
      "|  0.0|         0|\n",
      "|  0.0|         0|\n",
      "|  0.0|         0|\n",
      "|  0.0|         0|\n",
      "|  0.0|         0|\n",
      "|  0.0|         0|\n",
      "|  0.0|         0|\n",
      "|  0.0|         0|\n",
      "|  0.0|         0|\n",
      "|  0.0|         0|\n",
      "|  0.0|         0|\n",
      "|  0.0|         0|\n",
      "|  0.0|         0|\n",
      "|  0.0|         0|\n",
      "|  0.0|         0|\n",
      "|  0.0|         0|\n",
      "|  0.0|         0|\n",
      "|  0.0|         0|\n",
      "|  0.0|         0|\n",
      "|  0.0|         0|\n",
      "|  0.0|         0|\n",
      "|  0.0|         0|\n",
      "|  0.0|         0|\n",
      "|  0.0|         0|\n",
      "|  0.0|         0|\n",
      "|  0.0|         0|\n",
      "|  0.0|         0|\n",
      "|  0.0|         0|\n",
      "|  0.0|         0|\n",
      "|  0.0|         0|\n",
      "|  0.0|         0|\n",
      "|  0.0|         0|\n",
      "|  0.0|         0|\n",
      "|  0.0|         0|\n",
      "|  0.0|         0|\n",
      "|  0.0|         0|\n",
      "|  0.0|         0|\n",
      "|  0.0|         0|\n",
      "|  0.0|         0|\n",
      "|  0.0|         0|\n",
      "|  0.0|         0|\n",
      "|  0.0|         0|\n",
      "|  0.0|         0|\n",
      "|  0.0|         0|\n",
      "|  0.0|         0|\n",
      "|  0.0|         0|\n",
      "|  0.0|         0|\n",
      "|  0.0|         0|\n",
      "|  0.0|         0|\n",
      "|  0.0|         0|\n",
      "|  0.0|         0|\n",
      "|  0.0|         0|\n",
      "|  0.0|         0|\n",
      "|  0.0|         0|\n",
      "|  0.0|         0|\n",
      "|  0.0|         0|\n",
      "|  0.0|         0|\n",
      "|  0.0|         0|\n",
      "|  0.0|         0|\n",
      "|  0.0|         0|\n",
      "|  0.0|         0|\n",
      "|  0.0|         0|\n",
      "|  0.0|         0|\n",
      "|  0.0|         0|\n",
      "|  0.0|         0|\n",
      "|  0.0|         0|\n",
      "|  0.0|         0|\n",
      "|  0.0|         0|\n",
      "|  0.0|         0|\n",
      "|  0.0|         0|\n",
      "|  0.0|         0|\n",
      "|  0.0|         0|\n",
      "|  0.0|         0|\n",
      "|  0.0|         0|\n",
      "|  0.0|         0|\n",
      "|  0.0|         0|\n",
      "|  0.0|         0|\n",
      "|  0.0|         0|\n",
      "|  0.0|         0|\n",
      "|  0.0|         0|\n",
      "|  0.0|         0|\n",
      "|  0.0|         0|\n",
      "|  0.0|         0|\n",
      "|  0.0|         0|\n",
      "|  0.0|         0|\n",
      "|  0.0|         0|\n",
      "|  0.0|         0|\n",
      "|  0.0|         0|\n",
      "|  0.0|         0|\n",
      "|  0.0|         0|\n",
      "|  0.0|         0|\n",
      "|  0.0|         0|\n",
      "|  0.0|         0|\n",
      "|  0.0|         0|\n",
      "|  0.0|         0|\n",
      "|  0.0|         0|\n",
      "|  0.0|         0|\n",
      "|  0.0|         0|\n",
      "|  0.0|         0|\n",
      "|  0.0|         0|\n",
      "|  0.0|         0|\n",
      "|  0.0|         0|\n",
      "|  0.0|         0|\n",
      "|  0.0|         0|\n",
      "|  0.0|         0|\n",
      "|  0.0|         0|\n",
      "|  0.0|         0|\n",
      "|  0.0|         0|\n",
      "|  0.0|         0|\n",
      "|  0.0|         0|\n",
      "|  0.0|         0|\n",
      "|  0.0|         0|\n",
      "|  0.0|         0|\n",
      "|  0.0|         0|\n",
      "|  0.0|         0|\n",
      "|  0.0|         0|\n",
      "|  0.0|         0|\n",
      "|  0.0|         0|\n",
      "|  0.0|         0|\n",
      "|  0.0|         0|\n",
      "|  0.0|         0|\n",
      "|  0.0|         0|\n",
      "|  0.0|         0|\n",
      "|  0.0|         0|\n",
      "|  0.0|         0|\n",
      "|  0.0|         0|\n",
      "|  0.0|         0|\n",
      "|  0.0|         0|\n",
      "|  0.0|         0|\n",
      "|  0.0|         0|\n",
      "|  0.0|         0|\n",
      "|  0.0|         0|\n",
      "|  0.0|         0|\n",
      "|  0.0|         0|\n",
      "|  0.0|         0|\n",
      "|  0.0|         0|\n",
      "|  0.0|         0|\n",
      "|  0.0|         0|\n",
      "|  0.0|         0|\n",
      "|  0.0|         0|\n",
      "|  0.0|         0|\n",
      "|  0.0|         0|\n",
      "|  0.0|         0|\n",
      "|  0.0|         0|\n",
      "|  0.0|         0|\n",
      "|  0.0|         0|\n",
      "|  0.0|         0|\n",
      "|  0.0|         0|\n",
      "|  0.0|         0|\n",
      "|  0.0|         0|\n",
      "|  0.0|         0|\n",
      "|  0.0|         0|\n",
      "|  0.0|         0|\n",
      "|  0.0|         0|\n",
      "|  0.0|         0|\n",
      "|  0.0|         0|\n",
      "|  0.0|         0|\n",
      "|  0.0|         0|\n",
      "|  0.0|         0|\n",
      "|  0.0|         0|\n",
      "|  0.0|         0|\n",
      "|  0.0|         0|\n",
      "|  0.0|         0|\n",
      "|  0.0|         0|\n",
      "|  0.0|         0|\n",
      "|  0.0|         0|\n",
      "|  0.0|         0|\n",
      "|  0.0|         0|\n",
      "|  0.0|         0|\n",
      "|  0.0|         0|\n",
      "|  0.0|         0|\n",
      "|  0.0|         0|\n",
      "|  0.0|         0|\n",
      "|  0.0|         0|\n",
      "|  0.0|         0|\n",
      "|  0.0|         0|\n",
      "|  0.0|         0|\n",
      "|  0.0|         0|\n",
      "|  0.0|         0|\n",
      "|  0.0|         0|\n",
      "|  0.0|         0|\n",
      "|  0.0|         0|\n",
      "|  0.0|         0|\n",
      "|  0.0|         0|\n",
      "|  0.0|         0|\n",
      "|  0.0|         0|\n",
      "|  0.0|         0|\n",
      "|  0.0|         0|\n",
      "|  0.0|         0|\n",
      "|  0.0|         0|\n",
      "|  0.0|         0|\n",
      "|  0.0|         0|\n",
      "|  0.0|         0|\n",
      "|  0.0|         0|\n",
      "|  0.0|         0|\n",
      "|  0.0|         0|\n",
      "|  0.0|         0|\n",
      "|  0.0|         0|\n",
      "|  0.0|         0|\n",
      "|  0.0|         0|\n",
      "|  0.0|         0|\n",
      "|  0.0|         0|\n",
      "|  0.0|         0|\n",
      "|  0.0|         0|\n",
      "|  0.0|         0|\n",
      "|  0.0|         0|\n",
      "|  0.0|         0|\n",
      "|  0.0|         0|\n",
      "|  0.0|         0|\n",
      "|  0.0|         0|\n",
      "|  0.0|         0|\n",
      "|  0.0|         0|\n",
      "|  0.0|         0|\n",
      "|  0.0|         0|\n",
      "|  0.0|         0|\n",
      "|  0.0|         0|\n",
      "|  0.0|         0|\n",
      "|  0.0|         0|\n",
      "|  0.0|         0|\n",
      "|  0.0|         0|\n",
      "|  0.0|         0|\n",
      "|  0.0|         0|\n",
      "|  0.0|         0|\n",
      "|  0.0|         0|\n",
      "|  0.0|         0|\n",
      "|  0.0|         0|\n",
      "|  0.0|         0|\n",
      "|  0.0|         0|\n",
      "|  0.0|         0|\n",
      "|  0.0|         0|\n",
      "|  0.0|         0|\n",
      "|  0.0|         0|\n",
      "|  0.0|         0|\n",
      "|  0.0|         0|\n",
      "|  0.0|         0|\n",
      "|  0.0|         0|\n",
      "|  0.0|         0|\n",
      "|  0.0|         0|\n",
      "|  0.0|         0|\n",
      "|  0.0|         0|\n",
      "|  0.0|         0|\n",
      "|  0.0|         0|\n",
      "|  0.0|         0|\n",
      "|  0.0|         0|\n",
      "|  0.0|         0|\n",
      "|  0.0|         0|\n",
      "|  0.0|         0|\n",
      "|  0.0|         0|\n",
      "|  0.0|         0|\n",
      "|  0.0|         0|\n",
      "|  0.0|         0|\n",
      "|  0.0|         0|\n",
      "|  0.0|         0|\n",
      "|  0.0|         0|\n",
      "|  0.0|         0|\n",
      "|  0.0|         0|\n",
      "|  0.0|         0|\n",
      "|  0.0|         0|\n",
      "|  0.0|         0|\n",
      "|  0.0|         0|\n",
      "|  0.0|         0|\n",
      "|  0.0|         0|\n",
      "|  0.0|         0|\n",
      "|  0.0|         0|\n",
      "|  0.0|         0|\n",
      "|  0.0|         0|\n",
      "|  0.0|         0|\n",
      "|  0.0|         0|\n",
      "|  0.0|         0|\n",
      "|  0.0|         0|\n",
      "|  0.0|         0|\n",
      "|  0.0|         0|\n",
      "|  0.0|         0|\n",
      "|  0.0|         0|\n",
      "|  0.0|         0|\n",
      "|  0.0|         0|\n",
      "|  0.0|         0|\n",
      "|  0.0|         0|\n",
      "|  0.0|         0|\n",
      "|  0.0|         0|\n",
      "|  0.0|         0|\n",
      "|  0.0|         0|\n",
      "|  0.0|         0|\n",
      "|  0.0|         0|\n",
      "|  0.0|         0|\n",
      "|  0.0|         0|\n",
      "|  0.0|         0|\n",
      "|  0.0|         0|\n",
      "|  0.0|         0|\n",
      "|  0.0|         0|\n",
      "|  0.0|         0|\n",
      "|  0.0|         0|\n",
      "|  0.0|         0|\n",
      "|  0.0|         0|\n",
      "|  0.0|         0|\n",
      "|  0.0|         0|\n",
      "|  0.0|         0|\n",
      "|  0.0|         0|\n",
      "|  0.0|         0|\n",
      "|  0.0|         0|\n",
      "|  0.0|         0|\n",
      "|  0.0|         0|\n",
      "|  0.0|         0|\n",
      "|  0.0|         0|\n",
      "|  0.0|         0|\n",
      "|  0.0|         0|\n",
      "|  0.0|         0|\n",
      "|  0.0|         0|\n",
      "|  0.0|         0|\n",
      "|  0.0|         0|\n",
      "|  0.0|         0|\n",
      "|  0.0|         0|\n",
      "|  0.0|         0|\n",
      "|  0.0|         0|\n",
      "|  0.0|         0|\n",
      "|  0.0|         0|\n",
      "|  0.0|         0|\n",
      "|  0.0|         0|\n",
      "|  0.0|         0|\n",
      "|  0.0|         0|\n",
      "|  0.0|         0|\n",
      "|  0.0|         0|\n",
      "|  0.0|         0|\n",
      "|  0.0|         0|\n",
      "|  0.0|         0|\n",
      "|  0.0|         0|\n",
      "|  0.0|         0|\n",
      "|  0.0|         0|\n",
      "|  0.0|         0|\n",
      "|  0.0|         0|\n",
      "|  0.0|         0|\n",
      "|  0.0|         0|\n",
      "|  0.0|         0|\n",
      "|  0.0|         0|\n",
      "|  0.0|         0|\n",
      "|  0.0|         0|\n",
      "|  0.0|         0|\n",
      "|  0.0|         0|\n",
      "|  0.0|         0|\n",
      "|  0.0|         0|\n",
      "|  0.0|         0|\n",
      "|  0.0|         0|\n",
      "|  0.0|         0|\n",
      "|  0.0|         0|\n",
      "|  0.0|         0|\n",
      "|  0.0|         0|\n",
      "|  0.0|         0|\n",
      "|  0.0|         0|\n",
      "|  0.0|         0|\n",
      "|  0.0|         0|\n",
      "|  0.0|         0|\n",
      "|  0.0|         0|\n",
      "|  0.0|         0|\n",
      "|  0.0|         0|\n",
      "|  0.0|         0|\n",
      "|  0.0|         0|\n",
      "|  0.0|         0|\n",
      "|  0.0|         0|\n",
      "|  0.0|         0|\n",
      "|  0.0|         0|\n",
      "|  0.0|         0|\n",
      "|  0.0|         0|\n",
      "|  0.0|         0|\n",
      "|  0.0|         0|\n",
      "|  0.0|         0|\n",
      "|  0.0|         0|\n",
      "|  0.0|         0|\n",
      "|  0.0|         0|\n",
      "|  0.0|         0|\n",
      "|  0.0|         0|\n",
      "|  0.0|         0|\n",
      "|  0.0|         0|\n",
      "|  0.0|         0|\n",
      "|  0.0|         0|\n",
      "|  0.0|         0|\n",
      "|  0.0|         0|\n",
      "|  0.0|         0|\n",
      "|  0.0|         0|\n",
      "|  0.0|         0|\n",
      "|  0.0|         0|\n",
      "|  0.0|         0|\n",
      "|  0.0|         0|\n",
      "|  0.0|         0|\n",
      "|  0.0|         0|\n",
      "|  0.0|         0|\n",
      "|  0.0|         0|\n",
      "|  0.0|         0|\n",
      "|  0.0|         0|\n",
      "|  0.0|         0|\n",
      "|  0.0|         0|\n",
      "|  0.0|         0|\n",
      "|  0.0|         0|\n",
      "|  0.0|         0|\n",
      "|  0.0|         0|\n",
      "|  0.0|         0|\n",
      "|  0.0|         0|\n",
      "|  0.0|         0|\n",
      "|  0.0|         0|\n",
      "|  0.0|         0|\n",
      "|  0.0|         0|\n",
      "|  0.0|         0|\n",
      "|  0.0|         0|\n",
      "|  0.0|         0|\n",
      "|  0.0|         0|\n",
      "|  0.0|         0|\n",
      "|  0.0|         0|\n",
      "|  0.0|         0|\n",
      "|  0.0|         0|\n",
      "|  0.0|         0|\n",
      "|  0.0|         0|\n",
      "|  0.0|         0|\n",
      "|  0.0|         0|\n",
      "|  0.0|         0|\n",
      "|  0.0|         0|\n",
      "|  0.0|         0|\n",
      "|  0.0|         0|\n",
      "|  0.0|         0|\n",
      "|  0.0|         0|\n",
      "|  0.0|         0|\n",
      "|  0.0|         0|\n",
      "|  0.0|         0|\n",
      "|  0.0|         0|\n",
      "|  0.0|         0|\n",
      "|  0.0|         0|\n",
      "|  0.0|         0|\n",
      "|  0.0|         0|\n",
      "|  0.0|         0|\n",
      "|  0.0|         0|\n",
      "|  0.0|         0|\n",
      "|  0.0|         0|\n",
      "|  0.0|         0|\n",
      "|  0.0|         0|\n",
      "|  0.0|         0|\n",
      "|  0.0|         0|\n",
      "|  0.0|         0|\n",
      "|  0.0|         0|\n",
      "|  0.0|         0|\n",
      "|  0.0|         0|\n",
      "|  0.0|         0|\n",
      "|  0.0|         0|\n",
      "|  0.0|         0|\n",
      "|  0.0|         0|\n",
      "|  0.0|         0|\n",
      "|  0.0|         0|\n",
      "|  0.0|         0|\n",
      "|  0.0|         0|\n",
      "|  0.0|         0|\n",
      "|  0.0|         0|\n",
      "|  0.0|         0|\n",
      "|  0.0|         0|\n",
      "|  0.0|         0|\n",
      "|  0.0|         0|\n",
      "|  0.0|         0|\n",
      "|  0.0|         0|\n",
      "|  0.0|         0|\n",
      "|  0.0|         0|\n",
      "|  0.0|         0|\n",
      "|  0.0|         0|\n",
      "|  0.0|         0|\n",
      "|  0.0|         0|\n",
      "|  0.0|         0|\n",
      "|  0.0|         0|\n",
      "|  0.0|         0|\n",
      "|  0.0|         0|\n",
      "|  0.0|         0|\n",
      "|  0.0|         0|\n",
      "|  0.0|         0|\n",
      "|  0.0|         0|\n",
      "|  0.0|         0|\n",
      "|  0.0|         0|\n",
      "|  0.0|         0|\n",
      "|  0.0|         0|\n",
      "|  0.0|         0|\n",
      "|  0.0|         0|\n",
      "|  0.0|         0|\n",
      "|  0.0|         0|\n",
      "|  0.0|         0|\n",
      "|  0.0|         0|\n",
      "|  0.0|         0|\n",
      "|  0.0|         0|\n",
      "|  0.0|         0|\n",
      "|  0.0|         0|\n",
      "|  0.0|         0|\n",
      "|  0.0|         0|\n",
      "|  0.0|         0|\n",
      "|  0.0|         0|\n",
      "|  0.0|         0|\n",
      "|  0.0|         0|\n",
      "|  0.0|         0|\n",
      "|  0.0|         0|\n",
      "|  0.0|         0|\n",
      "|  0.0|         0|\n",
      "|  0.0|         0|\n",
      "|  0.0|         0|\n",
      "|  0.0|         0|\n",
      "|  0.0|         0|\n",
      "|  0.0|         0|\n",
      "|  0.0|         0|\n",
      "|  0.0|         0|\n",
      "|  0.0|         0|\n",
      "|  0.0|         0|\n",
      "|  0.0|         0|\n",
      "|  0.0|         0|\n",
      "|  0.0|         0|\n",
      "|  0.0|         0|\n",
      "|  0.0|         0|\n",
      "|  0.0|         0|\n",
      "|  0.0|         0|\n",
      "|  0.0|         0|\n",
      "|  0.0|         0|\n",
      "|  0.0|         0|\n",
      "|  0.0|         0|\n",
      "|  0.0|         0|\n",
      "|  0.0|         0|\n",
      "|  0.0|         0|\n",
      "|  0.0|         0|\n",
      "|  0.0|         0|\n",
      "|  0.0|         0|\n",
      "|  0.0|         0|\n",
      "|  0.0|         0|\n",
      "|  0.0|         0|\n",
      "|  0.0|         0|\n",
      "|  0.0|         0|\n",
      "|  0.0|         0|\n",
      "|  0.0|         0|\n",
      "|  0.0|         0|\n",
      "|  0.0|         0|\n",
      "|  0.0|         0|\n",
      "|  0.0|         0|\n",
      "|  0.0|         0|\n",
      "|  0.0|         0|\n",
      "|  0.0|         0|\n",
      "|  0.0|         0|\n",
      "|  0.0|         0|\n",
      "|  0.0|         0|\n",
      "|  0.0|         0|\n",
      "|  0.0|         0|\n",
      "|  0.0|         0|\n",
      "|  0.0|         0|\n",
      "|  0.0|         0|\n",
      "|  0.0|         0|\n",
      "|  0.0|         0|\n",
      "|  0.0|         0|\n",
      "|  0.0|         0|\n",
      "|  0.0|         0|\n",
      "|  0.0|         0|\n",
      "|  0.0|         0|\n",
      "|  0.0|         0|\n",
      "|  0.0|         0|\n",
      "|  0.0|         0|\n",
      "|  0.0|         0|\n",
      "|  0.0|         0|\n",
      "|  0.0|         0|\n",
      "|  0.0|         0|\n",
      "|  0.0|         0|\n",
      "|  0.0|         0|\n",
      "|  0.0|         0|\n",
      "|  0.0|         0|\n",
      "|  0.0|         0|\n",
      "|  0.0|         0|\n",
      "|  0.0|         0|\n",
      "|  0.0|         0|\n",
      "|  0.0|         0|\n",
      "|  0.0|         0|\n",
      "|  0.0|         0|\n",
      "|  0.0|         0|\n",
      "|  0.0|         0|\n",
      "|  0.0|         0|\n",
      "|  0.0|         0|\n",
      "|  0.0|         0|\n",
      "|  0.0|         0|\n",
      "|  0.0|         0|\n",
      "|  0.0|         0|\n",
      "|  0.0|         0|\n",
      "|  0.0|         0|\n",
      "|  0.0|         0|\n",
      "|  0.0|         0|\n",
      "|  0.0|         0|\n",
      "|  0.0|         0|\n",
      "|  0.0|         0|\n",
      "|  0.0|         0|\n",
      "|  0.0|         0|\n",
      "|  0.0|         0|\n",
      "|  0.0|         0|\n",
      "|  0.0|         0|\n",
      "|  0.0|         0|\n",
      "|  0.0|         0|\n",
      "|  0.0|         0|\n",
      "|  0.0|         0|\n",
      "|  0.0|         0|\n",
      "|  0.0|         0|\n",
      "|  0.0|         0|\n",
      "|  0.0|         0|\n",
      "|  0.0|         0|\n",
      "|  0.0|         0|\n",
      "|  0.0|         0|\n",
      "|  0.0|         0|\n",
      "|  0.0|         0|\n",
      "|  0.0|         0|\n",
      "|  0.0|         0|\n",
      "|  0.0|         0|\n",
      "|  0.0|         0|\n",
      "|  0.0|         0|\n",
      "|  0.0|         0|\n",
      "|  0.0|         0|\n",
      "|  0.0|         0|\n",
      "|  0.0|         0|\n",
      "|  0.0|         0|\n",
      "|  0.0|         0|\n",
      "|  0.0|         0|\n",
      "|  0.0|         0|\n",
      "|  0.0|         0|\n",
      "|  0.0|         0|\n",
      "|  0.0|         0|\n",
      "|  0.0|         0|\n",
      "|  0.0|         0|\n",
      "|  0.0|         0|\n",
      "|  0.0|         0|\n",
      "|  0.0|         0|\n",
      "|  0.0|         0|\n",
      "|  0.0|         0|\n",
      "|  0.0|         0|\n",
      "|  0.0|         0|\n",
      "|  0.0|         0|\n",
      "|  0.0|         0|\n",
      "|  0.0|         0|\n",
      "|  0.0|         0|\n",
      "|  0.0|         0|\n",
      "|  0.0|         0|\n",
      "|  0.0|         0|\n",
      "|  0.0|         0|\n",
      "|  0.0|         0|\n",
      "|  0.0|         0|\n",
      "|  0.0|         0|\n",
      "|  0.0|         0|\n",
      "|  0.0|         0|\n",
      "|  0.0|         0|\n",
      "|  0.0|         0|\n",
      "|  0.0|         0|\n",
      "|  0.0|         0|\n",
      "|  0.0|         0|\n",
      "|  0.0|         0|\n",
      "|  0.0|         0|\n",
      "|  0.0|         0|\n",
      "|  0.0|         0|\n",
      "|  0.0|         0|\n",
      "|  0.0|         0|\n",
      "|  0.0|         0|\n",
      "|  0.0|         0|\n",
      "|  0.0|         0|\n",
      "|  0.0|         0|\n",
      "|  0.0|         0|\n",
      "|  0.0|         0|\n",
      "|  0.0|         0|\n",
      "|  0.0|         0|\n",
      "|  0.0|         0|\n",
      "|  0.0|         0|\n",
      "|  0.0|         0|\n",
      "|  0.0|         0|\n",
      "|  0.0|         0|\n",
      "|  0.0|         0|\n",
      "|  0.0|         0|\n",
      "|  0.0|         0|\n",
      "|  0.0|         0|\n",
      "|  0.0|         0|\n",
      "|  0.0|         0|\n",
      "|  0.0|         0|\n",
      "|  0.0|         0|\n",
      "|  0.0|         0|\n",
      "|  0.0|         0|\n",
      "|  0.0|         0|\n",
      "|  0.0|         0|\n",
      "|  0.0|         0|\n",
      "|  0.0|         0|\n",
      "|  0.0|         0|\n",
      "|  0.0|         0|\n",
      "|  0.0|         0|\n",
      "|  0.0|         0|\n",
      "|  0.0|         0|\n",
      "|  0.0|         0|\n",
      "|  0.0|         0|\n",
      "|  0.0|         0|\n",
      "|  0.0|         0|\n",
      "|  0.0|         0|\n",
      "|  0.0|         0|\n",
      "|  0.0|         0|\n",
      "|  0.0|         0|\n",
      "|  0.0|         0|\n",
      "|  0.0|         0|\n",
      "|  0.0|         0|\n",
      "|  0.0|         0|\n",
      "|  0.0|         0|\n",
      "|  0.0|         0|\n",
      "|  0.0|         0|\n",
      "|  0.0|         0|\n",
      "|  0.0|         0|\n",
      "|  0.0|         0|\n",
      "|  0.0|         0|\n",
      "|  0.0|         0|\n",
      "|  0.0|         0|\n",
      "|  0.0|         0|\n",
      "|  0.0|         0|\n",
      "|  0.0|         0|\n",
      "|  0.0|         0|\n",
      "|  0.0|         0|\n",
      "|  0.0|         0|\n",
      "|  0.0|         0|\n",
      "|  0.0|         0|\n",
      "|  0.0|         0|\n",
      "|  0.0|         0|\n",
      "|  0.0|         0|\n",
      "|  0.0|         0|\n",
      "|  0.0|         0|\n",
      "|  0.0|         0|\n",
      "|  0.0|         0|\n",
      "|  0.0|         0|\n",
      "|  0.0|         0|\n",
      "|  0.0|         0|\n",
      "|  0.0|         0|\n",
      "|  0.0|         0|\n",
      "|  0.0|         0|\n",
      "|  0.0|         0|\n",
      "|  0.0|         0|\n",
      "|  1.0|         0|\n",
      "|  1.0|         0|\n",
      "|  1.0|         0|\n",
      "|  1.0|         0|\n",
      "|  1.0|         0|\n",
      "|  1.0|         0|\n",
      "|  1.0|         0|\n",
      "|  1.0|         0|\n",
      "|  1.0|         0|\n",
      "|  1.0|         0|\n",
      "|  1.0|         0|\n",
      "|  1.0|         0|\n",
      "|  1.0|         0|\n",
      "|  1.0|         0|\n",
      "|  1.0|         0|\n",
      "|  1.0|         0|\n",
      "|  1.0|         0|\n",
      "|  1.0|         0|\n",
      "|  1.0|         0|\n",
      "|  1.0|         0|\n",
      "|  1.0|         0|\n",
      "|  1.0|         0|\n",
      "|  1.0|         0|\n",
      "|  1.0|         0|\n",
      "|  1.0|         0|\n",
      "|  1.0|         0|\n",
      "|  1.0|         0|\n",
      "|  1.0|         0|\n",
      "|  1.0|         0|\n",
      "|  1.0|         0|\n",
      "|  1.0|         0|\n",
      "|  1.0|         0|\n",
      "|  1.0|         0|\n",
      "|  1.0|         0|\n",
      "|  1.0|         0|\n",
      "|  1.0|         0|\n",
      "|  1.0|         0|\n",
      "|  1.0|         0|\n",
      "|  1.0|         0|\n",
      "|  1.0|         0|\n",
      "|  1.0|         0|\n",
      "|  1.0|         0|\n",
      "|  1.0|         0|\n",
      "|  1.0|         0|\n",
      "|  1.0|         0|\n",
      "|  1.0|         0|\n",
      "|  1.0|         0|\n",
      "|  1.0|         0|\n",
      "|  1.0|         0|\n",
      "|  1.0|         0|\n",
      "|  1.0|         0|\n",
      "|  1.0|         0|\n",
      "|  1.0|         0|\n",
      "|  1.0|         0|\n",
      "|  1.0|         0|\n",
      "|  1.0|         0|\n",
      "|  1.0|         0|\n",
      "|  1.0|         0|\n",
      "|  1.0|         0|\n",
      "|  1.0|         0|\n",
      "|  1.0|         0|\n",
      "|  1.0|         0|\n",
      "|  1.0|         0|\n",
      "|  1.0|         0|\n",
      "|  1.0|         0|\n",
      "|  1.0|         0|\n",
      "|  1.0|         0|\n",
      "|  1.0|         0|\n",
      "|  1.0|         0|\n",
      "|  1.0|         0|\n",
      "|  1.0|         0|\n",
      "|  1.0|         0|\n",
      "|  1.0|         0|\n",
      "|  1.0|         0|\n",
      "|  1.0|         0|\n",
      "|  1.0|         0|\n",
      "|  1.0|         0|\n",
      "|  1.0|         0|\n",
      "|  1.0|         0|\n",
      "|  1.0|         0|\n",
      "|  1.0|         0|\n",
      "|  1.0|         0|\n",
      "|  1.0|         0|\n",
      "|  1.0|         0|\n",
      "|  1.0|         0|\n",
      "|  1.0|         0|\n",
      "|  1.0|         0|\n",
      "|  1.0|         0|\n",
      "|  1.0|         0|\n",
      "|  1.0|         0|\n",
      "|  1.0|         0|\n",
      "|  1.0|         0|\n",
      "|  1.0|         0|\n",
      "|  1.0|         0|\n",
      "|  1.0|         0|\n",
      "|  1.0|         0|\n",
      "|  1.0|         0|\n",
      "|  1.0|         0|\n",
      "|  1.0|         0|\n",
      "|  1.0|         0|\n",
      "|  1.0|         0|\n",
      "|  1.0|         0|\n",
      "|  1.0|         0|\n",
      "|  1.0|         0|\n",
      "|  1.0|         0|\n",
      "|  1.0|         0|\n",
      "|  1.0|         0|\n",
      "|  1.0|         0|\n",
      "|  1.0|         0|\n",
      "|  1.0|         0|\n",
      "|  1.0|         0|\n",
      "|  1.0|         0|\n",
      "|  1.0|         0|\n",
      "|  1.0|         0|\n",
      "|  1.0|         0|\n",
      "|  1.0|         0|\n",
      "|  1.0|         0|\n",
      "|  1.0|         0|\n",
      "|  1.0|         0|\n",
      "|  1.0|         0|\n",
      "|  1.0|         0|\n",
      "|  1.0|         0|\n",
      "|  1.0|         0|\n",
      "|  1.0|         0|\n",
      "|  1.0|         0|\n",
      "|  1.0|         0|\n",
      "|  1.0|         0|\n",
      "|  1.0|         0|\n",
      "|  1.0|         0|\n",
      "|  1.0|         0|\n",
      "|  1.0|         0|\n",
      "|  1.0|         0|\n",
      "|  1.0|         0|\n",
      "|  1.0|         0|\n",
      "|  1.0|         0|\n",
      "|  1.0|         0|\n",
      "|  1.0|         0|\n",
      "|  1.0|         0|\n",
      "|  1.0|         0|\n",
      "|  1.0|         0|\n",
      "|  1.0|         0|\n",
      "|  1.0|         0|\n",
      "|  1.0|         0|\n",
      "|  1.0|         0|\n",
      "|  1.0|         0|\n",
      "|  1.0|         0|\n",
      "|  1.0|         0|\n",
      "|  1.0|         0|\n",
      "|  1.0|         0|\n",
      "|  1.0|         0|\n",
      "|  1.0|         0|\n",
      "|  1.0|         0|\n",
      "|  1.0|         0|\n",
      "|  1.0|         0|\n",
      "|  1.0|         0|\n",
      "|  1.0|         0|\n",
      "|  1.0|         0|\n",
      "|  1.0|         0|\n",
      "|  1.0|         0|\n",
      "|  1.0|         0|\n",
      "|  1.0|         0|\n",
      "|  1.0|         0|\n",
      "|  1.0|         0|\n",
      "|  1.0|         0|\n",
      "|  1.0|         0|\n",
      "|  1.0|         0|\n",
      "|  1.0|         0|\n",
      "|  1.0|         0|\n",
      "|  1.0|         0|\n",
      "|  1.0|         0|\n",
      "|  1.0|         0|\n",
      "|  1.0|         0|\n",
      "|  1.0|         0|\n",
      "|  1.0|         0|\n",
      "|  1.0|         0|\n",
      "|  1.0|         0|\n",
      "|  1.0|         0|\n",
      "|  1.0|         0|\n",
      "|  1.0|         0|\n",
      "|  1.0|         0|\n",
      "|  1.0|         0|\n",
      "|  1.0|         0|\n",
      "|  1.0|         0|\n",
      "|  1.0|         0|\n",
      "|  1.0|         0|\n",
      "|  1.0|         0|\n",
      "|  1.0|         0|\n",
      "|  1.0|         0|\n",
      "|  1.0|         0|\n",
      "|  1.0|         0|\n",
      "|  1.0|         0|\n",
      "|  1.0|         0|\n",
      "|  1.0|         0|\n",
      "|  1.0|         0|\n",
      "|  1.0|         0|\n",
      "|  1.0|         0|\n",
      "|  1.0|         0|\n",
      "|  1.0|         0|\n",
      "|  1.0|         0|\n",
      "|  1.0|         0|\n",
      "|  1.0|         0|\n",
      "|  1.0|         0|\n",
      "|  1.0|         0|\n",
      "|  1.0|         0|\n",
      "|  1.0|         0|\n",
      "|  1.0|         0|\n",
      "|  1.0|         0|\n",
      "|  1.0|         0|\n",
      "|  1.0|         0|\n",
      "|  1.0|         0|\n",
      "|  1.0|         0|\n",
      "|  1.0|         0|\n",
      "|  1.0|         0|\n",
      "|  1.0|         0|\n",
      "|  1.0|         0|\n",
      "|  1.0|         0|\n",
      "|  1.0|         0|\n",
      "|  1.0|         0|\n",
      "|  1.0|         0|\n",
      "|  1.0|         0|\n",
      "|  1.0|         0|\n",
      "|  1.0|         0|\n",
      "|  1.0|         0|\n",
      "|  1.0|         0|\n",
      "|  1.0|         0|\n",
      "|  1.0|         0|\n",
      "|  1.0|         0|\n",
      "|  1.0|         0|\n",
      "|  1.0|         0|\n",
      "|  1.0|         0|\n",
      "|  1.0|         0|\n",
      "|  1.0|         0|\n",
      "|  1.0|         0|\n",
      "|  1.0|         0|\n",
      "|  1.0|         0|\n",
      "|  1.0|         0|\n",
      "|  1.0|         0|\n",
      "|  1.0|         0|\n",
      "|  1.0|         0|\n",
      "|  1.0|         0|\n",
      "|  1.0|         0|\n",
      "|  1.0|         0|\n",
      "|  1.0|         0|\n",
      "|  1.0|         0|\n",
      "|  1.0|         0|\n",
      "|  1.0|         0|\n",
      "|  1.0|         0|\n",
      "|  1.0|         0|\n",
      "|  1.0|         0|\n",
      "|  1.0|         0|\n",
      "|  1.0|         0|\n",
      "|  1.0|         0|\n",
      "|  1.0|         0|\n",
      "|  1.0|         0|\n",
      "|  1.0|         0|\n",
      "|  1.0|         0|\n",
      "|  1.0|         0|\n",
      "|  1.0|         0|\n",
      "|  1.0|         0|\n",
      "|  1.0|         0|\n",
      "|  1.0|         0|\n",
      "|  1.0|         0|\n",
      "|  1.0|         0|\n",
      "|  1.0|         0|\n",
      "|  1.0|         0|\n",
      "|  1.0|         0|\n",
      "|  1.0|         0|\n",
      "|  1.0|         0|\n",
      "|  1.0|         0|\n",
      "|  1.0|         0|\n",
      "|  1.0|         0|\n",
      "|  1.0|         0|\n",
      "|  1.0|         0|\n",
      "|  1.0|         0|\n",
      "|  1.0|         0|\n",
      "|  1.0|         0|\n",
      "|  1.0|         0|\n",
      "|  1.0|         0|\n",
      "|  1.0|         0|\n",
      "|  1.0|         0|\n",
      "|  1.0|         0|\n",
      "|  1.0|         0|\n",
      "|  1.0|         0|\n",
      "|  1.0|         0|\n",
      "|  1.0|         0|\n",
      "|  1.0|         0|\n",
      "|  1.0|         0|\n",
      "|  1.0|         0|\n",
      "|  1.0|         0|\n",
      "|  1.0|         0|\n",
      "|  1.0|         0|\n",
      "|  1.0|         0|\n",
      "|  1.0|         0|\n",
      "|  1.0|         0|\n",
      "|  1.0|         0|\n",
      "|  1.0|         0|\n",
      "|  1.0|         0|\n",
      "|  1.0|         0|\n",
      "|  1.0|         0|\n",
      "|  1.0|         0|\n",
      "|  1.0|         0|\n",
      "|  1.0|         0|\n",
      "|  1.0|         0|\n",
      "|  1.0|         0|\n",
      "|  1.0|         0|\n",
      "|  1.0|         0|\n",
      "|  1.0|         0|\n",
      "|  1.0|         0|\n",
      "|  1.0|         0|\n",
      "|  1.0|         0|\n",
      "|  1.0|         0|\n",
      "|  1.0|         0|\n",
      "|  1.0|         0|\n",
      "|  1.0|         0|\n",
      "|  1.0|         0|\n",
      "|  1.0|         0|\n",
      "|  1.0|         0|\n",
      "|  1.0|         0|\n",
      "|  1.0|         0|\n",
      "|  1.0|         0|\n",
      "|  1.0|         0|\n",
      "|  1.0|         0|\n",
      "|  1.0|         0|\n",
      "|  1.0|         0|\n",
      "|  1.0|         0|\n",
      "|  1.0|         0|\n",
      "|  1.0|         0|\n",
      "|  1.0|         0|\n",
      "|  1.0|         0|\n",
      "|  1.0|         0|\n",
      "|  1.0|         0|\n",
      "|  1.0|         0|\n",
      "|  1.0|         0|\n",
      "|  1.0|         0|\n",
      "|  1.0|         0|\n",
      "|  1.0|         0|\n",
      "|  1.0|         0|\n",
      "|  1.0|         0|\n",
      "|  1.0|         0|\n",
      "|  1.0|         0|\n",
      "|  1.0|         0|\n",
      "|  1.0|         0|\n",
      "|  1.0|         0|\n",
      "|  1.0|         0|\n",
      "|  1.0|         0|\n",
      "|  1.0|         0|\n",
      "|  1.0|         0|\n",
      "|  1.0|         0|\n",
      "|  1.0|         0|\n",
      "|  1.0|         0|\n",
      "|  1.0|         0|\n",
      "|  1.0|         0|\n",
      "|  1.0|         0|\n",
      "|  1.0|         0|\n",
      "|  1.0|         0|\n",
      "|  1.0|         0|\n",
      "|  1.0|         0|\n",
      "|  1.0|         0|\n",
      "|  1.0|         0|\n",
      "|  1.0|         0|\n",
      "|  1.0|         0|\n",
      "|  1.0|         0|\n",
      "|  1.0|         0|\n",
      "|  1.0|         0|\n",
      "|  1.0|         0|\n",
      "|  1.0|         0|\n",
      "|  1.0|         0|\n",
      "|  1.0|         0|\n",
      "|  1.0|         0|\n",
      "|  1.0|         0|\n",
      "|  1.0|         0|\n",
      "|  1.0|         0|\n",
      "|  1.0|         0|\n",
      "|  1.0|         0|\n",
      "|  1.0|         0|\n",
      "|  1.0|         0|\n",
      "|  1.0|         0|\n",
      "|  1.0|         0|\n",
      "|  1.0|         0|\n",
      "|  1.0|         0|\n",
      "|  1.0|         0|\n",
      "|  1.0|         0|\n",
      "|  1.0|         0|\n",
      "|  1.0|         0|\n",
      "|  1.0|         0|\n",
      "|  1.0|         0|\n",
      "|  1.0|         0|\n",
      "|  1.0|         0|\n",
      "|  1.0|         0|\n",
      "|  1.0|         0|\n",
      "|  1.0|         0|\n",
      "|  1.0|         0|\n",
      "|  1.0|         0|\n",
      "|  1.0|         0|\n",
      "|  1.0|         0|\n",
      "|  1.0|         0|\n",
      "|  1.0|         0|\n",
      "|  1.0|         0|\n",
      "|  1.0|         0|\n",
      "|  1.0|         0|\n",
      "|  1.0|         0|\n",
      "|  1.0|         0|\n",
      "|  1.0|         0|\n",
      "|  1.0|         0|\n",
      "|  1.0|         0|\n",
      "|  1.0|         0|\n",
      "|  1.0|         0|\n",
      "|  1.0|         0|\n",
      "|  1.0|         0|\n",
      "|  1.0|         0|\n",
      "|  1.0|         0|\n",
      "|  1.0|         0|\n",
      "|  1.0|         0|\n",
      "|  1.0|         0|\n",
      "|  1.0|         0|\n",
      "|  1.0|         0|\n",
      "|  1.0|         0|\n",
      "|  1.0|         0|\n",
      "|  1.0|         0|\n",
      "|  1.0|         0|\n",
      "|  1.0|         0|\n",
      "|  1.0|         0|\n",
      "|  1.0|         0|\n",
      "|  1.0|         0|\n",
      "|  1.0|         0|\n",
      "|  1.0|         0|\n",
      "|  1.0|         0|\n",
      "|  1.0|         0|\n",
      "|  1.0|         0|\n",
      "|  1.0|         0|\n",
      "|  1.0|         0|\n",
      "|  1.0|         0|\n",
      "|  1.0|         0|\n",
      "|  1.0|         0|\n",
      "|  1.0|         0|\n",
      "|  1.0|         0|\n",
      "|  1.0|         0|\n",
      "|  1.0|         0|\n",
      "|  1.0|         0|\n",
      "|  1.0|         0|\n",
      "|  1.0|         0|\n",
      "|  1.0|         0|\n",
      "|  1.0|         0|\n",
      "|  1.0|         0|\n",
      "|  1.0|         0|\n",
      "|  1.0|         0|\n",
      "|  1.0|         0|\n",
      "|  1.0|         0|\n",
      "|  1.0|         0|\n",
      "|  1.0|         0|\n",
      "|  1.0|         0|\n",
      "|  1.0|         0|\n",
      "|  1.0|         0|\n",
      "|  1.0|         0|\n",
      "|  1.0|         0|\n",
      "|  1.0|         0|\n",
      "|  1.0|         0|\n",
      "|  1.0|         0|\n",
      "|  1.0|         0|\n",
      "|  1.0|         0|\n",
      "|  1.0|         0|\n",
      "|  1.0|         0|\n",
      "|  1.0|         0|\n",
      "|  1.0|         0|\n",
      "|  1.0|         0|\n",
      "|  1.0|         0|\n",
      "|  1.0|         0|\n",
      "|  1.0|         0|\n",
      "|  1.0|         0|\n",
      "|  1.0|         0|\n",
      "|  1.0|         0|\n",
      "|  1.0|         0|\n",
      "|  1.0|         0|\n",
      "|  1.0|         0|\n",
      "|  1.0|         0|\n",
      "|  1.0|         0|\n",
      "|  1.0|         0|\n",
      "|  1.0|         0|\n",
      "|  1.0|         0|\n",
      "|  1.0|         0|\n",
      "|  1.0|         0|\n",
      "|  1.0|         0|\n",
      "|  1.0|         0|\n",
      "|  1.0|         0|\n",
      "|  1.0|         0|\n",
      "|  1.0|         0|\n",
      "|  1.0|         0|\n",
      "|  1.0|         0|\n",
      "|  1.0|         0|\n",
      "|  1.0|         0|\n",
      "|  1.0|         0|\n",
      "|  1.0|         0|\n",
      "|  1.0|         0|\n",
      "|  1.0|         0|\n",
      "|  1.0|         0|\n",
      "|  1.0|         0|\n",
      "|  1.0|         0|\n",
      "|  1.0|         0|\n",
      "|  1.0|         0|\n",
      "|  1.0|         0|\n",
      "|  1.0|         0|\n",
      "|  1.0|         0|\n",
      "|  1.0|         0|\n",
      "|  1.0|         0|\n",
      "|  1.0|         0|\n",
      "|  1.0|         0|\n",
      "|  1.0|         0|\n",
      "|  1.0|         0|\n",
      "|  1.0|         0|\n",
      "|  1.0|         0|\n",
      "|  1.0|         0|\n",
      "|  1.0|         0|\n",
      "|  1.0|         0|\n",
      "|  1.0|         0|\n",
      "|  1.0|         0|\n",
      "|  1.0|         0|\n",
      "|  1.0|         0|\n",
      "|  1.0|         0|\n",
      "|  1.0|         0|\n",
      "|  1.0|         0|\n",
      "|  1.0|         0|\n",
      "|  1.0|         0|\n",
      "|  1.0|         0|\n",
      "|  1.0|         0|\n",
      "|  1.0|         0|\n",
      "|  1.0|         0|\n",
      "|  1.0|         0|\n",
      "|  1.0|         0|\n",
      "|  1.0|         0|\n",
      "|  1.0|         0|\n",
      "|  1.0|         0|\n",
      "|  1.0|         0|\n",
      "|  1.0|         0|\n",
      "|  1.0|         0|\n",
      "|  1.0|         0|\n",
      "|  1.0|         0|\n",
      "|  1.0|         0|\n",
      "|  1.0|         0|\n",
      "|  1.0|         0|\n",
      "|  1.0|         0|\n",
      "|  1.0|         0|\n",
      "|  1.0|         0|\n",
      "|  1.0|         0|\n",
      "|  1.0|         0|\n",
      "|  1.0|         0|\n",
      "|  1.0|         0|\n",
      "|  1.0|         0|\n",
      "|  1.0|         0|\n",
      "|  1.0|         0|\n",
      "|  1.0|         0|\n",
      "|  1.0|         0|\n",
      "|  1.0|         0|\n",
      "|  1.0|         0|\n",
      "|  1.0|         0|\n",
      "|  1.0|         0|\n",
      "|  1.0|         0|\n",
      "|  1.0|         0|\n",
      "|  1.0|         0|\n",
      "|  1.0|         0|\n",
      "|  1.0|         0|\n",
      "|  1.0|         0|\n",
      "|  1.0|         0|\n",
      "|  1.0|         0|\n",
      "|  1.0|         0|\n",
      "|  1.0|         0|\n",
      "|  1.0|         0|\n",
      "|  1.0|         0|\n",
      "|  1.0|         0|\n",
      "|  1.0|         0|\n",
      "|  1.0|         0|\n",
      "|  1.0|         0|\n",
      "|  1.0|         0|\n",
      "|  1.0|         0|\n",
      "|  1.0|         0|\n",
      "|  1.0|         0|\n",
      "|  1.0|         0|\n",
      "|  1.0|         0|\n",
      "|  1.0|         0|\n",
      "|  1.0|         0|\n",
      "|  1.0|         0|\n",
      "|  1.0|         0|\n",
      "|  1.0|         0|\n",
      "|  1.0|         0|\n",
      "|  1.0|         0|\n",
      "|  1.0|         0|\n",
      "|  1.0|         0|\n",
      "|  1.0|         0|\n",
      "|  1.0|         0|\n",
      "|  1.0|         0|\n",
      "|  1.0|         0|\n",
      "|  1.0|         0|\n",
      "|  1.0|         0|\n",
      "|  1.0|         0|\n",
      "|  1.0|         0|\n",
      "|  1.0|         0|\n",
      "|  1.0|         0|\n",
      "|  1.0|         0|\n",
      "|  1.0|         0|\n",
      "|  1.0|         0|\n",
      "|  1.0|         0|\n",
      "|  1.0|         0|\n",
      "|  1.0|         0|\n",
      "|  1.0|         0|\n",
      "|  1.0|         0|\n",
      "|  1.0|         0|\n",
      "|  1.0|         0|\n",
      "|  1.0|         0|\n",
      "|  1.0|         0|\n",
      "|  1.0|         0|\n",
      "|  1.0|         0|\n",
      "|  1.0|         0|\n",
      "|  1.0|         0|\n",
      "|  1.0|         0|\n",
      "|  1.0|         0|\n",
      "|  1.0|         0|\n",
      "|  1.0|         0|\n",
      "|  1.0|         0|\n",
      "|  1.0|         0|\n",
      "|  1.0|         0|\n",
      "|  1.0|         0|\n",
      "|  1.0|         0|\n",
      "|  1.0|         0|\n",
      "|  1.0|         0|\n",
      "|  1.0|         0|\n",
      "|  1.0|         0|\n",
      "|  1.0|         0|\n",
      "|  1.0|         0|\n",
      "|  1.0|         0|\n",
      "|  1.0|         0|\n",
      "|  1.0|         0|\n",
      "|  1.0|         0|\n",
      "|  1.0|         0|\n",
      "|  1.0|         0|\n",
      "|  1.0|         0|\n",
      "|  1.0|         0|\n",
      "|  1.0|         0|\n",
      "|  1.0|         0|\n",
      "|  1.0|         0|\n",
      "|  1.0|         0|\n",
      "|  1.0|         0|\n",
      "|  1.0|         0|\n",
      "|  1.0|         0|\n",
      "|  1.0|         0|\n",
      "|  1.0|         0|\n",
      "|  1.0|         0|\n",
      "|  1.0|         0|\n",
      "|  1.0|         0|\n",
      "|  1.0|         0|\n",
      "|  1.0|         0|\n",
      "|  1.0|         0|\n",
      "|  1.0|         0|\n",
      "|  1.0|         0|\n",
      "|  1.0|         0|\n",
      "|  1.0|         0|\n",
      "|  1.0|         0|\n",
      "|  1.0|         0|\n",
      "|  1.0|         0|\n",
      "|  1.0|         0|\n",
      "|  1.0|         0|\n",
      "|  1.0|         0|\n",
      "|  1.0|         0|\n",
      "|  1.0|         0|\n",
      "|  1.0|         0|\n",
      "|  1.0|         0|\n",
      "|  1.0|         0|\n",
      "|  1.0|         0|\n",
      "|  1.0|         0|\n",
      "|  1.0|         0|\n",
      "|  1.0|         0|\n",
      "|  1.0|         0|\n",
      "|  1.0|         0|\n",
      "|  1.0|         0|\n",
      "|  1.0|         0|\n",
      "|  1.0|         0|\n",
      "|  1.0|         0|\n",
      "|  1.0|         0|\n",
      "|  1.0|         0|\n",
      "+-----+----------+\n",
      "\n"
     ]
    },
    {
     "name": "stderr",
     "output_type": "stream",
     "text": [
      "\r",
      "                                                                                \r"
     ]
    }
   ],
   "source": [
    "from pyspark.ml import Pipeline\n",
    "\n",
    "#PERFORMING KMEANS CLUSTERING ON DF2 DATA FRAME\n",
    "#WHOLE DATA IS USED AS TRAINING AND TESTING DATA AS IT IS UNSUPERVISED\n",
    "kmeans = KMeans().setK(2).setSeed(742).setFeaturesCol(\"features\")\n",
    "model = kmeans.fit(df4)\n",
    "predictions = model.transform(df4)\n",
    "predictions.select('label', 'prediction').show(10000)\n"
   ]
  },
  {
   "cell_type": "code",
   "execution_count": 66,
   "metadata": {
    "colab": {
     "base_uri": "https://localhost:8080/",
     "height": 105
    },
    "colab_type": "code",
    "id": "zLlxSW1NvFFp",
    "outputId": "a5369404-451f-452e-bf24-c2b574d93737"
   },
   "outputs": [
    {
     "name": "stderr",
     "output_type": "stream",
     "text": [
      "[Stage 338:>                                                        (0 + 1) / 1]\r"
     ]
    },
    {
     "name": "stdout",
     "output_type": "stream",
     "text": [
      "Silhouette with squared euclidean distance = 0.8978541591948958\n"
     ]
    },
    {
     "name": "stderr",
     "output_type": "stream",
     "text": [
      "\r",
      "                                                                                \r"
     ]
    }
   ],
   "source": [
    "#APPLYING KMEANS USING ELBOW METHOD TO GET THE OPTIMAL VALUE OF K TO HELP IN ANALYSIS IN REPORT\n",
    "from pyspark.ml import Pipeline\n",
    "from pyspark.ml.clustering import KMeans\n",
    "from pyspark.ml.evaluation import ClusteringEvaluator\n",
    "\n",
    "kmeans3=KMeans(featuresCol=\"features\",k=3)\n",
    "model_k3 = kmeans3.fit(df4)\n",
    "predictions_kmean = model_k3.transform(df4)\n",
    "# Evaluate clustering by computing Silhouette score\n",
    "evaluator = ClusteringEvaluator()\n",
    "silhouette = evaluator.evaluate(predictions_kmean)\n",
    "print(\"Silhouette with squared euclidean distance = \" + str(silhouette))"
   ]
  },
  {
   "cell_type": "code",
   "execution_count": 67,
   "metadata": {
    "colab": {
     "base_uri": "https://localhost:8080/",
     "height": 385
    },
    "colab_type": "code",
    "id": "-Bv9WAhIzRll",
    "outputId": "e766b2fe-a0ab-4293-8f7a-064c7161e893"
   },
   "outputs": [
    {
     "name": "stderr",
     "output_type": "stream",
     "text": [
      "                                                                                \r"
     ]
    },
    {
     "name": "stdout",
     "output_type": "stream",
     "text": [
      "With K=4\n",
      "Silhouette with squared euclidean distance = -0.41013010988090653\n",
      "------------------------------------------------------------------------------------------\n"
     ]
    },
    {
     "name": "stderr",
     "output_type": "stream",
     "text": [
      "\r",
      "[Stage 373:>                                                        (0 + 1) / 1]\r",
      "\r",
      "                                                                                \r"
     ]
    },
    {
     "name": "stdout",
     "output_type": "stream",
     "text": [
      "With K=5\n",
      "Silhouette with squared euclidean distance = -0.4838467155770496\n",
      "------------------------------------------------------------------------------------------\n"
     ]
    }
   ],
   "source": [
    "#APPLYING FOR LOOP FOR REST OF THE VALUES OF K\n",
    "for k in range(4,6):\n",
    "    kmeans = KMeans(featuresCol='features_SCALED',k=k)\n",
    "    models = kmeans.fit(df4)\n",
    "    predictions = models.transform(df4)\n",
    "# Evaluate clustering by computing Silhouette score\n",
    "    evaluator = ClusteringEvaluator()\n",
    "    silhouette = evaluator.evaluate(predictions)\n",
    "    print(\"With K={}\".format(k))\n",
    "    print(\"Silhouette with squared euclidean distance = \" + str(silhouette))\n",
    "    print('--'*45)"
   ]
  },
  {
   "cell_type": "code",
   "execution_count": 69,
   "metadata": {
    "colab": {
     "base_uri": "https://localhost:8080/",
     "height": 245
    },
    "colab_type": "code",
    "id": "XO_NwL3SKHhx",
    "outputId": "4b16e869-6500-4e03-b080-333450ac6087"
   },
   "outputs": [
    {
     "name": "stdout",
     "output_type": "stream",
     "text": [
      "Cluster Centers: \n",
      "[0.01886792 0.23113208 0.28301887 0.13207547 0.00235849 0.11556604\n",
      " 0.15330189 0.01886792 0.00707547 0.01886792 0.         0.80188679\n",
      " 0.95518868 0.         0.99528302 0.48584906 0.90330189 0.58254717\n",
      " 0.23066038 0.02701264 0.0780446  0.26499978 0.03821628]\n",
      "[0.52538071 0.16497462 0.06598985 0.02791878 0.00761421 0.01015228\n",
      " 0.06091371 0.05076142 0.06345178 0.00761421 0.         1.\n",
      " 0.         0.99238579 0.99492386 0.62182741 0.94923858 0.47208122\n",
      " 0.22316896 0.03543468 0.07429626 0.21717914 0.03764805]\n",
      "[0.04790419 0.20658683 0.20359281 0.         0.22754491 0.14820359\n",
      " 0.00598802 0.07185629 0.0254491  0.02994012 0.94461078 0.\n",
      " 0.84281437 0.         0.99550898 0.58383234 0.88922156 0.52095808\n",
      " 0.44792558 0.03242173 0.06940664 0.23834687 0.04155578]\n",
      "[0.         0.         0.         1.         0.         0.\n",
      " 0.         0.         0.         0.         0.87745098 0.03921569\n",
      " 0.60294118 0.00490196 1.         0.24509804 0.84313725 0.73039216\n",
      " 0.33802521 0.02594789 0.08333333 0.27238926 0.03803558]\n",
      "[0.62729124 0.10794297 0.05702648 0.         0.0814664  0.00610998\n",
      " 0.00203666 0.02240326 0.05906314 0.02443992 0.86354379 0.\n",
      " 0.         0.97148676 1.         0.62321792 0.90631365 0.50101833\n",
      " 0.38492872 0.03832519 0.07554157 0.21061164 0.03650901]\n"
     ]
    }
   ],
   "source": [
    "#FINDING CLUSTER CENTRES FOR THE FIRST KMEANS WE HAD APPLIED TO DF2\n",
    "centers = models.clusterCenters()\n",
    "print(\"Cluster Centers: \")\n",
    "for center in centers:\n",
    " print(center)"
   ]
  },
  {
   "cell_type": "code",
   "execution_count": 70,
   "metadata": {
    "colab": {
     "base_uri": "https://localhost:8080/",
     "height": 43
    },
    "colab_type": "code",
    "id": "36zs36jk_5cl",
    "outputId": "4c896ab9-044f-4dfd-9cdf-add62458ecb4"
   },
   "outputs": [
    {
     "name": "stderr",
     "output_type": "stream",
     "text": [
      "                                                                                \r"
     ]
    },
    {
     "data": {
      "text/plain": [
       "0.1632278771205869"
      ]
     },
     "execution_count": 70,
     "metadata": {},
     "output_type": "execute_result"
    }
   ],
   "source": [
    "#CONVERTING THE PREDICTION AND LABEL DATA FRAME TO PANDAS FOR ACCURACY\n",
    "import numpy as np\n",
    "from sklearn.metrics import accuracy_score\n",
    "\n",
    "#USING TOPANDAS FUNCTION FOR CONVERSION\n",
    "y_true=predictions.toPandas()\n",
    "y_pred=predictions.toPandas()\n",
    "\n",
    "#USING ACCURACY FUNCTION TO FIND ACCURACY\n",
    "accuracy_score(y_true.label, y_pred.prediction)\n"
   ]
  },
  {
   "cell_type": "markdown",
   "metadata": {
    "colab_type": "text",
    "id": "FHom8o2KCt36"
   },
   "source": [
    "## Principal Component Analysis(PCA)"
   ]
  },
  {
   "cell_type": "code",
   "execution_count": 71,
   "metadata": {
    "colab": {
     "base_uri": "https://localhost:8080/",
     "height": 234
    },
    "colab_type": "code",
    "id": "wT4cx5uGTjmj",
    "outputId": "e679d00a-545f-441a-acb4-7b3a127cb8cd"
   },
   "outputs": [
    {
     "name": "stdout",
     "output_type": "stream",
     "text": [
      "+-------+-----+--------------------+------------------+----------------------+-------------------+----------------------+------------------------+----------------------+-----------------------+--------------------+--------------------+\n",
      "|deposit|label|            features|job_encoded_SCALED|marital_encoded_SCALED|loan_encoded_SCALED|default_encoded_SCALED|education_encoded_SCALED|housing_encoded_SCALED|poutcome_encoded_SCALED|     features_SCALED|          pcaFeature|\n",
      "+-------+-----+--------------------+------------------+----------------------+-------------------+----------------------+------------------------+----------------------+-----------------------+--------------------+--------------------+\n",
      "|    yes|  0.0|(23,[5,10,12,14,1...|    (10,[5],[1.0])|             [1.0,0.0]|              [1.0]|                 [1.0]|               [1.0,0.0]|                 [0.0]|                  [1.0]|(23,[5,10,12,14,1...|[0.96364248505161...|\n",
      "|    yes|  0.0|(23,[1,10,12,14,1...|    (10,[1],[1.0])|             [1.0,0.0]|              [1.0]|                 [1.0]|               [1.0,0.0]|                 [0.0]|                  [0.0]|(23,[1,10,12,14,1...|[0.83734101836269...|\n",
      "|    yes|  0.0|(23,[2,10,13,14,1...|    (10,[2],[1.0])|             [1.0,0.0]|              [1.0]|                 [1.0]|               [0.0,1.0]|                 [0.0]|                  [1.0]|(23,[2,10,13,14,1...|[-0.1084500265257...|\n",
      "|    yes|  0.0|(23,[4,10,13,14,1...|    (10,[4],[1.0])|             [1.0,0.0]|              [1.0]|                 [1.0]|               [0.0,1.0]|                 [1.0]|                  [0.0]|(23,[4,10,13,14,1...|[-0.4795609426699...|\n",
      "|    yes|  0.0|(23,[1,10,12,14,1...|    (10,[1],[1.0])|             [1.0,0.0]|              [1.0]|                 [1.0]|               [1.0,0.0]|                 [0.0]|                  [1.0]|(23,[1,10,12,14,1...|[0.95767948650618...|\n",
      "+-------+-----+--------------------+------------------+----------------------+-------------------+----------------------+------------------------+----------------------+-----------------------+--------------------+--------------------+\n",
      "only showing top 5 rows\n",
      "\n"
     ]
    }
   ],
   "source": [
    "#IMPORTING PACKAGES FOR PCA\n",
    "from pyspark.ml.feature import PCA\n",
    "from pyspark.mllib.linalg.distributed import RowMatrix\n",
    "from sklearn.feature_extraction import DictVectorizer\n",
    "from __future__ import print_function\n",
    "from pyspark.ml.feature import  VectorAssembler\n",
    "from pyspark.mllib.linalg import Vectors\n",
    "from pyspark.ml import Pipeline\n",
    "import numpy as np\n",
    "\n",
    "#APPLYING PCA FUNCTION TO NORMALIZED FEATURE COLUMN ONLY\n",
    "pca = PCA(k=2, inputCol='features_SCALED', outputCol='pcaFeature')\n",
    "\n",
    "#FITTING AND TRANSFORMING THE DATA\n",
    "model = pca.fit(df4)\n",
    "\n",
    "resultdf = model.transform(df4).show(5)\n"
   ]
  },
  {
   "cell_type": "code",
   "execution_count": 73,
   "metadata": {
    "colab": {
     "base_uri": "https://localhost:8080/",
     "height": 474
    },
    "colab_type": "code",
    "id": "mL0OE8L6bOH_",
    "outputId": "743662a5-6f5f-41df-b854-75f57c880913"
   },
   "outputs": [
    {
     "name": "stdout",
     "output_type": "stream",
     "text": [
      "+-------+-----------------------------------------+\n",
      "|deposit|pcaFeature                               |\n",
      "+-------+-----------------------------------------+\n",
      "|yes    |[0.9636424850516162,0.33138114789353396] |\n",
      "|yes    |[0.8373410183626985,0.3880024159205378]  |\n",
      "|yes    |[-0.10845002652577136,0.6564023408615192]|\n",
      "|yes    |[-0.4795609426699976,1.1082617061108204] |\n",
      "|yes    |[0.9576794865061865,0.27146436786874945] |\n",
      "|yes    |[0.7879027918969115,0.5145147352059626]  |\n",
      "|yes    |[0.5124304692668894,-0.19176487082431343]|\n",
      "|yes    |[-0.7369547765884157,1.0356901001261154] |\n",
      "|yes    |[-0.1028260652716233,0.6718228060101591] |\n",
      "|yes    |[1.0661514594146067,0.32850428644471624] |\n",
      "|yes    |[-0.32474294634017603,0.8134787300694883]|\n",
      "|yes    |[-0.21097521651898585,0.7625432021333829]|\n",
      "|yes    |[0.9643915702012149,0.32767154073159427] |\n",
      "|yes    |[0.8970032005901829,0.35148141971077346] |\n",
      "|yes    |[0.47244006359865365,0.6034483574148239] |\n",
      "|yes    |[0.7840860892766278,0.4214589589329853]  |\n",
      "|yes    |[-0.7640855001185496,1.1175087314877765] |\n",
      "|yes    |[0.5078194714105321,0.5364599694359938]  |\n",
      "|yes    |[1.0209821083288682,0.36510796039610105] |\n",
      "|yes    |[-0.6823665987365001,-0.5902523648089761]|\n",
      "+-------+-----------------------------------------+\n",
      "only showing top 20 rows\n",
      "\n"
     ]
    }
   ],
   "source": [
    "#DISPLAYING ONLY PREDICTOR VARIABLE AND ITS PCA FEATURES\n",
    "result = model.transform(df4).select(\"deposit\",\"pcaFeature\")\n",
    "result.show(truncate=False)"
   ]
  },
  {
   "cell_type": "code",
   "execution_count": 74,
   "metadata": {
    "colab": {},
    "colab_type": "code",
    "id": "wDSJihZAZpHP"
   },
   "outputs": [
    {
     "name": "stderr",
     "output_type": "stream",
     "text": [
      "\r",
      "[Stage 423:>                                                        (0 + 1) / 1]\r",
      "\r",
      "                                                                                \r"
     ]
    }
   ],
   "source": [
    "#IMPORTING PACKAGES FOR SCATTER PLOT\n",
    "from pyspark.ml.linalg import Vectors\n",
    "import numpy as np\n",
    "import matplotlib.pyplot as plt\n",
    "import seaborn as sns; sns.set()\n",
    "\n",
    "#SEPRATING THE PCA FEATURES AS PER DEPOSIT RESPONSE0\n",
    "#COLLECT FUNCTION TO CONVERT IT FROM SPARK DATAFRAME TO NUMPY DATA FRAME\n",
    "x=result.select('pcaFeature').where(result.deposit=='yes').collect()\n",
    "y=result.select('pcaFeature').where(result.deposit=='no').collect()\n",
    "\n",
    "#CREATING EMPTY LIST FOR APPENDING\n",
    "ycomp1=[]\n",
    "ncomp1=[]\n",
    "ycomp2=[]\n",
    "ncomp2=[]\n",
    "\n",
    "#FOR LOOP FOR FIRST ARRAY\n",
    "for row in x:\n",
    "  array=row['pcaFeature'].toArray()\n",
    "  ycomp1.append(array[0])\n",
    "  ncomp1.append(array[1])\n",
    "\n",
    "#FOR LOOP FOR SECOND ARRAY \n",
    "for row in y:\n",
    "  array=row['pcaFeature'].toArray()\n",
    "  ycomp2.append(array[0])\n",
    "  ncomp2.append(array[1])\n"
   ]
  },
  {
   "cell_type": "code",
   "execution_count": 75,
   "metadata": {
    "colab": {
     "base_uri": "https://localhost:8080/",
     "height": 309
    },
    "colab_type": "code",
    "id": "Fr8bqmqAmW_l",
    "outputId": "2a830f6a-7179-4432-e7bc-a0932177ab10"
   },
   "outputs": [
    {
     "data": {
      "text/plain": [
       "<matplotlib.legend.Legend at 0x7f4bdb8a08e0>"
      ]
     },
     "execution_count": 75,
     "metadata": {},
     "output_type": "execute_result"
    },
    {
     "data": {
      "image/png": "[encoded data removed]",
      "text/plain": [
       "<Figure size 432x288 with 1 Axes>"
      ]
     },
     "metadata": {},
     "output_type": "display_data"
    }
   ],
   "source": [
    "#USING SEABORN PACKAGE FOR PLOTTING\n",
    "sns.scatterplot(ycomp1,ncomp1)\n",
    "sns.scatterplot(ycomp2,ncomp2)\n",
    "plt.xlabel(\"PC1\")\n",
    "plt.ylabel(\"PC2\")\n",
    "plt.legend([\"yes\",'no'])"
   ]
  },
  {
   "cell_type": "markdown",
   "metadata": {
    "colab_type": "text",
    "id": "ulp_uILXCv4Z"
   },
   "source": [
    "# Supervised learning"
   ]
  },
  {
   "cell_type": "code",
   "execution_count": 77,
   "metadata": {
    "colab": {
     "base_uri": "https://localhost:8080/",
     "height": 53
    },
    "colab_type": "code",
    "id": "0O7tszcPfnHN",
    "outputId": "56a66511-c68e-47a7-ba96-aeb3c9363aa2"
   },
   "outputs": [
    {
     "name": "stdout",
     "output_type": "stream",
     "text": [
      "Training Dataset Count: 1540\n",
      "Test Dataset Count: 641\n",
      "DataFrame[deposit: string, label: double, features: vector, job_encoded_SCALED: vector, marital_encoded_SCALED: vector, loan_encoded_SCALED: vector, default_encoded_SCALED: vector, education_encoded_SCALED: vector, housing_encoded_SCALED: vector, poutcome_encoded_SCALED: vector, features_SCALED: vector, prediction: int]\n"
     ]
    }
   ],
   "source": [
    "#SPLITTING NORMALIZED DATA FRAME INTO 70% AND 30% RATIO\n",
    "train, test = df4.randomSplit([0.7, 0.3], seed = 742)\n",
    "print(\"Training Dataset Count: \" + str(train.count()))\n",
    "print(\"Test Dataset Count: \" + str(test.count()))\n",
    "print(predictions)"
   ]
  },
  {
   "cell_type": "markdown",
   "metadata": {
    "colab_type": "text",
    "id": "2SsHdh7YC-eN"
   },
   "source": [
    "## Logistic Regression Model"
   ]
  },
  {
   "cell_type": "code",
   "execution_count": 37,
   "metadata": {
    "colab": {},
    "colab_type": "code",
    "id": "Vqo_ywFQYxSj"
   },
   "outputs": [
    {
     "name": "stderr",
     "output_type": "stream",
     "text": [
      "                                                                                \r"
     ]
    }
   ],
   "source": [
    "#IMPORTING PACKAGES FOR LOGISTIC REGRESSION\n",
    "from pyspark.ml.classification import LogisticRegression\n",
    "from pyspark.ml.evaluation import MulticlassClassificationEvaluator\n",
    "from pyspark.ml.evaluation import BinaryClassificationEvaluator \n",
    "\n",
    "#FITTING A LOGISTIC REGRESSION MODEL TO TRAIN DATA USING NORMALIZED FEATURES\n",
    "lr = LogisticRegression(featuresCol = 'features_SCALED', labelCol = 'label', maxIter=10)\n",
    "lrModel = lr.fit(train)\n",
    "\n"
   ]
  },
  {
   "cell_type": "code",
   "execution_count": 38,
   "metadata": {
    "colab": {
     "base_uri": "https://localhost:8080/",
     "height": 275
    },
    "colab_type": "code",
    "id": "hANwFUzhgG83",
    "outputId": "bc5e5c5f-1e3b-4590-b14f-00d8fb8e4977"
   },
   "outputs": [
    {
     "data": {
      "image/png": "[encoded data removed]",
      "text/plain": [
       "<Figure size 432x288 with 1 Axes>"
      ]
     },
     "metadata": {},
     "output_type": "display_data"
    }
   ],
   "source": [
    "#SORTING AND PLOTTING ALL THE 23 COEFFICIENTS OF THE MODEL\n",
    "import matplotlib.pyplot as plt\n",
    "import numpy as np\n",
    "\n",
    "beta = np.sort(lrModel.coefficients)\n",
    "\n",
    "#PLOTTING AND LABELLING\n",
    "plt.plot(beta)\n",
    "plt.ylabel('Beta Coefficients')\n",
    "plt.show()"
   ]
  },
  {
   "cell_type": "code",
   "execution_count": 39,
   "metadata": {
    "colab": {
     "base_uri": "https://localhost:8080/",
     "height": 147
    },
    "colab_type": "code",
    "id": "4rG0hiMAMwIV",
    "outputId": "96257575-bdc2-4967-c846-32d9048cf723"
   },
   "outputs": [
    {
     "name": "stdout",
     "output_type": "stream",
     "text": [
      "[-2.73586717e+00 -2.39917417e+00 -7.57680549e-01 -7.24004979e-01\n",
      " -6.78885101e-01 -5.84879604e-01 -5.06639013e-01 -5.02323835e-01\n",
      " -3.37848531e-01 -1.63465025e-01 -1.55302106e-01 -1.46913745e-01\n",
      " -1.45504446e-01 -1.03660325e-01 -8.07490750e-02 -2.54808540e-02\n",
      " -1.08994829e-03  6.50840744e-02  1.61404773e-01  2.57816377e-01\n",
      "  4.53879474e-01  2.01197967e+00  2.31217978e+00]\n",
      "Coefficients: [-0.1455044461207159,-0.0010899482889323623,-0.025480853954775885,0.2578163766589017,-0.3378485305789781,-0.08074907498032702,-0.7576805488395173,-0.678885101079696,0.16140477305471884,0.4538794744299883,-0.10366032494024682,-0.14691374454538023,-0.16346502469590238,-0.5066390128378919,-0.5848796042054513,-0.7240049791475263,-0.5023238346956287,2.0119796674510497,-0.15530210578563003,-2.7358671737007514,2.312179780239366,0.06508407439963516,-2.3991741671432236]\n",
      "Intercept: -0.2357614870921092\n"
     ]
    }
   ],
   "source": [
    "#PRINTING COEFFICIENTS AND INTERCEPT FOR THE MODEL\n",
    "print(beta)\n",
    "\n",
    "print(\"Coefficients: \" + str(lrModel.coefficients))\n",
    "print(\"Intercept: \" + str(lrModel.intercept))"
   ]
  },
  {
   "cell_type": "code",
   "execution_count": 40,
   "metadata": {
    "colab": {
     "base_uri": "https://localhost:8080/",
     "height": 319
    },
    "colab_type": "code",
    "id": "G7apTaENDgiZ",
    "outputId": "c7cc2a59-8324-45df-d148-193bd33e4de8"
   },
   "outputs": [
    {
     "name": "stderr",
     "output_type": "stream",
     "text": [
      "                                                                                \r"
     ]
    },
    {
     "data": {
      "image/png": "[encoded data removed]",
      "text/plain": [
       "<Figure size 432x288 with 1 Axes>"
      ]
     },
     "metadata": {},
     "output_type": "display_data"
    },
    {
     "name": "stdout",
     "output_type": "stream",
     "text": [
      "Training set areaUnderROC: 0.8183745264297244\n"
     ]
    }
   ],
   "source": [
    "#CALCULATING ROC AND PLOTTING IT\n",
    "#USING SUMMARY FUNCTION TO GET ALL THE PARAMETERS\n",
    "trainingSummary = lrModel.summary\n",
    "\n",
    "roc = trainingSummary.roc.toPandas()\n",
    "plt.plot(roc['FPR'],roc['TPR'])\n",
    "plt.ylabel('False Positive Rate')\n",
    "plt.xlabel('True Positive Rate')\n",
    "plt.title('ROC Curve')\n",
    "plt.show()\n",
    "\n",
    "print('Training set areaUnderROC: ' + str(trainingSummary.areaUnderROC))"
   ]
  },
  {
   "cell_type": "markdown",
   "metadata": {
    "colab_type": "text",
    "id": "J-zb5RcQDs-Q"
   },
   "source": [
    "BETTER THE ROC BETTER THE MODEL"
   ]
  },
  {
   "cell_type": "code",
   "execution_count": 41,
   "metadata": {
    "colab": {
     "base_uri": "https://localhost:8080/",
     "height": 309
    },
    "colab_type": "code",
    "id": "QQ9zDfbqDm_S",
    "outputId": "83a4e65a-ddbd-40ea-df6a-47e4a9d97d1a"
   },
   "outputs": [
    {
     "data": {
      "image/png": "[encoded data removed]",
      "text/plain": [
       "<Figure size 432x288 with 1 Axes>"
      ]
     },
     "metadata": {},
     "output_type": "display_data"
    }
   ],
   "source": [
    "#PLOTTING RECALL VS PRECISION GRAPH\n",
    "pr = trainingSummary.pr.toPandas()\n",
    "plt.plot(pr['recall'],pr['precision'])\n",
    "plt.ylabel('Precision')\n",
    "plt.xlabel('Recall')\n",
    "plt.show()"
   ]
  },
  {
   "cell_type": "code",
   "execution_count": 79,
   "metadata": {
    "colab": {
     "base_uri": "https://localhost:8080/",
     "height": 298
    },
    "colab_type": "code",
    "id": "qvAh1SHs7TUB",
    "outputId": "23d95098-6bd2-4292-fe9f-8923d8408547"
   },
   "outputs": [
    {
     "name": "stderr",
     "output_type": "stream",
     "text": [
      "\r",
      "[Stage 437:>                                                        (0 + 1) / 1]\r"
     ]
    },
    {
     "name": "stdout",
     "output_type": "stream",
     "text": [
      "+--------------------+-----+--------------------+----------+--------------------+\n",
      "|            features|label|       rawPrediction|prediction|         probability|\n",
      "+--------------------+-----+--------------------+----------+--------------------+\n",
      "|(23,[0,10,12,14,1...|  1.0|[2.41064394654608...|       0.0|[0.91763536489496...|\n",
      "|(23,[0,10,12,14,1...|  1.0|[-0.1636071332480...|       1.0|[0.45918920897245...|\n",
      "|(23,[0,10,12,14,1...|  1.0|[-0.2985059737566...|       1.0|[0.42592275087819...|\n",
      "|(23,[0,10,13,14,1...|  1.0|[0.97150621698727...|       0.0|[0.72541961696403...|\n",
      "|(23,[0,10,13,14,1...|  1.0|[0.83585750141027...|       0.0|[0.69759204129555...|\n",
      "|(23,[0,10,13,14,1...|  1.0|[0.89635433953602...|       0.0|[0.71019974250638...|\n",
      "|(23,[0,10,13,14,1...|  1.0|[-0.2675008588998...|       1.0|[0.43352073310329...|\n",
      "|(23,[0,10,13,14,1...|  1.0|[-1.2385812621749...|       1.0|[0.22468303412713...|\n",
      "|(23,[0,10,13,14,1...|  1.0|[0.02902941348534...|       0.0|[0.50725684376249...|\n",
      "|(23,[0,10,13,14,1...|  1.0|[-0.0690496930204...|       1.0|[0.48274443221124...|\n",
      "+--------------------+-----+--------------------+----------+--------------------+\n",
      "only showing top 10 rows\n",
      "\n"
     ]
    },
    {
     "name": "stderr",
     "output_type": "stream",
     "text": [
      "\r",
      "                                                                                \r"
     ]
    }
   ],
   "source": [
    "#CALCULATING PREDICTION AND PROBABILITY FOR ALL THE FEATURES\n",
    "predictionsLR = lrModel.transform(test)\n",
    "predictionsLR.select( 'features','label', 'rawPrediction', 'prediction', 'probability').show(10)"
   ]
  },
  {
   "cell_type": "code",
   "execution_count": 43,
   "metadata": {
    "colab": {
     "base_uri": "https://localhost:8080/",
     "height": 35
    },
    "colab_type": "code",
    "id": "98Ry1ysG9-Pv",
    "outputId": "58818769-4754-421d-84be-93997c7a023e"
   },
   "outputs": [
    {
     "name": "stderr",
     "output_type": "stream",
     "text": [
      "                                                                                \r"
     ]
    },
    {
     "name": "stdout",
     "output_type": "stream",
     "text": [
      "Test Area Under ROC 0.8047027710704856\n"
     ]
    }
   ],
   "source": [
    "#USING BINARYCLASS EVALUATOR FOR TEST AREA UNDER ROC CALCULATION\n",
    "#DEFAULT METRIC FOR BINARY CLASS IS AREA UNDER ROC\n",
    "\n",
    "from pyspark.ml.evaluation import BinaryClassificationEvaluator\n",
    "evaluator = BinaryClassificationEvaluator()\n",
    "print('Test Area Under ROC', evaluator.evaluate(predictionsLR))"
   ]
  },
  {
   "cell_type": "code",
   "execution_count": 44,
   "metadata": {
    "colab": {
     "base_uri": "https://localhost:8080/",
     "height": 210
    },
    "colab_type": "code",
    "id": "ssC9lAVe_b43",
    "outputId": "63fee146-5d29-479a-c356-030d5f11e173"
   },
   "outputs": [
    {
     "name": "stdout",
     "output_type": "stream",
     "text": [
      "+-----+----------+\n",
      "|label|prediction|\n",
      "+-----+----------+\n",
      "|  0.0|         2|\n",
      "|  0.0|         2|\n",
      "|  0.0|         4|\n",
      "|  0.0|         4|\n",
      "|  0.0|         2|\n",
      "+-----+----------+\n",
      "only showing top 5 rows\n",
      "\n"
     ]
    }
   ],
   "source": [
    "#PRINTING ONLY LABEL AND PREDICTION FOR ACCURACY CALCULATION\n",
    "accdf=predictions.select(\"label\",\"prediction\").show(5)"
   ]
  },
  {
   "cell_type": "code",
   "execution_count": 45,
   "metadata": {
    "colab": {
     "base_uri": "https://localhost:8080/",
     "height": 35
    },
    "colab_type": "code",
    "id": "4pYvrsSNB2KI",
    "outputId": "b8a3bfe6-6bc3-4e81-ae71-114408f3702d"
   },
   "outputs": [
    {
     "name": "stderr",
     "output_type": "stream",
     "text": [
      "\r",
      "[Stage 255:>                                                        (0 + 1) / 1]\r"
     ]
    },
    {
     "name": "stdout",
     "output_type": "stream",
     "text": [
      "accuracy=0.75195\n"
     ]
    },
    {
     "name": "stderr",
     "output_type": "stream",
     "text": [
      "\r",
      "                                                                                \r"
     ]
    }
   ],
   "source": [
    "#MULTICLASS EVALUATOR FOR ACCURACY USING PREDICTION AND LABEL COLUMNS\n",
    "from pyspark.ml.evaluation import MulticlassClassificationEvaluator\n",
    "\n",
    "my_eval1 = MulticlassClassificationEvaluator(predictionCol='prediction',labelCol='label', metricName='accuracy')\n",
    "acc = my_eval1.evaluate(predictionsLR)\n",
    "print(\"accuracy=%g\" %(acc))"
   ]
  },
  {
   "cell_type": "code",
   "execution_count": 46,
   "metadata": {
    "colab": {
     "base_uri": "https://localhost:8080/",
     "height": 53
    },
    "colab_type": "code",
    "id": "RHXJMD_1gkMU",
    "outputId": "1cfaac3f-194b-4e23-fcd6-813c4f2b583f"
   },
   "outputs": [
    {
     "name": "stderr",
     "output_type": "stream",
     "text": [
      "[Stage 258:>                                                        (0 + 1) / 1]\r"
     ]
    },
    {
     "name": "stdout",
     "output_type": "stream",
     "text": [
      "DenseMatrix([[365.,  78.],\n",
      "             [ 81., 117.]])\n"
     ]
    },
    {
     "name": "stderr",
     "output_type": "stream",
     "text": [
      "\r",
      "                                                                                \r"
     ]
    }
   ],
   "source": [
    "#CALCULATING CONFUSION MATRIX OF THE LR MODEL USING MULTICLASS METRICS\n",
    "from pyspark.mllib.evaluation import MulticlassMetrics\n",
    "predandlabel=predictionsLR.select( 'label', 'prediction').rdd\n",
    "metrics = MulticlassMetrics(predandlabel)\n",
    "print(metrics.confusionMatrix())"
   ]
  },
  {
   "cell_type": "code",
   "execution_count": 47,
   "metadata": {
    "colab": {
     "base_uri": "https://localhost:8080/",
     "height": 35
    },
    "colab_type": "code",
    "id": "nqqJUKAPeWsE",
    "outputId": "58b10b47-8e1c-41c9-99f1-b0e14b764fa9"
   },
   "outputs": [
    {
     "name": "stdout",
     "output_type": "stream",
     "text": [
      "Logistic regression:precision,recall,f1score 0.8183856502242153 0.8239277652370203 0.8211473565804275\n"
     ]
    }
   ],
   "source": [
    "#METRICS FOR PRECISION, RECALL AND F1SCORE\n",
    "cm=metrics.confusionMatrix().toArray()\n",
    "precision=(cm[0][0])/(cm[0][0]+cm[1][0])\n",
    "recall=(cm[0][0])/(cm[0][0]+cm[0][1])\n",
    "f1score =((2*precision*recall )/ (precision + recall))\n",
    "\n",
    "print(\"Logistic regression:precision,recall,f1score\",precision,recall,f1score)"
   ]
  },
  {
   "cell_type": "code",
   "execution_count": 48,
   "metadata": {
    "colab": {
     "base_uri": "https://localhost:8080/",
     "height": 292
    },
    "colab_type": "code",
    "id": "AApi7kU3wj8o",
    "outputId": "9b47214e-dae5-4817-d351-a972d979fc35"
   },
   "outputs": [
    {
     "data": {
      "text/plain": [
       "<AxesSubplot:>"
      ]
     },
     "execution_count": 48,
     "metadata": {},
     "output_type": "execute_result"
    },
    {
     "data": {
      "image/png": "[encoded data removed]",
      "text/plain": [
       "<Figure size 432x288 with 2 Axes>"
      ]
     },
     "metadata": {},
     "output_type": "display_data"
    }
   ],
   "source": [
    "#PLOTTING HEATMAP OF ALL THE METRICS PARAMETERS USING SEABORN PACKAGE\n",
    "import seaborn as sns\n",
    "sns.heatmap(cm, annot=True)"
   ]
  },
  {
   "cell_type": "markdown",
   "metadata": {
    "colab_type": "text",
    "id": "evM5eiJoDHw2"
   },
   "source": [
    "## Decision Tree Model"
   ]
  },
  {
   "cell_type": "code",
   "execution_count": 49,
   "metadata": {
    "colab": {
     "base_uri": "https://localhost:8080/",
     "height": 298
    },
    "colab_type": "code",
    "id": "He4mlHb7hBoY",
    "outputId": "ff0eab73-fd67-421a-f4ed-1258df9685f9"
   },
   "outputs": [
    {
     "name": "stderr",
     "output_type": "stream",
     "text": [
      "[Stage 270:>                                                        (0 + 1) / 1]\r"
     ]
    },
    {
     "name": "stdout",
     "output_type": "stream",
     "text": [
      "+-----+-------------+----------+--------------------+\n",
      "|label|rawPrediction|prediction|         probability|\n",
      "+-----+-------------+----------+--------------------+\n",
      "|  1.0| [655.0,63.0]|       0.0|[0.91225626740947...|\n",
      "|  1.0|[167.0,294.0]|       1.0|[0.36225596529284...|\n",
      "|  1.0|[167.0,294.0]|       1.0|[0.36225596529284...|\n",
      "|  1.0| [199.0,98.0]|       0.0|[0.67003367003367...|\n",
      "|  1.0| [199.0,98.0]|       0.0|[0.67003367003367...|\n",
      "|  1.0| [199.0,98.0]|       0.0|[0.67003367003367...|\n",
      "|  1.0| [199.0,98.0]|       0.0|[0.67003367003367...|\n",
      "|  1.0| [199.0,98.0]|       0.0|[0.67003367003367...|\n",
      "|  1.0|[167.0,294.0]|       1.0|[0.36225596529284...|\n",
      "|  1.0|[167.0,294.0]|       1.0|[0.36225596529284...|\n",
      "+-----+-------------+----------+--------------------+\n",
      "only showing top 10 rows\n",
      "\n"
     ]
    },
    {
     "name": "stderr",
     "output_type": "stream",
     "text": [
      "\r",
      "                                                                                \r"
     ]
    }
   ],
   "source": [
    "#IMPORTING PACKAGE FOR DECISION TREE MODEL\n",
    "#FITTING TRAIN AND TEST DATA USING FEATURES AND LABEL COLUMNS\n",
    "from pyspark.ml.classification import DecisionTreeClassifier\n",
    "dt = DecisionTreeClassifier(featuresCol = 'features', labelCol = 'label', maxDepth = 3)\n",
    "dtModel = dt.fit(train)\n",
    "predictions1 = dtModel.transform(test)\n",
    "predictions1.select( 'label', 'rawPrediction', 'prediction', 'probability').show(10)"
   ]
  },
  {
   "cell_type": "code",
   "execution_count": 50,
   "metadata": {
    "colab": {},
    "colab_type": "code",
    "id": "R2yalzkNHrxp"
   },
   "outputs": [
    {
     "name": "stderr",
     "output_type": "stream",
     "text": [
      "\r",
      "[Stage 271:>                                                        (0 + 1) / 1]\r"
     ]
    },
    {
     "name": "stdout",
     "output_type": "stream",
     "text": [
      "Test Area Under ROC: 0.7771760377141542\n"
     ]
    },
    {
     "name": "stderr",
     "output_type": "stream",
     "text": [
      "\r",
      "                                                                                \r"
     ]
    }
   ],
   "source": [
    "#CALCULATING AREA UNDER ROC\n",
    "evaluator = BinaryClassificationEvaluator()\n",
    "print(\"Test Area Under ROC: \" + str(evaluator.evaluate(predictions1, {evaluator.metricName: \"areaUnderROC\"})))"
   ]
  },
  {
   "cell_type": "code",
   "execution_count": 51,
   "metadata": {
    "colab": {
     "base_uri": "https://localhost:8080/",
     "height": 43
    },
    "colab_type": "code",
    "id": "P4_CSAqjc0sr",
    "outputId": "dab75f99-0bb6-451b-e0c0-04b42ba860ec"
   },
   "outputs": [
    {
     "name": "stderr",
     "output_type": "stream",
     "text": [
      "\r",
      "[Stage 280:>                                                        (0 + 1) / 1]\r"
     ]
    },
    {
     "name": "stdout",
     "output_type": "stream",
     "text": [
      "accuracy=0.764431\n"
     ]
    },
    {
     "name": "stderr",
     "output_type": "stream",
     "text": [
      "\r",
      "                                                                                \r"
     ]
    }
   ],
   "source": [
    "#CALCULATING ACCURACY USING MULTICLASS EVALUATOR\n",
    "from pyspark.ml.evaluation import MulticlassClassificationEvaluator\n",
    "\n",
    "my_eval2 = MulticlassClassificationEvaluator(predictionCol='prediction',labelCol='label', metricName='accuracy')\n",
    "acc = my_eval2.evaluate(predictions1)\n",
    "print(\"accuracy=%g\" %(acc))"
   ]
  },
  {
   "cell_type": "code",
   "execution_count": 52,
   "metadata": {
    "colab": {
     "base_uri": "https://localhost:8080/",
     "height": 58
    },
    "colab_type": "code",
    "id": "5tnLP-tOfc_6",
    "outputId": "b30be895-76d4-4c62-e4ca-d24e094cc325"
   },
   "outputs": [
    {
     "name": "stderr",
     "output_type": "stream",
     "text": [
      "                                                                                \r"
     ]
    },
    {
     "name": "stdout",
     "output_type": "stream",
     "text": [
      "DenseMatrix([[364.,  69.],\n",
      "             [ 82., 126.]])\n"
     ]
    },
    {
     "name": "stderr",
     "output_type": "stream",
     "text": [
      "\r",
      "[Stage 283:>                                                        (0 + 1) / 1]\r",
      "\r",
      "                                                                                \r"
     ]
    }
   ],
   "source": [
    "#PRINTING CONFUSION MATRIX FOR DECISION TREE MODEL\n",
    "from pyspark.mllib.evaluation import MulticlassMetrics\n",
    "predandlabel=predictions1.select( 'label', 'prediction').rdd\n",
    "metrics1 = MulticlassMetrics(predandlabel)\n",
    "print(metrics1.confusionMatrix())"
   ]
  },
  {
   "cell_type": "code",
   "execution_count": 53,
   "metadata": {
    "colab": {
     "base_uri": "https://localhost:8080/",
     "height": 35
    },
    "colab_type": "code",
    "id": "iwugjHgLii6j",
    "outputId": "0f2b8464-caf0-4730-e33b-f0a95e2beea9"
   },
   "outputs": [
    {
     "name": "stdout",
     "output_type": "stream",
     "text": [
      "Decision Tree:precision,recall,f1score 0.8161434977578476 0.8406466512702079 0.8282138794084187\n"
     ]
    }
   ],
   "source": [
    "#METRICS FUNCTION TO EVALUATE RECALL, PRECISION AND F1SCORE\n",
    "cm=metrics1.confusionMatrix().toArray()\n",
    "precision=(cm[0][0])/(cm[0][0]+cm[1][0])\n",
    "recall=(cm[0][0])/(cm[0][0]+cm[0][1])\n",
    "f1score =((2*precision*recall )/ (precision + recall))\n",
    "\n",
    "print(\"Decision Tree:precision,recall,f1score\",precision,recall,f1score)"
   ]
  },
  {
   "cell_type": "code",
   "execution_count": 54,
   "metadata": {
    "colab": {
     "base_uri": "https://localhost:8080/",
     "height": 35
    },
    "colab_type": "code",
    "id": "qikznTk04OGu",
    "outputId": "4a34cb98-27af-42ba-dd87-4db8b9ddcbfc"
   },
   "outputs": [
    {
     "data": {
      "text/plain": [
       "SparseVector(23, {1: 0.0075, 3: 0.0282, 15: 0.1401, 17: 0.7534, 21: 0.0597, 22: 0.0112})"
      ]
     },
     "execution_count": 54,
     "metadata": {},
     "output_type": "execute_result"
    }
   ],
   "source": [
    "#PRINTING ALL THE IMPORTANT FEATURES\n",
    "dtModel.featureImportances"
   ]
  },
  {
   "cell_type": "code",
   "execution_count": 55,
   "metadata": {
    "colab": {
     "base_uri": "https://localhost:8080/",
     "height": 292
    },
    "colab_type": "code",
    "id": "6w9-w0LIwssH",
    "outputId": "aab2d921-8713-4009-e5d1-2444eb7fdd8c"
   },
   "outputs": [
    {
     "data": {
      "text/plain": [
       "<AxesSubplot:>"
      ]
     },
     "execution_count": 55,
     "metadata": {},
     "output_type": "execute_result"
    },
    {
     "data": {
      "image/png": "[encoded data removed]",
      "text/plain": [
       "<Figure size 432x288 with 2 Axes>"
      ]
     },
     "metadata": {},
     "output_type": "display_data"
    }
   ],
   "source": [
    "#PLOTTING METRICS AS SEABORN\n",
    "import seaborn as sns\n",
    "sns.heatmap(cm, annot=True)"
   ]
  },
  {
   "cell_type": "markdown",
   "metadata": {
    "colab_type": "text",
    "id": "CaE-Z_IlDKXF"
   },
   "source": [
    "## Naive Bayes Model"
   ]
  },
  {
   "cell_type": "code",
   "execution_count": 58,
   "metadata": {
    "colab": {},
    "colab_type": "code",
    "id": "MCTqc70X2ynY"
   },
   "outputs": [],
   "source": [
    "#IMPORTING NAIVE BAYES PACKAGE\n",
    "from pyspark.ml.classification import NaiveBayes\n",
    "\n",
    "#SELECTING NORMALIZED COLUMNS FOR MODELLING\n",
    "nbdf=predictions.select('label','job_encoded_SCALED','marital_encoded_SCALED','loan_encoded_SCALED','default_encoded_SCALED','education_encoded_SCALED','housing_encoded_SCALED','poutcome_encoded_SCALED','features_SCALED',\"prediction\")"
   ]
  },
  {
   "cell_type": "code",
   "execution_count": 59,
   "metadata": {
    "colab": {
     "base_uri": "https://localhost:8080/",
     "height": 175
    },
    "colab_type": "code",
    "id": "fiHQfAiR27Dw",
    "outputId": "5d92c202-3dbe-480a-f3c6-a684c22578e5"
   },
   "outputs": [
    {
     "name": "stdout",
     "output_type": "stream",
     "text": [
      "+-----+--------------------+\n",
      "|label|            features|\n",
      "+-----+--------------------+\n",
      "|  0.0|(23,[5,10,12,14,1...|\n",
      "|  0.0|(23,[1,10,12,14,1...|\n",
      "|  0.0|(23,[2,10,13,14,1...|\n",
      "+-----+--------------------+\n",
      "only showing top 3 rows\n",
      "\n"
     ]
    }
   ],
   "source": [
    "#RENAMING SCALED FEATURES COLUMN TO 'FEATURES' FOR NAIVE BAYES MODEL \n",
    "nbdf = nbdf.selectExpr(\"label as label\",\"features_SCALED as features\")\n",
    "nbdf.show(3)"
   ]
  },
  {
   "cell_type": "code",
   "execution_count": 60,
   "metadata": {
    "colab": {},
    "colab_type": "code",
    "id": "FHcNgz4074Ap"
   },
   "outputs": [],
   "source": [
    "#SPLITTING THE LABEL AND FEATURES DATA AS TRAIN AND TEST DATA\n",
    "trainbn, testnb = nbdf.randomSplit([0.7, 0.3], seed = 742)"
   ]
  },
  {
   "cell_type": "code",
   "execution_count": 61,
   "metadata": {
    "colab": {
     "base_uri": "https://localhost:8080/",
     "height": 315
    },
    "colab_type": "code",
    "id": "-jMjx0McTTWx",
    "outputId": "47eef291-9692-483a-a209-dd27cc641840"
   },
   "outputs": [
    {
     "name": "stderr",
     "output_type": "stream",
     "text": [
      "                                                                                \r"
     ]
    },
    {
     "name": "stdout",
     "output_type": "stream",
     "text": [
      "+-----+--------------------+----------+--------------------+\n",
      "|label|       rawPrediction|prediction|         probability|\n",
      "+-----+--------------------+----------+--------------------+\n",
      "|  0.0|[-18.128101289108...|       0.0|[0.71227863685887...|\n",
      "|  0.0|[-18.905025587194...|       0.0|[0.83308795651024...|\n",
      "|  0.0|[-17.210598336493...|       0.0|[0.83078085549233...|\n",
      "|  0.0|[-16.368239992271...|       0.0|[0.82011846673742...|\n",
      "|  0.0|[-18.122511379455...|       0.0|[0.51656396890790...|\n",
      "|  0.0|[-18.379947725811...|       0.0|[0.52612872952829...|\n",
      "|  0.0|[-17.219309198880...|       0.0|[0.54173239419087...|\n",
      "|  0.0|[-19.904541403547...|       0.0|[0.80183300993376...|\n",
      "|  0.0|[-22.618681384194...|       0.0|[0.76733814845131...|\n",
      "|  0.0|[-20.750414292819...|       0.0|[0.80281500588117...|\n",
      "+-----+--------------------+----------+--------------------+\n",
      "only showing top 10 rows\n",
      "\n"
     ]
    },
    {
     "name": "stderr",
     "output_type": "stream",
     "text": [
      "\r",
      "[Stage 293:>                                                        (0 + 1) / 1]\r",
      "\r",
      "                                                                                \r"
     ]
    },
    {
     "name": "stdout",
     "output_type": "stream",
     "text": [
      "Test Area Under ROC: 0.5786054421768712\n"
     ]
    }
   ],
   "source": [
    "#APPLYTING NAIVE BAYES AND FITTING INTO TEST AND TRAIN DATA\n",
    "#USING MULTINOMIAL METHOD BECAUSE BERNOULLI REQUIRES ONLY BINARY INPUT\n",
    "nb1=NaiveBayes(modelType=\"multinomial\")\n",
    "nbmodel=nb1.fit(trainbn)\n",
    "nb_predictions=nbmodel.transform(testnb)\n",
    "\n",
    "nb_evaluator=MulticlassClassificationEvaluator(labelCol=\"label\",predictionCol=\"prediction\",metricName=\"accuracy\")\n",
    "\n",
    "#EVALUATING PREDICTION AND PROBABILITY VALUES\n",
    "nb_accuracy=nb_evaluator.evaluate(nb_predictions)\n",
    "nb_predictions.select( 'label', 'rawPrediction', 'prediction', 'probability').show(10)\n",
    "\n",
    "\n",
    "print(\"Test Area Under ROC: \" + str(evaluator.evaluate(nb_predictions, {evaluator.metricName: \"areaUnderROC\"})))"
   ]
  },
  {
   "cell_type": "code",
   "execution_count": 62,
   "metadata": {
    "colab": {
     "base_uri": "https://localhost:8080/",
     "height": 35
    },
    "colab_type": "code",
    "id": "uhFjcj_WdO_R",
    "outputId": "3ded3303-a719-453e-ab64-66b52ed9dd09"
   },
   "outputs": [
    {
     "name": "stdout",
     "output_type": "stream",
     "text": [
      "accuracy=0.74415\n"
     ]
    }
   ],
   "source": [
    "#CALCULATING ACCURACY\n",
    "print(\"accuracy=%g\" %(nb_accuracy))"
   ]
  },
  {
   "cell_type": "code",
   "execution_count": 63,
   "metadata": {
    "colab": {
     "base_uri": "https://localhost:8080/",
     "height": 53
    },
    "colab_type": "code",
    "id": "ELDVzNTBgr2v",
    "outputId": "e4b84707-b1a3-4440-bdc0-1c01769d4414"
   },
   "outputs": [
    {
     "name": "stdout",
     "output_type": "stream",
     "text": [
      "DenseMatrix([[386., 109.],\n",
      "             [ 55.,  91.]])\n"
     ]
    }
   ],
   "source": [
    "#PRINTING CONFUSION MATRIX FOR NAIVE BAYES MODEL\n",
    "from pyspark.mllib.evaluation import MulticlassMetrics\n",
    "predandlabel=nb_predictions.select( 'label', 'prediction').rdd\n",
    "metrics2 = MulticlassMetrics(predandlabel)\n",
    "print(metrics2.confusionMatrix())"
   ]
  },
  {
   "cell_type": "code",
   "execution_count": 64,
   "metadata": {
    "colab": {
     "base_uri": "https://localhost:8080/",
     "height": 35
    },
    "colab_type": "code",
    "id": "vHDBrb1ii1hy",
    "outputId": "06cf9535-e51e-479f-a122-0a1f3e88dbb1"
   },
   "outputs": [
    {
     "name": "stdout",
     "output_type": "stream",
     "text": [
      "NAIVE BAYES:precision,recall,f1score 0.8752834467120182 0.7797979797979798 0.8247863247863249\n"
     ]
    }
   ],
   "source": [
    "#CALCULATING PRECISION, RECALL AND F1SCORE\n",
    "cm2=metrics2.confusionMatrix().toArray()\n",
    "precision=(cm2[0][0])/(cm2[0][0]+cm2[1][0])\n",
    "recall=(cm2[0][0])/(cm2[0][0]+cm2[0][1])\n",
    "f1score =((2*precision*recall )/ (precision + recall))\n",
    "\n",
    "print(\"NAIVE BAYES:precision,recall,f1score\",precision,recall,f1score)"
   ]
  },
  {
   "cell_type": "code",
   "execution_count": 65,
   "metadata": {
    "colab": {
     "base_uri": "https://localhost:8080/",
     "height": 292
    },
    "colab_type": "code",
    "id": "QIn0rRtJwxab",
    "outputId": "e3a11e9b-2857-4ef4-a316-f92c26a5e37c"
   },
   "outputs": [
    {
     "data": {
      "text/plain": [
       "<AxesSubplot:>"
      ]
     },
     "execution_count": 65,
     "metadata": {},
     "output_type": "execute_result"
    },
    {
     "data": {
      "image/png": "[encoded data removed]",
      "text/plain": [
       "<Figure size 432x288 with 2 Axes>"
      ]
     },
     "metadata": {},
     "output_type": "display_data"
    }
   ],
   "source": [
    "#PLOTTING METRICS VALUE IN SEABORN\n",
    "import seaborn as sns\n",
    "sns.heatmap(cm2, annot=True)"
   ]
  }
 ],
 "metadata": {
  "colab": {
   "collapsed_sections": [],
   "include_colab_link": true,
   "name": "Banking Marketing Campaign with pySpark.ipynb",
   "provenance": [],
   "version": "0.3.2"
  },
  "kernelspec": {
   "display_name": "Python 3 (ipykernel)",
   "language": "python",
   "name": "python3"
  },
  "language_info": {
   "codemirror_mode": {
    "name": "ipython",
    "version": 3
   },
   "file_extension": ".py",
   "mimetype": "text/x-python",
   "name": "python",
   "nbconvert_exporter": "python",
   "pygments_lexer": "ipython3",
   "version": "3.9.12"
  }
 },
 "nbformat": 4,
 "nbformat_minor": 1
}
