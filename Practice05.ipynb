{
 "cells": [
  {
   "cell_type": "markdown",
   "metadata": {},
   "source": [
    "### **Thông Tin Bài Nộp:**\n",
    "- Nhóm: *04*\n",
    "- Môn học: *BIG DATA AND ITS APPLICATIONS*\n",
    "- Giảng viên: *TS. Nguyễn Thôn Dã*\n",
    "- Bài tập: *PySpark Practice #5*\n",
    "\n",
    "| StudentID      | Name | Class     |\n",
    "| :---        |    :---:   |          :--- |\n",
    "| K204110855 | Đinh Văn An | K20411 |\n",
    "| K204110568 | Nguyễn Gia Hưng | K20411 |\n",
    "| K204110579 | Phạm Nguyễn Hiền Phương | K20411 |\n",
    "| K204111772 | Đinh Hoàn Hảo | K20411 |\n",
    "| K204110567 | Phạm Thị Minh Hòa | K20411 |\n",
    "| K194081062 | Lê Thanh Hải | K19408T |"
   ]
  },
  {
   "cell_type": "markdown",
   "metadata": {},
   "source": [
    "## **Import Libraries**"
   ]
  },
  {
   "cell_type": "code",
   "execution_count": 1,
   "metadata": {},
   "outputs": [],
   "source": [
    "from pyspark.sql import SparkSession\n",
    "from pyspark.sql.functions import *\n",
    "from pyspark.sql.types import *\n",
    "import matplotlib.pyplot as plt\n",
    "import seaborn as sns\n",
    "import numpy as np\n",
    "import pandas as pd"
   ]
  },
  {
   "cell_type": "code",
   "execution_count": 2,
   "metadata": {},
   "outputs": [],
   "source": [
    "spark = SparkSession.builder.appName('PySpark').getOrCreate()"
   ]
  },
  {
   "cell_type": "markdown",
   "metadata": {},
   "source": [
    "## **4.1. TRANSFORM VALUES IN A COLUMN OF A DATAFRAME**"
   ]
  },
  {
   "cell_type": "markdown",
   "metadata": {},
   "source": [
    "### **4.1.1. Tạo DataFrame**"
   ]
  },
  {
   "cell_type": "markdown",
   "metadata": {},
   "source": [
    "Mô tả Credit card fraud Dataset\n",
    "\n",
    "| Field      | Description | Data Type |\n",
    "| :---       |  :---       | :---      |\n",
    "|transdatetrans_time|\tTransaction DateTime | DateTime|\n",
    "|merchant|\tMerchant Name |    String|\n",
    "|category|\tCategory of Merchant | String|\n",
    "|amt|\tAmount of Transaction | Float|\n",
    "|city|\tCity of Credit Card Holder | String|\n",
    "|state|\tState of Credit Card Holder | String|\n",
    "|lat|\tLatitude Location of Purchase | Float|\n",
    "|long|\tLongitude Location of Purchase | Float|\n",
    "|city_pop|\tCredit Card Holder's City Population | Integer|\n",
    "|job|\tJob of Credit Card Holder | String|\n",
    "|dob|\tDate of Birth of Credit Card Holder | DateTime|\n",
    "|trans_num|\tTransaction Number | String|\n",
    "|merch_lat|\tLatitude Location of Merchant | Float|\n",
    "|merch_long|\tLongitude Location of Merchant | Float|\n",
    "|is_fraud|\tWhether Transaction is Fraud (1) or Not (0) | Integer|"
   ]
  },
  {
   "cell_type": "markdown",
   "metadata": {},
   "source": [
    "Thực hiện load dữ liệu từ file `credit-card-fraud.csv` từ `Github` vào dataframe `is_frauddf` và kiểm tra kiểu dữ liệu của các cột trong dataframe."
   ]
  },
  {
   "cell_type": "code",
   "execution_count": 3,
   "metadata": {},
   "outputs": [
    {
     "name": "stdout",
     "output_type": "stream",
     "text": [
      "+---------------------+--------------------+-------------+------+--------------------+-----+-------+---------+--------+--------------------+----------+--------------------+---------+-----------+--------+\n",
      "|trans_date_trans_time|            merchant|     category|   amt|                city|state|    lat|     long|city_pop|                 job|       dob|           trans_num|merch_lat| merch_long|is_fraud|\n",
      "+---------------------+--------------------+-------------+------+--------------------+-----+-------+---------+--------+--------------------+----------+--------------------+---------+-----------+--------+\n",
      "|  2019-01-01 00:00:44|Heller Gutmann an...|  grocery_pos|107.23|              Orient|   WA|48.8878|-118.2105|     149|Special education...|1978-06-21|1f76529f857473494...|49.159047|-118.186462|       0|\n",
      "|  2019-01-01 00:00:51|      Lind-Buckridge|entertainment|220.11|          Malad City|   ID|42.1808| -112.262|    4154|Nature conservati...|1962-01-19|a1a22d70485983eac...|43.150704|-112.154481|       0|\n",
      "|  2019-01-01 00:07:27|           Kiehn Inc|  grocery_pos| 96.29|             Grenada|   CA|41.6125|-122.5258|     589|     Systems analyst|1945-12-21|413636e759663f264...| 41.65752|-122.230347|       0|\n",
      "|  2019-01-01 00:09:03|         Beier-Hyatt| shopping_pos|  7.77|High Rolls Mounta...|   NM|32.9396|-105.8189|     899|     Naval architect|1967-08-30|8a6293af5ed278dea...|32.863258|-106.520205|       0|\n",
      "|  2019-01-01 00:21:32|          Bruen-Yost|     misc_pos|  6.85|             Freedom|   WY|43.0172|-111.0292|     471|Education officer...|1967-08-02|f3c43d336e92a44fc...|43.753735|-111.454923|       0|\n",
      "+---------------------+--------------------+-------------+------+--------------------+-----+-------+---------+--------+--------------------+----------+--------------------+---------+-----------+--------+\n",
      "only showing top 5 rows\n",
      "\n",
      "root\n",
      " |-- trans_date_trans_time: string (nullable = true)\n",
      " |-- merchant: string (nullable = true)\n",
      " |-- category: string (nullable = true)\n",
      " |-- amt: double (nullable = true)\n",
      " |-- city: string (nullable = true)\n",
      " |-- state: string (nullable = true)\n",
      " |-- lat: double (nullable = true)\n",
      " |-- long: double (nullable = true)\n",
      " |-- city_pop: long (nullable = true)\n",
      " |-- job: string (nullable = true)\n",
      " |-- dob: string (nullable = true)\n",
      " |-- trans_num: string (nullable = true)\n",
      " |-- merch_lat: double (nullable = true)\n",
      " |-- merch_long: double (nullable = true)\n",
      " |-- is_fraud: long (nullable = true)\n",
      "\n"
     ]
    }
   ],
   "source": [
    "# file_location=\"Data\\credit-card-fraud.csv\"\n",
    "# file_type=\"csv\"\n",
    "# infer_schema=\"False\" \n",
    "# first_row_is_header=\"True\"\n",
    "# df_Origin = spark.read.format(file_type).option(\"inferSchema\", infer_schema).option(\"header\", first_row_is_header).load(file_location)\n",
    "\n",
    "pandas_df = pd.read_csv('https://raw.githubusercontent.com/thanhENC/Data-set/main/credit-card-fraud.csv')\n",
    "origin_df = spark.createDataFrame(pandas_df)\n",
    "origin_df.show(5)\n",
    "origin_df.printSchema()"
   ]
  },
  {
   "cell_type": "markdown",
   "metadata": {},
   "source": [
    "**Casting**"
   ]
  },
  {
   "cell_type": "markdown",
   "metadata": {},
   "source": [
    "Chuyển kiểu dữ liệu cho các cột về đúng kiểu dữ liệu đã được mô tả ở trên ***để tiến hành tính tuổi*** cho người dùng và tạo thành một cột dữ liệu mới."
   ]
  },
  {
   "cell_type": "code",
   "execution_count": 4,
   "metadata": {},
   "outputs": [
    {
     "name": "stdout",
     "output_type": "stream",
     "text": [
      "root\n",
      " |-- trans_date_trans_time: timestamp (nullable = true)\n",
      " |-- merchant: string (nullable = true)\n",
      " |-- category: string (nullable = true)\n",
      " |-- amt: double (nullable = true)\n",
      " |-- city: string (nullable = true)\n",
      " |-- state: string (nullable = true)\n",
      " |-- lat: double (nullable = true)\n",
      " |-- long: double (nullable = true)\n",
      " |-- city_pop: integer (nullable = true)\n",
      " |-- job: string (nullable = true)\n",
      " |-- dob: date (nullable = true)\n",
      " |-- trans_num: string (nullable = true)\n",
      " |-- merch_lat: double (nullable = true)\n",
      " |-- merch_long: double (nullable = true)\n",
      " |-- is_fraud: integer (nullable = true)\n",
      "\n"
     ]
    }
   ],
   "source": [
    "is_frauddf = origin_df\n",
    "\n",
    "#identifying and assigning the correct data type to each column\n",
    "float_vars = ['amt', 'lat', 'long', 'merch_lat', 'merch_long']\n",
    "date_vars = ['dob']\n",
    "datetime_vars = ['trans_date_trans_time']\n",
    "int_vars = ['city_pop', 'is_fraud']\n",
    "for var in float_vars:\n",
    "    is_frauddf = is_frauddf.withColumn(var, is_frauddf[var].cast(DoubleType()))\n",
    "for var in date_vars:\n",
    "    is_frauddf = is_frauddf.withColumn(var, is_frauddf[var].cast(DateType()))\n",
    "for var in datetime_vars:\n",
    "    is_frauddf = is_frauddf.withColumn(var, is_frauddf[var].cast(TimestampType()))\n",
    "for var in int_vars:\n",
    "    is_frauddf = is_frauddf.withColumn(var, is_frauddf[var].cast(IntegerType()))\n",
    "\n",
    "is_frauddf.printSchema()"
   ]
  },
  {
   "cell_type": "code",
   "execution_count": 53,
   "metadata": {},
   "outputs": [
    {
     "data": {
      "text/plain": [
       "1333"
      ]
     },
     "execution_count": 53,
     "metadata": {},
     "output_type": "execute_result"
    }
   ],
   "source": [
    "is_frauddf.count()"
   ]
  },
  {
   "cell_type": "markdown",
   "metadata": {},
   "source": [
    "Như vậy ta đã có dataframe `is_frauddf` với các cột đã được chuyển đổi kiểu dữ liệu và có tất cả 1333 dòng dữ liệu."
   ]
  },
  {
   "cell_type": "markdown",
   "metadata": {},
   "source": [
    "### **4.1.2. Tính Tuổi Của Card Holder và Thêm Thành Một Cột Dữ Liệu**"
   ]
  },
  {
   "cell_type": "code",
   "execution_count": 54,
   "metadata": {},
   "outputs": [
    {
     "name": "stdout",
     "output_type": "stream",
     "text": [
      "+---------------------+--------------------+-------------+------+--------------------+-----+-------+---------+--------+--------------------+----------+--------------------+---------+-----------+--------+------------------+\n",
      "|trans_date_trans_time|            merchant|     category|   amt|                city|state|    lat|     long|city_pop|                 job|       dob|           trans_num|merch_lat| merch_long|is_fraud|               Age|\n",
      "+---------------------+--------------------+-------------+------+--------------------+-----+-------+---------+--------+--------------------+----------+--------------------+---------+-----------+--------+------------------+\n",
      "|  2019-01-01 00:00:44|Heller Gutmann an...|  grocery_pos|107.23|              Orient|   WA|48.8878|-118.2105|     149|Special education...|1978-06-21|1f76529f857473494...|49.159047|-118.186462|       0| 44.33698630136986|\n",
      "|  2019-01-01 00:00:51|      Lind-Buckridge|entertainment|220.11|          Malad City|   ID|42.1808| -112.262|    4154|Nature conservati...|1962-01-19|a1a22d70485983eac...|43.150704|-112.154481|       0| 60.76712328767123|\n",
      "|  2019-01-01 00:07:27|           Kiehn Inc|  grocery_pos| 96.29|             Grenada|   CA|41.6125|-122.5258|     589|     Systems analyst|1945-12-21|413636e759663f264...| 41.65752|-122.230347|       0| 76.85753424657534|\n",
      "|  2019-01-01 00:09:03|         Beier-Hyatt| shopping_pos|  7.77|High Rolls Mounta...|   NM|32.9396|-105.8189|     899|     Naval architect|1967-08-30|8a6293af5ed278dea...|32.863258|-106.520205|       0|55.153424657534245|\n",
      "|  2019-01-01 00:21:32|          Bruen-Yost|     misc_pos|  6.85|             Freedom|   WY|43.0172|-111.0292|     471|Education officer...|1967-08-02|f3c43d336e92a44fc...|43.753735|-111.454923|       0| 55.23013698630137|\n",
      "+---------------------+--------------------+-------------+------+--------------------+-----+-------+---------+--------+--------------------+----------+--------------------+---------+-----------+--------+------------------+\n",
      "only showing top 5 rows\n",
      "\n"
     ]
    }
   ],
   "source": [
    "is_frauddf = is_frauddf.withColumn('Age', datediff(lit(current_date()), is_frauddf['dob'])/lit(365))\n",
    "is_frauddf.show(5)"
   ]
  },
  {
   "cell_type": "markdown",
   "metadata": {},
   "source": [
    "### **4.1.3. Làm Tròn Giá Trị Của Cột Dữ Liệu Tuổi `Age`**"
   ]
  },
  {
   "cell_type": "code",
   "execution_count": 55,
   "metadata": {},
   "outputs": [
    {
     "name": "stdout",
     "output_type": "stream",
     "text": [
      "+---------------------+--------------------+-------------+------+--------------------+-----+-------+---------+--------+--------------------+----------+--------------------+---------+-----------+--------+---+\n",
      "|trans_date_trans_time|            merchant|     category|   amt|                city|state|    lat|     long|city_pop|                 job|       dob|           trans_num|merch_lat| merch_long|is_fraud|Age|\n",
      "+---------------------+--------------------+-------------+------+--------------------+-----+-------+---------+--------+--------------------+----------+--------------------+---------+-----------+--------+---+\n",
      "|  2019-01-01 00:00:44|Heller Gutmann an...|  grocery_pos|107.23|              Orient|   WA|48.8878|-118.2105|     149|Special education...|1978-06-21|1f76529f857473494...|49.159047|-118.186462|       0| 44|\n",
      "|  2019-01-01 00:00:51|      Lind-Buckridge|entertainment|220.11|          Malad City|   ID|42.1808| -112.262|    4154|Nature conservati...|1962-01-19|a1a22d70485983eac...|43.150704|-112.154481|       0| 60|\n",
      "|  2019-01-01 00:07:27|           Kiehn Inc|  grocery_pos| 96.29|             Grenada|   CA|41.6125|-122.5258|     589|     Systems analyst|1945-12-21|413636e759663f264...| 41.65752|-122.230347|       0| 76|\n",
      "|  2019-01-01 00:09:03|         Beier-Hyatt| shopping_pos|  7.77|High Rolls Mounta...|   NM|32.9396|-105.8189|     899|     Naval architect|1967-08-30|8a6293af5ed278dea...|32.863258|-106.520205|       0| 55|\n",
      "|  2019-01-01 00:21:32|          Bruen-Yost|     misc_pos|  6.85|             Freedom|   WY|43.0172|-111.0292|     471|Education officer...|1967-08-02|f3c43d336e92a44fc...|43.753735|-111.454923|       0| 55|\n",
      "+---------------------+--------------------+-------------+------+--------------------+-----+-------+---------+--------+--------------------+----------+--------------------+---------+-----------+--------+---+\n",
      "only showing top 5 rows\n",
      "\n"
     ]
    }
   ],
   "source": [
    "is_frauddf = is_frauddf.withColumn('Age', floor(is_frauddf['Age']))\n",
    "is_frauddf.show(5)"
   ]
  },
  {
   "cell_type": "markdown",
   "metadata": {},
   "source": [
    "## **4.2. CHỌN CỘT DỮ LIỆU TỪ DATAFRAME**"
   ]
  },
  {
   "cell_type": "code",
   "execution_count": null,
   "metadata": {},
   "outputs": [],
   "source": []
  },
  {
   "cell_type": "markdown",
   "metadata": {},
   "source": [
    "## **4.5. TẠO VÀ SỬ DỤNG một PYSPARK SQL UDF**"
   ]
  },
  {
   "cell_type": "code",
   "execution_count": 78,
   "metadata": {},
   "outputs": [
    {
     "name": "stdout",
     "output_type": "stream",
     "text": [
      "+---------------------+------------+-------------+-------+---------+-----+-------+---------+--------+--------------------+----------+--------------------+---------+-----------+--------+---+\n",
      "|trans_date_trans_time|    merchant|     category|    amt|     city|state|    lat|     long|city_pop|                 job|       dob|           trans_num|merch_lat| merch_long|is_fraud|Age|\n",
      "+---------------------+------------+-------------+-------+---------+-----+-------+---------+--------+--------------------+----------+--------------------+---------+-----------+--------+---+\n",
      "|  2019-01-01 08:19:46|   Berge LLC|gas_transport|   63.6|   Camden|   MO|39.2048| -94.0259|     464| Colour technologist|1959-05-28|be8494e402d166aad...|39.026626| -94.047307|       0| 63|\n",
      "|  2019-01-01 07:09:10|  Funk Group|  grocery_net|  51.28|  Phoenix|   AZ|33.8155|-112.1202| 1312922|Counselling psych...|1999-11-30|c56c309fa13d1c9ee...|34.166811|-111.595599|       0| 22|\n",
      "|  2019-01-01 02:54:10|Kassulke PLC| shopping_net|1055.47|    Iliff|   CO|40.7692|-103.0968|     648|Community arts wo...|1969-09-21|adca67d0a40b26fb8...|39.940564|-103.528231|       0| 53|\n",
      "|  2019-01-01 01:00:48|     Howe Lt|     misc_pos| 218.71|Littleton|   CO|39.5994|-105.0044|  320420|      Water engineer|1975-07-31|43204045928cb3449...|39.335171|-104.102882|       0| 47|\n",
      "|  2019-01-01 06:25:07|   Berge LLC|gas_transport|  79.39|     Mesa|   ID|44.6255|-116.4493|     129|        Cartographer|1965-12-15|606b05a976ee2bca7...|43.673602| -116.40606|       0| 56|\n",
      "+---------------------+------------+-------------+-------+---------+-----+-------+---------+--------+--------------------+----------+--------------------+---------+-----------+--------+---+\n",
      "only showing top 5 rows\n",
      "\n"
     ]
    }
   ],
   "source": [
    "tempDf = is_frauddf\n",
    "tempDf.show(5)"
   ]
  },
  {
   "cell_type": "markdown",
   "metadata": {},
   "source": [
    "**Tạo UDF**"
   ]
  },
  {
   "cell_type": "code",
   "execution_count": 98,
   "metadata": {},
   "outputs": [],
   "source": [
    "def getBirthYear(x):\n",
    "    return int(str(x).split('-')[0])"
   ]
  },
  {
   "cell_type": "code",
   "execution_count": 99,
   "metadata": {},
   "outputs": [],
   "source": [
    "getBirthYearUDF = udf(getBirthYear, IntegerType())"
   ]
  },
  {
   "cell_type": "code",
   "execution_count": 100,
   "metadata": {},
   "outputs": [
    {
     "name": "stdout",
     "output_type": "stream",
     "text": [
      "+---------------------+------------+-------------+-------+---------+-----+-------+---------+--------+--------------------+----------+--------------------+---------+-----------+--------+---+----+\n",
      "|trans_date_trans_time|    merchant|     category|    amt|     city|state|    lat|     long|city_pop|                 job|       dob|           trans_num|merch_lat| merch_long|is_fraud|Age|Year|\n",
      "+---------------------+------------+-------------+-------+---------+-----+-------+---------+--------+--------------------+----------+--------------------+---------+-----------+--------+---+----+\n",
      "|  2019-01-01 08:19:46|   Berge LLC|gas_transport|   63.6|   Camden|   MO|39.2048| -94.0259|     464| Colour technologist|1959-05-28|be8494e402d166aad...|39.026626| -94.047307|       0| 63|1959|\n",
      "|  2019-01-01 07:09:10|  Funk Group|  grocery_net|  51.28|  Phoenix|   AZ|33.8155|-112.1202| 1312922|Counselling psych...|1999-11-30|c56c309fa13d1c9ee...|34.166811|-111.595599|       0| 22|1999|\n",
      "|  2019-01-01 02:54:10|Kassulke PLC| shopping_net|1055.47|    Iliff|   CO|40.7692|-103.0968|     648|Community arts wo...|1969-09-21|adca67d0a40b26fb8...|39.940564|-103.528231|       0| 53|1969|\n",
      "|  2019-01-01 01:00:48|     Howe Lt|     misc_pos| 218.71|Littleton|   CO|39.5994|-105.0044|  320420|      Water engineer|1975-07-31|43204045928cb3449...|39.335171|-104.102882|       0| 47|1975|\n",
      "|  2019-01-01 06:25:07|   Berge LLC|gas_transport|  79.39|     Mesa|   ID|44.6255|-116.4493|     129|        Cartographer|1965-12-15|606b05a976ee2bca7...|43.673602| -116.40606|       0| 56|1965|\n",
      "+---------------------+------------+-------------+-------+---------+-----+-------+---------+--------+--------------------+----------+--------------------+---------+-----------+--------+---+----+\n",
      "only showing top 5 rows\n",
      "\n"
     ]
    }
   ],
   "source": [
    "tempDfBirthYear = tempDf.withColumn('Year', getBirthYearUDF(tempDf.dob))\n",
    "tempDfBirthYear.show(5)"
   ]
  },
  {
   "cell_type": "markdown",
   "metadata": {},
   "source": [
    "**Lưu kết quả vào file csv**"
   ]
  },
  {
   "cell_type": "code",
   "execution_count": 109,
   "metadata": {},
   "outputs": [],
   "source": [
    "#convert pyspark dataframe to pandas dataframe to save it to csv\n",
    "tempDfBirthYear.toPandas().to_csv('tempBirthYear.csv', index=False)"
   ]
  },
  {
   "cell_type": "markdown",
   "metadata": {},
   "source": [
    "## **4.6. GÁN NHÃN DỮ LIỆU**"
   ]
  },
  {
   "cell_type": "code",
   "execution_count": 110,
   "metadata": {},
   "outputs": [],
   "source": [
    "def labelBirthYear(year):\n",
    "    if year >= 2010:\n",
    "        return 'Gen Alpha'\n",
    "    elif year >= 1997:\n",
    "        return 'Gen Z'\n",
    "    elif year >= 1980:\n",
    "        return 'Millenials'\n",
    "    elif year >= 1965:\n",
    "        return 'Gen X'\n",
    "    elif year >= 1945:\n",
    "        return 'Baby Boomers'\n",
    "    else:\n",
    "        return 'Silent Generation'"
   ]
  },
  {
   "cell_type": "code",
   "execution_count": 111,
   "metadata": {},
   "outputs": [],
   "source": [
    "labelBirthYearUDF = udf(labelBirthYear, StringType())"
   ]
  },
  {
   "cell_type": "code",
   "execution_count": 112,
   "metadata": {},
   "outputs": [
    {
     "name": "stdout",
     "output_type": "stream",
     "text": [
      "+---------------------+------------+-------------+-------+---------+-----+-------+---------+--------+--------------------+----------+--------------------+---------+-----------+--------+---+----+------------+\n",
      "|trans_date_trans_time|    merchant|     category|    amt|     city|state|    lat|     long|city_pop|                 job|       dob|           trans_num|merch_lat| merch_long|is_fraud|Age|Year|  Generation|\n",
      "+---------------------+------------+-------------+-------+---------+-----+-------+---------+--------+--------------------+----------+--------------------+---------+-----------+--------+---+----+------------+\n",
      "|  2019-01-01 08:19:46|   Berge LLC|gas_transport|   63.6|   Camden|   MO|39.2048| -94.0259|     464| Colour technologist|1959-05-28|be8494e402d166aad...|39.026626| -94.047307|       0| 63|1959|Baby Boomers|\n",
      "|  2019-01-01 07:09:10|  Funk Group|  grocery_net|  51.28|  Phoenix|   AZ|33.8155|-112.1202| 1312922|Counselling psych...|1999-11-30|c56c309fa13d1c9ee...|34.166811|-111.595599|       0| 22|1999|       Gen Z|\n",
      "|  2019-01-01 02:54:10|Kassulke PLC| shopping_net|1055.47|    Iliff|   CO|40.7692|-103.0968|     648|Community arts wo...|1969-09-21|adca67d0a40b26fb8...|39.940564|-103.528231|       0| 53|1969|       Gen X|\n",
      "|  2019-01-01 01:00:48|     Howe Lt|     misc_pos| 218.71|Littleton|   CO|39.5994|-105.0044|  320420|      Water engineer|1975-07-31|43204045928cb3449...|39.335171|-104.102882|       0| 47|1975|       Gen X|\n",
      "|  2019-01-01 06:25:07|   Berge LLC|gas_transport|  79.39|     Mesa|   ID|44.6255|-116.4493|     129|        Cartographer|1965-12-15|606b05a976ee2bca7...|43.673602| -116.40606|       0| 56|1965|       Gen X|\n",
      "+---------------------+------------+-------------+-------+---------+-----+-------+---------+--------+--------------------+----------+--------------------+---------+-----------+--------+---+----+------------+\n",
      "only showing top 5 rows\n",
      "\n"
     ]
    }
   ],
   "source": [
    "tempDfBirthYear2 = tempDfBirthYear.withColumn('Generation', labelBirthYearUDF(tempDfBirthYear.Year))\n",
    "tempDfBirthYear2.show(5)"
   ]
  },
  {
   "cell_type": "markdown",
   "metadata": {},
   "source": [
    "## **4.7. Thống Kê Mô Tả**"
   ]
  },
  {
   "cell_type": "markdown",
   "metadata": {},
   "source": [
    "**Sử dụng Pyspark để thực hiện một số mô tả với bộ dữ liệu hiện có**"
   ]
  },
  {
   "cell_type": "markdown",
   "metadata": {},
   "source": [
    "*Đếm số merchant*"
   ]
  },
  {
   "cell_type": "code",
   "execution_count": 56,
   "metadata": {},
   "outputs": [
    {
     "name": "stdout",
     "output_type": "stream",
     "text": [
      "+---------------+\n",
      "|count(merchant)|\n",
      "+---------------+\n",
      "|           1333|\n",
      "+---------------+\n",
      "\n"
     ]
    }
   ],
   "source": [
    "countMer = is_frauddf.agg({'merchant':'count'})\n",
    "countMer.show(5)"
   ]
  },
  {
   "cell_type": "markdown",
   "metadata": {},
   "source": [
    "*Tính số lược giao dịch trung bình*"
   ]
  },
  {
   "cell_type": "code",
   "execution_count": 57,
   "metadata": {},
   "outputs": [
    {
     "name": "stdout",
     "output_type": "stream",
     "text": [
      "+-----------------+\n",
      "|         avg(amt)|\n",
      "+-----------------+\n",
      "|69.16227306826708|\n",
      "+-----------------+\n",
      "\n"
     ]
    }
   ],
   "source": [
    "meanAmt = is_frauddf.agg({'amt':'avg'})\n",
    "meanAmt.show()"
   ]
  },
  {
   "cell_type": "markdown",
   "metadata": {},
   "source": [
    "*Tính phương sai của cột giao dịch trung bình và tuổi của card holder*"
   ]
  },
  {
   "cell_type": "code",
   "execution_count": 61,
   "metadata": {},
   "outputs": [
    {
     "name": "stdout",
     "output_type": "stream",
     "text": [
      "+------------------+------------------+\n",
      "|      var_pop(amt)|      var_pop(Age)|\n",
      "+------------------+------------------+\n",
      "|15833.640752597597|278.34117269002166|\n",
      "+------------------+------------------+\n",
      "\n"
     ]
    }
   ],
   "source": [
    "varAmt = is_frauddf.agg({'amt':'var_pop', 'Age':'var_pop'})\n",
    "varAmt.show()"
   ]
  },
  {
   "cell_type": "markdown",
   "metadata": {},
   "source": [
    "*Để tiện lợi hơn, ta có thể tính các giá trị cần biết của cột lượt giao dịch trung bình trong một bảng. Ở đây ta tính các giá trị tổng, trung bình, phương sai và độ lệch chuẩn chuẩn*"
   ]
  },
  {
   "cell_type": "code",
   "execution_count": 59,
   "metadata": {},
   "outputs": [
    {
     "name": "stdout",
     "output_type": "stream",
     "text": [
      "+-----------------+-----------------+------------------+------------------+\n",
      "|         sum(amt)|         avg(amt)|      var_pop(amt)|  stddev_samp(amt)|\n",
      "+-----------------+-----------------+------------------+------------------+\n",
      "|92193.31000000003|69.16227306826708|15833.640752597597|125.87902077105512|\n",
      "+-----------------+-----------------+------------------+------------------+\n",
      "\n"
     ]
    }
   ],
   "source": [
    "descriptiveAmt = is_frauddf.agg(sum(\"amt\"), avg(\"amt\"), var_pop('amt'), stddev_samp(\"amt\"))\n",
    "descriptiveAmt.show()"
   ]
  },
  {
   "cell_type": "markdown",
   "metadata": {},
   "source": [
    "## **4.8. TÍNH COVARIANCE**"
   ]
  },
  {
   "cell_type": "markdown",
   "metadata": {},
   "source": [
    "*Ta có thể tính covariance giữa cột lượt giao dịch trung bình và cột tuổi của card holder*"
   ]
  },
  {
   "cell_type": "code",
   "execution_count": 60,
   "metadata": {},
   "outputs": [
    {
     "data": {
      "text/plain": [
       "84.93009110948925"
      ]
     },
     "execution_count": 60,
     "metadata": {},
     "output_type": "execute_result"
    }
   ],
   "source": [
    "is_frauddf.cov('amt','Age')"
   ]
  },
  {
   "cell_type": "markdown",
   "metadata": {},
   "source": [
    "## **4.9. TÍNH CORRELATION**"
   ]
  },
  {
   "cell_type": "markdown",
   "metadata": {},
   "source": [
    "*Ta có thể tính correlation giữa cột lượt giao dịch trung bình và cột tuổi của card holder*"
   ]
  },
  {
   "cell_type": "code",
   "execution_count": 62,
   "metadata": {},
   "outputs": [
    {
     "data": {
      "text/plain": [
       "0.04042560661652895"
      ]
     },
     "execution_count": 62,
     "metadata": {},
     "output_type": "execute_result"
    }
   ],
   "source": [
    "is_frauddf.corr('amt','Age')"
   ]
  },
  {
   "cell_type": "markdown",
   "metadata": {},
   "source": [
    "## **4.10. MÔ TẢ DATAFRAME**"
   ]
  },
  {
   "cell_type": "markdown",
   "metadata": {},
   "source": [
    "Mô tả một DataFrame ứng dụng cho việc tính toán **thống kê đặc trưng** trên tất cả các cột trong một DataFrame. \n",
    "\n",
    "Trước tiên cần phải áp dụng hàm Des () lên từng cột của bảng"
   ]
  },
  {
   "cell_type": "code",
   "execution_count": 63,
   "metadata": {},
   "outputs": [
    {
     "name": "stdout",
     "output_type": "stream",
     "text": [
      "+-------+--------------------+-------------+------------------+--------------------+-----+------------------+-------------------+-----------------+--------------------+--------------------+-----------------+------------------+--------------------+------------------+\n",
      "|summary|            merchant|     category|               amt|                city|state|               lat|               long|         city_pop|                 job|           trans_num|        merch_lat|        merch_long|            is_fraud|               Age|\n",
      "+-------+--------------------+-------------+------------------+--------------------+-----+------------------+-------------------+-----------------+--------------------+--------------------+-----------------+------------------+--------------------+------------------+\n",
      "|  count|                1333|         1333|              1333|                1333| 1333|              1333|               1333|             1333|                1333|                1333|             1333|              1333|                1333|              1333|\n",
      "|   mean|                null|         null| 69.16227306826708|                null| null|39.869987321830465|-111.43804403600899|96016.08552138034|                null|                null|39.86107295498875|-111.4386744028507|0.006001500375093774|51.012753188297076|\n",
      "| stddev|                null|         null|125.87902077105512|                null| null| 5.694162665767111| 13.698907876703828|262532.5369151885|                null|                null|5.725748380020341|13.712196908240852| 0.07726552244506048| 16.68982137514909|\n",
      "|    min|       Abbott-Rogahn|entertainment|              1.05|         Albuquerque|   AK|           20.0271|          -165.6723|               46|Administrator edu...|0020b02e5638ee80c...|        19.165823|       -166.288628|                   0|                21|\n",
      "|    max|Zieme Bode and Do...|       travel|           3178.51|Yellowstone Natio...|   WY|           65.6899|           -89.6287|          1312922|  Wellsite geologist|ffdaa290d0841d7ba...|        66.645176|        -89.015733|                   1|                95|\n",
      "+-------+--------------------+-------------+------------------+--------------------+-----+------------------+-------------------+-----------------+--------------------+--------------------+-----------------+------------------+--------------------+------------------+\n",
      "\n"
     ]
    }
   ],
   "source": [
    "dataDescription = is_frauddf.describe()\n",
    "dataDescription.show()"
   ]
  },
  {
   "cell_type": "markdown",
   "metadata": {},
   "source": [
    "Hàm Describe( ) sẽ trả về kết quả của các thống kê đặc trưng. Ở cột 1, kết quả trả về là tên của các thống kê đặc trưng như là: giá trị lớn nhất, nhỏ nhất, độ lệch chuẩn, giá trị trung bình, đếm. Ở cột 4 tên là \"amt\" cung cấp giá trị cho các thống kê đặc trưng ví dụ như giá trị 1.05 là số giá trị nhỏ nhất trong cột amt. "
   ]
  },
  {
   "cell_type": "markdown",
   "metadata": {},
   "source": [
    "Có thể chọn cột bất kỳ, ví dụ như cột city và city_pop trong bảng DataFrame qua hàm sau: "
   ]
  },
  {
   "cell_type": "code",
   "execution_count": 64,
   "metadata": {},
   "outputs": [
    {
     "name": "stdout",
     "output_type": "stream",
     "text": [
      "+-------+--------------------+-----------------+\n",
      "|summary|                city|         city_pop|\n",
      "+-------+--------------------+-----------------+\n",
      "|  count|                1333|             1333|\n",
      "|   mean|                null|96016.08552138034|\n",
      "| stddev|                null|262532.5369151885|\n",
      "|    min|         Albuquerque|               46|\n",
      "|    max|Yellowstone Natio...|          1312922|\n",
      "+-------+--------------------+-----------------+\n",
      "\n"
     ]
    }
   ],
   "source": [
    "dataDescriptioncitycitypop = is_frauddf.describe(['city', 'city_pop'])\n",
    "dataDescriptioncitycitypop.show()"
   ]
  },
  {
   "cell_type": "markdown",
   "metadata": {},
   "source": [
    "Để có thể trả về những kết quả thống kê đặc trưng có chọn lọc hơn như là phương sai hoặc giá trị trung bình trên cột, ta không dùng hàm Describe( ) mà dùng hàm Summary( ) \n",
    "\n",
    "Hàm Summary( ) khá tương đồng với hàm Describe( ), tuy nhiên kết quả trả về có thêm điểm tứ phân vị (Quantiles) 25, 50, 75. "
   ]
  },
  {
   "cell_type": "code",
   "execution_count": 68,
   "metadata": {},
   "outputs": [
    {
     "name": "stdout",
     "output_type": "stream",
     "text": [
      "+-------+--------------------+-------------+------------------+--------------------+-----+------------------+-------------------+-----------------+--------------------+--------------------+-----------------+------------------+--------------------+------------------+\n",
      "|summary|            merchant|     category|               amt|                city|state|               lat|               long|         city_pop|                 job|           trans_num|        merch_lat|        merch_long|            is_fraud|               Age|\n",
      "+-------+--------------------+-------------+------------------+--------------------+-----+------------------+-------------------+-----------------+--------------------+--------------------+-----------------+------------------+--------------------+------------------+\n",
      "|  count|                1333|         1333|              1333|                1333| 1333|              1333|               1333|             1333|                1333|                1333|             1333|              1333|                1333|              1333|\n",
      "|   mean|                null|         null| 69.16227306826708|                null| null|39.869987321830465|-111.43804403600899|96016.08552138034|                null|                null|39.86107295498875|-111.4386744028507|0.006001500375093774|51.012753188297076|\n",
      "| stddev|                null|         null|125.87902077105512|                null| null| 5.694162665767111| 13.698907876703828|262532.5369151885|                null|                null|5.725748380020341|13.712196908240852| 0.07726552244506048| 16.68982137514909|\n",
      "|    min|       Abbott-Rogahn|entertainment|              1.05|         Albuquerque|   AK|           20.0271|          -165.6723|               46|Administrator edu...|0020b02e5638ee80c...|        19.165823|       -166.288628|                   0|                21|\n",
      "|    25%|                null|         null|              9.86|                null| null|           36.7154|          -120.6649|              467|                null|                null|          36.8782|       -120.493701|                   0|                38|\n",
      "|    50%|                null|         null|             49.74|                null| null|           39.7417|          -111.7941|             1517|                null|                null|        39.636295|       -111.367562|                   0|                48|\n",
      "|    75%|                null|         null|             84.43|                null| null|            42.277|           -101.136|            34882|                null|                null|        42.374139|       -101.445631|                   0|                61|\n",
      "|    max|Zieme Bode and Do...|       travel|           3178.51|Yellowstone Natio...|   WY|           65.6899|           -89.6287|          1312922|  Wellsite geologist|ffdaa290d0841d7ba...|        66.645176|        -89.015733|                   1|                95|\n",
      "+-------+--------------------+-------------+------------------+--------------------+-----+------------------+-------------------+-----------------+--------------------+--------------------+-----------------+------------------+--------------------+------------------+\n",
      "\n"
     ]
    }
   ],
   "source": [
    "summaryData = is_frauddf.summary()\n",
    "summaryData.show()"
   ]
  },
  {
   "cell_type": "markdown",
   "metadata": {},
   "source": [
    "Cũng như hàm Describe( ), hàm Summary( ) cũng có thể chọn cột bất kỳ "
   ]
  },
  {
   "cell_type": "code",
   "execution_count": 69,
   "metadata": {},
   "outputs": [
    {
     "name": "stdout",
     "output_type": "stream",
     "text": [
      "+-------+-----+--------------------+\n",
      "|summary|state|                 job|\n",
      "+-------+-----+--------------------+\n",
      "|    min|   AK|Administrator edu...|\n",
      "|    max|   WY|  Wellsite geologist|\n",
      "+-------+-----+--------------------+\n",
      "\n"
     ]
    }
   ],
   "source": [
    "summarystatejob = is_frauddf.select('state','job'). summary('min','max')\n",
    "summarystatejob.show()"
   ]
  },
  {
   "cell_type": "markdown",
   "metadata": {},
   "source": [
    "## **4.11. SẮP XẾP DỮ LIỆU TRONG DATAFRAME**"
   ]
  },
  {
   "cell_type": "markdown",
   "metadata": {},
   "source": [
    "- Theo thứ tự tăng dần\n",
    "\n",
    "\n",
    "   Sắp xếp bảng dữ liệu theo ngày giao dịch sinh tăng dần(sớm nhất) : "
   ]
  },
  {
   "cell_type": "code",
   "execution_count": 71,
   "metadata": {},
   "outputs": [
    {
     "name": "stdout",
     "output_type": "stream",
     "text": [
      "+---------------------+--------------------+-------------+------+--------------------+-----+-------+---------+--------+--------------------+----------+--------------------+---------+-----------+--------+---+\n",
      "|trans_date_trans_time|            merchant|     category|   amt|                city|state|    lat|     long|city_pop|                 job|       dob|           trans_num|merch_lat| merch_long|is_fraud|Age|\n",
      "+---------------------+--------------------+-------------+------+--------------------+-----+-------+---------+--------+--------------------+----------+--------------------+---------+-----------+--------+---+\n",
      "|  2019-01-01 00:00:44|Heller Gutmann an...|  grocery_pos|107.23|              Orient|   WA|48.8878|-118.2105|     149|Special education...|1978-06-21|1f76529f857473494...|49.159047|-118.186462|       0| 44|\n",
      "|  2019-01-01 00:00:51|      Lind-Buckridge|entertainment|220.11|          Malad City|   ID|42.1808| -112.262|    4154|Nature conservati...|1962-01-19|a1a22d70485983eac...|43.150704|-112.154481|       0| 60|\n",
      "|  2019-01-01 00:07:27|           Kiehn Inc|  grocery_pos| 96.29|             Grenada|   CA|41.6125|-122.5258|     589|     Systems analyst|1945-12-21|413636e759663f264...| 41.65752|-122.230347|       0| 76|\n",
      "|  2019-01-01 00:09:03|         Beier-Hyatt| shopping_pos|  7.77|High Rolls Mounta...|   NM|32.9396|-105.8189|     899|     Naval architect|1967-08-30|8a6293af5ed278dea...|32.863258|-106.520205|       0| 55|\n",
      "|  2019-01-01 00:21:32|          Bruen-Yost|     misc_pos|  6.85|             Freedom|   WY|43.0172|-111.0292|     471|Education officer...|1967-08-02|f3c43d336e92a44fc...|43.753735|-111.454923|       0| 55|\n",
      "+---------------------+--------------------+-------------+------+--------------------+-----+-------+---------+--------+--------------------+----------+--------------------+---------+-----------+--------+---+\n",
      "only showing top 5 rows\n",
      "\n"
     ]
    }
   ],
   "source": [
    "is_frauddfSorted1 = is_frauddf.orderBy(\"trans_date_trans_time\")\n",
    "is_frauddfSorted1.show(5)"
   ]
  },
  {
   "cell_type": "markdown",
   "metadata": {},
   "source": [
    "- Theo thứ tự giảm dần\n",
    "\n",
    "   Ngược lại với tăng dần ta có ngày giao dịch gần nhất: "
   ]
  },
  {
   "cell_type": "code",
   "execution_count": 72,
   "metadata": {},
   "outputs": [
    {
     "name": "stdout",
     "output_type": "stream",
     "text": [
      "+---------------------+--------------+--------------+-----+-----------+-----+-------+---------+--------+--------------------+----------+--------------------+---------+-----------+--------+---+\n",
      "|trans_date_trans_time|      merchant|      category|  amt|       city|state|    lat|     long|city_pop|                 job|       dob|           trans_num|merch_lat| merch_long|is_fraud|Age|\n",
      "+---------------------+--------------+--------------+-----+-----------+-----+-------+---------+--------+--------------------+----------+--------------------+---------+-----------+--------+---+\n",
      "|  2019-01-05 13:02:19|Dietrich-Fadel|health_fitness| 70.0|   Lakeport|   CA| 39.047|-122.9328|   11256|          Podiatrist|1972-10-18|726a1f0c5bc893784...|38.309802|-123.617622|       0| 50|\n",
      "|  2019-01-05 12:42:03|    Barton LLC|     kids_pets|31.27|   Espanola|   NM|35.9866|-106.0654|   18408|Historic building...|1972-07-18|898f409ac52a44753...|35.178173|-106.125677|       0| 50|\n",
      "|  2019-01-05 12:33:26|Erdman-Schaden| personal_care|10.59|  Littleton|   CO|39.5994|-105.0044|  320420|      Water engineer|1975-07-31|eaf51d162815b6b6f...|40.032561|-105.728628|       0| 47|\n",
      "|  2019-01-05 12:22:59|Erdman-Schaden| personal_care| 1.54|    Redford|   MO|37.3272| -91.0243|     241|  Investment analyst|1974-10-27|d840afaa3adfb2dbc...|37.255681| -90.732749|       0| 47|\n",
      "|  2019-01-05 12:19:35| Friesen-Ortiz| personal_care|61.04|Kansas City|   MO|38.9621| -94.5959|  545147|          Counsellor|1987-11-18|24ead538fd93b3b97...|38.897399| -93.840574|       0| 34|\n",
      "+---------------------+--------------+--------------+-----+-----------+-----+-------+---------+--------+--------------------+----------+--------------------+---------+-----------+--------+---+\n",
      "only showing top 5 rows\n",
      "\n"
     ]
    }
   ],
   "source": [
    "is_frauddfSorted2 =is_frauddf.orderBy(\"trans_date_trans_time\", ascending=False)\n",
    "is_frauddfSorted2.show(5)"
   ]
  },
  {
   "cell_type": "markdown",
   "metadata": {},
   "source": [
    "- Sắp xếp 2 cột khác thứ tự\n",
    "\n",
    "> Ví dụ như cột dân số tăng dần nhưng nghề nghiệp thì giảm dần(theo bảng chữ cái): \n"
   ]
  },
  {
   "cell_type": "code",
   "execution_count": 73,
   "metadata": {},
   "outputs": [
    {
     "name": "stdout",
     "output_type": "stream",
     "text": [
      "+---------------------+--------------------+-------------+------+-------+-----+-------+---------+--------+----------+----------+--------------------+---------+-----------+--------+---+\n",
      "|trans_date_trans_time|            merchant|     category|   amt|   city|state|    lat|     long|city_pop|       job|       dob|           trans_num|merch_lat| merch_long|is_fraud|Age|\n",
      "+---------------------+--------------------+-------------+------+-------+-----+-------+---------+--------+----------+----------+--------------------+---------+-----------+--------+---+\n",
      "|  2019-01-04 21:46:16|      Erdman-Schaden|personal_care| 86.09|Phoenix|   AZ|33.5623|-112.0559| 1312922|Contractor|1981-10-24|72227710ca3dd2a05...|33.954712|-111.883967|       0| 40|\n",
      "|  2019-01-04 23:58:34|        Dickinson Lt|personal_care| 16.14|Phoenix|   AZ|33.5623|-112.0559| 1312922|Contractor|1981-10-24|242be021473092f80...|33.351328|-112.406605|       0| 40|\n",
      "|  2019-01-05 03:06:15|         Hills-Olson|  grocery_net| 70.22|Phoenix|   AZ|33.5623|-112.0559| 1312922|Contractor|1981-10-24|0d0816e5c7f830fe0...|33.269391|-111.182477|       0| 40|\n",
      "|  2019-01-05 03:49:59|Schoen Kuphal and...|  grocery_pos|201.32|Phoenix|   AZ|33.5623|-112.0559| 1312922|Contractor|1981-10-24|a96c0ada846624b0f...| 33.16515|-113.010805|       0| 40|\n",
      "|  2019-01-05 06:56:05|             Howe Lt|     misc_pos|  4.63|Phoenix|   AZ|33.5623|-112.0559| 1312922|Contractor|1981-10-24|c5f1d993412f11711...|33.124422|-112.109817|       0| 40|\n",
      "+---------------------+--------------------+-------------+------+-------+-----+-------+---------+--------+----------+----------+--------------------+---------+-----------+--------+---+\n",
      "only showing top 5 rows\n",
      "\n"
     ]
    }
   ],
   "source": [
    "is_frauddfSorted3 = is_frauddf.orderBy(\"city_pop\",\"job\", ascending=[False,True])\n",
    "is_frauddfSorted3.show(5)"
   ]
  },
  {
   "cell_type": "markdown",
   "metadata": {},
   "source": [
    "## **4.12 SẮP XẾP PHÂN VÙNG DỮ LIỆU**"
   ]
  },
  {
   "cell_type": "markdown",
   "metadata": {},
   "source": [
    "-Chia dữ liệu thành 2 phân vùng: "
   ]
  },
  {
   "cell_type": "code",
   "execution_count": null,
   "metadata": {},
   "outputs": [],
   "source": [
    "is_frauddf = is_frauddf.repartition(2)\n",
    "is_frauddf.rdd.glom().collect()"
   ]
  },
  {
   "cell_type": "markdown",
   "metadata": {},
   "source": [
    "Sắp xếp ứng với 2 phân vùng đã phân"
   ]
  },
  {
   "cell_type": "code",
   "execution_count": 75,
   "metadata": {},
   "outputs": [
    {
     "name": "stdout",
     "output_type": "stream",
     "text": [
      "+---------------------+--------------------+-------------+------+---------+-----+-------+---------+--------+--------------------+----------+--------------------+---------+-----------+--------+---+\n",
      "|trans_date_trans_time|            merchant|     category|   amt|     city|state|    lat|     long|city_pop|                 job|       dob|           trans_num|merch_lat| merch_long|is_fraud|Age|\n",
      "+---------------------+--------------------+-------------+------+---------+-----+-------+---------+--------+--------------------+----------+--------------------+---------+-----------+--------+---+\n",
      "|  2019-01-01 02:32:26|          Spinka Inc|  grocery_net| 57.57|  Phoenix|   AZ|33.5623|-112.0559| 1312922|          Contractor|1981-10-24|0bffbd021d6322060...|32.635757|-112.195886|       0| 40|\n",
      "|  2019-01-01 04:52:32|      O'Keefe-Hudson|  grocery_pos|209.89|  Phoenix|   AZ|33.5623|-112.0559| 1312922|          Contractor|1981-10-24|e6528b0d35f36cb29...|33.133991|-111.460639|       0| 40|\n",
      "|  2019-01-01 14:40:13|    O'Hara-Wilderman|  food_dining|  5.24|  Phoenix|   AZ|33.5623|-112.0559| 1312922|          Contractor|1981-10-24|305863ab779e819ab...|32.881491|-112.903209|       0| 40|\n",
      "|  2019-01-01 15:44:19|          Jewess LLC| shopping_pos| 94.81|  Phoenix|   AZ|33.5623|-112.0559| 1312922|          Contractor|1981-10-24|00aa2b8433da2608f...|33.142637|-111.806381|       0| 40|\n",
      "|  2019-01-01 14:22:44|       Lemke-Gutmann| shopping_net|  3.49|  Phoenix|   AZ|33.5623|-112.0559| 1312922|          Contractor|1981-10-24|8ce31e2f24c96575c...|33.866541|-112.505892|       0| 40|\n",
      "|  2019-01-01 20:04:28|    Macejkovic-Lesch| shopping_pos| 64.12|  Phoenix|   AZ|33.5623|-112.0559| 1312922|          Contractor|1981-10-24|ef2c9c9fe89a3a4a5...|34.065058|-111.422991|       0| 40|\n",
      "|  2019-01-01 18:46:36|       Stiedemann Lt|  food_dining|  66.7|  Phoenix|   AZ|33.5623|-112.0559| 1312922|          Contractor|1981-10-24|5e14511c0c8d96ee1...|32.674727|-112.497024|       0| 40|\n",
      "|  2019-01-02 08:28:54|Heller Gutmann an...|  grocery_pos|184.08|  Phoenix|   AZ|33.5623|-112.0559| 1312922|          Contractor|1981-10-24|fa0206298ebe1a6b5...|32.613292|-112.207021|       0| 40|\n",
      "|  2019-01-02 15:22:14|Schiller Blanda a...|         home| 40.58|  Phoenix|   AZ|33.5623|-112.0559| 1312922|          Contractor|1981-10-24|0ad88c1f28d875f9e...|32.757155| -112.81593|       0| 40|\n",
      "|  2019-01-02 21:53:21|Baumbach Strosin ...| shopping_pos| 32.61|  Phoenix|   AZ|33.5623|-112.0559| 1312922|          Contractor|1981-10-24|f2754406b34c452de...|32.972587|-111.923682|       0| 40|\n",
      "|  2019-01-03 17:04:18|        Mayert Group| shopping_pos| 23.81|  Phoenix|   AZ|33.5623|-112.0559| 1312922|          Contractor|1981-10-24|248295905d9b23a80...|33.284846|-112.827296|       0| 40|\n",
      "|  2019-01-04 23:58:34|        Dickinson Lt|personal_care| 16.14|  Phoenix|   AZ|33.5623|-112.0559| 1312922|          Contractor|1981-10-24|242be021473092f80...|33.351328|-112.406605|       0| 40|\n",
      "|  2019-01-05 03:06:15|         Hills-Olson|  grocery_net| 70.22|  Phoenix|   AZ|33.5623|-112.0559| 1312922|          Contractor|1981-10-24|0d0816e5c7f830fe0...|33.269391|-111.182477|       0| 40|\n",
      "|  2019-01-05 06:56:05|             Howe Lt|     misc_pos|  4.63|  Phoenix|   AZ|33.5623|-112.0559| 1312922|          Contractor|1981-10-24|c5f1d993412f11711...|33.124422|-112.109817|       0| 40|\n",
      "|  2019-01-05 03:49:59|Schoen Kuphal and...|  grocery_pos|201.32|  Phoenix|   AZ|33.5623|-112.0559| 1312922|          Contractor|1981-10-24|a96c0ada846624b0f...| 33.16515|-113.010805|       0| 40|\n",
      "|  2019-01-01 07:09:10|          Funk Group|  grocery_net| 51.28|  Phoenix|   AZ|33.8155|-112.1202| 1312922|Counselling psych...|1999-11-30|c56c309fa13d1c9ee...|34.166811|-111.595599|       0| 22|\n",
      "|  2019-01-01 13:43:24|    Bechtelar-Rippin|  food_dining| 34.69|  Phoenix|   AZ|33.8155|-112.1202| 1312922|Counselling psych...|1999-11-30|7c8d7a23e07f00f03...|32.855972|-111.598629|       0| 22|\n",
      "|  2019-01-04 02:13:51|Raynor Reinger an...|gas_transport| 82.19|  Phoenix|   AZ|33.8155|-112.1202| 1312922|Counselling psych...|1999-11-30|3a964f8a82d4b399d...|34.404587|-112.415813|       0| 22|\n",
      "|  2019-01-02 04:48:20|Schuppe Nolan and...| shopping_pos|   6.6|San Diego|   CA|33.0067| -117.069| 1241364|Chartered public ...|1959-08-05|e98bb041f7e34a120...|33.616805|-116.465569|       0| 63|\n",
      "|  2019-01-04 01:26:54|    Denesik and Sons| shopping_pos|  9.96|San Diego|   CA|33.0067| -117.069| 1241364|Chartered public ...|1959-08-05|c701960d569cd3277...|32.364932|-116.533051|       0| 63|\n",
      "+---------------------+--------------------+-------------+------+---------+-----+-------+---------+--------+--------------------+----------+--------------------+---------+-----------+--------+---+\n",
      "only showing top 20 rows\n",
      "\n"
     ]
    }
   ],
   "source": [
    "sortedPartitons = is_frauddf.sortWithinPartitions(\"city_pop\",\"job\", ascending=[False,True])\n",
    "sortedPartitons.show()"
   ]
  },
  {
   "cell_type": "markdown",
   "metadata": {},
   "source": [
    "Sử dụng câu lệnh này để thể hiện rõ từng giá trị thuộc phần nào "
   ]
  },
  {
   "cell_type": "code",
   "execution_count": null,
   "metadata": {},
   "outputs": [],
   "source": [
    "sortedPartitons.rdd.glom().collect()"
   ]
  },
  {
   "cell_type": "markdown",
   "metadata": {},
   "source": [
    "## **4.13. XÓA CÁC DÒNG DỮ LIỆU TRÙNG LẶP**"
   ]
  },
  {
   "cell_type": "markdown",
   "metadata": {},
   "source": [
    "**Việc xóa các dòng dữ liệu trùng lặp sẽ làm cho tệp dữ liệu được sạch hơn và giảm thiểu dung lượng lưu trữ.**\n",
    "\n",
    "Để xóa các dòng trùng lặp, trước tiên ta tiến hành kiểm tra xem Dataset có các records bị trùng lặp hay không bằng lệnh count() và distinct.count()"
   ]
  },
  {
   "cell_type": "code",
   "execution_count": 4,
   "metadata": {},
   "outputs": [
    {
     "data": {
      "text/plain": [
       "1333"
      ]
     },
     "execution_count": 4,
     "metadata": {},
     "output_type": "execute_result"
    }
   ],
   "source": [
    "is_frauddf.count()"
   ]
  },
  {
   "cell_type": "code",
   "execution_count": 5,
   "metadata": {},
   "outputs": [
    {
     "data": {
      "text/plain": [
       "1333"
      ]
     },
     "execution_count": 5,
     "metadata": {},
     "output_type": "execute_result"
    }
   ],
   "source": [
    "is_frauddf.distinct().count()"
   ]
  },
  {
   "cell_type": "markdown",
   "metadata": {},
   "source": [
    "Do cả 2 tệp dữ liệu đều có 1333 giá trị, như vậy, xem như tập dữ liệu không có các records bị trùng lặp. Tuy nhiên, ta có thể tự tạo ra các dòng trùng lặp như sau:"
   ]
  },
  {
   "cell_type": "markdown",
   "metadata": {},
   "source": [
    "*Bước 1: Tạo ra một dòng dữ liệu random từ dataset*"
   ]
  },
  {
   "cell_type": "code",
   "execution_count": 6,
   "metadata": {},
   "outputs": [],
   "source": [
    "import random\n",
    "frauddf_list = is_frauddf.collect()\n",
    "generation = random.choice(frauddf_list)"
   ]
  },
  {
   "cell_type": "markdown",
   "metadata": {},
   "source": [
    "*Bước 2: Tạo ra một dataframe mới có kế thừa từ dataframe cũ nhưng có thêm dòng dữ liệu vừa chọn. Như vậy xem như dataframe mới có 1 dòng dữ liệu bị trùng lặp*"
   ]
  },
  {
   "cell_type": "code",
   "execution_count": 7,
   "metadata": {},
   "outputs": [
    {
     "name": "stdout",
     "output_type": "stream",
     "text": [
      "+---------------------+--------------------+-------------+------+--------------------+-----+-------+---------+--------+--------------------+----------+--------------------+---------+-----------+--------+\n",
      "|trans_date_trans_time|            merchant|     category|   amt|                city|state|    lat|     long|city_pop|                 job|       dob|           trans_num|merch_lat| merch_long|is_fraud|\n",
      "+---------------------+--------------------+-------------+------+--------------------+-----+-------+---------+--------+--------------------+----------+--------------------+---------+-----------+--------+\n",
      "|  2019-01-01 00:00:44|Heller Gutmann an...|  grocery_pos|107.23|              Orient|   WA|48.8878|-118.2105|     149|Special education...|1978-06-21|1f76529f857473494...|49.159047|-118.186462|       0|\n",
      "|  2019-01-01 00:00:51|      Lind-Buckridge|entertainment|220.11|          Malad City|   ID|42.1808| -112.262|    4154|Nature conservati...|1962-01-19|a1a22d70485983eac...|43.150704|-112.154481|       0|\n",
      "|  2019-01-01 00:07:27|           Kiehn Inc|  grocery_pos| 96.29|             Grenada|   CA|41.6125|-122.5258|     589|     Systems analyst|1945-12-21|413636e759663f264...| 41.65752|-122.230347|       0|\n",
      "|  2019-01-01 00:09:03|         Beier-Hyatt| shopping_pos|  7.77|High Rolls Mounta...|   NM|32.9396|-105.8189|     899|     Naval architect|1967-08-30|8a6293af5ed278dea...|32.863258|-106.520205|       0|\n",
      "|  2019-01-01 00:21:32|          Bruen-Yost|     misc_pos|  6.85|             Freedom|   WY|43.0172|-111.0292|     471|Education officer...|1967-08-02|f3c43d336e92a44fc...|43.753735|-111.454923|       0|\n",
      "|  2019-01-01 00:22:06|           Kunze Inc|  grocery_pos| 90.22|             Honokaa|   HI|20.0827| -155.488|    4878|     Physiotherapist|1966-12-03|95826e3caa9e0b905...|19.560013|-156.045889|       0|\n",
      "|  2019-01-01 00:22:18|Nitzsche Kessler ...| shopping_pos|  4.02|           Valentine|   NE|42.8062|-100.6215|    4005|    Network engineer|1945-03-15|20490f3f0966ce74b...| 42.47559|-101.265846|       0|\n",
      "|  2019-01-01 00:22:36|Kihn Abernathy an...| shopping_net|  3.66|             Westfir|   OR|43.7575| -122.481|     597|Forensic psycholo...|1961-05-19|870c92b288a974a2f...|44.278191|-121.815161|       0|\n",
      "|  2019-01-01 00:31:51| Ledner-Pfannerstill|gas_transport|102.13|            Thompson|   UT|38.9999| -109.615|      46|   Surveyor minerals|1987-04-23|47238da5b40d126c8...|39.807313|-109.348294|       0|\n",
      "|  2019-01-01 00:34:10|       Stracke-Lemke|  grocery_pos| 83.07|              Conway|   WA|  48.34|-122.3456|      85|Research officer ...|1984-09-01|9b7a0619dcc5c572d...|48.682111|-122.719904|       0|\n",
      "|  2019-01-01 00:40:50|     Cummerata-Jones|gas_transport| 70.53|              Athena|   OR|45.8289|-118.4971|    1302|              Dealer|1976-10-18|7b91bd200c11c5cd2...|46.043252|-117.962133|       0|\n",
      "|  2019-01-01 00:41:45|      Huel-Langworth|     misc_net|177.57|            Thompson|   UT|38.9999| -109.615|      46|   Surveyor minerals|1987-04-23|048dc7fc7ae8efd51...|38.419431|-109.380252|       0|\n",
      "|  2019-01-01 00:46:18|Ferry Lynch and K...|     misc_net|  2.76|            San Jose|   CA|37.3304|-121.7913|  973849|      Science writer|1955-06-12|70ca7fe41f09770d7...|37.548452|-121.536454|       0|\n",
      "|  2019-01-01 00:49:25|Little Gutmann an...| shopping_net| 83.52|             Ravenna|   NE|41.0233| -98.9041|    2202|  Solicitor Scotland|1974-06-21|5f7aafc802c8acb59...|40.992141| -98.831582|       0|\n",
      "|  2019-01-01 00:56:12|Swaniawski Lowe a...| shopping_pos|317.14|               Parks|   AZ|35.2563|  -111.95|     759|Geologist enginee...|1957-03-28|3fe3286b0ea3f8c88...|35.268124|-112.682895|       0|\n",
      "|  2019-01-01 00:56:59|Reichert Huels an...| shopping_net| 113.4|       Fort Washakie|   WY|43.0048|-108.8964|    1645|   Freight forwarder|1976-02-26|9d660a18154a3ba5f...|42.868965| -108.50335|       0|\n",
      "|  2019-01-01 01:00:48|             Howe Lt|     misc_pos|218.71|           Littleton|   CO|39.5994|-105.0044|  320420|      Water engineer|1975-07-31|43204045928cb3449...|39.335171|-104.102882|       0|\n",
      "|  2019-01-01 01:02:16|            Wolf Inc|  grocery_pos| 89.11|           Meadville|   MO|39.7795| -93.3014|     964|Tourist informati...|1974-12-23|1cb03ad950bab1ca7...|40.773306| -92.821257|       0|\n",
      "|  2019-01-01 01:04:48|     Vandervort-Funk|  grocery_pos| 50.68|                Moab|   UT|38.5677|-109.5271|    9772|    Location manager|1989-11-24|61861370b5c31b9c0...|38.482541|-108.853856|       0|\n",
      "|  2019-01-01 01:09:41| Ledner-Pfannerstill|gas_transport| 90.54|           Hawthorne|   CA|33.9143|-118.3493|   93193|Editor magazine f...|1995-04-19|295b782f9fa48f76f...|32.990285|-117.836803|       0|\n",
      "+---------------------+--------------------+-------------+------+--------------------+-----+-------+---------+--------+--------------------+----------+--------------------+---------+-----------+--------+\n",
      "only showing top 20 rows\n",
      "\n"
     ]
    }
   ],
   "source": [
    "frauddf_list.append(generation)\n",
    "header_list = is_frauddf.schema.names\n",
    "dup_df = spark.createDataFrame(frauddf_list,header_list)\n",
    "dup_df.show()"
   ]
  },
  {
   "cell_type": "markdown",
   "metadata": {},
   "source": [
    "*Bước 3: Kiểm tra Dataframe mới bằng hàm count() và distinct.count()*"
   ]
  },
  {
   "cell_type": "code",
   "execution_count": 8,
   "metadata": {},
   "outputs": [
    {
     "data": {
      "text/plain": [
       "1334"
      ]
     },
     "execution_count": 8,
     "metadata": {},
     "output_type": "execute_result"
    }
   ],
   "source": [
    "dup_df.count()"
   ]
  },
  {
   "cell_type": "code",
   "execution_count": 9,
   "metadata": {},
   "outputs": [
    {
     "data": {
      "text/plain": [
       "1333"
      ]
     },
     "execution_count": 9,
     "metadata": {},
     "output_type": "execute_result"
    }
   ],
   "source": [
    "dup_df.distinct().count()"
   ]
  },
  {
   "cell_type": "markdown",
   "metadata": {},
   "source": [
    "Có thể thấy, Dataframe mới đã có 1 dòng dữ liệu bị duplicate. Sau đó tiến hành xóa dòng dữ liệu duplicate như sau:"
   ]
  },
  {
   "cell_type": "code",
   "execution_count": 10,
   "metadata": {},
   "outputs": [
    {
     "name": "stdout",
     "output_type": "stream",
     "text": [
      "+---------------------+--------------------+-------------+------+------------------+-----+-------+---------+--------+--------------------+----------+--------------------+---------+-----------+--------+\n",
      "|trans_date_trans_time|            merchant|     category|   amt|              city|state|    lat|     long|city_pop|                 job|       dob|           trans_num|merch_lat| merch_long|is_fraud|\n",
      "+---------------------+--------------------+-------------+------+------------------+-----+-------+---------+--------+--------------------+----------+--------------------+---------+-----------+--------+\n",
      "|  2019-01-01 02:06:56|         Bradtke PLC|  grocery_pos| 78.13|         Louisiana|   MO|39.4336| -91.0664|    4593|Teacher early yea...|1940-11-11|e46a01d459665d346...|40.247129| -91.699005|       0|\n",
      "|  2019-01-01 00:22:18|Nitzsche Kessler ...| shopping_pos|  4.02|         Valentine|   NE|42.8062|-100.6215|    4005|    Network engineer|1945-03-15|20490f3f0966ce74b...| 42.47559|-101.265846|       0|\n",
      "|  2019-01-01 08:53:14|        Hudson-Ratke|  grocery_pos| 84.04|        Mound City|   MO|40.1362| -95.2138|    1631|           Architect|1953-01-20|a4124a63fe29428a3...|40.638122|  -95.83434|       0|\n",
      "|  2019-01-01 02:13:16|          Harber Inc|gas_transport| 39.98|        Centerview|   MO|38.7897| -93.8702|    2368|Electronics engineer|1989-07-17|f8ab97ed82e0669c5...|38.995701| -93.569356|       0|\n",
      "|  2019-01-01 03:37:43|Goldner Kovacek a...|  grocery_pos|111.81|            Dumont|   CO|39.7532|-105.6356|     565| Mental health nurse|1978-08-27|3dedb528e11d51102...|40.417719| -105.38411|       0|\n",
      "|  2019-01-01 03:24:07|     Cummerata-Jones|gas_transport|  69.3|           Ballwin|   MO| 38.577| -90.5255|   92608|Engineer communic...|2001-07-26|6736a2032d3a9f612...|38.166105| -90.912756|       0|\n",
      "|  2019-01-01 02:26:16|        Torp-Labadie|gas_transport| 49.53|           Freedom|   WY|43.0172|-111.0292|     471|Education officer...|1967-08-02|c09831d3ebf12b679...|43.038723|-111.821595|       0|\n",
      "|  2019-01-01 04:15:24|Heller Gutmann an...|  grocery_pos|203.26|  Huntington Beach|   CA|33.6773|-118.0051|  190249|Therapist horticu...|1976-09-17|b34814818c2ecd0f8...|33.010001|-117.705689|       0|\n",
      "|  2019-01-01 02:31:06|      McDermott-Rice|     misc_pos| 13.67|       Kansas City|   MO|38.9621| -94.5959|  545147|          Counsellor|1987-11-18|49b8ff92b52599bc8...|38.058492| -94.687196|       0|\n",
      "|  2019-01-01 05:14:57|          Spinka Inc|  grocery_net| 48.31|            Dumont|   CO|39.7532|-105.6356|     565| Mental health nurse|1978-08-27|23a79ef1e368a318c...|40.504011|-106.561224|       0|\n",
      "|  2019-01-01 04:43:26|           Kutch LLC|gas_transport| 69.64|           Grenada|   CA|41.6125|-122.5258|     589|     Systems analyst|1945-12-21|23cd7287ce2a70d97...|41.673903| -123.51086|       0|\n",
      "|  2019-01-01 01:36:06|          Durgan-Aue|     misc_net|  23.8|    Fields Landing|   CA|40.7268|-124.2174|     276|Scientist audiolo...|1929-05-06|98fec127a1545ec4d...|40.110823|-124.429537|       0|\n",
      "|  2019-01-01 02:33:06|   McGlynn-Jaskolski|     misc_pos| 99.08|           Newhall|   CA|34.3795| -118.523|   34882|    Health physicist|1971-04-25|56821cb1d8c2c3d57...|34.370236|-118.195791|       0|\n",
      "|  2019-01-01 03:12:10|         DuBuque LLC|  grocery_pos|176.57|          Lakeport|   CA| 39.047|-122.9328|   11256|          Podiatrist|1972-10-18|26db4a0f3aa2089bd...| 38.76254|-122.339375|       0|\n",
      "|  2019-01-01 08:14:16|  Turcotte-Halvorson|     misc_pos|  6.72|   Paradise Valley|   AZ|33.5494|-111.9565|   17047|   Building surveyor|1935-01-29|962392d9ee245e1de...|32.803224|-112.544682|       0|\n",
      "|  2019-01-01 03:12:23|           Bins-Rice|gas_transport|  49.1|       Westerville|   NE|41.4193| -99.3844|      73|    Product designer|1935-02-10|0e83bc0fc886293d5...|40.722191| -98.680216|       0|\n",
      "|  2019-01-01 00:40:50|     Cummerata-Jones|gas_transport| 70.53|            Athena|   OR|45.8289|-118.4971|    1302|              Dealer|1976-10-18|7b91bd200c11c5cd2...|46.043252|-117.962133|       0|\n",
      "|  2019-01-01 02:21:43|Johnston Nikolaus...|  grocery_net| 41.01|Blairsden-Graeagle|   CA|39.8127|-120.6405|    1725|Chartered legal e...|1967-05-27|ff342d2dad68412cb...|39.949197|-119.792299|       0|\n",
      "|  2019-01-01 03:18:00|Jenkins Hauck and...|gas_transport| 44.68|          Carlotta|   CA| 40.507|-123.9743|    1139|Therapist occupat...|1951-01-15|12ef4798422ce322c...|40.459474|-124.214281|       0|\n",
      "|  2019-01-01 01:09:41| Ledner-Pfannerstill|gas_transport| 90.54|         Hawthorne|   CA|33.9143|-118.3493|   93193|Editor magazine f...|1995-04-19|295b782f9fa48f76f...|32.990285|-117.836803|       0|\n",
      "+---------------------+--------------------+-------------+------+------------------+-----+-------+---------+--------+--------------------+----------+--------------------+---------+-----------+--------+\n",
      "only showing top 20 rows\n",
      "\n"
     ]
    }
   ],
   "source": [
    "dup_df1 = dup_df.drop_duplicates()\n",
    "dup_df1.show()"
   ]
  },
  {
   "cell_type": "code",
   "execution_count": 11,
   "metadata": {},
   "outputs": [
    {
     "data": {
      "text/plain": [
       "1333"
      ]
     },
     "execution_count": 11,
     "metadata": {},
     "output_type": "execute_result"
    }
   ],
   "source": [
    "dup_df1.count()"
   ]
  },
  {
   "cell_type": "markdown",
   "metadata": {},
   "source": [
    "**Giả sử muốn xóa các dữ liệu bị duplicate khi xét theo từng cột, ta làm như sau**"
   ]
  },
  {
   "cell_type": "code",
   "execution_count": 12,
   "metadata": {},
   "outputs": [
    {
     "name": "stdout",
     "output_type": "stream",
     "text": [
      "+---------------------+--------------------+--------------+------+--------------------+-----+-------+---------+--------+--------------------+----------+--------------------+---------+-----------+--------+\n",
      "|trans_date_trans_time|            merchant|      category|   amt|                city|state|    lat|     long|city_pop|                 job|       dob|           trans_num|merch_lat| merch_long|is_fraud|\n",
      "+---------------------+--------------------+--------------+------+--------------------+-----+-------+---------+--------+--------------------+----------+--------------------+---------+-----------+--------+\n",
      "|  2019-01-01 00:00:51|      Lind-Buckridge| entertainment|220.11|          Malad City|   ID|42.1808| -112.262|    4154|Nature conservati...|1962-01-19|a1a22d70485983eac...|43.150704|-112.154481|       0|\n",
      "|  2019-01-01 07:13:01|       Jast and Sons|   food_dining| 74.09|              Corona|   CA|33.8419|-117.6043|  233717|  Wellsite geologist|1966-05-22|4a4cf450e1ee2741e...|33.917816|-117.821826|       0|\n",
      "|  2019-01-01 00:31:51| Ledner-Pfannerstill| gas_transport|102.13|            Thompson|   UT|38.9999| -109.615|      46|   Surveyor minerals|1987-04-23|47238da5b40d126c8...|39.807313|-109.348294|       0|\n",
      "|  2019-01-01 01:34:25|         Hills-Olson|   grocery_net| 27.03|             Ballwin|   MO| 38.577| -90.5255|   92608|Engineer communic...|2001-07-26|011f7fc2db063dc3f...|38.984909| -90.842219|       0|\n",
      "|  2019-01-01 00:00:44|Heller Gutmann an...|   grocery_pos|107.23|              Orient|   WA|48.8878|-118.2105|     149|Special education...|1978-06-21|1f76529f857473494...|49.159047|-118.186462|       0|\n",
      "|  2019-01-01 12:00:35|        Greenholt Lt|health_fitness|107.41|            Meredith|   CO|39.3199|-106.6596|      61|Public relations ...|1939-11-04|42cf87bcb4c4adf57...|38.417406|-106.386284|       0|\n",
      "|  2019-01-01 12:35:50|Prosacco Kreiger ...|          home|  3.13|         Smith River|   CA|41.9404|-124.1587|    1930|        Web designer|1983-06-13|6e8e6642a7745cc08...|41.918079|-123.524131|       0|\n",
      "|  2019-01-01 12:04:54|      Schimmel-Olson|     kids_pets| 47.96|           Meadville|   MO|39.7795| -93.3014|     964|Tourist informati...|1974-12-23|522e4b449157a7b1e...|39.206677| -93.033773|       0|\n",
      "|  2019-01-01 00:41:45|      Huel-Langworth|      misc_net|177.57|            Thompson|   UT|38.9999| -109.615|      46|   Surveyor minerals|1987-04-23|048dc7fc7ae8efd51...|38.419431|-109.380252|       0|\n",
      "|  2019-01-01 00:21:32|          Bruen-Yost|      misc_pos|  6.85|             Freedom|   WY|43.0172|-111.0292|     471|Education officer...|1967-08-02|f3c43d336e92a44fc...|43.753735|-111.454923|       0|\n",
      "|  2019-01-01 12:41:17|Berge Kautzer and...| personal_care|  88.7|             Grenada|   CA|41.6125|-122.5258|     589|     Systems analyst|1945-12-21|1f4c10dd875868477...|41.586814| -123.16098|       0|\n",
      "|  2019-01-01 00:22:36|Kihn Abernathy an...|  shopping_net|  3.66|             Westfir|   OR|43.7575| -122.481|     597|Forensic psycholo...|1961-05-19|870c92b288a974a2f...|44.278191|-121.815161|       0|\n",
      "|  2019-01-01 00:09:03|         Beier-Hyatt|  shopping_pos|  7.77|High Rolls Mounta...|   NM|32.9396|-105.8189|     899|     Naval architect|1967-08-30|8a6293af5ed278dea...|32.863258|-106.520205|       0|\n",
      "|  2019-01-01 13:21:10|      Johnston-Caspe|        travel|  7.33|          Mound City|   MO|40.1362| -95.2138|    1631|           Architect|1953-01-20|7a30020f6af806a03...|40.977943| -96.135389|       0|\n",
      "+---------------------+--------------------+--------------+------+--------------------+-----+-------+---------+--------+--------------------+----------+--------------------+---------+-----------+--------+\n",
      "\n"
     ]
    }
   ],
   "source": [
    "dup_df2 = dup_df1.drop_duplicates(['category'])\n",
    "dup_df2.show()"
   ]
  },
  {
   "cell_type": "code",
   "execution_count": 13,
   "metadata": {},
   "outputs": [
    {
     "data": {
      "text/plain": [
       "14"
      ]
     },
     "execution_count": 13,
     "metadata": {},
     "output_type": "execute_result"
    }
   ],
   "source": [
    "dup_df2.count()"
   ]
  },
  {
   "cell_type": "markdown",
   "metadata": {},
   "source": [
    "Như vậy, do cột category chỉ có 14 dữ liệu riêng biệt, nên tệp dataframe sau khi xóa dữ liệu trùng lặp sẽ chỉ còn lại 14 dòng"
   ]
  },
  {
   "cell_type": "markdown",
   "metadata": {},
   "source": [
    "**Tương tự, nếu muốn xóa các dòng dữ liệu riêng biệt khi xét trên tổ hợp 2 cột merchant và category, ta làm như sau:**"
   ]
  },
  {
   "cell_type": "code",
   "execution_count": 14,
   "metadata": {},
   "outputs": [
    {
     "name": "stdout",
     "output_type": "stream",
     "text": [
      "+---------------------+--------------------+--------------+-------+------------------+-----+-------+---------+--------+--------------------+----------+--------------------+---------+-----------+--------+\n",
      "|trans_date_trans_time|            merchant|      category|    amt|              city|state|    lat|     long|city_pop|                 job|       dob|           trans_num|merch_lat| merch_long|is_fraud|\n",
      "+---------------------+--------------------+--------------+-------+------------------+-----+-------+---------+--------+--------------------+----------+--------------------+---------+-----------+--------+\n",
      "|  2019-01-01 14:43:44|       Abbott-Rogahn| entertainment|  74.63|           Ravenna|   NE|41.0233| -98.9041|    2202|  Solicitor Scotland|1974-06-21|dbe29230128b03874...|41.874726| -99.842215|       0|\n",
      "|  2019-01-01 15:47:50|       Abbott-Steube| personal_care| 111.13|          Roseland|   NE|40.4591| -98.5551|     463| Nurse mental health|1948-05-31|40ca0f0111ef54d04...|40.300769| -98.784576|       0|\n",
      "|  2019-01-02 22:13:16|         Abshire PLC| entertainment|  76.16|        Fiddletown|   CA|38.5234|-120.6763|     832| Immigration officer|1987-05-19|6ec86b141f45479f3...|38.580235|-119.889545|       0|\n",
      "|  2019-01-01 05:56:54|Adams Kovacek and...|   grocery_net|  74.85|         Daly City|   CA|37.6787| -122.478|  107941|    Buyer industrial|1991-10-04|5674d7c6891a3d5e9...|38.544098|-123.311607|       0|\n",
      "|  2019-01-01 21:51:06|       Adams-Barrows|health_fitness|  29.92|         Littleton|   CO|39.5994|-105.0044|  320420|      Water engineer|1975-07-31|e117e065a1ce5acc7...|38.640166|-105.175756|       0|\n",
      "|  2019-01-01 14:14:39|Altenwerth Cartwr...|  shopping_net|   9.62|          Thompson|   UT|38.9999| -109.615|      46|   Surveyor minerals|1987-04-23|da5b0dd77b29ff6da...|38.044566|-108.863626|       0|\n",
      "|  2019-01-02 18:20:58|  Altenwerth-Kilback|          home|  79.68|          Superior|   AZ|33.2887|-111.0985|    2872|  Petroleum engineer|1987-10-28|a22d7fe43b8f9cc08...|32.333755|-111.286159|       0|\n",
      "|  2019-01-03 07:35:40|       Ankunding LLC|  shopping_net|   3.14|     Cascade Locks|   OR| 45.671|-121.8686|    1288|           Barrister|1936-05-01|aac65eb3a5b925d2e...|45.999905|-121.124629|       0|\n",
      "|  2019-01-02 18:48:56|   Ankunding-Carroll|        travel|   7.19|          Lakeport|   CA| 39.047|-122.9328|   11256|          Podiatrist|1972-10-18|2baa02f7f5646695c...|39.763166|-121.942221|       0|\n",
      "|  2019-01-02 13:16:40|            Auer LLC| personal_care|  72.65|        Fiddletown|   CA|38.5234|-120.6763|     832| Immigration officer|1987-05-19|c43b96303c23cb62b...|38.834518|-121.149305|       0|\n",
      "|  2019-01-01 11:17:00|       Auer-Mosciski|   grocery_pos|  138.6|        Blairstown|   MO|38.5319| -93.9221|     467|Agricultural cons...|1950-05-27|36cf54dd7b4335e7f...|38.589273| -93.017727|       0|\n",
      "|  2019-01-01 10:29:29|           Auer-West|  shopping_net|1433.54|     Cascade Locks|   OR| 45.671|-121.8686|    1288|           Barrister|1936-05-01|cdf73aea45a425929...|45.873314|-121.589038|       0|\n",
      "|  2019-01-01 13:07:33|Bahringer Bergnau...|          home| 106.65|             Shedd|   OR| 44.453|-123.1065|     917|Radio broadcast a...|1995-07-08|c9df02be0b8e5207c...|43.617342|-122.715918|       0|\n",
      "|  2019-01-02 23:28:20|Bahringer Schoen ...|  shopping_pos|   9.19|           Wheaton|   MO|36.7651| -94.0492|     760|  Production manager|1985-08-31|e6a28569a9e6e667b...|35.859463| -94.422612|       0|\n",
      "|  2019-01-03 13:30:55|   Bahringer-Streich|   food_dining| 130.22|        Blairstown|   MO|38.5319| -93.9221|     467|Agricultural cons...|1950-05-27|8bc95820c3b1370b7...|37.830131| -93.977754|       0|\n",
      "|  2019-01-01 04:23:33|           Bailey-Mo|   grocery_pos|  123.9|Blairsden-Graeagle|   CA|39.8127|-120.6405|    1725|Chartered legal e...|1967-05-27|2a98efe0b90779ab2...|39.229442|-120.493701|       0|\n",
      "|  2019-01-01 04:29:14|     Balistreri-Nade|      misc_pos|  22.88|           Tomales|   CA|38.2427|-122.9145|     337|Occupational psyc...|1954-07-05|2fcbde131cff83375...|39.060101|-121.969417|       0|\n",
      "|  2019-01-01 14:40:43|         Barrows PLC|  shopping_pos|    4.0|        Centerview|   MO|38.7897| -93.8702|    2368|Electronics engineer|1989-07-17|5dc420ce15d678f98...|39.097427| -93.374791|       0|\n",
      "|  2019-01-01 19:00:20| Bartoletti and Sons| personal_care|  11.21|             Tekoa|   WA|47.2271|-117.0819|     895|Clothing/textile ...|1999-05-31|180901d384a8c4b7a...| 47.90135| -116.53333|       0|\n",
      "|  2019-01-01 05:39:44|   Bartoletti-Wunsch| gas_transport|  56.65|Blairsden-Graeagle|   CA|39.8127|-120.6405|    1725|Chartered legal e...|1967-05-27|c198762abf80d696e...| 39.25212|-120.809112|       0|\n",
      "+---------------------+--------------------+--------------+-------+------------------+-----+-------+---------+--------+--------------------+----------+--------------------+---------+-----------+--------+\n",
      "only showing top 20 rows\n",
      "\n"
     ]
    }
   ],
   "source": [
    "dup_df3 = dup_df1.drop_duplicates(['merchant','category'])\n",
    "dup_df3.show()"
   ]
  },
  {
   "cell_type": "code",
   "execution_count": 15,
   "metadata": {},
   "outputs": [
    {
     "data": {
      "text/plain": [
       "568"
      ]
     },
     "execution_count": 15,
     "metadata": {},
     "output_type": "execute_result"
    }
   ],
   "source": [
    "dup_df3.count()"
   ]
  },
  {
   "cell_type": "markdown",
   "metadata": {},
   "source": [
    "Như vậy, tệp dữ liệu chỉ còn 568 dòng tổ hợp khác nhau của hai cột category và merchant."
   ]
  },
  {
   "cell_type": "markdown",
   "metadata": {},
   "source": [
    "## **4.14. TRÍCH SAMPLE TỪ DATASET**"
   ]
  },
  {
   "cell_type": "markdown",
   "metadata": {},
   "source": [
    "**Thao tác này cho phép tạo ra một tệp dữ liệu mới là sample (mẫu thu nhỏ) của tệp dataset ban đầu, với các dữ liệu được lấy random. Điều này thuận tiện cho người dùng khi muốn trích xuất các dữ liệu ngẫu nhiên để thống kê mô tả.**"
   ]
  },
  {
   "cell_type": "markdown",
   "metadata": {},
   "source": [
    "**Giả sử muốn trích một sample có kích cỡ bằng 20% tệp dataset ban đầu, với điều kiện các dòng dữ liệu không trùng lặp, ta làm như sau:**"
   ]
  },
  {
   "cell_type": "code",
   "execution_count": 25,
   "metadata": {},
   "outputs": [
    {
     "name": "stdout",
     "output_type": "stream",
     "text": [
      "+---------------------+--------------------+------------+------+-----------+-----+-------+---------+--------+--------------------+----------+--------------------+---------+-----------+--------+\n",
      "|trans_date_trans_time|            merchant|    category|   amt|       city|state|    lat|     long|city_pop|                 job|       dob|           trans_num|merch_lat| merch_long|is_fraud|\n",
      "+---------------------+--------------------+------------+------+-----------+-----+-------+---------+--------+--------------------+----------+--------------------+---------+-----------+--------+\n",
      "|  2019-01-01 00:00:44|Heller Gutmann an...| grocery_pos|107.23|     Orient|   WA|48.8878|-118.2105|     149|Special education...|1978-06-21|1f76529f857473494...|49.159047|-118.186462|       0|\n",
      "|  2019-01-01 00:46:18|Ferry Lynch and K...|    misc_net|  2.76|   San Jose|   CA|37.3304|-121.7913|  973849|      Science writer|1955-06-12|70ca7fe41f09770d7...|37.548452|-121.536454|       0|\n",
      "|  2019-01-01 01:34:25|         Hills-Olson| grocery_net| 27.03|    Ballwin|   MO| 38.577| -90.5255|   92608|Engineer communic...|2001-07-26|011f7fc2db063dc3f...|38.984909| -90.842219|       0|\n",
      "|  2019-01-01 02:06:56|         Bradtke PLC| grocery_pos| 78.13|  Louisiana|   MO|39.4336| -91.0664|    4593|Teacher early yea...|1940-11-11|e46a01d459665d346...|40.247129| -91.699005|       0|\n",
      "|  2019-01-01 02:12:07|Bernhard Grant an...|shopping_pos|  1.42|Westerville|   NE|41.4193| -99.3844|      73|    Product designer|1935-02-10|0020b02e5638ee80c...|40.790587| -99.011834|       0|\n",
      "+---------------------+--------------------+------------+------+-----------+-----+-------+---------+--------+--------------------+----------+--------------------+---------+-----------+--------+\n",
      "only showing top 5 rows\n",
      "\n"
     ]
    }
   ],
   "source": [
    "fraud_sample = is_frauddf.sample(withReplacement=False,fraction=0.2,seed=200)\n",
    "fraud_sample.show(5)"
   ]
  },
  {
   "cell_type": "code",
   "execution_count": 26,
   "metadata": {},
   "outputs": [
    {
     "data": {
      "text/plain": [
       "278"
      ]
     },
     "execution_count": 26,
     "metadata": {},
     "output_type": "execute_result"
    }
   ],
   "source": [
    "fraud_sample.count()"
   ]
  },
  {
   "cell_type": "markdown",
   "metadata": {},
   "source": [
    "Kết quả thu được 293 dữ liệu ngẫu nhiên, chiếm 20% tệp dữ liệu ban đầu."
   ]
  },
  {
   "cell_type": "markdown",
   "metadata": {},
   "source": [
    "**Giả sử muốn trích một sample có kích cỡ bằng 20% tệp dataset ban đầu, với điều kiện các dòng dữ liệu có thể trùng lặp, ta làm như sau:**"
   ]
  },
  {
   "cell_type": "code",
   "execution_count": 23,
   "metadata": {},
   "outputs": [
    {
     "name": "stdout",
     "output_type": "stream",
     "text": [
      "+---------------------+--------------------+-------------+------+--------------+-----+-------+---------+--------+--------------------+----------+--------------------+---------+-----------+--------+\n",
      "|trans_date_trans_time|            merchant|     category|   amt|          city|state|    lat|     long|city_pop|                 job|       dob|           trans_num|merch_lat| merch_long|is_fraud|\n",
      "+---------------------+--------------------+-------------+------+--------------+-----+-------+---------+--------+--------------------+----------+--------------------+---------+-----------+--------+\n",
      "|  2019-01-01 00:00:44|Heller Gutmann an...|  grocery_pos|107.23|        Orient|   WA|48.8878|-118.2105|     149|Special education...|1978-06-21|1f76529f857473494...|49.159047|-118.186462|       0|\n",
      "|  2019-01-01 00:07:27|           Kiehn Inc|  grocery_pos| 96.29|       Grenada|   CA|41.6125|-122.5258|     589|     Systems analyst|1945-12-21|413636e759663f264...| 41.65752|-122.230347|       0|\n",
      "|  2019-01-01 01:50:31|Reilly Heaney and...|gas_transport| 67.91|Fields Landing|   CA|40.7268|-124.2174|     276|Scientist audiolo...|1929-05-06|8e364131ffb75a95c...|41.137569| -123.63216|       0|\n",
      "|  2019-01-01 02:12:48|          Lockman Lt|  grocery_pos|104.08|      Lonetree|   WY|41.0552|-110.1603|      49|Research scientis...|1981-07-05|991f851c15545feaa...|41.677942|-110.829354|       0|\n",
      "|  2019-01-01 02:26:16|        Torp-Labadie|gas_transport| 49.53|       Freedom|   WY|43.0172|-111.0292|     471|Education officer...|1967-08-02|c09831d3ebf12b679...|43.038723|-111.821595|       0|\n",
      "+---------------------+--------------------+-------------+------+--------------+-----+-------+---------+--------+--------------------+----------+--------------------+---------+-----------+--------+\n",
      "only showing top 5 rows\n",
      "\n"
     ]
    }
   ],
   "source": [
    "fraud_sample1 = is_frauddf.sample(withReplacement=True,fraction=0.2,seed=200)\n",
    "fraud_sample1.show(5)"
   ]
  },
  {
   "cell_type": "code",
   "execution_count": 24,
   "metadata": {},
   "outputs": [
    {
     "data": {
      "text/plain": [
       "281"
      ]
     },
     "execution_count": 24,
     "metadata": {},
     "output_type": "execute_result"
    }
   ],
   "source": [
    "fraud_sample1.count()"
   ]
  },
  {
   "cell_type": "markdown",
   "metadata": {},
   "source": [
    "**Giả sử muốn trích một sample với hệ quy chiếu là trường category, với 30% tệp được lấy từ hình thức thanh toán ăn tối (food dining), và 70% tệp được lấy từ hình thức thanh toán xăng dầu (gas transport), ta làm như sau:**"
   ]
  },
  {
   "cell_type": "code",
   "execution_count": 27,
   "metadata": {},
   "outputs": [
    {
     "name": "stdout",
     "output_type": "stream",
     "text": [
      "+---------------------+--------------------+-------------+------+--------------+-----+-------+---------+--------+--------------------+----------+--------------------+---------+-----------+--------+\n",
      "|trans_date_trans_time|            merchant|     category|   amt|          city|state|    lat|     long|city_pop|                 job|       dob|           trans_num|merch_lat| merch_long|is_fraud|\n",
      "+---------------------+--------------------+-------------+------+--------------+-----+-------+---------+--------+--------------------+----------+--------------------+---------+-----------+--------+\n",
      "|  2019-01-01 00:31:51| Ledner-Pfannerstill|gas_transport|102.13|      Thompson|   UT|38.9999| -109.615|      46|   Surveyor minerals|1987-04-23|47238da5b40d126c8...|39.807313|-109.348294|       0|\n",
      "|  2019-01-01 00:40:50|     Cummerata-Jones|gas_transport| 70.53|        Athena|   OR|45.8289|-118.4971|    1302|              Dealer|1976-10-18|7b91bd200c11c5cd2...|46.043252|-117.962133|       0|\n",
      "|  2019-01-01 01:09:41| Ledner-Pfannerstill|gas_transport| 90.54|     Hawthorne|   CA|33.9143|-118.3493|   93193|Editor magazine f...|1995-04-19|295b782f9fa48f76f...|32.990285|-117.836803|       0|\n",
      "|  2019-01-01 01:50:31|Reilly Heaney and...|gas_transport| 67.91|Fields Landing|   CA|40.7268|-124.2174|     276|Scientist audiolo...|1929-05-06|8e364131ffb75a95c...|41.137569| -123.63216|       0|\n",
      "|  2019-01-01 02:42:25|Kutch Hermiston a...|gas_transport| 48.66| Weeping Water|   NE|40.8731| -96.1528|    1517|              Dealer|1951-11-08|61efe8834c23dea4a...|41.066297| -95.412102|       0|\n",
      "+---------------------+--------------------+-------------+------+--------------+-----+-------+---------+--------+--------------------+----------+--------------------+---------+-----------+--------+\n",
      "only showing top 5 rows\n",
      "\n"
     ]
    }
   ],
   "source": [
    "fraud_sample2 = is_frauddf.sampleBy(col='category',fractions={'food_dining':0.3,'gas_transport':0.7},seed=200)\n",
    "fraud_sample2.show(5)"
   ]
  },
  {
   "cell_type": "code",
   "execution_count": 28,
   "metadata": {},
   "outputs": [
    {
     "data": {
      "text/plain": [
       "138"
      ]
     },
     "execution_count": 28,
     "metadata": {},
     "output_type": "execute_result"
    }
   ],
   "source": [
    "fraud_sample2.count()"
   ]
  },
  {
   "cell_type": "markdown",
   "metadata": {},
   "source": [
    "Như vậy, tệp sample có 145 dữ liệu, trong đó 30% tệp có hình thức thanh toán ăn tối (food dining), và 70% tệp có thanh toán xăng dầu (gas transport)"
   ]
  },
  {
   "cell_type": "markdown",
   "metadata": {},
   "source": [
    "## **4.15. TÌM CÁC THÔNG TIN CÓ MẬT ĐỘ XUẤT HIỆN DÀY ĐẶC**"
   ]
  },
  {
   "cell_type": "markdown",
   "metadata": {},
   "source": [
    "**Giả sử như muốn tìm xem các giao dịch được đến từ hình thức (category) nào nhiều nhất, ta làm như sau:**"
   ]
  },
  {
   "cell_type": "code",
   "execution_count": 29,
   "metadata": {},
   "outputs": [
    {
     "name": "stdout",
     "output_type": "stream",
     "text": [
      "+--------------------+\n",
      "|  category_freqItems|\n",
      "+--------------------+\n",
      "|[food_dining, per...|\n",
      "+--------------------+\n",
      "\n"
     ]
    }
   ],
   "source": [
    "is_frauddf.freqItems(cols=['category']).show()"
   ]
  },
  {
   "cell_type": "markdown",
   "metadata": {},
   "source": [
    "Như vậy, có thể thấy, các giao dịch đến nhiều nhất từ việc thanh toán ăn tối (food dining)"
   ]
  },
  {
   "cell_type": "markdown",
   "metadata": {},
   "source": [
    "**Giả sử như muốn tìm xem các giao dịch được đến từ hình thức (category) nào nhiều nhất, và được thực hiện bởi ai nhiều nhất, ta làm như sau:**"
   ]
  },
  {
   "cell_type": "code",
   "execution_count": 30,
   "metadata": {},
   "outputs": [
    {
     "name": "stdout",
     "output_type": "stream",
     "text": [
      "+--------------------+--------------------+\n",
      "|  category_freqItems|  merchant_freqItems|\n",
      "+--------------------+--------------------+\n",
      "|[food_dining, per...|[Raynor Reinger a...|\n",
      "+--------------------+--------------------+\n",
      "\n"
     ]
    }
   ],
   "source": [
    "is_frauddf.freqItems(cols=['category','merchant']).show()"
   ]
  },
  {
   "cell_type": "markdown",
   "metadata": {},
   "source": [
    "Như vậy, có thể thấy, các giao dịch đến nhiều nhất từ việc thanh toán ăn tối (food dining), và người thực hiện nhiều nhất là \"Raynor Reinger...\"."
   ]
  }
 ],
 "metadata": {
  "kernelspec": {
   "display_name": "Python 3.9.13 64-bit (microsoft store)",
   "language": "python",
   "name": "python3"
  },
  "language_info": {
   "codemirror_mode": {
    "name": "ipython",
    "version": 3
   },
   "file_extension": ".py",
   "mimetype": "text/x-python",
   "name": "python",
   "nbconvert_exporter": "python",
   "pygments_lexer": "ipython3",
   "version": "3.9.13"
  },
  "orig_nbformat": 4,
  "vscode": {
   "interpreter": {
    "hash": "231b793e72510f63263cf75731d759da8776d8c74c3ed2dbefa0f0827e58fa6e"
   }
  }
 },
 "nbformat": 4,
 "nbformat_minor": 2
}
