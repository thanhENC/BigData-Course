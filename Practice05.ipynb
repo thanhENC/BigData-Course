{
 "cells": [
  {
   "cell_type": "markdown",
   "metadata": {},
   "source": [
    "### Submission Information:\n",
    "- Group: 04\n",
    "- Course: BIG DATA AND ITS APPLICATIONS\n",
    "- Instructor: TS. Nguyễn Thôn Dã\n",
    "- Assignment: PySpark Practice #5\n",
    "\n",
    "| StudentID      | Name | Class     |\n",
    "| :---        |    :---:   |          :--- |\n",
    "| K204110855 | Đinh Văn An | K20411 |\n",
    "| K204110568 | Nguyễn Gia Hưng | K20411 |\n",
    "| K204110579 | Phạm Nguyễn Hiền Phương | K20411 |\n",
    "| K204111772 | Đinh Hoàn Hảo | K20411 |\n",
    "| K204110567 | Phạm Thị Minh Hòa | K20411 |\n",
    "| K194081062 | Lê Thanh Hải | K19408T |"
   ]
  },
  {
   "cell_type": "markdown",
   "metadata": {},
   "source": [
    "## Import Libraries"
   ]
  },
  {
   "cell_type": "code",
   "execution_count": 78,
   "metadata": {},
   "outputs": [],
   "source": [
    "from pyspark.sql import SparkSession\n",
    "from pyspark.sql.functions import *\n",
    "from pyspark.sql.types import *\n",
    "import matplotlib.pyplot as plt\n",
    "import seaborn as sns\n",
    "import numpy as np\n",
    "import pandas as pd\n",
    "from datetime import datetime"
   ]
  },
  {
   "cell_type": "markdown",
   "metadata": {},
   "source": [
    "## 4-1-1. Load Data"
   ]
  },
  {
   "cell_type": "markdown",
   "metadata": {},
   "source": [
    "### Credit card frad Dataset description\n",
    "\n",
    "| Field      | Description | Data Type |\n",
    "| :---       |  :---       | :---      |\n",
    "|transdatetrans_time|\tTransaction DateTime | DateTime|\n",
    "|merchant|\tMerchant Name |    String|\n",
    "|category|\tCategory of Merchant | String|\n",
    "|amt|\tAmount of Transaction | Float|\n",
    "|city|\tCity of Credit Card Holder | String|\n",
    "|state|\tState of Credit Card Holder | String|\n",
    "|lat|\tLatitude Location of Purchase | Float|\n",
    "|long|\tLongitude Location of Purchase | Float|\n",
    "|city_pop|\tCredit Card Holder's City Population | Integer|\n",
    "|job|\tJob of Credit Card Holder | String|\n",
    "|dob|\tDate of Birth of Credit Card Holder | DateTime|\n",
    "|trans_num|\tTransaction Number | String|\n",
    "|merch_lat|\tLatitude Location of Merchant | Float|\n",
    "|merch_long|\tLongitude Location of Merchant | Float|\n",
    "|is_fraud|\tWhether Transaction is Fraud (1) or Not (0) | Integer|"
   ]
  },
  {
   "cell_type": "code",
   "execution_count": 35,
   "metadata": {},
   "outputs": [
    {
     "name": "stdout",
     "output_type": "stream",
     "text": [
      "[('trans_date_trans_time', 'string'), ('merchant', 'string'), ('category', 'string'), ('amt', 'string'), ('city', 'string'), ('state', 'string'), ('lat', 'string'), ('long', 'string'), ('city_pop', 'string'), ('job', 'string'), ('dob', 'string'), ('trans_num', 'string'), ('merch_lat', 'string'), ('merch_long', 'string'), ('is_fraud', 'string')]\n"
     ]
    }
   ],
   "source": [
    "spark = SparkSession.builder.appName('PySpark').getOrCreate()\n",
    "file_location=\"Data\\credit-card-fraud.csv\"\n",
    "file_type=\"csv\"\n",
    "infer_schema=\"False\" \n",
    "first_row_is_header=\"True\"\n",
    "df_Origin = spark.read.format(file_type).option(\"inferSchema\", infer_schema).option(\"header\", first_row_is_header).load(file_location)\n",
    "print(df_Origin.dtypes)\n",
    "\n",
    "#save dataframe to csv file\n",
    "#df_Origin.toPandas().to_csv('Data\\monitor.csv', index=False)"
   ]
  },
  {
   "cell_type": "markdown",
   "metadata": {},
   "source": [
    "#### Casting"
   ]
  },
  {
   "cell_type": "code",
   "execution_count": 45,
   "metadata": {},
   "outputs": [],
   "source": [
    "#casting\n",
    "\n",
    "df = df_Origin\n",
    "#identifying and assigning the correct data type to each column\n",
    "float_vars = ['amt', 'lat', 'long', 'merch_lat', 'merch_long']\n",
    "date_vars = ['dob']\n",
    "datetime_vars = ['trans_date_trans_time']\n",
    "int_vars = ['city_pop', 'is_fraud']\n",
    "for var in float_vars:\n",
    "    df = df.withColumn(var, df[var].cast(DoubleType()))\n",
    "for var in date_vars:\n",
    "    df = df.withColumn(var, df[var].cast(DateType()))\n",
    "for var in datetime_vars:\n",
    "    df = df.withColumn(var, df[var].cast(TimestampType()))\n",
    "for var in int_vars:\n",
    "    df = df.withColumn(var, df[var].cast(IntegerType()))\n",
    "#save dataframe to csv file\n",
    "df.toPandas().to_csv('Data\\monitor.csv', index=False)"
   ]
  },
  {
   "cell_type": "code",
   "execution_count": 46,
   "metadata": {},
   "outputs": [
    {
     "name": "stdout",
     "output_type": "stream",
     "text": [
      "root\n",
      " |-- trans_date_trans_time: timestamp (nullable = true)\n",
      " |-- merchant: string (nullable = true)\n",
      " |-- category: string (nullable = true)\n",
      " |-- amt: double (nullable = true)\n",
      " |-- city: string (nullable = true)\n",
      " |-- state: string (nullable = true)\n",
      " |-- lat: double (nullable = true)\n",
      " |-- long: double (nullable = true)\n",
      " |-- city_pop: integer (nullable = true)\n",
      " |-- job: string (nullable = true)\n",
      " |-- dob: date (nullable = true)\n",
      " |-- trans_num: string (nullable = true)\n",
      " |-- merch_lat: double (nullable = true)\n",
      " |-- merch_long: double (nullable = true)\n",
      " |-- is_fraud: integer (nullable = true)\n",
      "\n",
      "[('trans_date_trans_time', 'timestamp'), ('merchant', 'string'), ('category', 'string'), ('amt', 'double'), ('city', 'string'), ('state', 'string'), ('lat', 'double'), ('long', 'double'), ('city_pop', 'int'), ('job', 'string'), ('dob', 'date'), ('trans_num', 'string'), ('merch_lat', 'double'), ('merch_long', 'double'), ('is_fraud', 'int')]\n"
     ]
    },
    {
     "data": {
      "text/plain": [
       "1333"
      ]
     },
     "execution_count": 46,
     "metadata": {},
     "output_type": "execute_result"
    }
   ],
   "source": [
    "df.printSchema()\n",
    "print(df.dtypes)\n",
    "df.count()"
   ]
  },
  {
   "cell_type": "code",
   "execution_count": 47,
   "metadata": {},
   "outputs": [
    {
     "name": "stdout",
     "output_type": "stream",
     "text": [
      "+---------------------+--------------------+-------------+------+----------+-----+-------+---------+--------+--------------------+----------+--------------------+---------+-----------+--------+\n",
      "|trans_date_trans_time|            merchant|     category|   amt|      city|state|    lat|     long|city_pop|                 job|       dob|           trans_num|merch_lat| merch_long|is_fraud|\n",
      "+---------------------+--------------------+-------------+------+----------+-----+-------+---------+--------+--------------------+----------+--------------------+---------+-----------+--------+\n",
      "|  2019-01-01 00:00:44|\"\"\"Heller Gutmann...|  grocery_pos|107.23|    Orient|   WA|48.8878|-118.2105|     149|Special education...|1978-06-21|1f76529f857473494...|49.159047|-118.186462|       0|\n",
      "|  2019-01-01 00:00:51|      Lind-Buckridge|entertainment|220.11|Malad City|   ID|42.1808| -112.262|    4154|Nature conservati...|1962-01-19|a1a22d70485983eac...|43.150704|-112.154481|       0|\n",
      "|  2019-01-01 00:07:27|           Kiehn Inc|  grocery_pos| 96.29|   Grenada|   CA|41.6125|-122.5258|     589|     Systems analyst|1945-12-21|413636e759663f264...| 41.65752|-122.230347|       0|\n",
      "+---------------------+--------------------+-------------+------+----------+-----+-------+---------+--------+--------------------+----------+--------------------+---------+-----------+--------+\n",
      "only showing top 3 rows\n",
      "\n",
      "+---------------------+--------------------+-------------+------+----------+-----+-------+---------+--------+--------------------+----------+--------------------+---------+-----------+--------+\n",
      "|trans_date_trans_time|            merchant|     category|   amt|      city|state|    lat|     long|city_pop|                 job|       dob|           trans_num|merch_lat| merch_long|is_fraud|\n",
      "+---------------------+--------------------+-------------+------+----------+-----+-------+---------+--------+--------------------+----------+--------------------+---------+-----------+--------+\n",
      "|  2019-01-01 00:00:44|\"\"\"Heller Gutmann...|  grocery_pos|107.23|    Orient|   WA|48.8878|-118.2105|     149|Special education...|1978-06-21|1f76529f857473494...|49.159047|-118.186462|       0|\n",
      "|  2019-01-01 00:00:51|      Lind-Buckridge|entertainment|220.11|Malad City|   ID|42.1808| -112.262|    4154|Nature conservati...|1962-01-19|a1a22d70485983eac...|43.150704|-112.154481|       0|\n",
      "|  2019-01-01 00:07:27|           Kiehn Inc|  grocery_pos| 96.29|   Grenada|   CA|41.6125|-122.5258|     589|     Systems analyst|1945-12-21|413636e759663f264...| 41.65752|-122.230347|       0|\n",
      "+---------------------+--------------------+-------------+------+----------+-----+-------+---------+--------+--------------------+----------+--------------------+---------+-----------+--------+\n",
      "only showing top 3 rows\n",
      "\n"
     ]
    }
   ],
   "source": [
    "df_Origin.show(3)\n",
    "df.show(3)"
   ]
  },
  {
   "cell_type": "markdown",
   "metadata": {},
   "source": [
    "## 4-1-2. Calculating The Age Of Credit Card Holder and Adding It as a Column"
   ]
  },
  {
   "cell_type": "code",
   "execution_count": 84,
   "metadata": {},
   "outputs": [
    {
     "name": "stdout",
     "output_type": "stream",
     "text": [
      "+---------------------+--------------------+-------------+------+----------+-----+-------+---------+--------+--------------------+----------+--------------------+---------+-----------+--------+----+\n",
      "|trans_date_trans_time|            merchant|     category|   amt|      city|state|    lat|     long|city_pop|                 job|       dob|           trans_num|merch_lat| merch_long|is_fraud| Age|\n",
      "+---------------------+--------------------+-------------+------+----------+-----+-------+---------+--------+--------------------+----------+--------------------+---------+-----------+--------+----+\n",
      "|  2019-01-01 00:00:44|\"\"\"Heller Gutmann...|  grocery_pos|107.23|    Orient|   WA|48.8878|-118.2105|     149|Special education...|1978-06-21|1f76529f857473494...|49.159047|-118.186462|       0|44.0|\n",
      "|  2019-01-01 00:00:51|      Lind-Buckridge|entertainment|220.11|Malad City|   ID|42.1808| -112.262|    4154|Nature conservati...|1962-01-19|a1a22d70485983eac...|43.150704|-112.154481|       0|61.0|\n",
      "|  2019-01-01 00:07:27|           Kiehn Inc|  grocery_pos| 96.29|   Grenada|   CA|41.6125|-122.5258|     589|     Systems analyst|1945-12-21|413636e759663f264...| 41.65752|-122.230347|       0|77.0|\n",
      "+---------------------+--------------------+-------------+------+----------+-----+-------+---------+--------+--------------------+----------+--------------------+---------+-----------+--------+----+\n",
      "only showing top 3 rows\n",
      "\n"
     ]
    }
   ],
   "source": [
    "df_Age = df.withColumn('Age', round(datediff(lit(current_date()), df['dob'])/lit(365), 0))\n",
    "df_Age.show(3)"
   ]
  }
 ],
 "metadata": {
  "kernelspec": {
   "display_name": "Python 3.9.13 64-bit (microsoft store)",
   "language": "python",
   "name": "python3"
  },
  "language_info": {
   "codemirror_mode": {
    "name": "ipython",
    "version": 3
   },
   "file_extension": ".py",
   "mimetype": "text/x-python",
   "name": "python",
   "nbconvert_exporter": "python",
   "pygments_lexer": "ipython3",
   "version": "3.9.13"
  },
  "orig_nbformat": 4,
  "vscode": {
   "interpreter": {
    "hash": "231b793e72510f63263cf75731d759da8776d8c74c3ed2dbefa0f0827e58fa6e"
   }
  }
 },
 "nbformat": 4,
 "nbformat_minor": 2
}
