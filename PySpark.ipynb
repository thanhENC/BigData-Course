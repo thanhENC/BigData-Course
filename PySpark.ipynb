{
 "cells": [
  {
   "cell_type": "code",
   "execution_count": 1,
   "metadata": {},
   "outputs": [],
   "source": [
    "from pyspark.sql import SparkSession"
   ]
  },
  {
   "cell_type": "code",
   "execution_count": 2,
   "metadata": {},
   "outputs": [
    {
     "name": "stdout",
     "output_type": "stream",
     "text": [
      "root\n",
      " |-- Currency: string (nullable = true)\n",
      " |-- Date: string (nullable = true)\n",
      " |-- Open: string (nullable = true)\n",
      " |-- High: string (nullable = true)\n",
      " |-- Low: string (nullable = true)\n",
      " |-- Close: string (nullable = true)\n",
      " |-- Volume: string (nullable = true)\n",
      " |-- Market Cap: string (nullable = true)\n",
      "\n"
     ]
    }
   ],
   "source": [
    "spark = SparkSession.builder.appName('PySpark').getOrCreate()\n",
    "file_location=\"Data\\consolidated_coin_data.csv\"\n",
    "file_type=\"csv\"\n",
    "infer_schema=\"False\" \n",
    "first_row_is_header=\"True\"\n",
    "df = spark.read.format(file_type).option(\"inferSchema\", infer_schema).option(\"header\", first_row_is_header).load(file_location)\n",
    "df.printSchema()"
   ]
  },
  {
   "cell_type": "code",
   "execution_count": 5,
   "metadata": {},
   "outputs": [
    {
     "name": "stdout",
     "output_type": "stream",
     "text": [
      "[('Currency', 'string'), ('Date', 'string'), ('Open', 'string'), ('High', 'string'), ('Low', 'string'), ('Close', 'string'), ('Volume', 'string'), ('Market Cap', 'string')]\n"
     ]
    },
    {
     "data": {
      "text/plain": [
       "28944"
      ]
     },
     "execution_count": 5,
     "metadata": {},
     "output_type": "execute_result"
    }
   ],
   "source": [
    "print(df.dtypes)\n",
    "df.count()"
   ]
  },
  {
   "cell_type": "code",
   "execution_count": 10,
   "metadata": {},
   "outputs": [
    {
     "name": "stdout",
     "output_type": "stream",
     "text": [
      "+-------+------------+------------+-----------------+-----------------+-----------------+------------------+------------------+-----------+\n",
      "|summary|    Currency|        Date|             Open|             High|              Low|             Close|            Volume| Market Cap|\n",
      "+-------+------------+------------+-----------------+-----------------+-----------------+------------------+------------------+-----------+\n",
      "|  count|       28944|       28944|            28944|            28944|            28944|             28944|             28944|      28944|\n",
      "|   mean|        null|        null|61.23072540399284|61.99146303249466|60.45065150895782| 61.21910224902552|19.143655471101063|        0.0|\n",
      "| stddev|        null|        null|153.9036632222969|155.2031929260683|152.5152541340831|153.85544655306953|107.94929019563777|        0.0|\n",
      "|    min|binance-coin|Apr 01, 2014|         0.001352|         0.001509|         0.001227|          0.001357|                 0|          0|\n",
      "|    max|         xrp|Sep 30, 2019|           998.89|           998.91|           999.75|            999.18|           999,501|999,589,702|\n",
      "+-------+------------+------------+-----------------+-----------------+-----------------+------------------+------------------+-----------+\n",
      "\n"
     ]
    }
   ],
   "source": [
    "df.describe().show()"
   ]
  },
  {
   "cell_type": "code",
   "execution_count": 11,
   "metadata": {},
   "outputs": [
    {
     "name": "stdout",
     "output_type": "stream",
     "text": [
      "+--------+------------+----+-----+-----------+-----------+\n",
      "|Currency|        Date|Open|Close|     Volume| Market Cap|\n",
      "+--------+------------+----+-----+-----------+-----------+\n",
      "|   tezos|Dec 04, 2019|1.29| 1.25| 46,048,752|824,588,509|\n",
      "|   tezos|Dec 03, 2019|1.24| 1.29| 41,462,224|853,213,342|\n",
      "|   tezos|Dec 02, 2019|1.25| 1.24| 27,574,097|817,872,179|\n",
      "|   tezos|Dec 01, 2019|1.33| 1.25| 24,127,567|828,296,390|\n",
      "|   tezos|Nov 30, 2019|1.31| 1.33| 28,706,667|879,181,680|\n",
      "|   tezos|Nov 29, 2019|1.28| 1.31| 32,270,224|867,085,098|\n",
      "|   tezos|Nov 28, 2019|1.26| 1.28| 44,240,281|845,073,679|\n",
      "|   tezos|Nov 27, 2019|1.24| 1.26| 47,723,271|829,672,736|\n",
      "|   tezos|Nov 26, 2019|1.24| 1.24| 54,828,808|822,065,277|\n",
      "|   tezos|Nov 25, 2019|1.33| 1.24| 64,954,006|815,688,075|\n",
      "|   tezos|Nov 24, 2019|1.40| 1.34| 49,206,070|887,731,654|\n",
      "|   tezos|Nov 23, 2019|1.22| 1.39|123,832,790|920,735,790|\n",
      "|   tezos|Nov 22, 2019|1.21| 1.22| 69,312,275|804,427,044|\n",
      "|   tezos|Nov 21, 2019|1.21| 1.21| 53,020,027|800,257,863|\n",
      "|   tezos|Nov 20, 2019|1.22| 1.21| 33,605,071|801,174,969|\n",
      "|   tezos|Nov 19, 2019|1.23| 1.22| 35,796,763|805,231,584|\n",
      "|   tezos|Nov 18, 2019|1.16| 1.23| 37,602,915|813,744,878|\n",
      "|   tezos|Nov 17, 2019|1.16| 1.16| 22,483,167|767,707,353|\n",
      "|   tezos|Nov 16, 2019|1.17| 1.16| 26,689,028|768,303,560|\n",
      "|   tezos|Nov 15, 2019|1.22| 1.17| 32,203,363|773,992,543|\n",
      "+--------+------------+----+-----+-----------+-----------+\n",
      "only showing top 20 rows\n",
      "\n"
     ]
    }
   ],
   "source": [
    "full_df=df\n",
    "columns=['Currency', 'Date', 'Open', 'Close', 'Volume', 'Market Cap']\n",
    "df=df.select(columns)\n",
    "df.show()"
   ]
  },
  {
   "cell_type": "code",
   "execution_count": 13,
   "metadata": {},
   "outputs": [
    {
     "name": "stdout",
     "output_type": "stream",
     "text": [
      "+--------+------------+----+-----+----------+-----------+\n",
      "|Currency|Date        |Open|Close|Volume    |Market Cap |\n",
      "+--------+------------+----+-----+----------+-----------+\n",
      "|tezos   |Dec 04, 2019|1.29|1.25 |46,048,752|824,588,509|\n",
      "|tezos   |Dec 03, 2019|1.24|1.29 |41,462,224|853,213,342|\n",
      "|tezos   |Dec 02, 2019|1.25|1.24 |27,574,097|817,872,179|\n",
      "|tezos   |Dec 01, 2019|1.33|1.25 |24,127,567|828,296,390|\n",
      "|tezos   |Nov 30, 2019|1.31|1.33 |28,706,667|879,181,680|\n",
      "|tezos   |Nov 29, 2019|1.28|1.31 |32,270,224|867,085,098|\n",
      "|tezos   |Nov 28, 2019|1.26|1.28 |44,240,281|845,073,679|\n",
      "|tezos   |Nov 27, 2019|1.24|1.26 |47,723,271|829,672,736|\n",
      "|tezos   |Nov 26, 2019|1.24|1.24 |54,828,808|822,065,277|\n",
      "|tezos   |Nov 25, 2019|1.33|1.24 |64,954,006|815,688,075|\n",
      "+--------+------------+----+-----+----------+-----------+\n",
      "only showing top 10 rows\n",
      "\n"
     ]
    }
   ],
   "source": [
    "full_df.select(full_df['Currency'], full_df['Date'], full_df['Open'], full_df['Close'], full_df['Volume'], full_df['Market Cap']).show(10, False)"
   ]
  },
  {
   "cell_type": "code",
   "execution_count": null,
   "metadata": {},
   "outputs": [],
   "source": []
  }
 ],
 "metadata": {
  "kernelspec": {
   "display_name": "Python 3.9.13 64-bit (microsoft store)",
   "language": "python",
   "name": "python3"
  },
  "language_info": {
   "codemirror_mode": {
    "name": "ipython",
    "version": 3
   },
   "file_extension": ".py",
   "mimetype": "text/x-python",
   "name": "python",
   "nbconvert_exporter": "python",
   "pygments_lexer": "ipython3",
   "version": "3.9.13"
  },
  "orig_nbformat": 4,
  "vscode": {
   "interpreter": {
    "hash": "231b793e72510f63263cf75731d759da8776d8c74c3ed2dbefa0f0827e58fa6e"
   }
  }
 },
 "nbformat": 4,
 "nbformat_minor": 2
}
