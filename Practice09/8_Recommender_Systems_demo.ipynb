{
 "cells": [
  {
   "cell_type": "raw",
   "id": "c32dcdba",
   "metadata": {},
   "source": [
    "Lecturer: Nguyen Thon Da Ph.D\n",
    "Course: Big Data\n",
    "Content:Recommender_Systems_demo"
   ]
  },
  {
   "cell_type": "markdown",
   "id": "4dee4b91",
   "metadata": {},
   "source": [
    "# Reading Data from a File"
   ]
  },
  {
   "cell_type": "code",
   "execution_count": 1,
   "id": "7cf7e111",
   "metadata": {},
   "outputs": [
    {
     "name": "stdout",
     "output_type": "stream",
     "text": [
      "22/10/24 11:31:21 WARN Utils: Your hostname, m0 resolves to a loopback address: 127.0.1.1; using 10.0.2.15 instead (on interface enp0s3)\n",
      "22/10/24 11:31:21 WARN Utils: Set SPARK_LOCAL_IP if you need to bind to another address\n"
     ]
    },
    {
     "name": "stderr",
     "output_type": "stream",
     "text": [
      "Setting default log level to \"WARN\".\n",
      "To adjust logging level use sc.setLogLevel(newLevel). For SparkR, use setLogLevel(newLevel).\n"
     ]
    },
    {
     "name": "stdout",
     "output_type": "stream",
     "text": [
      "22/10/24 11:31:24 WARN NativeCodeLoader: Unable to load native-hadoop library for your platform... using builtin-java classes where applicable\n",
      "22/10/24 11:31:31 WARN Utils: Service 'SparkUI' could not bind on port 4040. Attempting port 4041.\n",
      "22/10/24 11:31:31 WARN Utils: Service 'SparkUI' could not bind on port 4041. Attempting port 4042.\n",
      "22/10/24 11:31:31 WARN Utils: Service 'SparkUI' could not bind on port 4042. Attempting port 4043.\n"
     ]
    }
   ],
   "source": [
    "from pyspark.sql import SparkSession\n",
    "spark = SparkSession.builder.appName('Recommender Systems Demo').getOrCreate()"
   ]
  },
  {
   "cell_type": "code",
   "execution_count": 2,
   "id": "93d5b657",
   "metadata": {},
   "outputs": [
    {
     "name": "stderr",
     "output_type": "stream",
     "text": [
      "                                                                                \r"
     ]
    }
   ],
   "source": [
    "df = spark.read.csv('7_data/ratings.csv', inferSchema=True, header=True)"
   ]
  },
  {
   "cell_type": "code",
   "execution_count": 3,
   "id": "b035b17a",
   "metadata": {},
   "outputs": [],
   "source": [
    "def shape(df):\n",
    "    return (df.count(), len(df.columns))"
   ]
  },
  {
   "cell_type": "code",
   "execution_count": 4,
   "id": "70a17584",
   "metadata": {},
   "outputs": [
    {
     "name": "stderr",
     "output_type": "stream",
     "text": [
      "                                                                                \r"
     ]
    },
    {
     "data": {
      "text/plain": [
       "(100000, 3)"
      ]
     },
     "execution_count": 4,
     "metadata": {},
     "output_type": "execute_result"
    }
   ],
   "source": [
    "shape(df)"
   ]
  },
  {
   "cell_type": "code",
   "execution_count": 5,
   "id": "4adc1aa6",
   "metadata": {},
   "outputs": [
    {
     "name": "stdout",
     "output_type": "stream",
     "text": [
      "+------+------------+------+\n",
      "|userId|title       |rating|\n",
      "+------+------------+------+\n",
      "|196   |Kolya (1996)|3     |\n",
      "|63    |Kolya (1996)|3     |\n",
      "|226   |Kolya (1996)|5     |\n",
      "|154   |Kolya (1996)|3     |\n",
      "|306   |Kolya (1996)|5     |\n",
      "|296   |Kolya (1996)|4     |\n",
      "|34    |Kolya (1996)|5     |\n",
      "|271   |Kolya (1996)|4     |\n",
      "|201   |Kolya (1996)|4     |\n",
      "|209   |Kolya (1996)|4     |\n",
      "+------+------------+------+\n",
      "only showing top 10 rows\n",
      "\n"
     ]
    }
   ],
   "source": [
    "df.show(10,False)"
   ]
  },
  {
   "cell_type": "code",
   "execution_count": 6,
   "id": "604a3c61",
   "metadata": {},
   "outputs": [
    {
     "name": "stdout",
     "output_type": "stream",
     "text": [
      "root\n",
      " |-- userId: integer (nullable = true)\n",
      " |-- title: string (nullable = true)\n",
      " |-- rating: integer (nullable = true)\n",
      "\n"
     ]
    }
   ],
   "source": [
    "df.printSchema()"
   ]
  },
  {
   "cell_type": "code",
   "execution_count": 8,
   "id": "27e0e27f",
   "metadata": {},
   "outputs": [
    {
     "name": "stderr",
     "output_type": "stream",
     "text": [
      "\r",
      "[Stage 7:>                                                          (0 + 1) / 1]\r"
     ]
    },
    {
     "name": "stdout",
     "output_type": "stream",
     "text": [
      "+------+--------------------+------+\n",
      "|userId|               title|rating|\n",
      "+------+--------------------+------+\n",
      "|   774|         Wolf (1994)|     2|\n",
      "|   334|Antonia's Line (1...|     4|\n",
      "|    64|Bridge on the Riv...|     4|\n",
      "|   690|In the Line of Fi...|     4|\n",
      "|   548| Jackie Brown (1997)|     4|\n",
      "|   227|    Star Wars (1977)|     4|\n",
      "|   682|       Sliver (1993)|     2|\n",
      "|   385|  Raging Bull (1980)|     5|\n",
      "|   321|  Hoop Dreams (1994)|     4|\n",
      "|   417|Rebel Without a C...|     4|\n",
      "+------+--------------------+------+\n",
      "only showing top 10 rows\n",
      "\n"
     ]
    },
    {
     "name": "stderr",
     "output_type": "stream",
     "text": [
      "\r",
      "                                                                                \r"
     ]
    }
   ],
   "source": [
    "from pyspark.sql.functions import rand\n",
    "\n",
    "df.orderBy(rand()).show(10)"
   ]
  },
  {
   "cell_type": "code",
   "execution_count": 12,
   "id": "b06e25f6",
   "metadata": {},
   "outputs": [
    {
     "name": "stderr",
     "output_type": "stream",
     "text": [
      "                                                                                \r"
     ]
    },
    {
     "name": "stdout",
     "output_type": "stream",
     "text": [
      "+------+------------+------+--------+\n",
      "|userId|       title|rating|title_id|\n",
      "+------+------------+------+--------+\n",
      "|   196|Kolya (1996)|     3|   287.0|\n",
      "|    63|Kolya (1996)|     3|   287.0|\n",
      "|   226|Kolya (1996)|     5|   287.0|\n",
      "|   154|Kolya (1996)|     3|   287.0|\n",
      "|   306|Kolya (1996)|     5|   287.0|\n",
      "|   296|Kolya (1996)|     4|   287.0|\n",
      "|    34|Kolya (1996)|     5|   287.0|\n",
      "|   271|Kolya (1996)|     4|   287.0|\n",
      "|   201|Kolya (1996)|     4|   287.0|\n",
      "|   209|Kolya (1996)|     4|   287.0|\n",
      "+------+------------+------+--------+\n",
      "only showing top 10 rows\n",
      "\n"
     ]
    }
   ],
   "source": [
    "from pyspark.ml.feature import StringIndexer, IndexToString \n",
    "stringIndexer = StringIndexer(inputCol='title', outputCol='title_id')\n",
    "model = stringIndexer.fit(df)\n",
    "indexed = model.transform(df)\n",
    "indexed.show(10)"
   ]
  },
  {
   "cell_type": "code",
   "execution_count": 13,
   "id": "085d20e4",
   "metadata": {},
   "outputs": [],
   "source": [
    "train, test = indexed.randomSplit([.8, .2], seed=10)"
   ]
  },
  {
   "cell_type": "code",
   "execution_count": 14,
   "id": "377e456d",
   "metadata": {},
   "outputs": [],
   "source": [
    "from pyspark.ml.recommendation import ALS\n",
    "\n",
    "rec = ALS(maxIter=10,\n",
    "          regParam=0.01,\n",
    "          userCol='userId',\n",
    "          itemCol='title_id',\n",
    "          ratingCol='rating',\n",
    "          nonnegative=True, # Ensure that no negative ratings are created.\n",
    "          coldStartStrategy='drop') # Prevent any NaN ratings predictions."
   ]
  },
  {
   "cell_type": "code",
   "execution_count": 16,
   "id": "ce33f36d",
   "metadata": {},
   "outputs": [
    {
     "name": "stderr",
     "output_type": "stream",
     "text": [
      "                                                                                \r"
     ]
    },
    {
     "name": "stdout",
     "output_type": "stream",
     "text": [
      "22/10/24 11:37:42 WARN InstanceBuilder$NativeBLAS: Failed to load implementation from:dev.ludovic.netlib.blas.JNIBLAS\n",
      "22/10/24 11:37:42 WARN InstanceBuilder$NativeBLAS: Failed to load implementation from:dev.ludovic.netlib.blas.ForeignLinkerBLAS\n"
     ]
    },
    {
     "name": "stderr",
     "output_type": "stream",
     "text": [
      "                                                                                \r"
     ]
    },
    {
     "name": "stdout",
     "output_type": "stream",
     "text": [
      "root\n",
      " |-- userId: integer (nullable = true)\n",
      " |-- title: string (nullable = true)\n",
      " |-- rating: integer (nullable = true)\n",
      " |-- title_id: double (nullable = false)\n",
      " |-- prediction: float (nullable = false)\n",
      "\n"
     ]
    }
   ],
   "source": [
    "rec_model = rec.fit(train)\n",
    "predicted_ratings = rec_model.transform(test)\n",
    "predicted_ratings.printSchema()"
   ]
  },
  {
   "cell_type": "code",
   "execution_count": 17,
   "id": "ae05c0ee",
   "metadata": {},
   "outputs": [
    {
     "name": "stderr",
     "output_type": "stream",
     "text": [
      "                                                                                \r"
     ]
    },
    {
     "data": {
      "text/plain": [
       "1.0102331219856"
      ]
     },
     "execution_count": 17,
     "metadata": {},
     "output_type": "execute_result"
    }
   ],
   "source": [
    "from pyspark.ml.evaluation import RegressionEvaluator\n",
    "\n",
    "evaluator = RegressionEvaluator(metricName='rmse',\n",
    "                                predictionCol='prediction',\n",
    "                                labelCol='rating')\n",
    "rmse = evaluator.evaluate(predicted_ratings)\n",
    "rmse"
   ]
  },
  {
   "cell_type": "code",
   "execution_count": 18,
   "id": "3a2ef4b5",
   "metadata": {},
   "outputs": [
    {
     "name": "stderr",
     "output_type": "stream",
     "text": [
      "                                                                                \r"
     ]
    },
    {
     "data": {
      "text/plain": [
       "1664"
      ]
     },
     "execution_count": 18,
     "metadata": {},
     "output_type": "execute_result"
    }
   ],
   "source": [
    "unique_items = indexed.select('title_id').distinct()\n",
    "unique_items.count()"
   ]
  },
  {
   "cell_type": "code",
   "execution_count": 19,
   "id": "fa11a77d",
   "metadata": {},
   "outputs": [],
   "source": [
    "a = unique_items.alias('a')"
   ]
  },
  {
   "cell_type": "code",
   "execution_count": 20,
   "id": "dd2f5c25",
   "metadata": {},
   "outputs": [
    {
     "name": "stderr",
     "output_type": "stream",
     "text": [
      "                                                                                \r"
     ]
    },
    {
     "data": {
      "text/plain": [
       "287"
      ]
     },
     "execution_count": 20,
     "metadata": {},
     "output_type": "execute_result"
    }
   ],
   "source": [
    "user_id = 85\n",
    "\n",
    "visited_items = indexed.filter(indexed['userId'] == user_id).select('title_id').distinct()\n",
    "visited_items.count()"
   ]
  },
  {
   "cell_type": "code",
   "execution_count": 27,
   "id": "b29d49e8",
   "metadata": {},
   "outputs": [],
   "source": [
    "b = visited_items.alias('b')"
   ]
  },
  {
   "cell_type": "code",
   "execution_count": 28,
   "id": "9b52606c",
   "metadata": {},
   "outputs": [
    {
     "name": "stderr",
     "output_type": "stream",
     "text": [
      "                                                                                \r"
     ]
    },
    {
     "name": "stdout",
     "output_type": "stream",
     "text": [
      "+--------+--------+\n",
      "|title_id|title_id|\n",
      "+--------+--------+\n",
      "|   305.0|   305.0|\n",
      "|   596.0|    null|\n",
      "|   299.0|    null|\n",
      "|   769.0|    null|\n",
      "|   692.0|    null|\n",
      "|   934.0|    null|\n",
      "|  1051.0|    null|\n",
      "|   496.0|    null|\n",
      "|   558.0|   558.0|\n",
      "|   170.0|    null|\n",
      "+--------+--------+\n",
      "only showing top 10 rows\n",
      "\n"
     ]
    }
   ],
   "source": [
    "total_items = a.join(b, a.title_id== b.title_id, how='left')\n",
    "total_items.show(10)"
   ]
  },
  {
   "cell_type": "code",
   "execution_count": 29,
   "id": "79657d5e",
   "metadata": {},
   "outputs": [
    {
     "name": "stderr",
     "output_type": "stream",
     "text": [
      "                                                                                \r"
     ]
    },
    {
     "data": {
      "text/plain": [
       "1377"
      ]
     },
     "execution_count": 29,
     "metadata": {},
     "output_type": "execute_result"
    }
   ],
   "source": [
    "from pyspark.sql.functions import col, lit\n",
    "\n",
    "remaining_items = total_items.where(col('b.title_id').isNull()).select(a.title_id).distinct()\n",
    "remaining_items.count()"
   ]
  },
  {
   "cell_type": "code",
   "execution_count": 31,
   "id": "cad1a728",
   "metadata": {},
   "outputs": [
    {
     "name": "stderr",
     "output_type": "stream",
     "text": [
      "                                                                                \r"
     ]
    },
    {
     "name": "stdout",
     "output_type": "stream",
     "text": [
      "+--------+------+\n",
      "|title_id|userId|\n",
      "+--------+------+\n",
      "|   596.0|    85|\n",
      "|   299.0|    85|\n",
      "|   769.0|    85|\n",
      "|   692.0|    85|\n",
      "|   934.0|    85|\n",
      "|  1051.0|    85|\n",
      "|   496.0|    85|\n",
      "|   170.0|    85|\n",
      "|   184.0|    85|\n",
      "|   576.0|    85|\n",
      "+--------+------+\n",
      "only showing top 10 rows\n",
      "\n"
     ]
    }
   ],
   "source": [
    "remaining_items = remaining_items.withColumn('userId', lit(int(user_id)))\n",
    "remaining_items.show(10)"
   ]
  },
  {
   "cell_type": "code",
   "execution_count": 32,
   "id": "61a43ff1",
   "metadata": {},
   "outputs": [
    {
     "name": "stderr",
     "output_type": "stream",
     "text": [
      "                                                                                \r"
     ]
    },
    {
     "name": "stdout",
     "output_type": "stream",
     "text": [
      "+--------+------+----------+\n",
      "|title_id|userId|prediction|\n",
      "+--------+------+----------+\n",
      "|  1207.0|    85| 5.5590105|\n",
      "|  1120.0|    85|  5.400318|\n",
      "|  1411.0|    85| 5.1537695|\n",
      "|  1277.0|    85| 5.0424075|\n",
      "|  1288.0|    85| 5.0154605|\n",
      "+--------+------+----------+\n",
      "only showing top 5 rows\n",
      "\n"
     ]
    }
   ],
   "source": [
    "recommendations = rec_model.transform(remaining_items).orderBy('prediction', ascending=False)\n",
    "recommendations.show(5)"
   ]
  },
  {
   "cell_type": "code",
   "execution_count": 33,
   "id": "219f58d9",
   "metadata": {},
   "outputs": [
    {
     "name": "stderr",
     "output_type": "stream",
     "text": [
      "                                                                                \r"
     ]
    },
    {
     "name": "stdout",
     "output_type": "stream",
     "text": [
      "+--------+------+----------+----------------------------------------------------+\n",
      "|title_id|userId|prediction|title                                               |\n",
      "+--------+------+----------+----------------------------------------------------+\n",
      "|1207.0  |85    |5.5590105 |Aparajito (1956)                                    |\n",
      "|1120.0  |85    |5.400318  |Crooklyn (1994)                                     |\n",
      "|1411.0  |85    |5.1537695 |Boys, Les (1997)                                    |\n",
      "|1277.0  |85    |5.0424075 |Mina Tannenbaum (1994)                              |\n",
      "|1288.0  |85    |5.0154605 |Whole Wide World, The (1996)                        |\n",
      "|1325.0  |85    |4.9820385 |Prisoner of the Mountains (Kavkazsky Plennik) (1996)|\n",
      "|942.0   |85    |4.962156  |Set It Off (1996)                                   |\n",
      "|982.0   |85    |4.848961  |Switchback (1997)                                   |\n",
      "|1347.0  |85    |4.8392844 |Angel Baby (1995)                                   |\n",
      "|860.0   |85    |4.7945166 |Naked (1993)                                        |\n",
      "+--------+------+----------+----------------------------------------------------+\n",
      "only showing top 10 rows\n",
      "\n"
     ]
    }
   ],
   "source": [
    "items_title = IndexToString(inputCol='title_id',\n",
    "                            outputCol='title',\n",
    "                            labels=model.labels)\n",
    "final_recommendations = items_title.transform(recommendations)\n",
    "final_recommendations.show(10, False)"
   ]
  },
  {
   "cell_type": "code",
   "execution_count": null,
   "id": "15bbc54d",
   "metadata": {},
   "outputs": [],
   "source": []
  }
 ],
 "metadata": {
  "kernelspec": {
   "display_name": "Python 3 (ipykernel)",
   "language": "python",
   "name": "python3"
  },
  "language_info": {
   "codemirror_mode": {
    "name": "ipython",
    "version": 3
   },
   "file_extension": ".py",
   "mimetype": "text/x-python",
   "name": "python",
   "nbconvert_exporter": "python",
   "pygments_lexer": "ipython3",
   "version": "3.9.12"
  }
 },
 "nbformat": 4,
 "nbformat_minor": 5
}
