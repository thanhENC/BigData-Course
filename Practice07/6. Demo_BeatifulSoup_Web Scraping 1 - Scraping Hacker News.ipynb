{
 "cells": [
  {
   "cell_type": "code",
   "execution_count": 18,
   "id": "63030dd6",
   "metadata": {},
   "outputs": [
    {
     "name": "stdout",
     "output_type": "stream",
     "text": [
      "{'link': None, 'title': None, 'score': '72 points', 'comments': '11 comments'}\n",
      "{'link': None, 'title': None, 'score': '666 points', 'comments': '226 comments'}\n",
      "{'link': None, 'title': None, 'score': '24 points', 'comments': '1 comment'}\n",
      "{'link': None, 'title': None, 'score': '239 points', 'comments': '271 comments'}\n",
      "{'link': None, 'title': None, 'score': '342 points', 'comments': '69 comments'}\n",
      "{'link': None, 'title': None, 'score': '298 points', 'comments': '176 comments'}\n",
      "{'link': None, 'title': None, 'score': '95 points', 'comments': '97 comments'}\n",
      "{'link': None, 'title': None, 'score': '114 points', 'comments': '18 comments'}\n",
      "{'link': None, 'title': None, 'score': '76 points', 'comments': '41 comments'}\n",
      "{'link': None, 'title': None, 'score': '112 points', 'comments': '62 comments'}\n",
      "{'link': None, 'title': None, 'score': '97 points', 'comments': '34 comments'}\n",
      "{'link': None, 'title': None, 'score': '70 points', 'comments': '81 comments'}\n",
      "{'link': None, 'title': None, 'score': '180 points', 'comments': '244 comments'}\n",
      "{'link': None, 'title': None, 'score': '21 points', 'comments': '6 comments'}\n",
      "{'link': None, 'title': None, 'score': '79 points', 'comments': '197 comments'}\n",
      "{'link': None, 'title': None, 'score': '44 points', 'comments': '9 comments'}\n",
      "{'link': None, 'title': None, 'score': '177 points', 'comments': '153 comments'}\n",
      "{'link': None, 'title': None, 'score': '70 points', 'comments': '85 comments'}\n",
      "{'link': None, 'title': None, 'score': '64 points', 'comments': '8 comments'}\n",
      "{'link': None, 'title': None, 'score': '262 points', 'comments': '127 comments'}\n",
      "{'link': None, 'title': None, 'score': '224 points', 'comments': '239 comments'}\n",
      "{'link': None, 'title': None, 'score': '107 points', 'comments': '3 comments'}\n",
      "{'link': None, 'title': None, 'score': '108 points', 'comments': '26 comments'}\n",
      "{'link': None, 'title': None, 'score': '81 points', 'comments': '15 comments'}\n",
      "{'link': None, 'title': None, 'score': '148 points', 'comments': '136 comments'}\n",
      "{'link': None, 'title': None, 'score': '141 points', 'comments': '41 comments'}\n",
      "{'link': None, 'title': None, 'score': '5 points', 'comments': '2 comments'}\n",
      "{'link': None, 'title': None, 'score': '283 points', 'comments': '278 comments'}\n",
      "{'link': None, 'title': None, 'score': '37 points', 'comments': '31 comments'}\n",
      "{'link': None, 'title': None, 'score': '40 points', 'comments': '3 comments'}\n"
     ]
    }
   ],
   "source": [
    "import requests\n",
    "import re\n",
    "from bs4 import BeautifulSoup\n",
    "articles = []\n",
    "url = 'https://news.ycombinator.com/news'\n",
    "r = requests.get(url)\n",
    "html_soup = BeautifulSoup(r.text, 'html.parser')\n",
    "for item in html_soup.find_all('tr', class_='athing'):\n",
    " item_a = item.find('a', class_='storylink')\n",
    " item_link = item_a.get('href') if item_a else None\n",
    " item_text = item_a.get_text(strip=True) if item_a else None\n",
    " next_row = item.find_next_sibling('tr')\n",
    " item_score = next_row.find('span', class_='score')\n",
    " item_score = item_score.get_text(strip=True) if item_score else '0 points'\n",
    " # We use regex here to find the correct element\n",
    " item_comments = next_row.find('a', string=re.compile('\\d+(&nbsp;|\\s)comment(s?)'))\n",
    " item_comments = item_comments.get_text(strip=True).replace('\\xa0', ' ') \\\n",
    " if item_comments else '0 comments'\n",
    " articles.append({\n",
    " 'link' : item_link,\n",
    " 'title' : item_text,\n",
    " 'score' : item_score,\n",
    " 'comments' : item_comments})\n",
    "for article in articles:\n",
    " print(article)"
   ]
  },
  {
   "cell_type": "code",
   "execution_count": null,
   "id": "dd2a0831",
   "metadata": {},
   "outputs": [],
   "source": []
  }
 ],
 "metadata": {
  "kernelspec": {
   "display_name": "Python 3 (ipykernel)",
   "language": "python",
   "name": "python3"
  },
  "language_info": {
   "codemirror_mode": {
    "name": "ipython",
    "version": 3
   },
   "file_extension": ".py",
   "mimetype": "text/x-python",
   "name": "python",
   "nbconvert_exporter": "python",
   "pygments_lexer": "ipython3",
   "version": "3.9.12"
  }
 },
 "nbformat": 4,
 "nbformat_minor": 5
}
