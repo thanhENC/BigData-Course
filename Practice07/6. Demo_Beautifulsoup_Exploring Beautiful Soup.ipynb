{
 "cells": [
  {
   "cell_type": "code",
   "execution_count": 4,
   "id": "e2fd97fc",
   "metadata": {},
   "outputs": [],
   "source": [
    "# import BeautifulSoup and SoupStrainer from bs4, \n",
    "#as seen in the following code:\n",
    "from bs4 import BeautifulSoup\n",
    "from bs4 import SoupStrainer #,BeautifulSoup"
   ]
  },
  {
   "cell_type": "code",
   "execution_count": 5,
   "id": "2d4f1f52",
   "metadata": {},
   "outputs": [],
   "source": [
    "# Use the HTML as shown in the following snippet or html_doc as a sample to\n",
    "# explore some of the fundamental features of Beautiful Soup. \n",
    "# The response obtained for any chosen URL, using requests or urllib, \n",
    "# can also be used for content \n",
    "# in real scraping cases:\n",
    "html_doc=\"\"\"<html><head><title>The Dormouse's story</title></head>\n",
    "<body>\n",
    "<p class=\"title\"><b>The Dormouse's story</b></p>\n",
    "<p class=\"story\">Once upon a time there were three little sisters; and\n",
    "their names were\n",
    "<a href=\"http://example.com/elsie\" class=\"sister\" id=\"link1\">Elsie</a>,\n",
    "<a href=\"http://example.com/lacie\" class=\"sister\" id=\"link2\">Lacie</a> and\n",
    "<a href=\"http://example.com/tillie\" class=\"sister\" id=\"link3\">Tillie</a>;\n",
    "and they lived at the bottom of a well.</p>\n",
    "<p class=\"story\">...</p>\n",
    "<h1>Secret agents</h1>\n",
    "<ul>\n",
    " <li data-id=\"10784\">Jason Walters, 003: Found dead in \"A View to a\n",
    "Kill\".</li>\n",
    " <li data-id=\"97865\">Alex Trevelyan, 006: Agent turned terrorist leader;\n",
    "James' nemesis in \"Goldeneye\".</li>\n",
    " <li data-id=\"45732\">James Bond, 007: The main man; shaken but not\n",
    "stirred.</li>\n",
    "</ul>\n",
    "</body>\n",
    "</html>\"\"\""
   ]
  },
  {
   "cell_type": "code",
   "execution_count": 6,
   "id": "6a27a394",
   "metadata": {},
   "outputs": [
    {
     "name": "stdout",
     "output_type": "stream",
     "text": [
      "<a class=\"sister\" href=\"http://example.com/elsie\" id=\"link1\">Elsie</a><a class=\"sister\" href=\"http://example.com/lacie\" id=\"link2\">Lacie</a><a class=\"sister\" href=\"http://example.com/tillie\" id=\"link3\">Tillie</a>\n",
      "---------------------------------------------\n",
      "<class 'bs4.BeautifulSoup'>\n"
     ]
    }
   ],
   "source": [
    "# Create the soupA object using lxml as a parser, along with the SoupStrainer object \n",
    "# tagsA (parsing only <a>). \n",
    "# We can obtain partial content to parse using SoupStrainer. \n",
    "# soupA, an object of Beautiful Soup, presents all of the <a> elements found for\n",
    "# the SoupStrainer object tagsA as used in the following code:\n",
    "tagsA = SoupStrainer(\"a\")\n",
    "soupA = BeautifulSoup(html_doc,'lxml',parse_only=tagsA)\n",
    "print(soupA)\n",
    "print(\"-\"*45)\n",
    "print(type(soupA))"
   ]
  },
  {
   "cell_type": "code",
   "execution_count": 7,
   "id": "23f5459e",
   "metadata": {},
   "outputs": [
    {
     "name": "stdout",
     "output_type": "stream",
     "text": [
      "<a class=\"sister\" href=\"http://example.com/elsie\" id=\"link1\">\n",
      " Elsie\n",
      "</a>\n",
      "<a class=\"sister\" href=\"http://example.com/lacie\" id=\"link2\">\n",
      " Lacie\n",
      "</a>\n",
      "<a class=\"sister\" href=\"http://example.com/tillie\" id=\"link3\">\n",
      " Tillie\n",
      "</a>\n"
     ]
    }
   ],
   "source": [
    "# prettify() function returns a Unicode string, \n",
    "# presents the string in a clean, formatted structure.\n",
    "# the prettify() function also accepts the parameter encoding:\n",
    "print(soupA.prettify())"
   ]
  },
  {
   "cell_type": "code",
   "execution_count": 8,
   "id": "bcaa4d3f",
   "metadata": {},
   "outputs": [
    {
     "name": "stdout",
     "output_type": "stream",
     "text": [
      "True\n",
      "--------------------------------------------------------------------------------\n",
      "False\n"
     ]
    }
   ],
   "source": [
    "# use the has_attr() function to confirm the attribute keys by name, \n",
    "# if it exists inside the parsed document as follows:\n",
    "print(soupA.a.has_attr('class'))\n",
    "print(40*\"--\")\n",
    "print(soupA.a.has_attr('name'))\n"
   ]
  },
  {
   "cell_type": "markdown",
   "id": "ce215f3a",
   "metadata": {},
   "source": [
    "# Searching, traversing, and iterating"
   ]
  },
  {
   "cell_type": "code",
   "execution_count": 9,
   "id": "202e5ded",
   "metadata": {},
   "outputs": [
    {
     "name": "stdout",
     "output_type": "stream",
     "text": [
      "<a class=\"sister\" href=\"http://example.com/elsie\" id=\"link1\">Elsie</a>\n",
      "--------------------------------------------------------------------------------\n",
      "<a class=\"sister\" href=\"http://example.com/elsie\" id=\"link1\">Elsie</a>\n",
      "--------------------------------------------------------------------------------\n",
      "<a class=\"sister\" href=\"http://example.com/lacie\" id=\"link2\">Lacie</a>\n",
      "--------------------------------------------------------------------------------\n",
      "<a class=\"sister\" href=\"http://example.com/tillie\" id=\"link3\">Tillie</a>\n",
      "--------------------------------------------------------------------------------\n",
      "<a class=\"sister\" href=\"http://example.com/lacie\" id=\"link2\">Lacie</a>\n",
      "--------------------------------------------------------------------------------\n"
     ]
    }
   ],
   "source": [
    "# implement the find() function with different, allowed parameters in the code:\n",
    "print(soupA.find(\"a\")) #print(soupA.find(name=\"a\"))\n",
    "print(40*\"--\")\n",
    "print(soupA.find(\"a\",attrs={'class':'sister'}))\n",
    "print(40*\"--\")\n",
    "print(soupA.find(\"a\",attrs={'class':'sister'},text=\"Lacie\"))\n",
    "print(40*\"--\")\n",
    "print(soupA.find(\"a\",attrs={'id':'link3'}))\n",
    "print(40*\"--\")\n",
    "print(soupA.find('a',id=\"link2\"))\n",
    "print(40*\"--\")"
   ]
  },
  {
   "cell_type": "code",
   "execution_count": 10,
   "id": "d808daf0",
   "metadata": {},
   "outputs": [
    {
     "name": "stdout",
     "output_type": "stream",
     "text": [
      "[<a class=\"sister\" href=\"http://example.com/elsie\" id=\"link1\">Elsie</a>, <a class=\"sister\" href=\"http://example.com/lacie\" id=\"link2\">Lacie</a>, <a class=\"sister\" href=\"http://example.com/tillie\" id=\"link3\">Tillie</a>]\n",
      "--------------------------------------------------------------------------------\n",
      "[<a class=\"sister\" href=\"http://example.com/elsie\" id=\"link1\">Elsie</a>]\n",
      "--------------------------------------------------------------------------------\n"
     ]
    }
   ],
   "source": [
    "# The find_all() is similar to the find() function with the\n",
    "# additional attrs and text as a parameters and returns a list of matched (multiple)\n",
    "# elements for the provided criteria or name attribute as follows: \n",
    "# find all <a> can also be written as #print(soupA.find_all(name=\"a\"))\n",
    "print(soupA.find_all(\"a\"))\n",
    "print(40*\"--\")\n",
    "#find all <a>, but return only 1 of them\n",
    "print(soupA.find_all(\"a\",limit=1)) #attrs, text\n",
    "print(40*\"--\")"
   ]
  },
  {
   "cell_type": "code",
   "execution_count": 11,
   "id": "79aedb61",
   "metadata": {},
   "outputs": [
    {
     "name": "stdout",
     "output_type": "stream",
     "text": [
      "<a class=\"sister\" href=\"http://example.com/lacie\" id=\"link2\">Lacie</a>\n",
      "--------------------------------------------------------------------------------\n",
      "[<a class=\"sister\" href=\"http://example.com/tillie\" id=\"link3\">Tillie</a>]\n",
      "--------------------------------------------------------------------------------\n",
      "[<a class=\"sister\" href=\"http://example.com/elsie\" id=\"link1\">Elsie</a>, <a class=\"sister\" href=\"http://example.com/lacie\" id=\"link2\">Lacie</a>, <a class=\"sister\" href=\"http://example.com/tillie\" id=\"link3\">Tillie</a>]\n",
      "--------------------------------------------------------------------------------\n"
     ]
    }
   ],
   "source": [
    "# The string, list of strings, regular expression objects, or any of these, \n",
    "# can be provided to the name and text attributes as a value for attrs parameters\n",
    "import re\n",
    "print(soupA.find(\"a\",text=re.compile(r'cie'))) #import re\n",
    "print(40*\"--\")\n",
    "print(soupA.find_all(\"a\",attrs={'id':re.compile(r'3')}))\n",
    "print(40*\"--\")\n",
    "print(soupA.find_all(re.compile(r'a')))\n",
    "print(40*\"--\")"
   ]
  },
  {
   "cell_type": "code",
   "execution_count": 12,
   "id": "68a55f4b",
   "metadata": {},
   "outputs": [
    {
     "name": "stdout",
     "output_type": "stream",
     "text": [
      "[<p class=\"story\">Once upon a time there were three little sisters; and\n",
      "their names were\n",
      "<a class=\"sister\" href=\"http://example.com/elsie\" id=\"link1\">Elsie</a>,\n",
      "<a class=\"sister\" href=\"http://example.com/lacie\" id=\"link2\">Lacie</a> and\n",
      "<a class=\"sister\" href=\"http://example.com/tillie\" id=\"link3\">Tillie</a>;\n",
      "and they lived at the bottom of a well.</p>, <p class=\"story\">...</p>]\n",
      "--------------------------------------------------------------------------------\n",
      "[<p class=\"title\"><b>The Dormouse's story</b></p>]\n",
      "--------------------------------------------------------------------------------\n"
     ]
    }
   ],
   "source": [
    "# The find_all() function has in-built support for global attributes \n",
    "# such as class name along with a name\n",
    "soup = BeautifulSoup(html_doc,'lxml')\n",
    "print(soup.find_all(\"p\",\"story\")) #class=story\n",
    "print(40*\"--\")\n",
    "print(soup.find_all(\"p\",\"title\"))\n",
    "#soup.find_all(\"p\",attrs={'class':\"title\"})\n",
    "print(40*\"--\")"
   ]
  },
  {
   "cell_type": "code",
   "execution_count": 13,
   "id": "321023da",
   "metadata": {},
   "outputs": [
    {
     "name": "stdout",
     "output_type": "stream",
     "text": [
      "[<p class=\"title\"><b>The Dormouse's story</b></p>, <p class=\"story\">Once upon a time there were three little sisters; and\n",
      "their names were\n",
      "<a class=\"sister\" href=\"http://example.com/elsie\" id=\"link1\">Elsie</a>,\n",
      "<a class=\"sister\" href=\"http://example.com/lacie\" id=\"link2\">Lacie</a> and\n",
      "<a class=\"sister\" href=\"http://example.com/tillie\" id=\"link3\">Tillie</a>;\n",
      "and they lived at the bottom of a well.</p>, <p class=\"story\">...</p>]\n",
      "--------------------------------------------------------------------------------\n",
      "[<p class=\"title\"><b>The Dormouse's story</b></p>, <p class=\"story\">Once upon a time there were three little sisters; and\n",
      "their names were\n",
      "<a class=\"sister\" href=\"http://example.com/elsie\" id=\"link1\">Elsie</a>,\n",
      "<a class=\"sister\" href=\"http://example.com/lacie\" id=\"link2\">Lacie</a> and\n",
      "<a class=\"sister\" href=\"http://example.com/tillie\" id=\"link3\">Tillie</a>;\n",
      "and they lived at the bottom of a well.</p>, <p class=\"story\">...</p>, <li data-id=\"10784\">Jason Walters, 003: Found dead in \"A View to a\n",
      "Kill\".</li>, <li data-id=\"97865\">Alex Trevelyan, 006: Agent turned terrorist leader;\n",
      "James' nemesis in \"Goldeneye\".</li>, <li data-id=\"45732\">James Bond, 007: The main man; shaken but not\n",
      "stirred.</li>]\n",
      "--------------------------------------------------------------------------------\n"
     ]
    }
   ],
   "source": [
    "# Multiple name and attrs values can also be passed through a list \n",
    "# as shown in the following syntax:\n",
    "# The preceding syntax can be observed in the following code:\n",
    "print(soup.find_all(\"p\",attrs={'class':[\"title\",\"story\"]}))\n",
    "print(40*\"--\")\n",
    "print(soup.find_all([\"p\",\"li\"]))\n",
    "print(40*\"--\")"
   ]
  },
  {
   "cell_type": "code",
   "execution_count": 14,
   "id": "bd2e9be8",
   "metadata": {},
   "outputs": [
    {
     "name": "stdout",
     "output_type": "stream",
     "text": [
      "['Elsie']\n",
      "------------------------------------------------------------------------------------------\n",
      "['Elsie']\n",
      "------------------------------------------------------------------------------------------\n",
      "[<a class=\"sister\" href=\"http://example.com/lacie\" id=\"link2\">Lacie</a>]\n"
     ]
    }
   ],
   "source": [
    "# Use element text to search and list the content. A string parameter, similar to\n",
    "# a text parameter, is used for such cases; it can also be used with, or without, \n",
    "# any tag names as in the following code:\n",
    "print(soup.find_all(string=\"Elsie\")) #text=\"Elsie\"\n",
    "print(45*\"--\")\n",
    "print(soup.find_all(text=re.compile(r'Elsie'))) #import re\n",
    "print(45*\"--\")\n",
    "print(soup.find_all(\"a\",string=\"Lacie\")) #text=\"Lacie\""
   ]
  },
  {
   "cell_type": "code",
   "execution_count": 15,
   "id": "75ce534e",
   "metadata": {},
   "outputs": [
    {
     "name": "stdout",
     "output_type": "stream",
     "text": [
      "li  >  10784  >  Jason Walters, 003: Found dead in \"A View to a\n",
      "Kill\".\n",
      "li  >  97865  >  Alex Trevelyan, 006: Agent turned terrorist leader;\n",
      "James' nemesis in \"Goldeneye\".\n",
      "li  >  45732  >  James Bond, 007: The main man; shaken but not\n",
      "stirred.\n"
     ]
    }
   ],
   "source": [
    "# using the find_all() function to achieve iteration through elements. \n",
    "# The source code below is used to retrieve all of the <li> elements \n",
    "# found inside the <ul> element and printing their tag name, \n",
    "# attribute data, ID, and text:\n",
    "for li in soup.ul.find_all('li'):\n",
    "    print(li.name, ' > ',li.get('data-id'),' > ', li.text)"
   ]
  },
  {
   "cell_type": "code",
   "execution_count": 16,
   "id": "0ddf7c0d",
   "metadata": {},
   "outputs": [
    {
     "name": "stdout",
     "output_type": "stream",
     "text": [
      "<a class=\"sister\" href=\"http://example.com/elsie\" id=\"link1\">Elsie</a>\n",
      "------------------------------------------------------------------------------------------\n",
      "<li data-id=\"10784\">Jason Walters, 003: Found dead in \"A View to a\n",
      "Kill\".</li>\n",
      "------------------------------------------------------------------------------------------\n",
      "<p class=\"title\"><b>The Dormouse's story</b></p>\n",
      "------------------------------------------------------------------------------------------\n",
      "<b>The Dormouse's story</b>\n",
      "------------------------------------------------------------------------------------------\n",
      "<li data-id=\"45732\">James Bond, 007: The main man; shaken but not\n",
      "stirred.</li>\n",
      "------------------------------------------------------------------------------------------\n"
     ]
    }
   ],
   "source": [
    "# Element traversing can also be done with just a tag name, \n",
    "# and with, or without, using the find() or find_all() functions \n",
    "print(soupA.a) #tag a\n",
    "print(45*\"--\")\n",
    "print(soup.li) #tag li\n",
    "print(45*\"--\")\n",
    "print(soup.p)\n",
    "print(45*\"--\")\n",
    "print(soup.p.b) #tag p and b\n",
    "print(45*\"--\")\n",
    "print(soup.ul.find('li',attrs={'data-id':'45732'}))\n",
    "print(45*\"--\")"
   ]
  },
  {
   "cell_type": "code",
   "execution_count": 17,
   "id": "2f96aa4e",
   "metadata": {},
   "outputs": [
    {
     "name": "stdout",
     "output_type": "stream",
     "text": [
      "James Bond, 007: The main man; shaken but not\n",
      "stirred.\n",
      "------------------------------------------------------------------------------------------\n",
      "The Dormouse's story\n",
      "------------------------------------------------------------------------------------------\n",
      "Jason Walters, 003: Found dead in \"A View to a\n",
      "Kill\".\n",
      "------------------------------------------------------------------------------------------\n",
      "The Dormouse's story\n",
      "------------------------------------------------------------------------------------------\n"
     ]
    }
   ],
   "source": [
    "# The text and string attributes or the get_text() method can be used with the elements\n",
    "# to extract their text while traversing through the elements used in the following code.\n",
    "# There's also a parameter text and string in the find() or find_all() functions, which\n",
    "# are used to search the content\n",
    "print(soup.ul.find('li',attrs={'data-id':'45732'}).text)\n",
    "print(45*\"--\")\n",
    "print(soup.p.text) #get_text()\n",
    "print(45*\"--\")\n",
    "print(soup.li.text)\n",
    "print(45*\"--\")\n",
    "print(soup.p.string)\n",
    "print(45*\"--\")"
   ]
  },
  {
   "cell_type": "markdown",
   "id": "f48c52a7",
   "metadata": {},
   "source": [
    "# Using children and parents"
   ]
  },
  {
   "cell_type": "code",
   "execution_count": 18,
   "id": "41cd638b",
   "metadata": {},
   "outputs": [],
   "source": [
    "html_doc=\"\"\"<html><head><title>The Dormouse's story</title></head>\n",
    "<body>\n",
    "<p class=\"title\"><b>The Dormouse's story</b></p>\n",
    "<p class=\"story\">Once upon a time there were three little sisters; and\n",
    "their names were\n",
    "<a href=\"http://example.com/elsie\" class=\"sister\" id=\"link1\">Elsie</a>,\n",
    "<a href=\"http://example.com/lacie\" class=\"sister\" id=\"link2\">Lacie</a> and\n",
    "<a href=\"http://example.com/tillie\" class=\"sister\" id=\"link3\">Tillie</a>;\n",
    "and they lived at the bottom of a well.</p>\n",
    "<p class=\"story\">...</p>\n",
    "<h1>Secret agents</h1>\n",
    "<ul>\n",
    " <li data-id=\"10784\">Jason Walters, 003: Found dead in \"A View to a\n",
    "Kill\".</li>\n",
    " <li data-id=\"97865\">Alex Trevelyan, 006: Agent turned terrorist leader;\n",
    "James' nemesis in \"Goldeneye\".</li>\n",
    " <li data-id=\"45732\">James Bond, 007: The main man; shaken but not\n",
    "stirred.</li>\n",
    "</ul>\n",
    "</body>\n",
    "</html>\"\"\"\n",
    "soup = BeautifulSoup(html_doc,'lxml')"
   ]
  },
  {
   "cell_type": "code",
   "execution_count": 43,
   "id": "e46f4597",
   "metadata": {},
   "outputs": [
    {
     "name": "stdout",
     "output_type": "stream",
     "text": [
      "['Once upon a time there were three little sisters; and\\ntheir names were\\n', <a class=\"sister\" href=\"http://example.com/elsie\" id=\"link1\">Elsie</a>, ',\\n', <a class=\"sister\" href=\"http://example.com/lacie\" id=\"link2\">Lacie</a>, ' and\\n', <a class=\"sister\" href=\"http://example.com/tillie\" id=\"link3\">Tillie</a>, ';\\nand they lived at the bottom of a well.']\n",
      "------------------------------------------------------------------------------------------\n",
      "['Once upon a time there were three little sisters; and\\ntheir names were\\n', <a class=\"sister\" href=\"http://example.com/elsie\" id=\"link1\">Elsie</a>, ',\\n', <a class=\"sister\" href=\"http://example.com/lacie\" id=\"link2\">Lacie</a>, ' and\\n', <a class=\"sister\" href=\"http://example.com/tillie\" id=\"link3\">Tillie</a>, ';\\nand they lived at the bottom of a well.']\n",
      "------------------------------------------------------------------------------------------\n",
      "['Once upon a time there were three little sisters; and\\ntheir names were\\n', <a class=\"sister\" href=\"http://example.com/elsie\" id=\"link1\">Elsie</a>, 'Elsie', ',\\n', <a class=\"sister\" href=\"http://example.com/lacie\" id=\"link2\">Lacie</a>, 'Lacie', ' and\\n', <a class=\"sister\" href=\"http://example.com/tillie\" id=\"link3\">Tillie</a>, 'Tillie', ';\\nand they lived at the bottom of a well.']\n"
     ]
    }
   ],
   "source": [
    "# The preceding list showed the features that can also be used for iteration. \n",
    "print(list(soup.find('p','story').children))\n",
    "print(45*\"--\")\n",
    "print(list(soup.find('p','story').contents))\n",
    "print(45*\"--\")\n",
    "print(list(soup.find('p','story').descendants))\n"
   ]
  },
  {
   "cell_type": "code",
   "execution_count": 44,
   "id": "8ff2fac6",
   "metadata": {},
   "outputs": [
    {
     "name": "stdout",
     "output_type": "stream",
     "text": [
      "[None, 'a', None, 'a', None, 'a', None]\n",
      "------------------------------------------------------------------------------------------\n",
      "[None, 'a', None, None, 'a', None, None, 'a', None, None]\n",
      "------------------------------------------------------------------------------------------\n",
      "['a', 'a', 'a']\n"
     ]
    }
   ],
   "source": [
    "# Selected children and descendants tag names can be obtained using the name attribute.\n",
    "# Parsed strings and the \\n function (newline) are returned as None\n",
    "# using List Comprehension Technique\n",
    "print([a.name for a in soup.find('p','story').children])\n",
    "print(45*\"--\")\n",
    "print([a.name for a in soup.find('p','story').descendants])\n",
    "print(45*\"--\")\n",
    "print(list(filter(None,[a.name for a in soup.find('p','story').descendants])))\n"
   ]
  },
  {
   "cell_type": "code",
   "execution_count": 45,
   "id": "86c70647",
   "metadata": {},
   "outputs": [
    {
     "name": "stdout",
     "output_type": "stream",
     "text": [
      "[<a class=\"sister\" href=\"http://example.com/elsie\" id=\"link1\">Elsie</a>, <a class=\"sister\" href=\"http://example.com/lacie\" id=\"link2\">Lacie</a>, <a class=\"sister\" href=\"http://example.com/tillie\" id=\"link3\">Tillie</a>]\n",
      "------------------------------------------------------------------------------------------\n",
      "<a class=\"sister\" href=\"http://example.com/elsie\" id=\"link1\">Elsie</a>\n"
     ]
    }
   ],
   "source": [
    "# Similar to the find() and find_all() functions, we can also traverse child elements\n",
    "# using the findChild() and findChildren() functions. The findChild() function is\n",
    "# used to retrieve the single child and the findChildren() function retrieves a list of\n",
    "# children\n",
    "print(soup.find('p','story').findChildren())\n",
    "print(45*\"--\")\n",
    "print(soup.find('p','story').findChild()) #soup.find('p','story').find()"
   ]
  },
  {
   "cell_type": "code",
   "execution_count": 46,
   "id": "575cefcc",
   "metadata": {},
   "outputs": [
    {
     "name": "stdout",
     "output_type": "stream",
     "text": [
      "<p class=\"story\">Once upon a time there were three little sisters; and\n",
      "their names were\n",
      "<a class=\"sister\" href=\"http://example.com/elsie\" id=\"link1\">Elsie</a>,\n",
      "<a class=\"sister\" href=\"http://example.com/lacie\" id=\"link2\">Lacie</a> and\n",
      "<a class=\"sister\" href=\"http://example.com/tillie\" id=\"link3\">Tillie</a>;\n",
      "and they lived at the bottom of a well.</p>\n",
      "------------------------------------------------------------------------------------------\n",
      "p\n",
      "------------------------------------------------------------------------------------------\n",
      "Once upon a time there were three little sisters; and\n",
      "their names were\n",
      "Elsie,\n",
      "Lacie and\n",
      "Tillie;\n",
      "and they lived at the bottom of a well.\n"
     ]
    }
   ],
   "source": [
    "# Similar to the children element, the parent element returns the parent object found \n",
    "# for the searched criteria. The main difference here is that the parent element returns \n",
    "# the single parent object from the tree.\n",
    "#print parent element of <a> with class=sister\n",
    "print(soup.find('a','sister').parent)\n",
    "print(45*\"--\")\n",
    "#print parent element name of <a> with class=sister\n",
    "print(soup.find('a','sister').parent.name)\n",
    "print(45*\"--\")\n",
    "#print text from parent element of <a> with class=sister\n",
    "print(soup.find('a','sister').parent.text)"
   ]
  },
  {
   "cell_type": "code",
   "execution_count": 48,
   "id": "c9f985b8",
   "metadata": {},
   "outputs": [
    {
     "name": "stdout",
     "output_type": "stream",
     "text": [
      "p\n",
      "body\n",
      "html\n",
      "[document]\n"
     ]
    }
   ],
   "source": [
    "# The limitation of the single parents returned can be overcome by using\n",
    "# the parents element; this returns multiple existing parent elements and \n",
    "# matches the searched criteria provided in the find() function.\n",
    "for element in soup.find('a','sister').parents:\n",
    "    print(element.name)"
   ]
  },
  {
   "cell_type": "code",
   "execution_count": 53,
   "id": "87325ff7",
   "metadata": {},
   "outputs": [
    {
     "name": "stdout",
     "output_type": "stream",
     "text": [
      "<p class=\"story\">Once upon a time there were three little sisters; and\n",
      "their names were\n",
      "<a class=\"sister\" href=\"http://example.com/elsie\" id=\"link1\">Elsie</a>,\n",
      "<a class=\"sister\" href=\"http://example.com/lacie\" id=\"link2\">Lacie</a> and\n",
      "<a class=\"sister\" href=\"http://example.com/tillie\" id=\"link3\">Tillie</a>;\n",
      "and they lived at the bottom of a well.</p>\n",
      "------------------------------------------------------------------------------------------\n",
      "[<p class=\"story\">Once upon a time there were three little sisters; and\n",
      "their names were\n",
      "<a class=\"sister\" href=\"http://example.com/elsie\" id=\"link1\">Elsie</a>,\n",
      "<a class=\"sister\" href=\"http://example.com/lacie\" id=\"link2\">Lacie</a> and\n",
      "<a class=\"sister\" href=\"http://example.com/tillie\" id=\"link3\">Tillie</a>;\n",
      "and they lived at the bottom of a well.</p>, <body>\n",
      "<p class=\"title\"><b>The Dormouse's story</b></p>\n",
      "<p class=\"story\">Once upon a time there were three little sisters; and\n",
      "their names were\n",
      "<a class=\"sister\" href=\"http://example.com/elsie\" id=\"link1\">Elsie</a>,\n",
      "<a class=\"sister\" href=\"http://example.com/lacie\" id=\"link2\">Lacie</a> and\n",
      "<a class=\"sister\" href=\"http://example.com/tillie\" id=\"link3\">Tillie</a>;\n",
      "and they lived at the bottom of a well.</p>\n",
      "<p class=\"story\">...</p>\n",
      "<h1>Secret agents</h1>\n",
      "<ul>\n",
      "<li data-id=\"10784\">Jason Walters, 003: Found dead in \"A View to a\n",
      "Kill\".</li>\n",
      "<li data-id=\"97865\">Alex Trevelyan, 006: Agent turned terrorist leader;\n",
      "James' nemesis in \"Goldeneye\".</li>\n",
      "<li data-id=\"45732\">James Bond, 007: The main man; shaken but not\n",
      "stirred.</li>\n",
      "</ul>\n",
      "</body>, <html><head><title>The Dormouse's story</title></head>\n",
      "<body>\n",
      "<p class=\"title\"><b>The Dormouse's story</b></p>\n",
      "<p class=\"story\">Once upon a time there were three little sisters; and\n",
      "their names were\n",
      "<a class=\"sister\" href=\"http://example.com/elsie\" id=\"link1\">Elsie</a>,\n",
      "<a class=\"sister\" href=\"http://example.com/lacie\" id=\"link2\">Lacie</a> and\n",
      "<a class=\"sister\" href=\"http://example.com/tillie\" id=\"link3\">Tillie</a>;\n",
      "and they lived at the bottom of a well.</p>\n",
      "<p class=\"story\">...</p>\n",
      "<h1>Secret agents</h1>\n",
      "<ul>\n",
      "<li data-id=\"10784\">Jason Walters, 003: Found dead in \"A View to a\n",
      "Kill\".</li>\n",
      "<li data-id=\"97865\">Alex Trevelyan, 006: Agent turned terrorist leader;\n",
      "James' nemesis in \"Goldeneye\".</li>\n",
      "<li data-id=\"45732\">James Bond, 007: The main man; shaken but not\n",
      "stirred.</li>\n",
      "</ul>\n",
      "</body>\n",
      "</html>, <html><head><title>The Dormouse's story</title></head>\n",
      "<body>\n",
      "<p class=\"title\"><b>The Dormouse's story</b></p>\n",
      "<p class=\"story\">Once upon a time there were three little sisters; and\n",
      "their names were\n",
      "<a class=\"sister\" href=\"http://example.com/elsie\" id=\"link1\">Elsie</a>,\n",
      "<a class=\"sister\" href=\"http://example.com/lacie\" id=\"link2\">Lacie</a> and\n",
      "<a class=\"sister\" href=\"http://example.com/tillie\" id=\"link3\">Tillie</a>;\n",
      "and they lived at the bottom of a well.</p>\n",
      "<p class=\"story\">...</p>\n",
      "<h1>Secret agents</h1>\n",
      "<ul>\n",
      "<li data-id=\"10784\">Jason Walters, 003: Found dead in \"A View to a\n",
      "Kill\".</li>\n",
      "<li data-id=\"97865\">Alex Trevelyan, 006: Agent turned terrorist leader;\n",
      "James' nemesis in \"Goldeneye\".</li>\n",
      "<li data-id=\"45732\">James Bond, 007: The main man; shaken but not\n",
      "stirred.</li>\n",
      "</ul>\n",
      "</body>\n",
      "</html>]\n"
     ]
    }
   ],
   "source": [
    "# Similar to the functions that exist for child traversing, parents can also be \n",
    "# traversed and retrieved using the findParent() and findParents() search functions.\n",
    "# The findParent() function traverses to the immediate parent, while the findParents() \n",
    "# function returns all parents found for the criteria provided.\n",
    "# It must also be noted that the children and parent traversing functions are used with\n",
    "# the find() function where necessary arguments and conditions are provided\n",
    "\n",
    "#find single Parent for selected <a> with class=sister\n",
    "print(soup.find('a','sister').findParent())\n",
    "print(45*\"--\")\n",
    "#find Parents for selected <a> with class=sister\n",
    "print(soup.find('a','sister').findParents())"
   ]
  },
  {
   "cell_type": "markdown",
   "id": "7132a1c2",
   "metadata": {},
   "source": [
    "# Use next and previous"
   ]
  },
  {
   "cell_type": "code",
   "execution_count": 54,
   "id": "09281d3a",
   "metadata": {},
   "outputs": [
    {
     "name": "stdout",
     "output_type": "stream",
     "text": [
      "Once upon a time there were three little sisters; and\n",
      "their names were\n",
      "\n",
      "------------------------------------------------------------------------------------------\n",
      "<a class=\"sister\" href=\"http://example.com/elsie\" id=\"link1\">Elsie</a>\n",
      "------------------------------------------------------------------------------------------\n",
      "Once upon a time there were three little sisters; and\n",
      "their names were\n",
      "\n",
      "------------------------------------------------------------------------------------------\n",
      "<a class=\"sister\" href=\"http://example.com/elsie\" id=\"link1\">Elsie</a>\n",
      "------------------------------------------------------------------------------------------\n",
      "Elsie\n"
     ]
    }
   ],
   "source": [
    "# The properties next and next_element return the immediately parsed content \n",
    "# for the selected criteria. We can also append the next and next_element \n",
    "# functions to create a chain of code for traversal.\n",
    "print(soup.find('p','story').next)\n",
    "print(45*\"--\")\n",
    "print(soup.find('p','story').next.next)\n",
    "print(45*\"--\")\n",
    "print(soup.find('p','story').next_element)\n",
    "print(45*\"--\")\n",
    "print(soup.find('p','story').next_element.next_element)\n",
    "print(45*\"--\")\n",
    "print(soup.find('p','story').next_element.next_element.next_element)"
   ]
  },
  {
   "cell_type": "code",
   "execution_count": 57,
   "id": "ba869822",
   "metadata": {},
   "outputs": [
    {
     "name": "stdout",
     "output_type": "stream",
     "text": [
      "\n",
      "\n",
      "\n",
      "\n",
      "---------------------------------------------\n",
      "The Dormouse's story\n",
      "---------------------------------------------\n",
      "\n",
      "\n",
      "The Dormouse's story\n",
      "---------------------------------------------\n",
      "<b>The Dormouse's story</b>\n"
     ]
    }
   ],
   "source": [
    "# Similar to the next and next_elements functions, there also exist properties with\n",
    "# traversal result that returns results from prior or previous parsed elements, such as\n",
    "# the previous and previous_element, which are opposite to work reversely when compared \n",
    "# to the next and next_element functions.\n",
    "# As seen in the following code, the previous and previous_element can also be\n",
    "# appended to themselves to create a traversal series:\n",
    "\n",
    "print(soup.find('p','story').previous) #returns empty or new-line.\n",
    "print(soup.find('p','title').next.next.next) #returns empty or newline\n",
    "print(45*\"-\")\n",
    "print(soup.find('p','story').previous.previous)\n",
    "print(45*\"-\")\n",
    "print(soup.find('p','story').previous_element) #returns empty or new-line.\n",
    "print(soup.find('p','story').previous_element.previous_element)\n",
    "print(45*\"-\")\n",
    "print(soup.find('p','story').previous_element.previous_element.previous_element)\n"
   ]
  },
  {
   "cell_type": "code",
   "execution_count": 58,
   "id": "502c1da1",
   "metadata": {},
   "outputs": [
    {
     "name": "stdout",
     "output_type": "stream",
     "text": [
      "<p class=\"title\"><b>The Dormouse's story</b></p>\n"
     ]
    }
   ],
   "source": [
    "# We now combine the next or next_element and previous or\n",
    "# previous_element elements together to traverse\n",
    "print(soup.find('p','title').next.next.previous.previous)"
   ]
  },
  {
   "cell_type": "code",
   "execution_count": 59,
   "id": "2e49e4c9",
   "metadata": {},
   "outputs": [
    {
     "name": "stdout",
     "output_type": "stream",
     "text": [
      "\n",
      "\n",
      "<li data-id=\"10784\">Jason Walters, 003: Found dead in \"A View to a\n",
      "Kill\".</li>\n",
      "Jason Walters, 003: Found dead in \"A View to a\n",
      "Kill\".\n",
      "\n",
      "\n",
      "<li data-id=\"97865\">Alex Trevelyan, 006: Agent turned terrorist leader;\n",
      "James' nemesis in \"Goldeneye\".</li>\n",
      "Alex Trevelyan, 006: Agent turned terrorist leader;\n",
      "James' nemesis in \"Goldeneye\".\n",
      "\n",
      "\n",
      "<li data-id=\"45732\">James Bond, 007: The main man; shaken but not\n",
      "stirred.</li>\n",
      "James Bond, 007: The main man; shaken but not\n",
      "stirred.\n",
      "\n",
      "\n",
      "\n",
      "\n",
      "\n",
      "\n",
      "--------------------------------------------------------------------------------\n"
     ]
    }
   ],
   "source": [
    "# Iterating features for the next_element and previous_element are obtained using\n",
    "# the next_elements and previous_elements, respectively. These iterators are used to\n",
    "# move to the next or previous parsed content \n",
    "for element in soup.find('ul').next_elements:\n",
    " print(element)\n",
    "print(40*\"--\")"
   ]
  },
  {
   "cell_type": "code",
   "execution_count": 60,
   "id": "6e7c3fe6",
   "metadata": {},
   "outputs": [
    {
     "name": "stdout",
     "output_type": "stream",
     "text": [
      "Once upon a time there were three little sisters; and\n",
      "their names were\n",
      "\n",
      "--------------------------------------------------------------------------------\n",
      "Once upon a time there were three little sisters; and\n",
      "their names were\n",
      "\n",
      "--------------------------------------------------------------------------------\n",
      "<a class=\"sister\" href=\"http://example.com/elsie\" id=\"link1\">Elsie</a>\n",
      "--------------------------------------------------------------------------------\n"
     ]
    }
   ],
   "source": [
    "# The find_next() function implements the next_elements but returns only a single\n",
    "# element that is found after the next or next_element element. There's also an advantage\n",
    "# of using the find_next() function over the next_elements as we can implement\n",
    "# additional search logic for elements.\n",
    "# The following code demonstrates the use of the find_next() function, with, and without,\n",
    "# search conditions; it also displays the outputs from the next element and\n",
    "# next_elements to compare the actual usage.\n",
    "print(soup.find('p','story').next)\n",
    "print(40*\"--\")\n",
    "print(soup.find('p','story').next_element)\n",
    "print(40*\"--\")\n",
    "print(soup.find('p','story').find_next()) #element after next_element\n",
    "print(40*\"--\")\n",
    "\n"
   ]
  },
  {
   "cell_type": "code",
   "execution_count": 61,
   "id": "325672f0",
   "metadata": {},
   "outputs": [
    {
     "name": "stdout",
     "output_type": "stream",
     "text": [
      "[<a class=\"sister\" href=\"http://example.com/elsie\" id=\"link1\">Elsie</a>, <a class=\"sister\" href=\"http://example.com/lacie\" id=\"link2\">Lacie</a>, <a class=\"sister\" href=\"http://example.com/tillie\" id=\"link3\">Tillie</a>, <p class=\"story\">...</p>, <h1>Secret agents</h1>, <ul>\n",
      "<li data-id=\"10784\">Jason Walters, 003: Found dead in \"A View to a\n",
      "Kill\".</li>\n",
      "<li data-id=\"97865\">Alex Trevelyan, 006: Agent turned terrorist leader;\n",
      "James' nemesis in \"Goldeneye\".</li>\n",
      "<li data-id=\"45732\">James Bond, 007: The main man; shaken but not\n",
      "stirred.</li>\n",
      "</ul>, <li data-id=\"10784\">Jason Walters, 003: Found dead in \"A View to a\n",
      "Kill\".</li>, <li data-id=\"97865\">Alex Trevelyan, 006: Agent turned terrorist leader;\n",
      "James' nemesis in \"Goldeneye\".</li>, <li data-id=\"45732\">James Bond, 007: The main man; shaken but not\n",
      "stirred.</li>]\n",
      "--------------------------------------------------------------------------------\n",
      "[<li data-id=\"10784\">Jason Walters, 003: Found dead in \"A View to a\n",
      "Kill\".</li>, <li data-id=\"97865\">Alex Trevelyan, 006: Agent turned terrorist leader;\n",
      "James' nemesis in \"Goldeneye\".</li>]\n"
     ]
    }
   ],
   "source": [
    "# The find_all_next() function works in a similar way to the find_next() function, but\n",
    "# returns all of the next elements. It's also used as an iterating version of\n",
    "# the find_next() function. Additional search criteria and arguments such as limit \n",
    "# can be used to search and control the results returned\n",
    "print(soup.find('p','story').find_all_next())\n",
    "print(40*\"--\")\n",
    "print(soup.find('p','story').find_all_next('li',limit=2))"
   ]
  },
  {
   "cell_type": "code",
   "execution_count": 62,
   "id": "f23e12ec",
   "metadata": {},
   "outputs": [
    {
     "name": "stdout",
     "output_type": "stream",
     "text": [
      "<h1>Secret agents</h1>\n",
      "--------------------------------------------------------------------------------\n",
      "<h1>Secret agents</h1>\n",
      "--------------------------------------------------------------------------------\n",
      "<p class=\"title\"><b>The Dormouse's story</b></p>\n"
     ]
    }
   ],
   "source": [
    "# The find_previous() function implements previous_elements but returns only the\n",
    "# single element that was found before the previous or previous_element. \n",
    "# It also has an advantage over the previous_elements as we can implement additional \n",
    "# search logic for elements.\n",
    "print(soup.find('ul').previous.previous.previous)\n",
    "print(40*\"--\")\n",
    "print(soup.find('ul').find_previous())\n",
    "print(40*\"--\")\n",
    "print(soup.find('ul').find_previous('p','title'))"
   ]
  },
  {
   "cell_type": "code",
   "execution_count": 63,
   "id": "acabe889",
   "metadata": {},
   "outputs": [
    {
     "name": "stdout",
     "output_type": "stream",
     "text": [
      "[<p class=\"story\">...</p>, <p class=\"story\">Once upon a time there were three little sisters; and\n",
      "their names were\n",
      "<a class=\"sister\" href=\"http://example.com/elsie\" id=\"link1\">Elsie</a>,\n",
      "<a class=\"sister\" href=\"http://example.com/lacie\" id=\"link2\">Lacie</a> and\n",
      "<a class=\"sister\" href=\"http://example.com/tillie\" id=\"link3\">Tillie</a>;\n",
      "and they lived at the bottom of a well.</p>, <p class=\"title\"><b>The Dormouse's story</b></p>]\n",
      "--------------------------------------------------------------------------------\n"
     ]
    }
   ],
   "source": [
    "# The find_all_previous() function is an iterated version of the find_previous(); it\n",
    "# returns all previous elements satisfied with the available criteria as seen in the \n",
    "# following code:\n",
    "print(soup.find('ul').find_all_previous('p'))\n",
    "print(40*\"--\")"
   ]
  },
  {
   "cell_type": "code",
   "execution_count": 67,
   "id": "18e62702",
   "metadata": {},
   "outputs": [
    {
     "name": "stdout",
     "output_type": "stream",
     "text": [
      "\n",
      "\n",
      "<p class=\"story\">Once upon a time there were three little sisters; and\n",
      "their names were\n",
      "<a class=\"sister\" href=\"http://example.com/elsie\" id=\"link1\">Elsie</a>,\n",
      "<a class=\"sister\" href=\"http://example.com/lacie\" id=\"link2\">Lacie</a> and\n",
      "<a class=\"sister\" href=\"http://example.com/tillie\" id=\"link3\">Tillie</a>;\n",
      "and they lived at the bottom of a well.</p>\n",
      "--------------------------------------------------------------------------------\n",
      "\n",
      "\n",
      "<h1>Secret agents</h1>\n"
     ]
    }
   ],
   "source": [
    "# next_sibling and previous_sibling are yet another way of traversing along the\n",
    "# parsed tree looking for next and previous siblings. \n",
    "# A sibling or siblings are termed to the element that appears or is found \n",
    "# on the same level, in the parsed tree or those elements that share the same parent.\n",
    "print(soup.find('p','title').next_sibling) #returns empty or new-line\n",
    "print(soup.find('p','title').next_sibling.next_sibling)\n",
    "#print(soup.find('p','title').next_sibling.next)\n",
    "print(40*\"--\")\n",
    "print(soup.find('ul').previous_sibling) #returns empty or new-line\n",
    "print(soup.find('ul').previous_sibling.previous_sibling)"
   ]
  },
  {
   "cell_type": "code",
   "execution_count": 66,
   "id": "2ce51b4a",
   "metadata": {},
   "outputs": [
    {
     "name": "stdout",
     "output_type": "stream",
     "text": [
      "['p', 'p', 'h1', 'ul']\n",
      "--------------------------------------------------------------------------------\n",
      "['h1', 'p', 'p', 'p']\n"
     ]
    }
   ],
   "source": [
    "# Iteration is also possible with siblings, \n",
    "# using the next_siblings and previous_siblings elements\n",
    "#using List Comprehension\n",
    "title = [ele.name for ele in soup.find('p','title').next_siblings]\n",
    "print(list(filter(None,title)))\n",
    "print(40*\"--\")\n",
    "ul = [ele.name for ele in soup.find('ul').previous_siblings]\n",
    "print(list(filter(None,ul)))"
   ]
  },
  {
   "cell_type": "markdown",
   "id": "d40d9aa8",
   "metadata": {},
   "source": [
    "# Example 1 – listing \\<li\\> elements with the data-id attribute "
   ]
  },
  {
   "cell_type": "code",
   "execution_count": 71,
   "id": "8e49b654",
   "metadata": {},
   "outputs": [
    {
     "name": "stdout",
     "output_type": "stream",
     "text": [
      "[<li data-id=\"10784\">Jason Walters, 003: Found dead in \"A View to a\n",
      "Kill\".</li>, <li data-id=\"97865\">Alex Trevelyan, 006: Agent turned terrorist leader;\n",
      "James' nemesis in \"Goldeneye\".</li>, <li data-id=\"45732\">James Bond, 007: The main man; shaken but not\n",
      "stirred.</li>]\n"
     ]
    }
   ],
   "source": [
    "# use the select() function to list the <li> element with the data-id attribute:\n",
    "print(soup.select('li[data-id]'))"
   ]
  },
  {
   "cell_type": "code",
   "execution_count": 69,
   "id": "cfa2e9e3",
   "metadata": {},
   "outputs": [
    {
     "name": "stdout",
     "output_type": "stream",
     "text": [
      "<li data-id=\"97865\">Alex Trevelyan, 006: Agent turned terrorist leader;\n",
      "James' nemesis in \"Goldeneye\".</li>\n"
     ]
    }
   ],
   "source": [
    "# Indexes can be applied to fetch the exact elements \n",
    "print(soup.select('ul li[data-id]')[1]) #fetch index 1 only from resulted"
   ]
  },
  {
   "cell_type": "code",
   "execution_count": 70,
   "id": "fe4fb043",
   "metadata": {},
   "outputs": [
    {
     "name": "stdout",
     "output_type": "stream",
     "text": [
      "<li data-id=\"10784\">Jason Walters, 003: Found dead in \"A View to a\n",
      "Kill\".</li>\n"
     ]
    }
   ],
   "source": [
    "# To extract the first match that has resulted the from CSS query, we can use either\n",
    "# the list index, that is, 0 (zero) or the select_one() function in place of\n",
    "# the select() function. The select_one() function returns the string of objects, \n",
    "# not the list: \n",
    "print(soup.select_one('li[data-id]'))"
   ]
  },
  {
   "cell_type": "markdown",
   "id": "97ba14ce",
   "metadata": {},
   "source": [
    "# Example 2 – traversing through elements"
   ]
  },
  {
   "cell_type": "code",
   "execution_count": 3,
   "id": "88452a9d",
   "metadata": {},
   "outputs": [
    {
     "ename": "NameError",
     "evalue": "name 'soup' is not defined",
     "output_type": "error",
     "traceback": [
      "\u001b[0;31m---------------------------------------------------------------------------\u001b[0m",
      "\u001b[0;31mNameError\u001b[0m                                 Traceback (most recent call last)",
      "Input \u001b[0;32mIn [3]\u001b[0m, in \u001b[0;36m<cell line: 3>\u001b[0;34m()\u001b[0m\n\u001b[1;32m      1\u001b[0m \u001b[38;5;66;03m# CSS Selectors have various combinators such as +, >, a space character, \u001b[39;00m\n\u001b[1;32m      2\u001b[0m \u001b[38;5;66;03m# and so on, which show relationships between the elements. \u001b[39;00m\n\u001b[0;32m----> 3\u001b[0m \u001b[38;5;28mprint\u001b[39m(\u001b[43msoup\u001b[49m\u001b[38;5;241m.\u001b[39mselect(\u001b[38;5;124m'\u001b[39m\u001b[38;5;124mp.story > a.sister\u001b[39m\u001b[38;5;124m'\u001b[39m))\u001b[38;5;66;03m#Selects all <a> with\u001b[39;00m\n\u001b[1;32m      4\u001b[0m \u001b[38;5;28mprint\u001b[39m(\u001b[38;5;241m45\u001b[39m\u001b[38;5;241m*\u001b[39m\u001b[38;5;124m\"\u001b[39m\u001b[38;5;124m--\u001b[39m\u001b[38;5;124m\"\u001b[39m)\n\u001b[1;32m      5\u001b[0m \u001b[38;5;28mprint\u001b[39m(soup\u001b[38;5;241m.\u001b[39mselect(\u001b[38;5;124m'\u001b[39m\u001b[38;5;124mp b\u001b[39m\u001b[38;5;124m'\u001b[39m))\u001b[38;5;66;03m#Selects <b> inside <p>\u001b[39;00m\n",
      "\u001b[0;31mNameError\u001b[0m: name 'soup' is not defined"
     ]
    }
   ],
   "source": [
    "# CSS Selectors have various combinators such as +, >, a space character, \n",
    "# and so on, which show relationships between the elements. \n",
    "print(soup.select('p.story > a.sister'))#Selects all <a> with\n",
    "print(45*\"--\")\n",
    "print(soup.select('p b'))#Selects <b> inside <p>\n",
    "print(45*\"--\")\n",
    "print(soup.select('p + h1'))#Selects immediate <h1> after <p>\n",
    "print(45*\"--\")\n",
    "print(soup.select('p.story + h1'))#Selects immediate <h1> after <p> with\n",
    "print(45*\"--\")\n",
    "print(soup.select('p.title + h1'))#Selects immediate <h1> after <p> with"
   ]
  },
  {
   "cell_type": "markdown",
   "id": "5e225832",
   "metadata": {},
   "source": [
    "# Example 3 – searching elements based on attribute values"
   ]
  },
  {
   "cell_type": "markdown",
   "id": "ae07cf7c",
   "metadata": {},
   "source": [
    "# Building a web crawler"
   ]
  },
  {
   "cell_type": "code",
   "execution_count": 76,
   "id": "ade21153",
   "metadata": {},
   "outputs": [],
   "source": [
    "# Listing Quotes from first 5 or less pages found from 'http://quotes.toscrape.com/'\n",
    "import requests\n",
    "import re\n",
    "from bs4 import BeautifulSoup\n",
    "import csv\n",
    "sourceUrl = 'http://quotes.toscrape.com/'\n",
    "keys = ['quote_tags','author_url',\n",
    "        'author_name','born_date',\n",
    "        'born_location','quote_title']"
   ]
  },
  {
   "cell_type": "code",
   "execution_count": 2,
   "id": "31f82399",
   "metadata": {},
   "outputs": [],
   "source": [
    "# The read_url() function will be used to make a request and receive a response \n",
    "# using the requests function. This function will accept a url argument for pages:\n",
    "def read_url(url):\n",
    "#Read given Url, Returns requests object for page content\n",
    " response = requests.get(url)\n",
    " return response.text"
   ]
  },
  {
   "cell_type": "code",
   "execution_count": 1,
   "id": "4a910b40",
   "metadata": {},
   "outputs": [
    {
     "ename": "IndentationError",
     "evalue": "expected an indented block (2964536685.py, line 10)",
     "output_type": "error",
     "traceback": [
      "\u001b[0;36m  Input \u001b[0;32mIn [1]\u001b[0;36m\u001b[0m\n\u001b[0;31m    response = read_url(page + 'page/' + str(pageNo))\u001b[0m\n\u001b[0m    ^\u001b[0m\n\u001b[0;31mIndentationError\u001b[0m\u001b[0;31m:\u001b[0m expected an indented block\n"
     ]
    }
   ],
   "source": [
    "# The implemented get_details() function is being coded for pagination and scraping\n",
    "# logic. The read_url() function is supplied with a dynamically generated page URL to\n",
    "# manage the pagination.\n",
    "def get_details(page, dataWriter):\n",
    " \"\"\"Get 'response' for first 5 pages, parse it and collect data for\n",
    "'keys' headers\"\"\"\n",
    " nextPage = True\n",
    " pageNo = 1\n",
    " while (nextPage and pageNo <= 5):\n",
    " response = read_url(page + 'page/' + str(pageNo))\n",
    " soup = BeautifulSoup(response, 'lxml')\n",
    " rows = soup.find_all('div', 'quote')\n",
    " if (len(rows) > 0):\n",
    " print(\"Page \",pageNo,\" Total Quotes Found \",len(rows))\n",
    " for row in rows:\n",
    " if row.find('span',attrs={'itemprop':'text'}):\n",
    " title =\n",
    "row.find(attrs={'itemprop':'text'}).text.strip()\n",
    " author =\n",
    "row.find(attrs={'itemprop':'author'}).text.strip()\n",
    " authorLink =\n",
    "row.find('a',href=re.compile(r'/author/')).get('href')\n",
    " tags =\n",
    "row.find('div','tags').find(itemprop=\"keywords\").get('content')\n",
    " print(title, ' : ', author,' : ',authorLink, ' :\n",
    "',tags)\n",
    " if authorLink:\n",
    " authorLink = 'http://quotes.toscrape.com' + # dataSet is a handle defined to manage the external file quotes.csv. csv.writer() file\n",
    "# handle is use for accessing CSV-based properties. \n",
    "# The writerow() function is passed with keys for writing a row containing \n",
    "# the column names from the list keys to the external file.\n",
    "if __name__ == '__main__':\n",
    " dataSet = open('quotes.csv', 'w', newline='', encoding='utf-8')\n",
    " dataWriter = csv.writer(dataSet)\n",
    " # Write a Header or Column_names to CSV\n",
    " dataWriter.writerow(keys)\n",
    " #load details for provided URL\n",
    " get_details(sourceUrl, dataWriter)\n",
    " dataSet.close()\n",
    "authorLink\n",
    " linkDetail = read_url(authorLink)\n",
    " soupInner = BeautifulSoup(linkDetail, 'lxml')\n",
    " born_date = soupInner.find('span','author-borndate').text.strip()\n",
    " born_location = soupInner.find('span','author-bornlocation').text.strip()\n",
    " # Write a list of values in file\n",
    "dataWriter.writerow(\n",
    "[tags,authorLink,author,born_date,born_location.replace('in ',''),title])\n",
    " nextPage = True\n",
    " pageNo += 1\n",
    " else:\n",
    " print(\"Quotes Not Listed!\")"
   ]
  },
  {
   "cell_type": "code",
   "execution_count": 79,
   "id": "aa9268ec",
   "metadata": {},
   "outputs": [
    {
     "ename": "IndentationError",
     "evalue": "unexpected indent (3925389348.py, line 14)",
     "output_type": "error",
     "traceback": [
      "\u001b[0;36m  Input \u001b[0;32mIn [79]\u001b[0;36m\u001b[0m\n\u001b[0;31m    linkDetail = read_url(authorLink)\u001b[0m\n\u001b[0m    ^\u001b[0m\n\u001b[0;31mIndentationError\u001b[0m\u001b[0;31m:\u001b[0m unexpected indent\n"
     ]
    }
   ],
   "source": [
    "\n"
   ]
  },
  {
   "cell_type": "code",
   "execution_count": null,
   "id": "9790a294",
   "metadata": {},
   "outputs": [],
   "source": []
  }
 ],
 "metadata": {
  "kernelspec": {
   "display_name": "Python 3 (ipykernel)",
   "language": "python",
   "name": "python3"
  },
  "language_info": {
   "codemirror_mode": {
    "name": "ipython",
    "version": 3
   },
   "file_extension": ".py",
   "mimetype": "text/x-python",
   "name": "python",
   "nbconvert_exporter": "python",
   "pygments_lexer": "ipython3",
   "version": "3.9.12"
  }
 },
 "nbformat": 4,
 "nbformat_minor": 5
}
