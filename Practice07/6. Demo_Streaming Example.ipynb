{
 "cells": [
  {
   "cell_type": "code",
   "execution_count": null,
   "id": "7c03dc55",
   "metadata": {},
   "outputs": [
    {
     "name": "stdout",
     "output_type": "stream",
     "text": [
      "22/10/10 11:42:30 WARN Utils: Your hostname, m0 resolves to a loopback address: 127.0.1.1; using 10.0.2.15 instead (on interface enp0s3)\n",
      "22/10/10 11:42:30 WARN Utils: Set SPARK_LOCAL_IP if you need to bind to another address\n"
     ]
    },
    {
     "name": "stderr",
     "output_type": "stream",
     "text": [
      "Setting default log level to \"WARN\".\n",
      "To adjust logging level use sc.setLogLevel(newLevel). For SparkR, use setLogLevel(newLevel).\n"
     ]
    },
    {
     "name": "stdout",
     "output_type": "stream",
     "text": [
      "22/10/10 11:42:36 WARN NativeCodeLoader: Unable to load native-hadoop library for your platform... using builtin-java classes where applicable\n",
      "22/10/10 11:42:47 WARN Utils: Service 'SparkUI' could not bind on port 4040. Attempting port 4041.\n"
     ]
    }
   ],
   "source": [
    "from pyspark.sql import SparkSession\n",
    "spark=SparkSession.builder.appName(\"6. Streaming Demo 1\").getOrCreate()\n",
    "df = spark.read.csv('fraud_detection.csv', header=True)\n",
    "df.columns"
   ]
  },
  {
   "cell_type": "code",
   "execution_count": null,
   "id": "f0af43cb",
   "metadata": {},
   "outputs": [],
   "source": [
    "df.show(5)"
   ]
  },
  {
   "cell_type": "code",
   "execution_count": null,
   "id": "75b31fb3",
   "metadata": {},
   "outputs": [],
   "source": [
    "df=df.drop(\"isFraud\",\"isFlaggedFraud\")"
   ]
  },
  {
   "cell_type": "code",
   "execution_count": null,
   "id": "3845325f",
   "metadata": {},
   "outputs": [],
   "source": [
    "df.show(5)"
   ]
  },
  {
   "cell_type": "code",
   "execution_count": 17,
   "id": "9c90dcea",
   "metadata": {},
   "outputs": [
    {
     "data": {
      "text/plain": [
       "['step',\n",
       " 'type',\n",
       " 'amount',\n",
       " 'nameOrig',\n",
       " 'oldbalanceOrg',\n",
       " 'newbalanceOrig',\n",
       " 'nameDest',\n",
       " 'oldbalanceDest',\n",
       " 'newbalanceDest']"
      ]
     },
     "execution_count": 17,
     "metadata": {},
     "output_type": "execute_result"
    }
   ],
   "source": [
    "df.columns"
   ]
  },
  {
   "cell_type": "code",
   "execution_count": null,
   "id": "3cd97292",
   "metadata": {},
   "outputs": [],
   "source": [
    "df.groupBy(\"step\").count().show(5)"
   ]
  },
  {
   "cell_type": "code",
   "execution_count": null,
   "id": "e3995eaf",
   "metadata": {},
   "outputs": [],
   "source": [
    "%%time\n",
    "steps = df.select(\"step\").distinct().collect()\n",
    "for step in steps[:]:\n",
    "        temp_df = df.where(f\"step = {step[0]}\")\n",
    "        temp_df.coalesce(1).write.mode(\"append\").option(\"header\",\"true\").\\\n",
    "        csv(\"data/split_fraud_detection\")"
   ]
  },
  {
   "cell_type": "code",
   "execution_count": null,
   "id": "0f0fb232",
   "metadata": {},
   "outputs": [],
   "source": [
    "!cd data/split_fraud_detection && ls"
   ]
  },
  {
   "cell_type": "code",
   "execution_count": null,
   "id": "23fd2aff",
   "metadata": {},
   "outputs": [],
   "source": [
    "part = spark.read.csv(\n",
    "\"data/split_fraud_detection/part-00000-d4a901de-5a84-40ba-8483-3c9888c657ad-c000.csv\",\n",
    "header=True,\n",
    "inferSchema=True,\n",
    "\n",
    ")"
   ]
  },
  {
   "cell_type": "code",
   "execution_count": 34,
   "id": "6e357050",
   "metadata": {},
   "outputs": [
    {
     "name": "stdout",
     "output_type": "stream",
     "text": [
      "+----+-----+\n",
      "|step|count|\n",
      "+----+-----+\n",
      "|   3|  552|\n",
      "+----+-----+\n",
      "\n"
     ]
    }
   ],
   "source": [
    "part.groupBy(\"step\").count().show()"
   ]
  },
  {
   "cell_type": "code",
   "execution_count": 35,
   "id": "0c41dbaf",
   "metadata": {},
   "outputs": [],
   "source": [
    "dataSchema = part.schema"
   ]
  },
  {
   "cell_type": "code",
   "execution_count": 36,
   "id": "3b05db46",
   "metadata": {},
   "outputs": [
    {
     "data": {
      "text/plain": [
       "StructType([StructField('step', IntegerType(), True), StructField('type', StringType(), True), StructField('amount', DoubleType(), True), StructField('nameOrig', StringType(), True), StructField('oldbalanceOrg', DoubleType(), True), StructField('newbalanceOrig', DoubleType(), True), StructField('nameDest', StringType(), True), StructField('oldbalanceDest', DoubleType(), True), StructField('newbalanceDest', DoubleType(), True)])"
      ]
     },
     "execution_count": 36,
     "metadata": {},
     "output_type": "execute_result"
    }
   ],
   "source": [
    "dataSchema"
   ]
  },
  {
   "cell_type": "code",
   "execution_count": 37,
   "id": "638f1dbd",
   "metadata": {},
   "outputs": [],
   "source": [
    "streaming = (\n",
    "spark.readStream.schema(dataSchema)\n",
    "    .option(\"maxFilePerTrigger\",1)\n",
    "    .csv(\"data/split_fraud_detection\")\n",
    ")"
   ]
  },
  {
   "cell_type": "code",
   "execution_count": 43,
   "id": "19185173",
   "metadata": {},
   "outputs": [],
   "source": [
    "dest_count=streaming.groupBy(\"nameDest\").count().orderBy(F.desc(\"count\"))"
   ]
  },
  {
   "cell_type": "code",
   "execution_count": 46,
   "id": "327d7ba1",
   "metadata": {},
   "outputs": [
    {
     "name": "stdout",
     "output_type": "stream",
     "text": [
      "22/10/05 02:48:02 WARN ResolveWriteToStream: Temporary checkpoint location created which is deleted normally when the query didn't fail: /tmp/temporary-d8888ad1-69aa-4215-b722-01987fcf16d2. If it's required to delete it under any circumstances, please set spark.sql.streaming.forceDeleteTempCheckpointLocation to true. Important to know deleting temp checkpoint folder is best effort.\n",
      "22/10/05 02:48:02 WARN ResolveWriteToStream: spark.sql.adaptive.enabled is not supported in streaming DataFrames/Datasets and will be disabled.\n"
     ]
    },
    {
     "name": "stderr",
     "output_type": "stream",
     "text": [
      "                                                                                \r"
     ]
    }
   ],
   "source": [
    "activityQuery=(\n",
    "dest_count.writeStream.queryName(\"dest_counts\")\n",
    ".format(\"memory\")\n",
    ".outputMode(\"complete\")\n",
    ".start()\n",
    "\n",
    ")"
   ]
  },
  {
   "cell_type": "code",
   "execution_count": 49,
   "id": "351d9107",
   "metadata": {},
   "outputs": [
    {
     "name": "stderr",
     "output_type": "stream",
     "text": [
      "                                                                                \r"
     ]
    },
    {
     "name": "stdout",
     "output_type": "stream",
     "text": [
      "+----+--------+---------+-----------+-------------+--------------+-----------+--------------+--------------+\n",
      "|step|    type|   amount|   nameOrig|oldbalanceOrg|newbalanceOrig|   nameDest|oldbalanceDest|newbalanceDest|\n",
      "+----+--------+---------+-----------+-------------+--------------+-----------+--------------+--------------+\n",
      "|   8| PAYMENT|   2363.5|C1957951848|        11518|        9154.5|M1274315527|             0|             0|\n",
      "|   8| PAYMENT|  1025.83|C1738171284|        21104|      20078.17| M959097834|             0|             0|\n",
      "|   8| PAYMENT|   638.14|C1379495198|        20177|      19538.86|M1027223781|             0|             0|\n",
      "|   8|CASH_OUT|373404.04| C151544341|       375640|       2235.96|C1284149862|             0|    2465823.51|\n",
      "+----+--------+---------+-----------+-------------+--------------+-----------+--------------+--------------+\n",
      "\n"
     ]
    },
    {
     "name": "stderr",
     "output_type": "stream",
     "text": [
      "                                                                                \r"
     ]
    },
    {
     "name": "stdout",
     "output_type": "stream",
     "text": [
      "+----+--------+---------+-----------+-------------+--------------+-----------+--------------+--------------+\n",
      "|step|    type|   amount|   nameOrig|oldbalanceOrg|newbalanceOrig|   nameDest|oldbalanceDest|newbalanceDest|\n",
      "+----+--------+---------+-----------+-------------+--------------+-----------+--------------+--------------+\n",
      "|   8| PAYMENT|   2363.5|C1957951848|        11518|        9154.5|M1274315527|             0|             0|\n",
      "|   8| PAYMENT|  1025.83|C1738171284|        21104|      20078.17| M959097834|             0|             0|\n",
      "|   8| PAYMENT|   638.14|C1379495198|        20177|      19538.86|M1027223781|             0|             0|\n",
      "|   8|CASH_OUT|373404.04| C151544341|       375640|       2235.96|C1284149862|             0|    2465823.51|\n",
      "+----+--------+---------+-----------+-------------+--------------+-----------+--------------+--------------+\n",
      "\n"
     ]
    },
    {
     "name": "stderr",
     "output_type": "stream",
     "text": [
      "                                                                                \r"
     ]
    },
    {
     "name": "stdout",
     "output_type": "stream",
     "text": [
      "+----+--------+---------+-----------+-------------+--------------+-----------+--------------+--------------+\n",
      "|step|    type|   amount|   nameOrig|oldbalanceOrg|newbalanceOrig|   nameDest|oldbalanceDest|newbalanceDest|\n",
      "+----+--------+---------+-----------+-------------+--------------+-----------+--------------+--------------+\n",
      "|   8| PAYMENT|   2363.5|C1957951848|        11518|        9154.5|M1274315527|             0|             0|\n",
      "|   8| PAYMENT|  1025.83|C1738171284|        21104|      20078.17| M959097834|             0|             0|\n",
      "|   8| PAYMENT|   638.14|C1379495198|        20177|      19538.86|M1027223781|             0|             0|\n",
      "|   8|CASH_OUT|373404.04| C151544341|       375640|       2235.96|C1284149862|             0|    2465823.51|\n",
      "+----+--------+---------+-----------+-------------+--------------+-----------+--------------+--------------+\n",
      "\n"
     ]
    },
    {
     "name": "stderr",
     "output_type": "stream",
     "text": [
      "                                                                                \r"
     ]
    },
    {
     "name": "stdout",
     "output_type": "stream",
     "text": [
      "+----+--------+---------+-----------+-------------+--------------+-----------+--------------+--------------+\n",
      "|step|    type|   amount|   nameOrig|oldbalanceOrg|newbalanceOrig|   nameDest|oldbalanceDest|newbalanceDest|\n",
      "+----+--------+---------+-----------+-------------+--------------+-----------+--------------+--------------+\n",
      "|   8| PAYMENT|   2363.5|C1957951848|        11518|        9154.5|M1274315527|             0|             0|\n",
      "|   8| PAYMENT|  1025.83|C1738171284|        21104|      20078.17| M959097834|             0|             0|\n",
      "|   8| PAYMENT|   638.14|C1379495198|        20177|      19538.86|M1027223781|             0|             0|\n",
      "|   8|CASH_OUT|373404.04| C151544341|       375640|       2235.96|C1284149862|             0|    2465823.51|\n",
      "+----+--------+---------+-----------+-------------+--------------+-----------+--------------+--------------+\n",
      "\n"
     ]
    },
    {
     "name": "stderr",
     "output_type": "stream",
     "text": [
      "                                                                                \r"
     ]
    },
    {
     "name": "stdout",
     "output_type": "stream",
     "text": [
      "+----+--------+---------+-----------+-------------+--------------+-----------+--------------+--------------+\n",
      "|step|    type|   amount|   nameOrig|oldbalanceOrg|newbalanceOrig|   nameDest|oldbalanceDest|newbalanceDest|\n",
      "+----+--------+---------+-----------+-------------+--------------+-----------+--------------+--------------+\n",
      "|   8| PAYMENT|   2363.5|C1957951848|        11518|        9154.5|M1274315527|             0|             0|\n",
      "|   8| PAYMENT|  1025.83|C1738171284|        21104|      20078.17| M959097834|             0|             0|\n",
      "|   8| PAYMENT|   638.14|C1379495198|        20177|      19538.86|M1027223781|             0|             0|\n",
      "|   8|CASH_OUT|373404.04| C151544341|       375640|       2235.96|C1284149862|             0|    2465823.51|\n",
      "+----+--------+---------+-----------+-------------+--------------+-----------+--------------+--------------+\n",
      "\n"
     ]
    }
   ],
   "source": [
    "import time\n",
    "for i in range(5):\n",
    "    df_temp = spark.sql(\n",
    "    \"SELECT * FROM dest_counts WHERE nameDest!='nameDest' AND count>=2\"    \n",
    "    )\n",
    "    if temp_df.count()>0:\n",
    "        temp_df.show(10)\n",
    "    time.sleep(0.5)\n",
    "    \n",
    "    \n",
    "    "
   ]
  },
  {
   "cell_type": "code",
   "execution_count": 54,
   "id": "3e914b8e",
   "metadata": {},
   "outputs": [
    {
     "data": {
      "text/plain": [
       "True"
      ]
     },
     "execution_count": 54,
     "metadata": {},
     "output_type": "execute_result"
    }
   ],
   "source": [
    "#Check if stream is active\n",
    "spark.streams.active[0].isActive"
   ]
  },
  {
   "cell_type": "code",
   "execution_count": 55,
   "id": "c5c52be4",
   "metadata": {},
   "outputs": [
    {
     "data": {
      "text/plain": [
       "{'message': 'Waiting for data to arrive',\n",
       " 'isDataAvailable': False,\n",
       " 'isTriggerActive': False}"
      ]
     },
     "execution_count": 55,
     "metadata": {},
     "output_type": "execute_result"
    }
   ],
   "source": [
    "activityQuery.status"
   ]
  },
  {
   "cell_type": "code",
   "execution_count": null,
   "id": "1f9cf138",
   "metadata": {},
   "outputs": [],
   "source": []
  }
 ],
 "metadata": {
  "kernelspec": {
   "display_name": "Python 3 (ipykernel)",
   "language": "python",
   "name": "python3"
  },
  "language_info": {
   "codemirror_mode": {
    "name": "ipython",
    "version": 3
   },
   "file_extension": ".py",
   "mimetype": "text/x-python",
   "name": "python",
   "nbconvert_exporter": "python",
   "pygments_lexer": "ipython3",
   "version": "3.9.12"
  }
 },
 "nbformat": 4,
 "nbformat_minor": 5
}
